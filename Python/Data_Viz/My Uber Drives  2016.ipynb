{
 "cells": [
  {
   "cell_type": "code",
   "execution_count": 1,
   "id": "fd8f7cf0",
   "metadata": {},
   "outputs": [
    {
     "ename": "ModuleNotFoundError",
     "evalue": "No module named 'dash'",
     "output_type": "error",
     "traceback": [
      "\u001b[1;31m---------------------------------------------------------------------------\u001b[0m",
      "\u001b[1;31mModuleNotFoundError\u001b[0m                       Traceback (most recent call last)",
      "\u001b[1;32m~\\AppData\\Local\\Temp/ipykernel_5200/2415760073.py\u001b[0m in \u001b[0;36m<module>\u001b[1;34m\u001b[0m\n\u001b[0;32m      1\u001b[0m \u001b[1;32mimport\u001b[0m \u001b[0mpandas\u001b[0m \u001b[1;32mas\u001b[0m \u001b[0mpd\u001b[0m\u001b[1;33m\u001b[0m\u001b[1;33m\u001b[0m\u001b[0m\n\u001b[1;32m----> 2\u001b[1;33m \u001b[1;32mimport\u001b[0m \u001b[0mdash\u001b[0m\u001b[1;33m\u001b[0m\u001b[1;33m\u001b[0m\u001b[0m\n\u001b[0m\u001b[0;32m      3\u001b[0m \u001b[1;32mimport\u001b[0m \u001b[0mdash_core_components\u001b[0m \u001b[1;32mas\u001b[0m \u001b[0mdcc\u001b[0m\u001b[1;33m\u001b[0m\u001b[1;33m\u001b[0m\u001b[0m\n\u001b[0;32m      4\u001b[0m \u001b[1;32mimport\u001b[0m \u001b[0mdash_html_components\u001b[0m \u001b[1;32mas\u001b[0m \u001b[0mhtml\u001b[0m\u001b[1;33m\u001b[0m\u001b[1;33m\u001b[0m\u001b[0m\n\u001b[0;32m      5\u001b[0m \u001b[1;32mfrom\u001b[0m \u001b[0mdash\u001b[0m\u001b[1;33m.\u001b[0m\u001b[0mdependencies\u001b[0m \u001b[1;32mimport\u001b[0m \u001b[0mInput\u001b[0m\u001b[1;33m,\u001b[0m \u001b[0mOutput\u001b[0m\u001b[1;33m\u001b[0m\u001b[1;33m\u001b[0m\u001b[0m\n",
      "\u001b[1;31mModuleNotFoundError\u001b[0m: No module named 'dash'"
     ]
    }
   ],
   "source": [
    "import pandas as pd\n",
    "import dash\n",
    "import dash_core_components as dcc\n",
    "import dash_html_components as html\n",
    "from dash.dependencies import Input, Output\n",
    "import numpy as np\n",
    "import matplotlib\n",
    "import matplotlib.pyplot as plt\n",
    "import seaborn as sns\n",
    "from datetime import timedelta\n",
    "import datetime \n",
    "from matplotlib.animation import FuncAnimation\n",
    "from itertools import count\n",
    "import numpy as np\n",
    "import pandas as pd \n",
    "import seaborn as sns\n",
    "import chart_studio.plotly as py\n",
    "import cufflinks as cf\n",
    "import plotly.express as px\n",
    "%matplotlib inline\n",
    "\n",
    "from plotly.offline import download_plotlyjs, init_notebook_mode,plot,iplot\n",
    "init_notebook_mode(connected=True)\n",
    "cf.go_offline()"
   ]
  },
  {
   "cell_type": "markdown",
   "id": "bc5315d7",
   "metadata": {},
   "source": [
    "# Import the dataset"
   ]
  },
  {
   "cell_type": "code",
   "execution_count": null,
   "id": "3f6e1095",
   "metadata": {},
   "outputs": [],
   "source": [
    "# Import dataset\n",
    "dataset = pd.read_csv(\"My Uber Drives - 2016.csv\")"
   ]
  },
  {
   "cell_type": "markdown",
   "id": "bd0aac05",
   "metadata": {},
   "source": [
    "# Explore Dataset"
   ]
  },
  {
   "cell_type": "code",
   "execution_count": null,
   "id": "90b9f6b2",
   "metadata": {},
   "outputs": [],
   "source": [
    "dataset.head()"
   ]
  },
  {
   "cell_type": "code",
   "execution_count": null,
   "id": "0c8a1929",
   "metadata": {},
   "outputs": [],
   "source": [
    "dataset.shape"
   ]
  },
  {
   "cell_type": "code",
   "execution_count": null,
   "id": "674529ff",
   "metadata": {},
   "outputs": [],
   "source": [
    "type(dataset)"
   ]
  },
  {
   "cell_type": "code",
   "execution_count": null,
   "id": "111f1cd7",
   "metadata": {},
   "outputs": [],
   "source": [
    "print(dataset.columns)"
   ]
  },
  {
   "cell_type": "code",
   "execution_count": null,
   "id": "1bf3935e",
   "metadata": {},
   "outputs": [],
   "source": [
    "dataset.isnull().sum()"
   ]
  },
  {
   "cell_type": "code",
   "execution_count": null,
   "id": "ac37f64c",
   "metadata": {},
   "outputs": [],
   "source": [
    "dataset.info"
   ]
  },
  {
   "cell_type": "markdown",
   "id": "0ad37e27",
   "metadata": {},
   "source": [
    "# Rename the Columns"
   ]
  },
  {
   "cell_type": "code",
   "execution_count": null,
   "id": "236c4014",
   "metadata": {},
   "outputs": [],
   "source": [
    "# Rename the Column\n",
    "dataset.rename(columns={\"START_DATE*\":\"Start_Date\",\n",
    "                        \"END_DATE*\":\"End_Date\",\n",
    "                        \"CATEGORY*\":\"Category\",\n",
    "                        \"START*\":\"Start\",\n",
    "                        \"STOP*\":\"Stop\",\n",
    "                        \"MILES*\":\"Miles\",\n",
    "                    \"PURPOSE*\":\"Purpose\"},inplace=True)"
   ]
  },
  {
   "cell_type": "code",
   "execution_count": null,
   "id": "bb643b34",
   "metadata": {},
   "outputs": [],
   "source": [
    "dataset[0:5]"
   ]
  },
  {
   "cell_type": "markdown",
   "id": "c738c9cd",
   "metadata": {},
   "source": [
    "# Make new Columns"
   ]
  },
  {
   "cell_type": "code",
   "execution_count": null,
   "id": "649855ab",
   "metadata": {},
   "outputs": [],
   "source": [
    "#Seprate the date and time\n",
    "dataset[\"Start_Date\"] =pd.to_datetime(dataset[\"Start_Date\"],dayfirst=True,errors=\"coerce\")\n",
    "dataset[\"End_Date\"] =pd.to_datetime(dataset[\"End_Date\"],dayfirst=True,errors=\"coerce\")\n",
    "dataset[\"Year\"] = dataset[\"Start_Date\"].dt.year\n",
    "dataset[\"Month\"] = dataset[\"Start_Date\"].dt.month_name()\n",
    "dataset[\"Start_Time\"] = dataset[\"Start_Date\"].dt.time\n",
    "dataset[\"End_Time\"] = dataset[\"End_Date\"].dt.time\n",
    "dataset[\"Week_Day\"] = dataset['Start_Date'].dt.day_name()"
   ]
  },
  {
   "cell_type": "code",
   "execution_count": null,
   "id": "dbdf48eb",
   "metadata": {},
   "outputs": [],
   "source": [
    "\"\"\"# Function for new Column \"Time_Category\"\n",
    "def Calculate_Time(Data):\n",
    "    time_N= pd.to_datetime(['18:00:00']).time\n",
    "    time_D= pd.to_datetime(['06:00:00']).time\n",
    "    if Data[\"Start_Time\"] > time_N or  Data[\"Start_Time\"] < time_D :\n",
    "        return \"Night\"\n",
    "    else:\n",
    "        return \"Day\"\n",
    "\n",
    "dataset['Time_Category'] = dataset.apply(Calculate_Time, axis=1)\"\"\""
   ]
  },
  {
   "cell_type": "code",
   "execution_count": null,
   "id": "891f714b",
   "metadata": {},
   "outputs": [],
   "source": [
    "# Find the distance in Minutes\n",
    "minutes=[]\n",
    "dataset['Minutes'] = dataset[\"End_Date\"]-dataset[\"Start_Date\"]\n",
    "dataset['Minutes']\n",
    "for time in dataset['Minutes']:\n",
    "    minutes.append(time.seconds / 60)\n",
    "dataset['Minutes']= minutes"
   ]
  },
  {
   "cell_type": "code",
   "execution_count": null,
   "id": "d06859c8",
   "metadata": {},
   "outputs": [],
   "source": [
    "def Speed(data):\n",
    "    if data[\"Start_Date\"] != data[\"End_Date\"] :\n",
    "        kilo_Meters = data[\"Miles\"] * 1.60934\n",
    "        Time  = data[\"Minutes\"]/60\n",
    "        speed = kilo_Meters/Time\n",
    "        return speed\n",
    "    \n",
    "dataset['SPEED_KMPR'] = dataset.apply(Speed, axis=1).round(decimals=2)   "
   ]
  },
  {
   "cell_type": "code",
   "execution_count": null,
   "id": "f187cf3c",
   "metadata": {},
   "outputs": [],
   "source": [
    "print(dataset.columns)"
   ]
  },
  {
   "cell_type": "markdown",
   "id": "8c314285",
   "metadata": {},
   "source": [
    "# Cleaning "
   ]
  },
  {
   "cell_type": "code",
   "execution_count": null,
   "id": "3c7544d3",
   "metadata": {},
   "outputs": [],
   "source": [
    "#Clean the \"Start\"\n",
    "\n",
    "Correction = {\"Kar?chi\":\"Karachi\",\"R?walpindi\":\"Rawalpindi\",\"Newark\":\"New York\"}\n",
    "dataset[\"Start\"]=dataset[\"Start\"].replace(Correction)"
   ]
  },
  {
   "cell_type": "markdown",
   "id": "47221146",
   "metadata": {},
   "source": [
    "# Analyzing the Dataset"
   ]
  },
  {
   "cell_type": "markdown",
   "id": "865bca94",
   "metadata": {},
   "source": [
    "# Visualize \"Miles\" and \"Month\""
   ]
  },
  {
   "cell_type": "code",
   "execution_count": null,
   "id": "03ee2f36",
   "metadata": {},
   "outputs": [],
   "source": [
    "# Analyzation between Miles and Months\n",
    "Miles_by_Month = dataset.groupby([\"Week_Day\"])[\"Miles\"].agg(['sum']).reset_index()\n",
    "print(Miles_by_Month)"
   ]
  },
  {
   "cell_type": "markdown",
   "id": "1c0df62b",
   "metadata": {},
   "source": [
    "# Miles per Month"
   ]
  },
  {
   "cell_type": "code",
   "execution_count": null,
   "id": "de2cfa0b",
   "metadata": {},
   "outputs": [],
   "source": [
    "#Miles Per Month\n",
    "px.bar(dataset, x=\"Month\",y=\"Miles\",title=\"Miles per Month\",color = \"Month\",labels={\"x\":\"Months\",\"y\":\"Miles\"})"
   ]
  },
  {
   "cell_type": "markdown",
   "id": "4c521f2a",
   "metadata": {},
   "source": [
    "# Animated Graph for \"Miles\" Per \"Month\""
   ]
  },
  {
   "cell_type": "code",
   "execution_count": null,
   "id": "90ee82d7",
   "metadata": {},
   "outputs": [],
   "source": [
    "px.bar(dataset, x=\"Month\",y=\"Miles\",title =\"Animated Graph for Miles per Month by Week_days\",animation_frame = \"Week_Day\",animation_group = \"Month\",\n",
    "       color=\"Month\",range_y=[0,80])"
   ]
  },
  {
   "cell_type": "markdown",
   "id": "7c5f38a6",
   "metadata": {},
   "source": [
    "# Pi Graph of \"Miles\" Per \"Month\""
   ]
  },
  {
   "cell_type": "code",
   "execution_count": null,
   "id": "f8ce32a4",
   "metadata": {},
   "outputs": [],
   "source": [
    "px.pie(dataset, values='Miles', names='Month', title='Total Percentage of Miles Per Month')"
   ]
  },
  {
   "cell_type": "markdown",
   "id": "6908887d",
   "metadata": {},
   "source": [
    "# Visualize \"Miles\" and \"Week_Day\""
   ]
  },
  {
   "cell_type": "markdown",
   "id": "5b91142a",
   "metadata": {},
   "source": [
    "# Miles Per Week Day"
   ]
  },
  {
   "cell_type": "code",
   "execution_count": null,
   "id": "3cfa6652",
   "metadata": {},
   "outputs": [],
   "source": [
    "px.bar(dataset, x=\"Week_Day\",y=\"Miles\",title=\"Miles per Week_days\",color = \"Week_Day\",labels={\"x\":\"Week_Day\",\"y\":\"Miles\"})"
   ]
  },
  {
   "cell_type": "markdown",
   "id": "b8e24099",
   "metadata": {},
   "source": [
    "# Animated Graph for \"Miles\" Per \"Week_Day\""
   ]
  },
  {
   "cell_type": "code",
   "execution_count": null,
   "id": "9312f692",
   "metadata": {},
   "outputs": [],
   "source": [
    "# miles in month per day\n",
    "px.bar(dataset, x=\"Week_Day\",y=\"Miles\",animation_frame = \"Month\",animation_group = \"Week_Day\",color=\"Week_Day\",title =\"Animated Graph for Miles per Week_Day by Month\",range_y=[0,100])"
   ]
  },
  {
   "cell_type": "markdown",
   "id": "55dd5354",
   "metadata": {},
   "source": [
    "# Pi Graph of \"Miles\" Per \"Week_Day\""
   ]
  },
  {
   "cell_type": "code",
   "execution_count": null,
   "id": "9df33e2b",
   "metadata": {},
   "outputs": [],
   "source": [
    "px.pie(dataset, values='Miles', names='Week_Day', title='Total Percentage of Miles Per Week_Days')"
   ]
  },
  {
   "cell_type": "markdown",
   "id": "e7e97999",
   "metadata": {},
   "source": [
    "# Relation Between \"Miles\" and \"Categories\""
   ]
  },
  {
   "cell_type": "markdown",
   "id": "2a573b45",
   "metadata": {},
   "source": [
    "# Total \"Miles\" in \"Business\" and \"Personal\""
   ]
  },
  {
   "cell_type": "code",
   "execution_count": null,
   "id": "bbbe5fc3",
   "metadata": {},
   "outputs": [],
   "source": [
    "px.bar(dataset, x=\"Category\",y=\"Miles\",title=\"Miles per Category\",color = \"Category\",labels={\"x\":\"Categories\",\"y\":\"Miles\"})"
   ]
  },
  {
   "cell_type": "markdown",
   "id": "5940d766",
   "metadata": {},
   "source": [
    "# Relation of \"Miles\" and \"Category\" per \"Month\""
   ]
  },
  {
   "cell_type": "code",
   "execution_count": null,
   "id": "16ecf85d",
   "metadata": {},
   "outputs": [],
   "source": [
    "px.bar(dataset, x=\"Category\",y=\"Miles\",animation_frame = \"Month\",animation_group = \"Category\",color=\"Category\",title =\"Animated Graph for 'Miles' per 'Categories' by 'Month'\",range_y=[0,100])"
   ]
  },
  {
   "cell_type": "markdown",
   "id": "96c2af07",
   "metadata": {},
   "source": [
    "# Relation of \"Miles\" and \"Category\" per \"Week_Day\""
   ]
  },
  {
   "cell_type": "code",
   "execution_count": null,
   "id": "d97fc9e2",
   "metadata": {},
   "outputs": [],
   "source": [
    "px.bar(dataset, x=\"Category\",y=\"Miles\",animation_frame = \"Week_Day\",animation_group = \"Category\",color=\"Category\",title =\"Animated Graph for 'Miles' per 'Categories' by 'Week_Day'\",range_y=[0,100])"
   ]
  },
  {
   "cell_type": "markdown",
   "id": "a8ad47ed",
   "metadata": {},
   "source": [
    "# Pi Graph of \"Miles\" Per \"Week_Day\""
   ]
  },
  {
   "cell_type": "code",
   "execution_count": null,
   "id": "6e5e6260",
   "metadata": {},
   "outputs": [],
   "source": [
    "px.pie(dataset, values='Miles', names='Category', title='Total Percentage of Miles Per Categories')"
   ]
  },
  {
   "cell_type": "markdown",
   "id": "c80f2820",
   "metadata": {},
   "source": [
    "# Relation Between \"Miles\" and \"Purpose\""
   ]
  },
  {
   "cell_type": "markdown",
   "id": "beffaa1c",
   "metadata": {},
   "source": [
    "# Bar Chart of \"Miles\" and \"Purpose\""
   ]
  },
  {
   "cell_type": "code",
   "execution_count": null,
   "id": "8b1017b1",
   "metadata": {},
   "outputs": [],
   "source": [
    "Dataset=dataset\n",
    "dataset.dropna(inplace=True)\n",
    "px.bar(dataset, x=\"Purpose\",y=\"Miles\",title=\"Miles per Purpose\",color = \"Purpose\",labels={\"x\":\"Purposes\",\"y\":\"Miles\"})"
   ]
  },
  {
   "cell_type": "markdown",
   "id": "c5c57f96",
   "metadata": {},
   "source": [
    "# Relation of \"Miles\" and \"Purpose\" per \"Week_Day\""
   ]
  },
  {
   "cell_type": "code",
   "execution_count": null,
   "id": "28a90874",
   "metadata": {},
   "outputs": [],
   "source": [
    "px.bar(dataset, x=\"Purpose\",y=\"Miles\",animation_frame = \"Week_Day\",animation_group = \"Purpose\",color=\"Purpose\",title =\"Animated Graph for 'Miles' per 'Purpose' by 'Week_Day'\",range_y=[0,100])"
   ]
  },
  {
   "cell_type": "markdown",
   "id": "47007c71",
   "metadata": {},
   "source": [
    "# Relation of \"Miles\" and \"Purpose\" per \"Month\""
   ]
  },
  {
   "cell_type": "code",
   "execution_count": null,
   "id": "5c910d9b",
   "metadata": {},
   "outputs": [],
   "source": [
    "px.bar(dataset, x=\"Purpose\",y=\"Miles\",animation_frame = \"Month\",animation_group = \"Purpose\",color=\"Purpose\",title =\"Animated Graph for 'Miles' per 'Purpose' by 'Month'\",range_y=[0,100])"
   ]
  },
  {
   "cell_type": "markdown",
   "id": "a5e57dad",
   "metadata": {},
   "source": [
    "# Pi Graph of \"Miles\" Per \"Purpose\""
   ]
  },
  {
   "cell_type": "code",
   "execution_count": null,
   "id": "14dc23e7",
   "metadata": {},
   "outputs": [],
   "source": [
    "px.pie(dataset, values='Miles', names='Purpose', title='Total Percentage of Miles Per Categories')"
   ]
  },
  {
   "cell_type": "markdown",
   "id": "f0779c7d",
   "metadata": {},
   "source": [
    "# Relation Between \"Speed\" and \"Month\""
   ]
  },
  {
   "cell_type": "code",
   "execution_count": null,
   "id": "ecc80544",
   "metadata": {},
   "outputs": [],
   "source": [
    "dataset = Dataset\n",
    "\n",
    "sns.set_style(\"darkgrid\")\n",
    "sns.set_context(\"paper\", rc={\"lines.linewidth\": 2})\n",
    "g=sns.barplot(x=\"Month\",y=\"SPEED_KMPR\",data=dataset,)\n",
    "g.set_title(\"Maximum Speed by Month\")\n",
    "plt.xticks(rotation=90)\n",
    "plt.show()"
   ]
  },
  {
   "cell_type": "markdown",
   "id": "863836f6",
   "metadata": {},
   "source": [
    "# Pi Graph of \"SPEED_KMPR\" Per \"Month\""
   ]
  },
  {
   "cell_type": "code",
   "execution_count": null,
   "id": "f0b33f68",
   "metadata": {},
   "outputs": [],
   "source": [
    "px.pie(dataset, values='SPEED_KMPR', names='Month', title='Total Percentage of SPEED_KMPR Per Month')"
   ]
  },
  {
   "cell_type": "markdown",
   "id": "a0c6ad12",
   "metadata": {},
   "source": [
    "# Relation Between \"Speed\" and \"Month\""
   ]
  },
  {
   "cell_type": "code",
   "execution_count": null,
   "id": "471f3401",
   "metadata": {},
   "outputs": [],
   "source": [
    "sns.set_style(\"darkgrid\")\n",
    "sns.set_context(\"paper\", rc={\"lines.linewidth\": 2})\n",
    "g=sns.barplot(x=\"Week_Day\",y=\"SPEED_KMPR\",data=dataset,)\n",
    "g.set_title(\"Maximum Speed by Week_Day\")\n",
    "plt.xticks(rotation=90)\n",
    "plt.show()"
   ]
  },
  {
   "cell_type": "markdown",
   "id": "17bf1a17",
   "metadata": {},
   "source": [
    "# Pi Graph of \"SPEED_KMPR\" Per \"Month\""
   ]
  },
  {
   "cell_type": "code",
   "execution_count": null,
   "id": "88f877b2",
   "metadata": {},
   "outputs": [],
   "source": [
    "px.pie(dataset, values='SPEED_KMPR', names='Month', title='Total Percentage of SPEED_KMPR Per Week_Day')"
   ]
  },
  {
   "cell_type": "markdown",
   "id": "a2c2a9c9",
   "metadata": {},
   "source": [
    "# Location Mapping "
   ]
  },
  {
   "cell_type": "code",
   "execution_count": null,
   "id": "7f16fe06",
   "metadata": {},
   "outputs": [],
   "source": [
    "dataset[\"Loc_Latitude\"] = dataset[\"Start\"]\n",
    "dataset[\"Loc_Longitude\"] = dataset[\"Start\"]"
   ]
  },
  {
   "cell_type": "markdown",
   "id": "d348cf20",
   "metadata": {},
   "source": [
    "# New column  \"Loc_Latitude\" contain the\n",
    "# latitude values of \"Start\" and \"End\""
   ]
  },
  {
   "cell_type": "code",
   "execution_count": null,
   "id": "54e366df",
   "metadata": {},
   "outputs": [],
   "source": [
    "country_lati={'Fort Pierce':\"27.4467056\",\n",
    "         'West Palm Beach':\"26.7153\",\n",
    "         'Cary':\"35.7915\",\n",
    "         'Jamaica':\"18.1096\",\n",
    "         'New York':\"40.7128\",\n",
    "       'Elmhurst':\"41.8995\",\n",
    "         'Midtown':\"40.7549\",\n",
    "         'East Harlem':\"40.7957\", \n",
    "         'Flatiron District':\"40.7401\",\n",
    "       'Midtown East':\"40.7571\",\n",
    "         'Hudson Square':\"40.7266\",\n",
    "         'Lower Manhattan':\"40.7209\",\n",
    "       \"Hell's Kitchen\":\"40.7638\",\n",
    "         'Downtown':\"37.3337\",\n",
    "         'Gulfton':\"29.7165\",\n",
    "         'Houston':\"29.7604\",\n",
    "         'Eagan Park':\"33.6643\",\n",
    "       'Morrisville':\"35.8235\",\n",
    "         'Durham':\"54.7753\",\n",
    "         'Farmington Woods':\"35.7649\",\n",
    "         'Lake Wellingborough':\"35.7489\",\n",
    "       'Fayetteville Street':\"35.0526641\",\n",
    "         'Raleigh':\"35.7796\", \n",
    "         'Whitebridge':\"32.9813\", \n",
    "         'Hazelwood':\"38.7714\",\n",
    "       'Fairmont':\"39.4851\", \n",
    "         'Meredith Townes':\"35.8224\",\n",
    "         'Apex':\"35.7327\",\n",
    "         'Chapel Hill':\"35.9132\",\n",
    "         'Northwoods':\"43.1942\",\n",
    "       'Edgehill Farms':\"35.7835\",\n",
    "         'Eastgate':\"26.1804\", \n",
    "         'East Elmhurst':\"40.7738\", \n",
    "         'Long Island City':\"40.7891\",\n",
    "       'Katunayaka':\"7.1725\",\n",
    "         'Colombo':\"6.9271\",\n",
    "         'Nugegoda':\"6.8649\",\n",
    "         'Unknown Location':\"0\",\n",
    "       'Islamabad':\"33.6844\", \n",
    "         'Rawalpindi':\"33.5651\",\n",
    "         'Noorpur Shahan':\"33.7436\",\n",
    "         'Preston':\"53.7632\",\n",
    "       'Heritage Pines':\"28.4282\", \n",
    "         'Tanglewood':\"36.0164\", \n",
    "         'Waverly Place':\"42.7272\",\n",
    "         'Wayne Ridge':\"35.7638\",\n",
    "       'Westpark Place':\"35.7849\", \n",
    "         'East Austin':\"30.2655\", \n",
    "         'The Drag':\"30.2885\",\n",
    "         'South Congress':\"30.2050\",\n",
    "       'Georgian Acres':\"30.3500\",\n",
    "         'North Austin':\"30.3923\", \n",
    "         'West University':\"29.7180\",\n",
    "         'Austin':\"30.2672\",\n",
    "       'Katy':\"29.7858\", \n",
    "         'Sharpstown':\"29.7052\", \n",
    "         'Sugar Land':\"29.5984\", \n",
    "         'Galveston':\"29.3013\", \n",
    "         'Port Bolivar':\"29.3808\",\n",
    "       'Washington Avenue':\"47.751076\",\n",
    "         'Briar Meadow':\"29.7375\", \n",
    "         'Latta':\"34.3371\", \n",
    "         'Jacksonville':\"30.3322\",\n",
    "       'Lake Reams':\"28.4396\", \n",
    "         'Orlando':\"28.5383\", \n",
    "         'Kissimmee':\"28.2920\", \n",
    "         'Daytona Beach':\"29.2108\",\n",
    "         'Ridgeland':\"32.4285\",\n",
    "       'Florence':\"43.7696\",\n",
    "         'Meredith':\"43.6575\", \n",
    "         'Holly Springs':\"35.6513\",\n",
    "         'Chessington':\"51.3636\",\n",
    "         'Burtrose':\"35.7738\",\n",
    "       'Parkway':\"1.3013\",\n",
    "         'Mcvan':\"47.4512\",\n",
    "         'Capitol One':\"38.8981\",\n",
    "         'University District':\"47.6628\",\n",
    "       'Seattle':\"47.6062\", \n",
    "         'Redmond':\"47.6740\",\n",
    "         'Bellevue':\"47.6101\", \n",
    "         'San Francisco':\"37.7749\",\n",
    "         'Palo Alto':\"37.4419\",\n",
    "       'Sunnyvale':\"37.3688\", \n",
    "         'Menlo Park':\"37.4530\",\n",
    "         'Old City':\"31.7768\", \n",
    "         'Savon Height':\"35.7727\",\n",
    "       'Kilarney Woods':\"47.2690\",\n",
    "         'Townes at Everett Crossing':\"35.8615\",\n",
    "         'Huntington Woods':\"42.4806\",\n",
    "       'Weston':\"26.1004\",\n",
    "         'Seaport':\"40.706322\",\n",
    "         'Medical Centre':\"33.8977\",\n",
    "         'Rose Hill':\"20.2230\", \n",
    "         'Soho':\"40.7233\",\n",
    "       'Tribeca':\"40.7163\",\n",
    "         'Financial District':\"40.7077\",\n",
    "         'Oakland':\"37.8044\",\n",
    "         'Emeryville':\"37.8395\",\n",
    "       'Berkeley':\"37.8715\",\n",
    "         'Kenner':\"29.9941\", \n",
    "         'CBD':\"37.8124\",\n",
    "         'Lower Garden District':\"29.9349\",\n",
    "         'Storyville':\"29.9563149\",\n",
    "       'New Orleans':\"29.951065\", \n",
    "         'Chalmette':\"29.943420\",\n",
    "         'Arabi':\"29.956461\",\n",
    "         'Pontchartrain Shores':\"46.043530\",\n",
    "       'Metairie':\"29.9841\", \n",
    "         'Summerwinds':\"35.7413\", \n",
    "         'Parkwood':\"38.1556\", \n",
    "         'Banner Elk':\"36.1632\", \n",
    "         'Boone':\"36.2168\",\n",
    "       'Stonewater':\"35.8471\",\n",
    "         'Lexington Park at Amberly':\"35.8227\", \n",
    "         'Winston Salem':\"36.0999\",\n",
    "       'Asheville':\"35.5951\",\n",
    "         'Topton':\"40.5034\", \n",
    "         'Renaissance':\"42.3293\", \n",
    "         'Santa Clara':\"37.3541\",\n",
    "         'Ingleside':\"44.9989\",\n",
    "       'West Berkeley':\"37.8744\",\n",
    "         'Mountain View':\"37.3861\",\n",
    "         'El Cerrito':\"37.9161\",\n",
    "         'Krendle Woods':\"35.7857\",\n",
    "       'Fuquay-Varina':\"35.5843\", \n",
    "         'Lahore':\"31.5204\",\n",
    "         'Karachi':\"24.8607\",\n",
    "         'Katunayake':\"7.1725\",\n",
    "         'Gampaha':\"7.0840\"}\n",
    "\n",
    "dataset[\"Loc_Latitude\"]=dataset[\"Loc_Latitude\"].replace(country_lati)"
   ]
  },
  {
   "cell_type": "markdown",
   "id": "c52a6757",
   "metadata": {},
   "source": [
    "# New column  \"Loc_Longitude\" contain the \n",
    "# longitude values of \"Start\" and \"End\""
   ]
  },
  {
   "cell_type": "code",
   "execution_count": null,
   "id": "374f6cfe",
   "metadata": {},
   "outputs": [],
   "source": [
    "country_long={'Fort Pierce':\"80.3256\",\n",
    "         'West Palm Beach':\"80.0534\",\n",
    "         'Cary':\"78.7811\",\n",
    "         'Jamaica':\"77.2975\",\n",
    "         'New York':\"74.0060\",\n",
    "       'Elmhurst':\"87.9403\",\n",
    "         'Midtown':\"73.9840\",\n",
    "         'East Harlem':\"73.9389\", \n",
    "         'Flatiron District':\"73.9903\",\n",
    "       'Midtown East':\"73.9719\",\n",
    "         'Hudson Square':\"74.0075\",\n",
    "         'Lower Manhattan':\"74.0007\",\n",
    "       \"Hell's Kitchen\":\"73.9918\",\n",
    "         'Downtown':\"121.8907\",\n",
    "         'Gulfton':\"95.4806\",\n",
    "         'Houston':\"95.3698\",\n",
    "         'Eagan Park':\"84.4317\",\n",
    "       'Morrisville':\"78.8256\",\n",
    "         'Durham':\"1.5849\",\n",
    "         'Farmington Woods':\"78.7808\",\n",
    "         'Lake Wellingborough':\"78.7636\",\n",
    "       'Fayetteville Street':\"-78.8783585\",\n",
    "         'Raleigh':\"78.6382\",\n",
    "         'Whitebridge':\"151.7113\", \n",
    "         'Hazelwood':\"90.3709\",\n",
    "       'Fairmont':\"80.1426\", \n",
    "         'Meredith Townes':\"78.6902\",\n",
    "         'Apex':\"78.8503\",\n",
    "         'Chapel Hill':\"79.0558\",\n",
    "         'Northwoods':\"71.1509\",\n",
    "       'Edgehill Farms':\"78.8070\",\n",
    "         'Eastgate':\"28.1172\", \n",
    "         'East Elmhurst':\"73.8713\", \n",
    "         'Long Island City':\"73.1350\",\n",
    "       'Katunayaka':\"79.8853\",\n",
    "         'Colombo':\"79.8612\",\n",
    "         'Nugegoda':\"79.8997\",\n",
    "         'Unknown Location':\"0\",\n",
    "       'Islamabad':\"73.0479\", \n",
    "         'Rawalpindi':\"73.0169\",\n",
    "         'Noorpur Shahan':\"73.1084\",\n",
    "         'Preston':\"2.7031\",\n",
    "       'Heritage Pines':\"82.6254\", \n",
    "         'Tanglewood':\"80.4112\", \n",
    "         'Waverly Place':\"92.4669\",\n",
    "         'Wayne Ridge':\"78.7311\",\n",
    "       'Westpark Place':\"78.8692\", \n",
    "         'East Austin':\"97.7091\", \n",
    "         'The Drag':\"97.7420\",\n",
    "         'South Congress':\"97.7748\",\n",
    "       'Georgian Acres':\"97.7009\",\n",
    "         'North Austin':\"97.7082\", \n",
    "         'West University':\"95.4338\",\n",
    "         'Austin':\"97.7431\",\n",
    "       'Katy':\"95.8245\", \n",
    "         'Sharpstown':\"95.5213\", \n",
    "         'Sugar Land':\"95.6226\", \n",
    "         'Galveston':\"94.797\", \n",
    "         'Port Bolivar':\"94.76447\",\n",
    "       'Washington Avenue':\"120.740135\",\n",
    "         'Briar Meadow':\"95.5142\", \n",
    "         'Latta':\"79.4312\", \n",
    "         'Jacksonville':\"81.6557\",\n",
    "       'Lake Reams':\"81.5720\", \n",
    "         'Orlando':\"81.3792\", \n",
    "         'Kissimmee':\"81.4076\", \n",
    "         'Daytona Beach':\"81.0228\",\n",
    "         'Ridgeland':\"90.1323\",\n",
    "       'Florence':\"11.2558\",\n",
    "         'Meredith':\"71.5003\", \n",
    "         'Holly Springs':\"78.8336\",\n",
    "         'Chessington':\"0.2963\",\n",
    "         'Burtrose':\"78.7853\",\n",
    "       'Parkway':\"103.9090\",\n",
    "         'Mcvan':\"122.2890\",\n",
    "         'Capitol One':\"77.0208\",\n",
    "         'University District':\"122.3139\",\n",
    "       'Seattle':\"122.3321\", \n",
    "         'Redmond':\"122.1215\",\n",
    "         'Bellevue':\"122.2015\", \n",
    "         'San Francisco':\"122.4194\",\n",
    "         'Palo Alto':\"122.1430\",\n",
    "       'Sunnyvale':\"122.0363\", \n",
    "         'Menlo Park':\"122.1817\",\n",
    "         'Old City':\"35.2310\", \n",
    "         'Savon Height':\"78.8011\",\n",
    "       'Kilarney Woods':\"122.3011\",\n",
    "         'Townes at Everett Crossing':\"78.8507\",\n",
    "         'Huntington Woods':\"83.1669\",\n",
    "       'Weston':\"80.3998\",\n",
    "         'Seaport':\"74.002640\",\n",
    "         'Medical Centre':\"35.4902\",\n",
    "         'Rose Hill':\"57.4684\", \n",
    "         'Soho':\"74.0030\",\n",
    "       'Tribeca':\"74.0086\",\n",
    "         'Financial District':\"74.0083\",\n",
    "         'Oakland':\"122.2712\",\n",
    "         'Emeryville':\"122.2892\",\n",
    "       'Berkeley':\"122.2730\",\n",
    "         'Kenner':\"90.2417\", \n",
    "         'CBD':\"144.9623\",\n",
    "         'Lower Garden District':\"90.0697\",\n",
    "         'Storyville':\"-90.0725719\",\n",
    "       'New Orleans':\"90.071533\", \n",
    "         'Chalmette':\"89.963249\",\n",
    "         'Arabi':\"90.000923\",\n",
    "         'Pontchartrain Shores':\"84.592370\",\n",
    "       'Metairie':\"90.1529\", \n",
    "         'Summerwinds':\"78.7678\", \n",
    "         'Parkwood':\"85.8014\", \n",
    "         'Banner Elk':\"81.8715\", \n",
    "         'Boone':\"81.6746\",\n",
    "       'Stonewater':\"78.9019\",\n",
    "         'Lexington Park at Amberly':\"78.9129\", \n",
    "         'Winston Salem':\"80.2442\",\n",
    "       'Asheville':\"82.5515\",\n",
    "         'Topton':\"75.7013\", \n",
    "         'Renaissance':\"83.0398\", \n",
    "         'Santa Clara':\"121.9552\",\n",
    "         'Ingleside':\"74.9898\",\n",
    "       'West Berkeley':\"122.2986\",\n",
    "         'Mountain View':\"122.0839\",\n",
    "         'El Cerrito':\"122.3108\",\n",
    "         'Krendle Woods':\"78.7846\",\n",
    "       'Fuquay-Varina':\"78.8000\", \n",
    "         'Lahore':\"74.3587\",\n",
    "         'Karachi':\"67.0011\",\n",
    "         'Katunayake':\"79.8853\",\n",
    "         'Gampaha':\"80.0098\"}\n",
    "dataset[\"Loc_Longitude\"] = dataset[\"Loc_Longitude\"].replace(country_long)"
   ]
  },
  {
   "cell_type": "markdown",
   "id": "d44dc074",
   "metadata": {},
   "source": [
    "# Map Plot for Locations"
   ]
  },
  {
   "cell_type": "code",
   "execution_count": null,
   "id": "e87766f1",
   "metadata": {
    "scrolled": false
   },
   "outputs": [],
   "source": [
    "import folium\n",
    "\n",
    "my_map = folium.Map(location=[\"27.4467056\",\"-80.3256056\"],zoom_start =2)\n",
    "for _,data in dataset.iterrows():\n",
    "    folium.Marker([data[\"Loc_Latitude\"],data[\"Loc_Longitude\"]],popup=data[\"Start\"]).add_to(my_map)\n",
    "    \n",
    "\n",
    "my_map   "
   ]
  },
  {
   "cell_type": "code",
   "execution_count": null,
   "id": "43f981bf",
   "metadata": {},
   "outputs": [],
   "source": []
  }
 ],
 "metadata": {
  "kernelspec": {
   "display_name": "Python 3 (ipykernel)",
   "language": "python",
   "name": "python3"
  },
  "language_info": {
   "codemirror_mode": {
    "name": "ipython",
    "version": 3
   },
   "file_extension": ".py",
   "mimetype": "text/x-python",
   "name": "python",
   "nbconvert_exporter": "python",
   "pygments_lexer": "ipython3",
   "version": "3.9.7"
  }
 },
 "nbformat": 4,
 "nbformat_minor": 5
}
