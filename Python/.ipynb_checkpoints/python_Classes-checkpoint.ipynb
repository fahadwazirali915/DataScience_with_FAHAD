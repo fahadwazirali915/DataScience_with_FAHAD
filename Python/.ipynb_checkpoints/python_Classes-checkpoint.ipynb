{
 "cells": [
  {
   "cell_type": "markdown",
   "id": "3752059b",
   "metadata": {},
   "source": [
    "# PYTHON Basics !!!"
   ]
  },
  {
   "cell_type": "markdown",
   "id": "1424ddcc",
   "metadata": {},
   "source": [
    "## 1st Program with PY !"
   ]
  },
  {
   "cell_type": "code",
   "execution_count": 1,
   "id": "30199cb7",
   "metadata": {},
   "outputs": [
    {
     "name": "stdout",
     "output_type": "stream",
     "text": [
      "Fahad\n",
      "COMSATS University Islamabad (Sahiwal Campus)\n",
      "5\n"
     ]
    }
   ],
   "source": [
    "print(\"Fahad\")\n",
    "print(\"COMSATS University Islamabad (Sahiwal Campus)\")\n",
    "print(2+3)\n"
   ]
  },
  {
   "cell_type": "markdown",
   "id": "2ce0a393",
   "metadata": {},
   "source": [
    "### operators.py"
   ]
  },
  {
   "cell_type": "code",
   "execution_count": 2,
   "id": "4ad23da8",
   "metadata": {},
   "outputs": [
    {
     "name": "stdout",
     "output_type": "stream",
     "text": [
      "Add: 97\n",
      "Mul: 4\n",
      "Mod: 1\n",
      "Div with Float: 2.0\n",
      "Div without Float: 2\n",
      "Sub: 2\n",
      "Power: 8\n",
      "PEMDAS Rule:  12.0\n"
     ]
    }
   ],
   "source": [
    "print(\"Add:\", 42+55)\n",
    "print(\"Mul:\", 2*2)\n",
    "print(\"Mod:\", 9%2)\n",
    "print(\"Div with Float:\", 10/5)\n",
    "print(\"Div without Float:\", 10//5)\n",
    "print(\"Sub:\", 4-2)\n",
    "print(\"Power:\", 2**3)\n",
    "\n",
    "print(\"PEMDAS Rule: \", 8+5-2*6-8/8+6/2*4)\n"
   ]
  },
  {
   "cell_type": "markdown",
   "id": "c9669768",
   "metadata": {},
   "source": [
    "### strings.py"
   ]
  },
  {
   "cell_type": "code",
   "execution_count": 3,
   "id": "96b6a00f",
   "metadata": {},
   "outputs": [
    {
     "name": "stdout",
     "output_type": "stream",
     "text": [
      "Muhammad Fahad\n",
      "PAKISTAN !\n",
      "SP19-BCS-042\n"
     ]
    }
   ],
   "source": [
    "print(\"Muhammad Fahad\")\n",
    "\n",
    "print('PAKISTAN !')\n",
    "\n",
    "print('''SP19-BCS-042''')\n"
   ]
  },
  {
   "cell_type": "markdown",
   "id": "9f4f7147",
   "metadata": {},
   "source": [
    "### variables.py"
   ]
  },
  {
   "cell_type": "code",
   "execution_count": 4,
   "id": "624510f0",
   "metadata": {},
   "outputs": [
    {
     "name": "stdout",
     "output_type": "stream",
     "text": [
      "42\n",
      "<class 'int'>\n",
      "Myself Fahad\n",
      "<class 'str'>\n",
      "5.5\n",
      "<class 'float'>\n",
      "Apples, Bananas\n"
     ]
    }
   ],
   "source": [
    "# (1)\n",
    "f=42\n",
    "print(f)\n",
    "print(type(f))\n",
    "\n",
    "# (2)\n",
    "x=\"Myself Fahad\"\n",
    "print(x)\n",
    "print(type(x))\n",
    "\n",
    "# (3)\n",
    "y=5.5\n",
    "print(y)\n",
    "print(type(y))\n",
    "\n",
    "# (4)\n",
    "fruit = \"Apples, Bananas\"\n",
    "print(fruit)\n",
    "\n",
    "# (5)\n",
    "# vegetables = \"Carrot, Potato\"\n",
    "# del vegetables\n",
    "# print(vegetables)\n"
   ]
  },
  {
   "cell_type": "markdown",
   "id": "f5af2505",
   "metadata": {},
   "source": [
    "### input_variables.py"
   ]
  },
  {
   "cell_type": "code",
   "execution_count": 5,
   "id": "9aef473d",
   "metadata": {},
   "outputs": [
    {
     "name": "stdout",
     "output_type": "stream",
     "text": [
      "Hy Faadie!\n",
      "ALi\n"
     ]
    }
   ],
   "source": [
    "# (1)\n",
    "# age=input(\"What's your Age: \")\n",
    "# print(age)\n",
    "\n",
    "# (2)\n",
    "# fruit_basket=input(\"Which fruit is your favorite: \")\n",
    "# print(\"I like\", fruit_basket)\n",
    "\n",
    "\n",
    "# (3)\n",
    "name=\"Faadie!\"\n",
    "welcome=\"Hy\"\n",
    "\n",
    "print(welcome, name)\n",
    "print(\"ALi\")\n",
    "\n",
    "\n",
    "# (4)\n",
    "# name=input(\"What's your Good Name:\")\n",
    "# age=input(\"What's your Age:\")\n",
    "# greetings= \"Welcome! \"\n",
    "\n",
    "# print(greetings, name, \", Younger Boy\", age)\n"
   ]
  },
  {
   "cell_type": "markdown",
   "id": "c745ea95",
   "metadata": {},
   "source": [
    "### conditional_logics_operators.py"
   ]
  },
  {
   "cell_type": "code",
   "execution_count": 6,
   "id": "b06314eb",
   "metadata": {},
   "outputs": [
    {
     "name": "stdout",
     "output_type": "stream",
     "text": [
      "What's your Child Age:22\n",
      "<class 'str'>\n",
      "<class 'int'>\n",
      "True\n"
     ]
    }
   ],
   "source": [
    "school_age=5\n",
    "\n",
    "# (1)\n",
    "# child_age=4\n",
    "# print(child_age == school_age)\n",
    "\n",
    "# (2)\n",
    "child_age=input(\"What's your Child Age:\")\n",
    "print(type(child_age))\n",
    "child_age=int(child_age)\n",
    "print(type(child_age))\n",
    "print(child_age >= school_age)\n"
   ]
  },
  {
   "cell_type": "markdown",
   "id": "1a1f8468",
   "metadata": {},
   "source": [
    "### type_conversion.py"
   ]
  },
  {
   "cell_type": "code",
   "execution_count": 7,
   "id": "3ca824c5",
   "metadata": {},
   "outputs": [
    {
     "name": "stdout",
     "output_type": "stream",
     "text": [
      "Age:  22 <class 'str'>\n",
      "42 <class 'str'>\n",
      "reg 42.0 <class 'float'>\n"
     ]
    }
   ],
   "source": [
    "# (1)\n",
    "age=22\n",
    "print(\"Age: \", age, type(str(age)))\n",
    "\n",
    "# (2)\n",
    "reg=\"42\"\n",
    "print(reg, type(reg))\n",
    "\n",
    "# (3)\n",
    "reg=float(reg)\n",
    "print(\"reg\", reg, type(reg))\n"
   ]
  },
  {
   "cell_type": "markdown",
   "id": "70fa7007",
   "metadata": {},
   "source": [
    "## (if_else_elif)_condition_statements.py"
   ]
  },
  {
   "cell_type": "code",
   "execution_count": 8,
   "id": "f0c0e2ba",
   "metadata": {},
   "outputs": [
    {
     "name": "stdout",
     "output_type": "stream",
     "text": [
      "What's your Child Age:22\n",
      "You Join University OR Doing Work well in Market!\n"
     ]
    }
   ],
   "source": [
    "school_age=5\n",
    "college_age=16\n",
    "uni_age=18\n",
    "\n",
    "child_age=input(\"What's your Child Age:\")\n",
    "child_age=int(child_age)\n",
    "\n",
    "# (1)\n",
    "if child_age >= school_age and child_age < college_age:\n",
    "    print(\"You Join School !\")\n",
    "# (2)    \n",
    "elif child_age >= college_age and child_age < uni_age:\n",
    "    print(\"You Join College !\")\n",
    "elif child_age >= uni_age:\n",
    "    print(\"You Join University OR Doing Work well in Market!\")\n",
    "# (3)    \n",
    "else:\n",
    "    print(\"Please care of your Baby !!!\")\n",
    "    "
   ]
  },
  {
   "cell_type": "markdown",
   "id": "dec2dc0d",
   "metadata": {},
   "source": [
    "## functions.py"
   ]
  },
  {
   "cell_type": "code",
   "execution_count": 9,
   "id": "48c0d5ba",
   "metadata": {},
   "outputs": [
    {
     "name": "stdout",
     "output_type": "stream",
     "text": [
      "Age-Prediction in Future !\n"
     ]
    },
    {
     "data": {
      "text/plain": [
       "25"
      ]
     },
     "execution_count": 9,
     "metadata": {},
     "output_type": "execute_result"
    }
   ],
   "source": [
    "\n",
    "# # (1)\n",
    "# def home():\n",
    "#     print(\"House: 1419\")\n",
    "# home()    \n",
    "\n",
    "# # (2)\n",
    "# def shop():\n",
    "#     text=\"Okanwala Road CCW\"\n",
    "#     print(text)\n",
    "#     print(text)\n",
    "#     print(text)\n",
    "# shop()\n",
    "\n",
    "# # (3)\n",
    "# def uni(place):\n",
    "#     print(\"COMSATS University!\", place)\n",
    "# uni(\"Sahiwal\")\n",
    "\n",
    "# print()\n",
    "# print()\n",
    "# print()\n",
    "\n",
    "# (4) \n",
    "# print(\"MADE SCHOOL CALCULATOR FOR KIDS !\")\n",
    "# school_age=5\n",
    "# college_age=16\n",
    "# uni_age=18\n",
    "\n",
    "# def school_age_calculator(child_age):\n",
    "#     if child_age >= school_age and child_age < college_age:\n",
    "#         print(\"You Join School !\")\n",
    "#     elif child_age >= college_age and child_age < uni_age:\n",
    "#         print(\"You Join College !\")\n",
    "#     elif child_age >= uni_age:\n",
    "#         print(\"You Join University OR Doing Work well in Market!\")\n",
    "#     else:\n",
    "#         print(\"Please care of your Baby !!!\")\n",
    "\n",
    "# school_age_calculator(16)\n",
    "    \n",
    "    \n",
    "# # (5) \n",
    "# print(\"MADE SCHOOL CALCULATOR FOR KIDS !\")\n",
    "# school_age=5\n",
    "# college_age=16\n",
    "# uni_age=18\n",
    "\n",
    "# child_age = input(\"What's your Age: \")\n",
    "# child_age = int(child_age)\n",
    "# def school_age_calculator(text, child_age):\n",
    "#     if child_age >= school_age and child_age < college_age:\n",
    "#         print(\"You Join School !\")\n",
    "#     elif child_age >= college_age and child_age < uni_age:\n",
    "#         print(\"You Join College !\")\n",
    "#     elif child_age >= uni_age:\n",
    "#         print(\"You Join University OR Doing Work well in Market!\")\n",
    "#     else:\n",
    "#         print(\"Please care of your Baby !!!\")\n",
    "\n",
    "# school_age_calculator(\"Your age is: \", child_age)\n",
    "\n",
    "\n",
    "# # (6)\n",
    "# print(\"Age-Prediction in Future !\")\n",
    "\n",
    "# def future_Age(age):\n",
    "#     new_age = age+10\n",
    "#     print(\"Future Prediction: \", new_age)\n",
    "# future_Age(22)    \n",
    "\n",
    "\n",
    "# (7)\n",
    "print(\"Age-Prediction in Future !\")\n",
    "\n",
    "def future_Age(age):\n",
    "    new_age = age+3\n",
    "    return new_age\n",
    "    \n",
    "future_Age(22)    \n",
    "\n",
    "        "
   ]
  },
  {
   "cell_type": "markdown",
   "id": "5f004e30",
   "metadata": {},
   "source": [
    "## loops.py"
   ]
  },
  {
   "cell_type": "markdown",
   "id": "55d230d8",
   "metadata": {},
   "source": [
    "### While-Loop"
   ]
  },
  {
   "cell_type": "code",
   "execution_count": 10,
   "id": "cb209d2b",
   "metadata": {},
   "outputs": [
    {
     "name": "stdout",
     "output_type": "stream",
     "text": [
      "No: 1\n",
      "No: 2\n",
      "No: 3\n",
      "No: 4\n",
      "No: 5\n"
     ]
    }
   ],
   "source": [
    "# (1)\n",
    "x=1\n",
    "while(x<=5):\n",
    "    print(\"No:\", x)\n",
    "    x=x+1\n",
    "\n",
    "# (2)\n",
    "# y=10\n",
    "# while(y>0):\n",
    "#     print(\"No:\", y)\n",
    "#     y=y-1\n",
    "\n"
   ]
  },
  {
   "cell_type": "markdown",
   "id": "a4a7aa03",
   "metadata": {},
   "source": [
    "### For-Loop"
   ]
  },
  {
   "cell_type": "code",
   "execution_count": 11,
   "id": "0761b506",
   "metadata": {},
   "outputs": [
    {
     "name": "stdout",
     "output_type": "stream",
     "text": [
      "10\n",
      "11\n",
      "12\n",
      "13\n",
      "14\n",
      "15\n"
     ]
    }
   ],
   "source": [
    "# # (1)\n",
    "# for x in range(1, 5):\n",
    "#     print(x)\n",
    "    \n",
    "# (2)  \n",
    "for y in range(10, 16):\n",
    "    print(y)\n"
   ]
  },
  {
   "cell_type": "markdown",
   "id": "c9a4717a",
   "metadata": {},
   "source": [
    "## arrays.py"
   ]
  },
  {
   "cell_type": "code",
   "execution_count": 12,
   "id": "b06f36cf",
   "metadata": {},
   "outputs": [
    {
     "name": "stdout",
     "output_type": "stream",
     "text": [
      "Brothers are: Tayyab\n",
      "Brothers are: Adil\n",
      "Brothers are: Tahar\n",
      "Brothers are: Fahad\n"
     ]
    }
   ],
   "source": [
    "\n",
    "# (1)\n",
    "# array !\n",
    "brothers = [\"Tayyab\",\"Adil\",\"Tahar\",\"Fahad\"]\n",
    "for bros in brothers:\n",
    "    print(\"Brothers are:\", bros)\n",
    "\n",
    "    \n",
    "# (2)\n",
    "# array !\n",
    "# days = [\"Mon\", \"Tue\", \"Wed\", \"Thu\", \"Fri\", \"Sat\", \"Sun\"]\n",
    "# for d in days:\n",
    "#     print(\"Days are:\", d)\n",
    "\n",
    "\n",
    "# # (3)\n",
    "# # array !\n",
    "# days = [\"Mon\", \"Tue\", \"Wed\", \"Thu\", \"Fri\", \"Sat\", \"Sun\"]\n",
    "# for d in days:\n",
    "#     if(d==\"Fri\"): continue # Skip !\n",
    "#     if(d==\"Wed\"): break # Loop Stops !\n",
    "#     print(\"Days are:\", d)\n",
    "        \n",
    "    "
   ]
  },
  {
   "cell_type": "markdown",
   "id": "c4f8956a",
   "metadata": {},
   "source": [
    "### libraries.py\n"
   ]
  },
  {
   "cell_type": "code",
   "execution_count": 19,
   "id": "17c98057",
   "metadata": {},
   "outputs": [
    {
     "name": "stdout",
     "output_type": "stream",
     "text": [
      "The Value of 'pi' is: 3.141592653589793\n"
     ]
    },
    {
     "ename": "AttributeError",
     "evalue": "module 'math' has no attribute 'radian'",
     "output_type": "error",
     "traceback": [
      "\u001b[1;31m---------------------------------------------------------------------------\u001b[0m",
      "\u001b[1;31mAttributeError\u001b[0m                            Traceback (most recent call last)",
      "\u001b[1;32m~\\AppData\\Local\\Temp/ipykernel_16908/2956666852.py\u001b[0m in \u001b[0;36m<module>\u001b[1;34m\u001b[0m\n\u001b[0;32m      2\u001b[0m \u001b[1;33m\u001b[0m\u001b[0m\n\u001b[0;32m      3\u001b[0m \u001b[0mprint\u001b[0m\u001b[1;33m(\u001b[0m\u001b[1;34m\"The Value of 'pi' is:\"\u001b[0m\u001b[1;33m,\u001b[0m \u001b[0mmath\u001b[0m\u001b[1;33m.\u001b[0m\u001b[0mpi\u001b[0m\u001b[1;33m)\u001b[0m\u001b[1;33m\u001b[0m\u001b[1;33m\u001b[0m\u001b[0m\n\u001b[1;32m----> 4\u001b[1;33m \u001b[0mprint\u001b[0m\u001b[1;33m(\u001b[0m\u001b[1;34m\"The Value of 'celsius' is:\"\u001b[0m\u001b[1;33m,\u001b[0m \u001b[0mmath\u001b[0m\u001b[1;33m.\u001b[0m\u001b[0mradian\u001b[0m\u001b[1;33m)\u001b[0m\u001b[1;33m\u001b[0m\u001b[1;33m\u001b[0m\u001b[0m\n\u001b[0m",
      "\u001b[1;31mAttributeError\u001b[0m: module 'math' has no attribute 'radian'"
     ]
    }
   ],
   "source": [
    "import math\n",
    "\n",
    "print(\"The Value of 'pi' is:\", math.pi)\n",
    "print(\"The Value of 'celsius' is:\", math.ceil)\n"
   ]
  },
  {
   "cell_type": "markdown",
   "id": "d9e8a10c",
   "metadata": {},
   "source": [
    "## Trouble Shooting !"
   ]
  }
 ],
 "metadata": {
  "kernelspec": {
   "display_name": "Python 3 (ipykernel)",
   "language": "python",
   "name": "python3"
  },
  "language_info": {
   "codemirror_mode": {
    "name": "ipython",
    "version": 3
   },
   "file_extension": ".py",
   "mimetype": "text/x-python",
   "name": "python",
   "nbconvert_exporter": "python",
   "pygments_lexer": "ipython3",
   "version": "3.8.2"
  }
 },
 "nbformat": 4,
 "nbformat_minor": 5
}
