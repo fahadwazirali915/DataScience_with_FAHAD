{
 "cells": [
  {
   "cell_type": "markdown",
   "id": "567b2342",
   "metadata": {},
   "source": [
    "## - **Basic Data structures in Python !**\n",
    "\n",
    "**=> Tuple** .( Un-Muteable, Not changeable/modifiable )\n",
    "\n",
    "**=> List** .[ Muteable, changeable/modifiable ]\n",
    "\n",
    "**=> Dictionary** .{ Muteable, changeable/modifiable }\n",
    "\n",
    "**=> Cell**"
   ]
  },
  {
   "cell_type": "markdown",
   "id": "bb987c73",
   "metadata": {},
   "source": [
    "### **=> 1.Tuple... ( )**"
   ]
  },
  {
   "cell_type": "code",
   "execution_count": 1,
   "id": "7a768c0d",
   "metadata": {},
   "outputs": [
    {
     "name": "stdout",
     "output_type": "stream",
     "text": [
      "Tuple(): (42, 'COMSATS', 42.5, 1)\n"
     ]
    },
    {
     "data": {
      "text/plain": [
       "tuple"
      ]
     },
     "execution_count": 1,
     "metadata": {},
     "output_type": "execute_result"
    }
   ],
   "source": [
    "set_tuple = (42, \"COMSATS\", 42.5, 1)\n",
    "print(\"Tuple():\", set_tuple)\n",
    "type(set_tuple)\n"
   ]
  },
  {
   "cell_type": "code",
   "execution_count": 2,
   "id": "6d98ff39",
   "metadata": {},
   "outputs": [
    {
     "data": {
      "text/plain": [
       "(42, 'COMSATS')"
      ]
     },
     "execution_count": 2,
     "metadata": {},
     "output_type": "execute_result"
    }
   ],
   "source": [
    "set_tuple[1]\n",
    "set_tuple[0:2]\n"
   ]
  },
  {
   "cell_type": "code",
   "execution_count": 3,
   "id": "9bba1a0e",
   "metadata": {},
   "outputs": [
    {
     "data": {
      "text/plain": [
       "4"
      ]
     },
     "execution_count": 3,
     "metadata": {},
     "output_type": "execute_result"
    }
   ],
   "source": [
    "len(set_tuple)"
   ]
  },
  {
   "cell_type": "code",
   "execution_count": 4,
   "id": "d06cc446",
   "metadata": {},
   "outputs": [
    {
     "name": "stdout",
     "output_type": "stream",
     "text": [
      "Tuple(): (42, 'COMSATS', 42.5, 1)\n"
     ]
    },
    {
     "data": {
      "text/plain": [
       "tuple"
      ]
     },
     "execution_count": 4,
     "metadata": {},
     "output_type": "execute_result"
    }
   ],
   "source": [
    "set_tuple1 = (55, \"LUMS\", 45.5, False)\n",
    "print(\"Tuple():\", set_tuple)\n",
    "type(set_tuple)\n"
   ]
  },
  {
   "cell_type": "code",
   "execution_count": 5,
   "id": "ca1ab472",
   "metadata": {},
   "outputs": [
    {
     "data": {
      "text/plain": [
       "(42, 'COMSATS', 42.5, 1, 55, 'LUMS', 45.5, False)"
      ]
     },
     "execution_count": 5,
     "metadata": {},
     "output_type": "execute_result"
    }
   ],
   "source": [
    "set_tuple + set_tuple1"
   ]
  },
  {
   "cell_type": "code",
   "execution_count": 6,
   "id": "d1e40d42",
   "metadata": {},
   "outputs": [
    {
     "data": {
      "text/plain": [
       "(42, 'COMSATS', 42.5, 1, 42, 'COMSATS', 42.5, 1, 55, 'LUMS', 45.5, False)"
      ]
     },
     "execution_count": 6,
     "metadata": {},
     "output_type": "execute_result"
    }
   ],
   "source": [
    "set_tuple*2 + set_tuple1"
   ]
  },
  {
   "cell_type": "code",
   "execution_count": 7,
   "id": "c69c1e9d",
   "metadata": {},
   "outputs": [],
   "source": [
    "tp = (42, 55, 47, 50, 12, 10 ,18) "
   ]
  },
  {
   "cell_type": "code",
   "execution_count": 8,
   "id": "2d6d296a",
   "metadata": {},
   "outputs": [
    {
     "data": {
      "text/plain": [
       "10"
      ]
     },
     "execution_count": 8,
     "metadata": {},
     "output_type": "execute_result"
    }
   ],
   "source": [
    "min(tp)"
   ]
  },
  {
   "cell_type": "code",
   "execution_count": 9,
   "id": "e83825fe",
   "metadata": {},
   "outputs": [
    {
     "data": {
      "text/plain": [
       "55"
      ]
     },
     "execution_count": 9,
     "metadata": {},
     "output_type": "execute_result"
    }
   ],
   "source": [
    "max(tp)"
   ]
  },
  {
   "cell_type": "code",
   "execution_count": 10,
   "id": "a5c342ea",
   "metadata": {},
   "outputs": [
    {
     "data": {
      "text/plain": [
       "(42, 55, 47, 50, 12, 10, 18, 42, 55, 47, 50, 12, 10, 18)"
      ]
     },
     "execution_count": 10,
     "metadata": {},
     "output_type": "execute_result"
    }
   ],
   "source": [
    "tp*2"
   ]
  },
  {
   "cell_type": "code",
   "execution_count": 11,
   "id": "709355c1",
   "metadata": {},
   "outputs": [
    {
     "data": {
      "text/plain": [
       "(42,\n",
       " 55,\n",
       " 47,\n",
       " 50,\n",
       " 12,\n",
       " 10,\n",
       " 18,\n",
       " 42,\n",
       " 55,\n",
       " 47,\n",
       " 50,\n",
       " 12,\n",
       " 10,\n",
       " 18,\n",
       " 42,\n",
       " 55,\n",
       " 47,\n",
       " 50,\n",
       " 12,\n",
       " 10,\n",
       " 18)"
      ]
     },
     "execution_count": 11,
     "metadata": {},
     "output_type": "execute_result"
    }
   ],
   "source": [
    "tp*3"
   ]
  },
  {
   "cell_type": "markdown",
   "id": "2a0575c9",
   "metadata": {},
   "source": [
    "---"
   ]
  },
  {
   "cell_type": "markdown",
   "id": "c91a0469",
   "metadata": {},
   "source": [
    "### **=> 2.List... [ ]**"
   ]
  },
  {
   "cell_type": "code",
   "execution_count": 12,
   "id": "b9d5a546",
   "metadata": {},
   "outputs": [
    {
     "data": {
      "text/plain": [
       "[1, 'Fahad', 42, True]"
      ]
     },
     "execution_count": 12,
     "metadata": {},
     "output_type": "execute_result"
    }
   ],
   "source": [
    "list1 = [1, \"Fahad\", 42, True]\n",
    "list1"
   ]
  },
  {
   "cell_type": "code",
   "execution_count": 13,
   "id": "02a21203",
   "metadata": {},
   "outputs": [
    {
     "data": {
      "text/plain": [
       "list"
      ]
     },
     "execution_count": 13,
     "metadata": {},
     "output_type": "execute_result"
    }
   ],
   "source": [
    "type(list1)"
   ]
  },
  {
   "cell_type": "code",
   "execution_count": 14,
   "id": "251fea3d",
   "metadata": {},
   "outputs": [
    {
     "data": {
      "text/plain": [
       "['Fahad', 42]"
      ]
     },
     "execution_count": 14,
     "metadata": {},
     "output_type": "execute_result"
    }
   ],
   "source": [
    "list1[1:3]"
   ]
  },
  {
   "cell_type": "code",
   "execution_count": 15,
   "id": "60a12abf",
   "metadata": {},
   "outputs": [
    {
     "data": {
      "text/plain": [
       "[55, 42, 12, 18, 47, 48, 26, 31, 35, 42, 33]"
      ]
     },
     "execution_count": 15,
     "metadata": {},
     "output_type": "execute_result"
    }
   ],
   "source": [
    "list2 = [55, 42, 12, 18, 47, 48, 26, 31, 35, 42, 33]\n",
    "list2"
   ]
  },
  {
   "cell_type": "code",
   "execution_count": 16,
   "id": "c18316f9",
   "metadata": {},
   "outputs": [
    {
     "data": {
      "text/plain": [
       "[1, 'Fahad', 42, True, 55, 42, 12, 18, 47, 48, 26, 31, 35, 42, 33]"
      ]
     },
     "execution_count": 16,
     "metadata": {},
     "output_type": "execute_result"
    }
   ],
   "source": [
    "list1 + list2"
   ]
  },
  {
   "cell_type": "code",
   "execution_count": 17,
   "id": "b79c5efd",
   "metadata": {},
   "outputs": [],
   "source": [
    "list1.reverse()"
   ]
  },
  {
   "cell_type": "code",
   "execution_count": 18,
   "id": "a48ba0ff",
   "metadata": {},
   "outputs": [
    {
     "data": {
      "text/plain": [
       "[True, 42, 'Fahad', 1]"
      ]
     },
     "execution_count": 18,
     "metadata": {},
     "output_type": "execute_result"
    }
   ],
   "source": [
    "list1"
   ]
  },
  {
   "cell_type": "code",
   "execution_count": 19,
   "id": "cb44f31b",
   "metadata": {},
   "outputs": [],
   "source": [
    "list2.sort()"
   ]
  },
  {
   "cell_type": "code",
   "execution_count": 20,
   "id": "5bef0334",
   "metadata": {},
   "outputs": [
    {
     "data": {
      "text/plain": [
       "[12, 18, 26, 31, 33, 35, 42, 42, 47, 48, 55]"
      ]
     },
     "execution_count": 20,
     "metadata": {},
     "output_type": "execute_result"
    }
   ],
   "source": [
    "list2"
   ]
  },
  {
   "cell_type": "code",
   "execution_count": 21,
   "id": "19920701",
   "metadata": {},
   "outputs": [
    {
     "data": {
      "text/plain": [
       "2"
      ]
     },
     "execution_count": 21,
     "metadata": {},
     "output_type": "execute_result"
    }
   ],
   "source": [
    "list2.count(42)"
   ]
  },
  {
   "cell_type": "code",
   "execution_count": 22,
   "id": "2d8aa26e",
   "metadata": {},
   "outputs": [],
   "source": [
    "list1.append(\"reg\")"
   ]
  },
  {
   "cell_type": "code",
   "execution_count": 23,
   "id": "3be8bdf2",
   "metadata": {},
   "outputs": [
    {
     "data": {
      "text/plain": [
       "[True, 42, 'Fahad', 1, 'reg']"
      ]
     },
     "execution_count": 23,
     "metadata": {},
     "output_type": "execute_result"
    }
   ],
   "source": [
    "list1"
   ]
  },
  {
   "cell_type": "code",
   "execution_count": 24,
   "id": "5947ec6c",
   "metadata": {},
   "outputs": [
    {
     "data": {
      "text/plain": [
       "11"
      ]
     },
     "execution_count": 24,
     "metadata": {},
     "output_type": "execute_result"
    }
   ],
   "source": [
    "len(list2)"
   ]
  },
  {
   "cell_type": "markdown",
   "id": "615e5b75",
   "metadata": {},
   "source": [
    "### **=> 3.Dictionary... { }**"
   ]
  },
  {
   "cell_type": "code",
   "execution_count": 25,
   "id": "d802ea4a",
   "metadata": {},
   "outputs": [],
   "source": [
    "dict = {\"pizza\": 400, \"burger\": 200, \"Fries\": 100, \"Shawarma\": 130, \"Paratha Roll\": 180}\n",
    "dict1 = {\"eng\": 100, \"urdu\": 70, \"chem\": 150, \"phy\": 170, \"mth\": 200}\n"
   ]
  },
  {
   "cell_type": "code",
   "execution_count": 26,
   "id": "1bd8c629",
   "metadata": {},
   "outputs": [
    {
     "name": "stdout",
     "output_type": "stream",
     "text": [
      "Food: {'pizza': 400, 'burger': 200, 'Fries': 100, 'Shawarma': 130, 'Paratha Roll': 180}\n",
      "Books: {'eng': 100, 'urdu': 70, 'chem': 150, 'phy': 170, 'mth': 200}\n"
     ]
    }
   ],
   "source": [
    "print(\"Food:\", dict)\n",
    "print(\"Books:\", dict1)"
   ]
  },
  {
   "cell_type": "code",
   "execution_count": 27,
   "id": "3264dd49",
   "metadata": {},
   "outputs": [
    {
     "data": {
      "text/plain": [
       "dict"
      ]
     },
     "execution_count": 27,
     "metadata": {},
     "output_type": "execute_result"
    }
   ],
   "source": [
    "type(dict1)"
   ]
  },
  {
   "cell_type": "code",
   "execution_count": 28,
   "id": "90917f8f",
   "metadata": {},
   "outputs": [
    {
     "name": "stdout",
     "output_type": "stream",
     "text": [
      "Keys of Food: dict_keys(['pizza', 'burger', 'Fries', 'Shawarma', 'Paratha Roll'])\n",
      "Values of Food: dict_values([400, 200, 100, 130, 180])\n"
     ]
    }
   ],
   "source": [
    "keys_dict = dict.keys()\n",
    "values_dict = dict.values()\n",
    "\n",
    "print(\"Keys of Food:\", keys_dict)\n",
    "print(\"Values of Food:\", values_dict)\n",
    "\n"
   ]
  },
  {
   "cell_type": "code",
   "execution_count": 29,
   "id": "07a345bf",
   "metadata": {},
   "outputs": [
    {
     "data": {
      "text/plain": [
       "{'eng': 100, 'urdu': 70, 'chem': 150, 'phy': 170, 'mth': 200, 'bio': 250}"
      ]
     },
     "execution_count": 29,
     "metadata": {},
     "output_type": "execute_result"
    }
   ],
   "source": [
    "dict1[\"bio\"] = 250 \n",
    "dict1"
   ]
  },
  {
   "cell_type": "code",
   "execution_count": 30,
   "id": "543ef64c",
   "metadata": {},
   "outputs": [
    {
     "data": {
      "text/plain": [
       "{'eng': 100, 'urdu': 70, 'chem': 150, 'phy': 170, 'mth': 200, 'bio': 300}"
      ]
     },
     "execution_count": 30,
     "metadata": {},
     "output_type": "execute_result"
    }
   ],
   "source": [
    "dict1[\"bio\"] = 300\n",
    "dict1"
   ]
  },
  {
   "cell_type": "code",
   "execution_count": 31,
   "id": "482954bc",
   "metadata": {},
   "outputs": [
    {
     "data": {
      "text/plain": [
       "{'pizza': 400,\n",
       " 'burger': 200,\n",
       " 'Fries': 100,\n",
       " 'Shawarma': 130,\n",
       " 'Paratha Roll': 180,\n",
       " 'eng': 100,\n",
       " 'urdu': 70,\n",
       " 'chem': 150,\n",
       " 'phy': 170,\n",
       " 'mth': 200,\n",
       " 'bio': 300}"
      ]
     },
     "execution_count": 31,
     "metadata": {},
     "output_type": "execute_result"
    }
   ],
   "source": [
    "# merge the 2 Dictionaries !\n",
    "dict.update(dict1)\n",
    "dict"
   ]
  },
  {
   "cell_type": "markdown",
   "id": "51ae9de1",
   "metadata": {},
   "source": [
    "### **=> 4.Sets... { }**\n",
    "#### No-Duplication\n",
    "#### Unordered Indexed\n",
    "#### Boolean-type not Allowed"
   ]
  },
  {
   "cell_type": "code",
   "execution_count": 32,
   "id": "3d3c5fa7",
   "metadata": {},
   "outputs": [
    {
     "data": {
      "text/plain": [
       "{1, 1419, 'CCW', 'COMSATS', 'Fahad'}"
      ]
     },
     "execution_count": 32,
     "metadata": {},
     "output_type": "execute_result"
    }
   ],
   "source": [
    "data = {1, 1419, \"Fahad\", \"COMSATS\", True, \"CCW\"}\n",
    "data"
   ]
  },
  {
   "cell_type": "code",
   "execution_count": 33,
   "id": "4c72e8e2",
   "metadata": {},
   "outputs": [
    {
     "data": {
      "text/plain": [
       "{1, 1419, 55, 'CCW', 'COMSATS', 'Fahad'}"
      ]
     },
     "execution_count": 33,
     "metadata": {},
     "output_type": "execute_result"
    }
   ],
   "source": [
    "data.add(55)\n",
    "data"
   ]
  },
  {
   "cell_type": "code",
   "execution_count": 34,
   "id": "1a429d5f",
   "metadata": {},
   "outputs": [
    {
     "data": {
      "text/plain": [
       "{1, 55, 'CCW', 'COMSATS', 'Fahad'}"
      ]
     },
     "execution_count": 34,
     "metadata": {},
     "output_type": "execute_result"
    }
   ],
   "source": [
    "data.remove(1419)\n",
    "data"
   ]
  },
  {
   "cell_type": "code",
   "execution_count": 35,
   "id": "569857f1",
   "metadata": {},
   "outputs": [
    {
     "data": {
      "text/plain": [
       "{1, 55, 'CCW', 'COMSATS', 'Fahad'}"
      ]
     },
     "execution_count": 35,
     "metadata": {},
     "output_type": "execute_result"
    }
   ],
   "source": [
    "data"
   ]
  },
  {
   "cell_type": "code",
   "execution_count": null,
   "id": "c9640e70",
   "metadata": {},
   "outputs": [],
   "source": []
  }
 ],
 "metadata": {
  "kernelspec": {
   "display_name": "Python 3 (ipykernel)",
   "language": "python",
   "name": "python3"
  },
  "language_info": {
   "codemirror_mode": {
    "name": "ipython",
    "version": 3
   },
   "file_extension": ".py",
   "mimetype": "text/x-python",
   "name": "python",
   "nbconvert_exporter": "python",
   "pygments_lexer": "ipython3",
   "version": "3.9.7"
  }
 },
 "nbformat": 4,
 "nbformat_minor": 5
}
