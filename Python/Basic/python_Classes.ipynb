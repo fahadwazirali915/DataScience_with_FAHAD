{
 "cells": [
  {
   "cell_type": "markdown",
   "id": "4d304ee8",
   "metadata": {},
   "source": [
    "# PYTHON Basics !!!"
   ]
  },
  {
   "cell_type": "markdown",
   "id": "ef33c3b7",
   "metadata": {},
   "source": [
    "## 1st Program with PY !"
   ]
  },
  {
   "cell_type": "code",
   "execution_count": 1,
   "id": "67e79ad5",
   "metadata": {},
   "outputs": [
    {
     "ename": "SyntaxError",
     "evalue": "invalid syntax (Temp/ipykernel_3024/583294333.py, line 4)",
     "output_type": "error",
     "traceback": [
      "\u001b[1;36m  File \u001b[1;32m\"C:\\Users\\fahad\\AppData\\Local\\Temp/ipykernel_3024/583294333.py\"\u001b[1;36m, line \u001b[1;32m4\u001b[0m\n\u001b[1;33m    `\u001b[0m\n\u001b[1;37m    ^\u001b[0m\n\u001b[1;31mSyntaxError\u001b[0m\u001b[1;31m:\u001b[0m invalid syntax\n"
     ]
    }
   ],
   "source": [
    "print(\"Fahad\")\n",
    "print(\"COMSATS University Islamabad (Sahiwal Campus)\")\n",
    "print(2+3)\n",
    "`"
   ]
  },
  {
   "cell_type": "markdown",
   "id": "8703d9ba",
   "metadata": {},
   "source": [
    "### operators.py"
   ]
  },
  {
   "cell_type": "code",
   "execution_count": null,
   "id": "c834cb33",
   "metadata": {},
   "outputs": [],
   "source": [
    "print(\"Add:\", 42+55)\n",
    "print(\"Mul:\", 2*2)\n",
    "print(\"Mod:\", 9%2)\n",
    "print(\"Div with Float:\", 10/5)\n",
    "print(\"Div without Float:\", 10//5)\n",
    "print(\"Sub:\", 4-2)\n",
    "print(\"Power:\", 2**3)\n",
    "\n",
    "print(\"PEMDAS Rule: \", 8+5-2*6-8/8+6/2*4)\n"
   ]
  },
  {
   "cell_type": "markdown",
   "id": "2af72ad7",
   "metadata": {},
   "source": [
    "### strings.py"
   ]
  },
  {
   "cell_type": "code",
   "execution_count": null,
   "id": "d133ca79",
   "metadata": {},
   "outputs": [],
   "source": [
    "print(\"Muhammad Fahad\")\n",
    "\n",
    "print('PAKISTAN !')\n",
    "\n",
    "print('''SP19-BCS-042''')\n"
   ]
  },
  {
   "cell_type": "markdown",
   "id": "a220f019",
   "metadata": {},
   "source": [
    "### variables.py"
   ]
  },
  {
   "cell_type": "code",
   "execution_count": null,
   "id": "0a3cf1a4",
   "metadata": {},
   "outputs": [],
   "source": [
    "# (1)\n",
    "f=42\n",
    "print(f)\n",
    "print(type(f))\n",
    "\n",
    "# (2)\n",
    "x=\"Myself Fahad\"\n",
    "print(x)\n",
    "print(type(x))\n",
    "\n",
    "# (3)\n",
    "y=5.5\n",
    "print(y)\n",
    "print(type(y))\n",
    "\n",
    "# (4)\n",
    "fruit = \"Apples, Bananas\"\n",
    "print(fruit)\n",
    "\n",
    "# (5)\n",
    "# vegetables = \"Carrot, Potato\"\n",
    "# del vegetables\n",
    "# print(vegetables)\n"
   ]
  },
  {
   "cell_type": "markdown",
   "id": "43636773",
   "metadata": {},
   "source": [
    "### input_variables.py"
   ]
  },
  {
   "cell_type": "code",
   "execution_count": null,
   "id": "9d007a09",
   "metadata": {},
   "outputs": [],
   "source": [
    "# (1)\n",
    "# age=input(\"What's your Age: \")\n",
    "# print(age)\n",
    "\n",
    "# (2)\n",
    "# fruit_basket=input(\"Which fruit is your favorite: \")\n",
    "# print(\"I like\", fruit_basket)\n",
    "\n",
    "\n",
    "# (3)\n",
    "name=\"Faadie!\"\n",
    "welcome=\"Hy\"\n",
    "\n",
    "print(welcome, name)\n",
    "print(\"ALi\")\n",
    "\n",
    "\n",
    "# (4)\n",
    "# name=input(\"What's your Good Name:\")\n",
    "# age=input(\"What's your Age:\")\n",
    "# greetings= \"Welcome! \"\n",
    "\n",
    "# print(greetings, name, \", Younger Boy\", age)\n"
   ]
  },
  {
   "cell_type": "markdown",
   "id": "7cc7b045",
   "metadata": {},
   "source": [
    "### conditional_logics_operators.py"
   ]
  },
  {
   "cell_type": "code",
   "execution_count": null,
   "id": "0818df92",
   "metadata": {},
   "outputs": [],
   "source": [
    "school_age=5\n",
    "\n",
    "# (1)\n",
    "# child_age=4\n",
    "# print(child_age == school_age)\n",
    "\n",
    "# (2)\n",
    "child_age=input(\"What's your Child Age:\")\n",
    "print(type(child_age))\n",
    "child_age=int(child_age)\n",
    "print(type(child_age))\n",
    "print(child_age >= school_age)\n"
   ]
  },
  {
   "cell_type": "markdown",
   "id": "98fbe203",
   "metadata": {},
   "source": [
    "### type_conversion.py"
   ]
  },
  {
   "cell_type": "code",
   "execution_count": null,
   "id": "7672e70e",
   "metadata": {},
   "outputs": [],
   "source": [
    "# (1)\n",
    "age=22\n",
    "print(\"Age: \", age, type(str(age)))\n",
    "\n",
    "# (2)\n",
    "reg=\"42\"\n",
    "print(reg, type(reg))\n",
    "\n",
    "# (3)\n",
    "reg=float(reg)\n",
    "print(\"reg\", reg, type(reg))\n"
   ]
  },
  {
   "cell_type": "markdown",
   "id": "21017a50",
   "metadata": {},
   "source": [
    "## (if_else_elif)_condition_statements.py"
   ]
  },
  {
   "cell_type": "code",
   "execution_count": 2,
   "id": "0eef0e79",
   "metadata": {},
   "outputs": [
    {
     "name": "stdout",
     "output_type": "stream",
     "text": [
      "What's your Child Age:22\n",
      "You Join University OR Doing Work well in Market!\n"
     ]
    }
   ],
   "source": [
    "school_age=5\n",
    "college_age=16\n",
    "uni_age=18\n",
    "\n",
    "child_age=input(\"What's your Child Age:\")\n",
    "child_age=int(child_age)\n",
    "\n",
    "# (1)\n",
    "if child_age >= school_age and child_age < college_age:\n",
    "    print(\"You Join School !\")\n",
    "# (2)    \n",
    "elif child_age >= college_age and child_age < uni_age:\n",
    "    print(\"You Join College !\")\n",
    "elif child_age >= uni_age:\n",
    "    print(\"You Join University OR Doing Work well in Market!\")\n",
    "# (3)    \n",
    "else:\n",
    "    print(\"Please care of your Baby !!!\")\n",
    "    "
   ]
  },
  {
   "cell_type": "markdown",
   "id": "d93ec92b",
   "metadata": {},
   "source": [
    "## functions.py"
   ]
  },
  {
   "cell_type": "code",
   "execution_count": 3,
   "id": "b7a60aed",
   "metadata": {},
   "outputs": [
    {
     "name": "stdout",
     "output_type": "stream",
     "text": [
      "Age-Prediction in Future !\n"
     ]
    },
    {
     "data": {
      "text/plain": [
       "25"
      ]
     },
     "execution_count": 3,
     "metadata": {},
     "output_type": "execute_result"
    }
   ],
   "source": [
    "\n",
    "# # (1)\n",
    "# def home():\n",
    "#     print(\"House: 1419\")\n",
    "# home()    \n",
    "\n",
    "# # (2)\n",
    "# def shop():\n",
    "#     text=\"Okanwala Road CCW\"\n",
    "#     print(text)\n",
    "#     print(text)\n",
    "#     print(text)\n",
    "# shop()\n",
    "\n",
    "# # (3)\n",
    "# def uni(place):\n",
    "#     print(\"COMSATS University!\", place)\n",
    "# uni(\"Sahiwal\")\n",
    "\n",
    "# print()\n",
    "# print()\n",
    "# print()\n",
    "\n",
    "# (4) \n",
    "# print(\"MADE SCHOOL CALCULATOR FOR KIDS !\")\n",
    "# school_age=5\n",
    "# college_age=16\n",
    "# uni_age=18\n",
    "\n",
    "# def school_age_calculator(child_age):\n",
    "#     if child_age >= school_age and child_age < college_age:\n",
    "#         print(\"You Join School !\")\n",
    "#     elif child_age >= college_age and child_age < uni_age:\n",
    "#         print(\"You Join College !\")\n",
    "#     elif child_age >= uni_age:\n",
    "#         print(\"You Join University OR Doing Work well in Market!\")\n",
    "#     else:\n",
    "#         print(\"Please care of your Baby !!!\")\n",
    "\n",
    "# school_age_calculator(16)\n",
    "    \n",
    "    \n",
    "# # (5) \n",
    "# print(\"MADE SCHOOL CALCULATOR FOR KIDS !\")\n",
    "# school_age=5\n",
    "# college_age=16\n",
    "# uni_age=18\n",
    "\n",
    "# child_age = input(\"What's your Age: \")\n",
    "# child_age = int(child_age)\n",
    "# def school_age_calculator(text, child_age):\n",
    "#     if child_age >= school_age and child_age < college_age:\n",
    "#         print(\"You Join School !\")\n",
    "#     elif child_age >= college_age and child_age < uni_age:\n",
    "#         print(\"You Join College !\")\n",
    "#     elif child_age >= uni_age:\n",
    "#         print(\"You Join University OR Doing Work well in Market!\")\n",
    "#     else:\n",
    "#         print(\"Please care of your Baby !!!\")\n",
    "\n",
    "# school_age_calculator(\"Your age is: \", child_age)\n",
    "\n",
    "\n",
    "# # (6)\n",
    "# print(\"Age-Prediction in Future !\")\n",
    "\n",
    "# def future_Age(age):\n",
    "#     new_age = age+10\n",
    "#     print(\"Future Prediction: \", new_age)\n",
    "# future_Age(22)    \n",
    "\n",
    "\n",
    "# (7)\n",
    "print(\"Age-Prediction in Future !\")\n",
    "\n",
    "def future_Age(age):\n",
    "    new_age = age+3\n",
    "    return new_age\n",
    "    \n",
    "future_Age(22)    \n",
    "\n",
    "        "
   ]
  },
  {
   "cell_type": "markdown",
   "id": "2fe6ed72",
   "metadata": {},
   "source": [
    "## loops.py"
   ]
  },
  {
   "cell_type": "markdown",
   "id": "bc0ced6a",
   "metadata": {},
   "source": [
    "### While-Loop"
   ]
  },
  {
   "cell_type": "code",
   "execution_count": 4,
   "id": "68d8bde4",
   "metadata": {},
   "outputs": [
    {
     "name": "stdout",
     "output_type": "stream",
     "text": [
      "No: 1\n",
      "No: 2\n",
      "No: 3\n",
      "No: 4\n",
      "No: 5\n"
     ]
    }
   ],
   "source": [
    "# (1)\n",
    "x=1\n",
    "while(x<=5):\n",
    "    print(\"No:\", x)\n",
    "    x=x+1\n",
    "\n",
    "# (2)\n",
    "# y=10\n",
    "# while(y>0):\n",
    "#     print(\"No:\", y)\n",
    "#     y=y-1\n",
    "\n"
   ]
  },
  {
   "cell_type": "markdown",
   "id": "3e4fc129",
   "metadata": {},
   "source": [
    "### For-Loop"
   ]
  },
  {
   "cell_type": "code",
   "execution_count": 5,
   "id": "9427d568",
   "metadata": {},
   "outputs": [
    {
     "name": "stdout",
     "output_type": "stream",
     "text": [
      "10\n",
      "11\n",
      "12\n",
      "13\n",
      "14\n",
      "15\n"
     ]
    }
   ],
   "source": [
    "# # (1)\n",
    "# for x in range(1, 5):\n",
    "#     print(x)\n",
    "    \n",
    "# (2)  \n",
    "for y in range(10, 16):\n",
    "    print(y)\n"
   ]
  },
  {
   "cell_type": "markdown",
   "id": "7be0c9c4",
   "metadata": {},
   "source": [
    "## arrays.py"
   ]
  },
  {
   "cell_type": "code",
   "execution_count": 6,
   "id": "c0e274e5",
   "metadata": {},
   "outputs": [
    {
     "name": "stdout",
     "output_type": "stream",
     "text": [
      "Brothers are: Tayyab\n",
      "Brothers are: Adil\n",
      "Brothers are: Tahar\n",
      "Brothers are: Fahad\n"
     ]
    }
   ],
   "source": [
    "\n",
    "# (1)\n",
    "# array !\n",
    "brothers = [\"Tayyab\",\"Adil\",\"Tahar\",\"Fahad\"]\n",
    "for bros in brothers:\n",
    "    print(\"Brothers are:\", bros)\n",
    "\n",
    "    \n",
    "# (2)\n",
    "# array !\n",
    "# days = [\"Mon\", \"Tue\", \"Wed\", \"Thu\", \"Fri\", \"Sat\", \"Sun\"]\n",
    "# for d in days:\n",
    "#     print(\"Days are:\", d)\n",
    "\n",
    "\n",
    "# # (3)\n",
    "# # array !\n",
    "# days = [\"Mon\", \"Tue\", \"Wed\", \"Thu\", \"Fri\", \"Sat\", \"Sun\"]\n",
    "# for d in days:\n",
    "#     if(d==\"Fri\"): continue # Skip !\n",
    "#     if(d==\"Wed\"): break # Loop Stops !\n",
    "#     print(\"Days are:\", d)\n",
    "        \n",
    "    "
   ]
  },
  {
   "cell_type": "markdown",
   "id": "f4246a30",
   "metadata": {},
   "source": [
    "### libraries.py"
   ]
  },
  {
   "cell_type": "code",
   "execution_count": 7,
   "id": "233f283e",
   "metadata": {},
   "outputs": [
    {
     "name": "stdout",
     "output_type": "stream",
     "text": [
      "Mean: 175\n",
      "Median: 175.0\n"
     ]
    }
   ],
   "source": [
    "\n",
    "# Important Libraries.(numpy, pandas)\n",
    "\n",
    "# (1)\n",
    "# import math\n",
    "# print(\"The Value of 'pi' is:\", math.pi)\n",
    "# print(\"The Value of 'celsius' is:\", math.ceil)\n",
    "\n",
    "\n",
    "# (2)\n",
    "import statistics\n",
    "x=[150, 200, 250, 100]\n",
    "print(\"Mean:\", statistics.mean(x))\n",
    "print(\"Median:\", statistics.median(x))\n"
   ]
  },
  {
   "cell_type": "markdown",
   "id": "1e09c173",
   "metadata": {},
   "source": [
    "### trouble_shoot_errors.py"
   ]
  },
  {
   "cell_type": "code",
   "execution_count": 8,
   "id": "5420e315",
   "metadata": {},
   "outputs": [],
   "source": [
    "# Syntax Error !\n",
    "# Run-time Error !\n",
    "# Logical Error !"
   ]
  }
 ],
 "metadata": {
  "kernelspec": {
   "display_name": "Python 3 (ipykernel)",
   "language": "python",
   "name": "python3"
  },
  "language_info": {
   "codemirror_mode": {
    "name": "ipython",
    "version": 3
   },
   "file_extension": ".py",
   "mimetype": "text/x-python",
   "name": "python",
   "nbconvert_exporter": "python",
   "pygments_lexer": "ipython3",
   "version": "3.8.2"
  }
 },
 "nbformat": 4,
 "nbformat_minor": 5
}
