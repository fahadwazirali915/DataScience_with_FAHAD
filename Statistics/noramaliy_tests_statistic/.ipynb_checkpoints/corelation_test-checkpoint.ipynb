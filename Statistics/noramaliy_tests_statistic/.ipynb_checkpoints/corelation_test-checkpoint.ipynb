{
 "cells": [
  {
   "cell_type": "markdown",
   "metadata": {},
   "source": [
    "## <span style=\"color:purple\">***Check Data Normalization*** !</span> "
   ]
  },
  {
   "cell_type": "markdown",
   "metadata": {},
   "source": [
    "> #### ***Co-relation test***\n",
    "\n",
    "> - <span style=\"color:cyan\">Tests whether two continuous variables are related or not !</span>\n",
    ">   - Data be <span style=\"color:cyan\">Continuous.(only)</span>\n",
    "\n",
    "> - Purpose: <span style=\"color:green\">Relationship</span>\n",
    "\n",
    "> - Pearson's Corelation coefficient\n",
    ">    - HO : The two samples are independent !\n",
    ">    - H1 : There is a dependency between the samples ! *(food overeating, weight gain)*\n",
    "\n",
    "> - <span style=\"color:orange\">Non-Parametric Analysis</span>. (non-normal distribution / not bell curve)"
   ]
  },
  {
   "cell_type": "code",
   "execution_count": 86,
   "metadata": {},
   "outputs": [],
   "source": [
    "# import Libraries\n",
    "import pandas as pd\n",
    "import numpy as np\n",
    "import matplotlib.pyplot as plt\n",
    "import seaborn as sns"
   ]
  },
  {
   "cell_type": "code",
   "execution_count": 87,
   "metadata": {},
   "outputs": [],
   "source": [
    "# check data-normalized !\n",
    "from scipy.stats import pearsonr"
   ]
  },
  {
   "cell_type": "code",
   "execution_count": 88,
   "metadata": {},
   "outputs": [
    {
     "name": "stdout",
     "output_type": "stream",
     "text": [
      "stats=  0.8195375470622295\n",
      "p_value=  0.02404857833401586\n",
      "stats= 0.820, p_value= 0.024\n",
      "\n",
      "Probably Dependent ! (Corelation-exists)\n"
     ]
    }
   ],
   "source": [
    "data1 = [-3, -2, -1, 0, 1, 2, 3]\n",
    "data2 = [-7, 6, 3, 4, 5, 8, 11]\n",
    "\n",
    "# data = np.array([-3, -2, -1, 0, 1, 2, 3])\n",
    "# spearmanr(data1, data2)\n",
    "stats, p_value = pearsonr(data1, data2)\n",
    "print(\"stats= \", stats)\n",
    "print(\"p_value= \", p_value)\n",
    "print(\"stats= %.3f, p_value= %.3f\" % (stats, p_value))\n",
    "\n",
    "print()\n",
    "\n",
    "# Check Data is Normalized or not\n",
    "if p_value > 0.05:\n",
    "    print(\"Probably Independent ! (No Corelation)\")\n",
    "else:\n",
    "    print(\"Probably Dependent ! (Corelation-exists)\")\n"
   ]
  },
  {
   "cell_type": "code",
   "execution_count": 89,
   "metadata": {},
   "outputs": [
    {
     "data": {
      "text/html": [
       "<div>\n",
       "<style scoped>\n",
       "    .dataframe tbody tr th:only-of-type {\n",
       "        vertical-align: middle;\n",
       "    }\n",
       "\n",
       "    .dataframe tbody tr th {\n",
       "        vertical-align: top;\n",
       "    }\n",
       "\n",
       "    .dataframe thead th {\n",
       "        text-align: right;\n",
       "    }\n",
       "</style>\n",
       "<table border=\"1\" class=\"dataframe\">\n",
       "  <thead>\n",
       "    <tr style=\"text-align: right;\">\n",
       "      <th></th>\n",
       "      <th>survived</th>\n",
       "      <th>pclass</th>\n",
       "      <th>sex</th>\n",
       "      <th>age</th>\n",
       "      <th>sibsp</th>\n",
       "      <th>parch</th>\n",
       "      <th>fare</th>\n",
       "      <th>embarked</th>\n",
       "      <th>class</th>\n",
       "      <th>who</th>\n",
       "      <th>adult_male</th>\n",
       "      <th>deck</th>\n",
       "      <th>embark_town</th>\n",
       "      <th>alive</th>\n",
       "      <th>alone</th>\n",
       "    </tr>\n",
       "  </thead>\n",
       "  <tbody>\n",
       "    <tr>\n",
       "      <th>0</th>\n",
       "      <td>0</td>\n",
       "      <td>3</td>\n",
       "      <td>male</td>\n",
       "      <td>22.0</td>\n",
       "      <td>1</td>\n",
       "      <td>0</td>\n",
       "      <td>7.25</td>\n",
       "      <td>S</td>\n",
       "      <td>Third</td>\n",
       "      <td>man</td>\n",
       "      <td>True</td>\n",
       "      <td>NaN</td>\n",
       "      <td>Southampton</td>\n",
       "      <td>no</td>\n",
       "      <td>False</td>\n",
       "    </tr>\n",
       "  </tbody>\n",
       "</table>\n",
       "</div>"
      ],
      "text/plain": [
       "   survived  pclass   sex   age  sibsp  parch  fare embarked  class  who  \\\n",
       "0         0       3  male  22.0      1      0  7.25        S  Third  man   \n",
       "\n",
       "   adult_male deck  embark_town alive  alone  \n",
       "0        True  NaN  Southampton    no  False  "
      ]
     },
     "execution_count": 89,
     "metadata": {},
     "output_type": "execute_result"
    }
   ],
   "source": [
    "# import titanic dataset !\n",
    "boat = sns.load_dataset('titanic')\n",
    "boat.head(1) "
   ]
  },
  {
   "cell_type": "markdown",
   "metadata": {},
   "source": [
    "***"
   ]
  },
  {
   "cell_type": "markdown",
   "metadata": {},
   "source": [
    "### dealing with **age.*[Column]*** & **fare.*[Column]*** of baot[dataset]"
   ]
  },
  {
   "cell_type": "code",
   "execution_count": 90,
   "metadata": {},
   "outputs": [
    {
     "data": {
      "image/png": "[encoded data removed]",
      "text/plain": [
       "<Figure size 432x288 with 1 Axes>"
      ]
     },
     "metadata": {},
     "output_type": "display_data"
    },
    {
     "name": "stdout",
     "output_type": "stream",
     "text": [
      "\n"
     ]
    },
    {
     "name": "stderr",
     "output_type": "stream",
     "text": [
      "C:\\Users\\fahad\\AppData\\Local\\Packages\\PythonSoftwareFoundation.Python.3.9_qbz5n2kfra8p0\\LocalCache\\local-packages\\Python39\\site-packages\\seaborn\\distributions.py:2619: FutureWarning: `distplot` is a deprecated function and will be removed in a future version. Please adapt your code to use either `displot` (a figure-level function with similar flexibility) or `histplot` (an axes-level function for histograms).\n",
      "  warnings.warn(msg, FutureWarning)\n"
     ]
    },
    {
     "data": {
      "image/png": "[encoded data removed]",
      "text/plain": [
       "<Figure size 432x288 with 1 Axes>"
      ]
     },
     "metadata": {},
     "output_type": "display_data"
    }
   ],
   "source": [
    "# histogram\n",
    "boat['age'].hist()\n",
    "plt.show()\n",
    "\n",
    "print()\n",
    "\n",
    "# displot (check: bell curve)\n",
    "sns.set_theme(style=\"whitegrid\", color_codes=True)\n",
    "sns.distplot(boat['age'])\n",
    "plt.show()            "
   ]
  },
  {
   "cell_type": "code",
   "execution_count": 91,
   "metadata": {},
   "outputs": [
    {
     "data": {
      "image/png": "[encoded data removed]",
      "text/plain": [
       "<Figure size 432x288 with 1 Axes>"
      ]
     },
     "metadata": {},
     "output_type": "display_data"
    },
    {
     "name": "stdout",
     "output_type": "stream",
     "text": [
      "\n"
     ]
    },
    {
     "name": "stderr",
     "output_type": "stream",
     "text": [
      "C:\\Users\\fahad\\AppData\\Local\\Packages\\PythonSoftwareFoundation.Python.3.9_qbz5n2kfra8p0\\LocalCache\\local-packages\\Python39\\site-packages\\seaborn\\distributions.py:2619: FutureWarning: `distplot` is a deprecated function and will be removed in a future version. Please adapt your code to use either `displot` (a figure-level function with similar flexibility) or `histplot` (an axes-level function for histograms).\n",
      "  warnings.warn(msg, FutureWarning)\n"
     ]
    },
    {
     "data": {
      "image/png": "[encoded data removed]",
      "text/plain": [
       "<Figure size 432x288 with 1 Axes>"
      ]
     },
     "metadata": {},
     "output_type": "display_data"
    }
   ],
   "source": [
    "# histogram\n",
    "boat['fare'].hist()\n",
    "plt.show()\n",
    "\n",
    "print()\n",
    "\n",
    "# displot (check: bell curve)\n",
    "sns.set_theme(style=\"whitegrid\", color_codes=True)\n",
    "sns.distplot(boat['fare'])\n",
    "plt.show()            "
   ]
  },
  {
   "cell_type": "code",
   "execution_count": 93,
   "metadata": {},
   "outputs": [
    {
     "ename": "TypeError",
     "evalue": "pearsonr() missing 1 required positional argument: 'y'",
     "output_type": "error",
     "traceback": [
      "\u001b[1;31m---------------------------------------------------------------------------\u001b[0m",
      "\u001b[1;31mTypeError\u001b[0m                                 Traceback (most recent call last)",
      "\u001b[1;32mc:\\Users\\fahad\\JupyterProjects\\chilla_with_Python\\Statistics\\noramaliy_tests_statistic\\corelation_test.ipynb Cell 11'\u001b[0m in \u001b[0;36m<module>\u001b[1;34m\u001b[0m\n\u001b[0;32m      <a href='vscode-notebook-cell:/c%3A/Users/fahad/JupyterProjects/chilla_with_Python/Statistics/noramaliy_tests_statistic/corelation_test.ipynb#ch0000009?line=0'>1</a>\u001b[0m \u001b[39m# Normality test !\u001b[39;00m\n\u001b[1;32m----> <a href='vscode-notebook-cell:/c%3A/Users/fahad/JupyterProjects/chilla_with_Python/Statistics/noramaliy_tests_statistic/corelation_test.ipynb#ch0000009?line=1'>2</a>\u001b[0m stats, p_value \u001b[39m=\u001b[39m pearsonr(boat[[\u001b[39m'\u001b[39;49m\u001b[39mage\u001b[39;49m\u001b[39m'\u001b[39;49m, \u001b[39m'\u001b[39;49m\u001b[39mfare\u001b[39;49m\u001b[39m'\u001b[39;49m]])\n\u001b[0;32m      <a href='vscode-notebook-cell:/c%3A/Users/fahad/JupyterProjects/chilla_with_Python/Statistics/noramaliy_tests_statistic/corelation_test.ipynb#ch0000009?line=2'>3</a>\u001b[0m \u001b[39mprint\u001b[39m(\u001b[39m\"\u001b[39m\u001b[39mstats= \u001b[39m\u001b[39m\"\u001b[39m, stats)\n\u001b[0;32m      <a href='vscode-notebook-cell:/c%3A/Users/fahad/JupyterProjects/chilla_with_Python/Statistics/noramaliy_tests_statistic/corelation_test.ipynb#ch0000009?line=3'>4</a>\u001b[0m \u001b[39mprint\u001b[39m(\u001b[39m\"\u001b[39m\u001b[39mp_value= \u001b[39m\u001b[39m\"\u001b[39m, p_value)\n",
      "\u001b[1;31mTypeError\u001b[0m: pearsonr() missing 1 required positional argument: 'y'"
     ]
    }
   ],
   "source": [
    "# Normality test !\n",
    "stats, p_value = pearsonr(boat[['age', 'fare']])\n",
    "print(\"stats= \", stats)\n",
    "print(\"p_value= \", p_value)\n",
    "print(\"stats= %.3f, p_value= %.3f\" % (stats, p_value))\n",
    "\n",
    "print()\n",
    "\n",
    "# Check Data is Normalized or not\n",
    "if p_value > 0.05:\n",
    "    print(\"Probably Independent ! (No Corelation)\")\n",
    "else:\n",
    "    print(\"Probably Dependent ! (Corelation-exists)\")\n"
   ]
  },
  {
   "cell_type": "code",
   "execution_count": 94,
   "metadata": {},
   "outputs": [
    {
     "name": "stderr",
     "output_type": "stream",
     "text": [
      "C:\\Users\\fahad\\AppData\\Local\\Packages\\PythonSoftwareFoundation.Python.3.9_qbz5n2kfra8p0\\LocalCache\\local-packages\\Python39\\site-packages\\seaborn\\_decorators.py:36: FutureWarning: Pass the following variable as a keyword arg: x. From version 0.12, the only valid positional argument will be `data`, and passing other arguments without an explicit keyword will result in an error or misinterpretation.\n",
      "  warnings.warn(\n"
     ]
    },
    {
     "data": {
      "text/plain": [
       "<AxesSubplot:xlabel='age'>"
      ]
     },
     "execution_count": 94,
     "metadata": {},
     "output_type": "execute_result"
    },
    {
     "data": {
      "image/png": "[encoded data removed]",
      "text/plain": [
       "<Figure size 432x288 with 1 Axes>"
      ]
     },
     "metadata": {},
     "output_type": "display_data"
    }
   ],
   "source": [
    "# boxplot \n",
    "sns.boxplot(boat['age'], palette='Set1')"
   ]
  },
  {
   "cell_type": "code",
   "execution_count": 95,
   "metadata": {},
   "outputs": [
    {
     "name": "stderr",
     "output_type": "stream",
     "text": [
      "C:\\Users\\fahad\\AppData\\Local\\Packages\\PythonSoftwareFoundation.Python.3.9_qbz5n2kfra8p0\\LocalCache\\local-packages\\Python39\\site-packages\\seaborn\\_decorators.py:36: FutureWarning: Pass the following variable as a keyword arg: x. From version 0.12, the only valid positional argument will be `data`, and passing other arguments without an explicit keyword will result in an error or misinterpretation.\n",
      "  warnings.warn(\n"
     ]
    },
    {
     "data": {
      "text/plain": [
       "<AxesSubplot:xlabel='fare'>"
      ]
     },
     "execution_count": 95,
     "metadata": {},
     "output_type": "execute_result"
    },
    {
     "data": {
      "image/png": "[encoded data removed]",
      "text/plain": [
       "<Figure size 432x288 with 1 Axes>"
      ]
     },
     "metadata": {},
     "output_type": "display_data"
    }
   ],
   "source": [
    "# boxplot \n",
    "sns.boxplot(boat['fare'], palette='Set1')"
   ]
  },
  {
   "cell_type": "code",
   "execution_count": 96,
   "metadata": {},
   "outputs": [
    {
     "name": "stdout",
     "output_type": "stream",
     "text": [
      "age:  177\n",
      "fare:  0\n"
     ]
    }
   ],
   "source": [
    "print(\"age: \", boat['age'].isnull().sum())\n",
    "\n",
    "print(\"fare: \", boat['fare'].isnull().sum())"
   ]
  },
  {
   "cell_type": "code",
   "execution_count": 97,
   "metadata": {},
   "outputs": [],
   "source": [
    "boat = boat.dropna()"
   ]
  },
  {
   "cell_type": "code",
   "execution_count": 98,
   "metadata": {},
   "outputs": [
    {
     "name": "stdout",
     "output_type": "stream",
     "text": [
      "age:  0\n",
      "fare:  0\n"
     ]
    }
   ],
   "source": [
    "print(\"age: \", boat['age'].isnull().sum())\n",
    "\n",
    "print(\"fare: \", boat['fare'].isnull().sum())"
   ]
  },
  {
   "cell_type": "code",
   "execution_count": 99,
   "metadata": {},
   "outputs": [
    {
     "name": "stderr",
     "output_type": "stream",
     "text": [
      "C:\\Users\\fahad\\AppData\\Local\\Packages\\PythonSoftwareFoundation.Python.3.9_qbz5n2kfra8p0\\LocalCache\\local-packages\\Python39\\site-packages\\seaborn\\_decorators.py:36: FutureWarning: Pass the following variable as a keyword arg: x. From version 0.12, the only valid positional argument will be `data`, and passing other arguments without an explicit keyword will result in an error or misinterpretation.\n",
      "  warnings.warn(\n"
     ]
    },
    {
     "data": {
      "text/plain": [
       "<AxesSubplot:xlabel='age'>"
      ]
     },
     "execution_count": 99,
     "metadata": {},
     "output_type": "execute_result"
    },
    {
     "data": {
      "image/png": "[encoded data removed]",
      "text/plain": [
       "<Figure size 432x288 with 1 Axes>"
      ]
     },
     "metadata": {},
     "output_type": "display_data"
    }
   ],
   "source": [
    "# boxplot \n",
    "sns.boxplot(boat['age'])"
   ]
  },
  {
   "cell_type": "code",
   "execution_count": 100,
   "metadata": {},
   "outputs": [],
   "source": [
    "boat = boat[boat['fare']<170]"
   ]
  },
  {
   "cell_type": "code",
   "execution_count": 101,
   "metadata": {},
   "outputs": [
    {
     "name": "stderr",
     "output_type": "stream",
     "text": [
      "C:\\Users\\fahad\\AppData\\Local\\Packages\\PythonSoftwareFoundation.Python.3.9_qbz5n2kfra8p0\\LocalCache\\local-packages\\Python39\\site-packages\\seaborn\\_decorators.py:36: FutureWarning: Pass the following variable as a keyword arg: x. From version 0.12, the only valid positional argument will be `data`, and passing other arguments without an explicit keyword will result in an error or misinterpretation.\n",
      "  warnings.warn(\n"
     ]
    },
    {
     "data": {
      "text/plain": [
       "<AxesSubplot:xlabel='fare'>"
      ]
     },
     "execution_count": 101,
     "metadata": {},
     "output_type": "execute_result"
    },
    {
     "data": {
      "image/png": "[encoded data removed]",
      "text/plain": [
       "<Figure size 432x288 with 1 Axes>"
      ]
     },
     "metadata": {},
     "output_type": "display_data"
    }
   ],
   "source": [
    "# boxplot \n",
    "sns.boxplot(boat['fare'])"
   ]
  },
  {
   "cell_type": "code",
   "execution_count": 102,
   "metadata": {},
   "outputs": [
    {
     "ename": "TypeError",
     "evalue": "pearsonr() missing 1 required positional argument: 'y'",
     "output_type": "error",
     "traceback": [
      "\u001b[1;31m---------------------------------------------------------------------------\u001b[0m",
      "\u001b[1;31mTypeError\u001b[0m                                 Traceback (most recent call last)",
      "\u001b[1;32mc:\\Users\\fahad\\JupyterProjects\\chilla_with_Python\\Statistics\\noramaliy_tests_statistic\\corelation_test.ipynb Cell 20'\u001b[0m in \u001b[0;36m<module>\u001b[1;34m\u001b[0m\n\u001b[1;32m----> <a href='vscode-notebook-cell:/c%3A/Users/fahad/JupyterProjects/chilla_with_Python/Statistics/noramaliy_tests_statistic/corelation_test.ipynb#ch0000016?line=0'>1</a>\u001b[0m stats, p_value \u001b[39m=\u001b[39m pearsonr(boat[[\u001b[39m'\u001b[39;49m\u001b[39mage\u001b[39;49m\u001b[39m'\u001b[39;49m, \u001b[39m'\u001b[39;49m\u001b[39mfare\u001b[39;49m\u001b[39m'\u001b[39;49m]])\n\u001b[0;32m      <a href='vscode-notebook-cell:/c%3A/Users/fahad/JupyterProjects/chilla_with_Python/Statistics/noramaliy_tests_statistic/corelation_test.ipynb#ch0000016?line=1'>2</a>\u001b[0m \u001b[39mprint\u001b[39m(\u001b[39m\"\u001b[39m\u001b[39mstats= \u001b[39m\u001b[39m\"\u001b[39m, stats)\n\u001b[0;32m      <a href='vscode-notebook-cell:/c%3A/Users/fahad/JupyterProjects/chilla_with_Python/Statistics/noramaliy_tests_statistic/corelation_test.ipynb#ch0000016?line=2'>3</a>\u001b[0m \u001b[39mprint\u001b[39m(\u001b[39m\"\u001b[39m\u001b[39mp_value= \u001b[39m\u001b[39m\"\u001b[39m, p_value)\n",
      "\u001b[1;31mTypeError\u001b[0m: pearsonr() missing 1 required positional argument: 'y'"
     ]
    }
   ],
   "source": [
    "stats, p_value = pearsonr(boat[['age', 'fare']])\n",
    "print(\"stats= \", stats)\n",
    "print(\"p_value= \", p_value)\n",
    "print(\"stats= %.3f, p_value= %.3f\" % (stats, p_value))\n",
    "\n",
    "print()\n",
    "\n",
    "# Check Data is Normalized or not\n",
    "if p_value > 0.05:\n",
    "    print(\"Probably Independent ! (No Corelation)\")\n",
    "else:\n",
    "    print(\"Probably Dependent ! (Corelation-exists)\")\n"
   ]
  },
  {
   "cell_type": "markdown",
   "metadata": {},
   "source": [
    "***"
   ]
  },
  {
   "cell_type": "markdown",
   "metadata": {},
   "source": [
    "***"
   ]
  },
  {
   "cell_type": "markdown",
   "metadata": {},
   "source": [
    "> #### ***Co-relation test***\n",
    "\n",
    "> - <span style=\"color:cyan\">Tests whether two continuous variables are related or not !</span>\n",
    ">   - Data be <span style=\"color:cyan\">Continuous.(only)</span>\n",
    "\n",
    "> - Purpose: <span style=\"color:green\">Relationship</span>\n",
    "\n",
    "> - Spearson's Corelation coefficient\n",
    ">    - HO : The two samples are independent !\n",
    ">    - H1 : There is a dependency between the samples ! *(food overeating, weight gain)*\n",
    "\n",
    "> - <span style=\"color:yellow\">Parametric Analysis</span>. (normal distribution / bell curve)"
   ]
  },
  {
   "cell_type": "code",
   "execution_count": 103,
   "metadata": {},
   "outputs": [],
   "source": [
    "# check data-normalized !\n",
    "# For Rank data\n",
    "from scipy.stats import spearmanr"
   ]
  },
  {
   "cell_type": "markdown",
   "metadata": {},
   "source": [
    "#### Example !"
   ]
  },
  {
   "cell_type": "code",
   "execution_count": 104,
   "metadata": {},
   "outputs": [
    {
     "name": "stdout",
     "output_type": "stream",
     "text": [
      "stats=  0.7857142857142859\n",
      "p_value=  0.03623846267982713\n",
      "stats= 0.786, p_value= 0.036\n",
      "\n",
      "Probably Dependent ! (Corelation-exists)\n"
     ]
    }
   ],
   "source": [
    "data1 = [-3, -2, -1, 0, 1, 2, 3]\n",
    "data2 = [-7, 6, 3, 4, 5, 8, 11]\n",
    "\n",
    "# data = np.array([-3, -2, -1, 0, 1, 2, 3])\n",
    "# spearmanr(data1, data2)\n",
    "stats, p_value = spearmanr(data1, data2)\n",
    "print(\"stats= \", stats)\n",
    "print(\"p_value= \", p_value)\n",
    "print(\"stats= %.3f, p_value= %.3f\" % (stats, p_value))\n",
    "\n",
    "print()\n",
    "\n",
    "# Check Data is Normalized or not\n",
    "if p_value > 0.05:\n",
    "    print(\"Probably Independent ! (No Corelation)\")\n",
    "else:\n",
    "    print(\"Probably Dependent ! (Corelation-exists)\")\n"
   ]
  },
  {
   "cell_type": "markdown",
   "metadata": {},
   "source": [
    "#### Boat dataset !"
   ]
  },
  {
   "cell_type": "code",
   "execution_count": 105,
   "metadata": {},
   "outputs": [
    {
     "name": "stdout",
     "output_type": "stream",
     "text": [
      "stats=  -0.006158217421961507\n",
      "p_value=  0.937236022267357\n",
      "stats= -0.006, p_value= 0.937\n",
      "\n",
      "Probably Independent ! (No Corelation)\n"
     ]
    }
   ],
   "source": [
    "# Normality test !\n",
    "stats, p_value = spearmanr(boat[['age', 'fare']])\n",
    "print(\"stats= \", stats)\n",
    "print(\"p_value= \", p_value)\n",
    "print(\"stats= %.3f, p_value= %.3f\" % (stats, p_value))\n",
    "\n",
    "print()\n",
    "\n",
    "# Check Data is Normalized or not\n",
    "if p_value > 0.05:\n",
    "    print(\"Probably Independent ! (No Corelation)\")\n",
    "else:\n",
    "    print(\"Probably Dependent ! (Corelation-exists)\")\n"
   ]
  },
  {
   "cell_type": "markdown",
   "metadata": {},
   "source": [
    "***"
   ]
  },
  {
   "cell_type": "markdown",
   "metadata": {},
   "source": [
    "***"
   ]
  },
  {
   "cell_type": "markdown",
   "metadata": {},
   "source": [
    "***"
   ]
  }
 ],
 "metadata": {
  "interpreter": {
   "hash": "493df3c9cb0b6039bdd55a65bbe4e72f5455454af67b96ceaa441cb0a32c7b2a"
  },
  "kernelspec": {
   "display_name": "Python 3 (ipykernel)",
   "language": "python",
   "name": "python3"
  },
  "language_info": {
   "codemirror_mode": {
    "name": "ipython",
    "version": 3
   },
   "file_extension": ".py",
   "mimetype": "text/x-python",
   "name": "python",
   "nbconvert_exporter": "python",
   "pygments_lexer": "ipython3",
   "version": "3.9.7"
  }
 },
 "nbformat": 4,
 "nbformat_minor": 2
}
