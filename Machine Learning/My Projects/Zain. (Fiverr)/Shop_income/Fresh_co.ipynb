{
 "cells": [
  {
   "cell_type": "code",
   "execution_count": 30,
   "id": "5d34a3da",
   "metadata": {},
   "outputs": [],
   "source": [
    "# import libraries !\n",
    "\n",
    "import pandas as pd\n",
    "import numpy as np\n",
    "import seaborn as sns\n",
    "import matplotlib.pyplot as plt\n"
   ]
  },
  {
   "cell_type": "code",
   "execution_count": 31,
   "id": "2fada5e6",
   "metadata": {},
   "outputs": [
    {
     "data": {
      "text/html": [
       "<div>\n",
       "<style scoped>\n",
       "    .dataframe tbody tr th:only-of-type {\n",
       "        vertical-align: middle;\n",
       "    }\n",
       "\n",
       "    .dataframe tbody tr th {\n",
       "        vertical-align: top;\n",
       "    }\n",
       "\n",
       "    .dataframe thead th {\n",
       "        text-align: right;\n",
       "    }\n",
       "</style>\n",
       "<table border=\"1\" class=\"dataframe\">\n",
       "  <thead>\n",
       "    <tr style=\"text-align: right;\">\n",
       "      <th></th>\n",
       "      <th>homeshop</th>\n",
       "      <th>storeshop</th>\n",
       "      <th>employ</th>\n",
       "      <th>income</th>\n",
       "      <th>location</th>\n",
       "      <th>size</th>\n",
       "      <th>age</th>\n",
       "    </tr>\n",
       "  </thead>\n",
       "  <tbody>\n",
       "    <tr>\n",
       "      <th>0</th>\n",
       "      <td>20</td>\n",
       "      <td>310</td>\n",
       "      <td>9</td>\n",
       "      <td>NaN</td>\n",
       "      <td>2</td>\n",
       "      <td>1</td>\n",
       "      <td>72</td>\n",
       "    </tr>\n",
       "    <tr>\n",
       "      <th>1</th>\n",
       "      <td>92</td>\n",
       "      <td>230</td>\n",
       "      <td>9</td>\n",
       "      <td>30550.0</td>\n",
       "      <td>2</td>\n",
       "      <td>2</td>\n",
       "      <td>60</td>\n",
       "    </tr>\n",
       "    <tr>\n",
       "      <th>2</th>\n",
       "      <td>69</td>\n",
       "      <td>240</td>\n",
       "      <td>10</td>\n",
       "      <td>64971.0</td>\n",
       "      <td>2</td>\n",
       "      <td>4</td>\n",
       "      <td>19</td>\n",
       "    </tr>\n",
       "    <tr>\n",
       "      <th>3</th>\n",
       "      <td>88</td>\n",
       "      <td>192</td>\n",
       "      <td>9</td>\n",
       "      <td>37298.0</td>\n",
       "      <td>4</td>\n",
       "      <td>2</td>\n",
       "      <td>63</td>\n",
       "    </tr>\n",
       "    <tr>\n",
       "      <th>4</th>\n",
       "      <td>49</td>\n",
       "      <td>42</td>\n",
       "      <td>1</td>\n",
       "      <td>41135.0</td>\n",
       "      <td>4</td>\n",
       "      <td>6</td>\n",
       "      <td>47</td>\n",
       "    </tr>\n",
       "  </tbody>\n",
       "</table>\n",
       "</div>"
      ],
      "text/plain": [
       "   homeshop  storeshop  employ   income  location  size  age\n",
       "0        20        310       9      NaN         2     1   72\n",
       "1        92        230       9  30550.0         2     2   60\n",
       "2        69        240      10  64971.0         2     4   19\n",
       "3        88        192       9  37298.0         4     2   63\n",
       "4        49         42       1  41135.0         4     6   47"
      ]
     },
     "execution_count": 31,
     "metadata": {},
     "output_type": "execute_result"
    }
   ],
   "source": [
    "# import dataset !\n",
    "\n",
    "df = pd.read_csv('dataset_FreshCo.csv')\n",
    "df.head()"
   ]
  },
  {
   "cell_type": "code",
   "execution_count": 32,
   "id": "1ae8e538",
   "metadata": {},
   "outputs": [
    {
     "data": {
      "text/plain": [
       "(2093, 7)"
      ]
     },
     "execution_count": 32,
     "metadata": {},
     "output_type": "execute_result"
    }
   ],
   "source": [
    "df.shape"
   ]
  },
  {
   "cell_type": "code",
   "execution_count": 33,
   "id": "2f7a796c",
   "metadata": {},
   "outputs": [
    {
     "data": {
      "text/plain": [
       "homeshop       0\n",
       "storeshop      0\n",
       "employ         0\n",
       "income       681\n",
       "location       0\n",
       "size           0\n",
       "age            0\n",
       "dtype: int64"
      ]
     },
     "execution_count": 33,
     "metadata": {},
     "output_type": "execute_result"
    }
   ],
   "source": [
    "df.isnull().sum()"
   ]
  },
  {
   "cell_type": "code",
   "execution_count": 34,
   "id": "b5846497",
   "metadata": {},
   "outputs": [
    {
     "name": "stdout",
     "output_type": "stream",
     "text": [
      "income : 32.54 %\n"
     ]
    }
   ],
   "source": [
    "# check empty (column %) !\n",
    "\n",
    "for feature in df:\n",
    "    if df[feature].isnull().sum()>1:\n",
    "        print(feature,\":\", np.round(df[feature].isnull().mean(),4)*100,'%')\n"
   ]
  },
  {
   "cell_type": "code",
   "execution_count": 35,
   "id": "7381e2c7",
   "metadata": {},
   "outputs": [],
   "source": [
    "df['income'] = df['income'].replace(np.nan, df.income.mean())"
   ]
  },
  {
   "cell_type": "code",
   "execution_count": 36,
   "id": "962cb08d",
   "metadata": {},
   "outputs": [
    {
     "data": {
      "text/plain": [
       "0"
      ]
     },
     "execution_count": 36,
     "metadata": {},
     "output_type": "execute_result"
    }
   ],
   "source": [
    "df.income.isnull().sum()"
   ]
  },
  {
   "cell_type": "code",
   "execution_count": 37,
   "id": "cfdeda75",
   "metadata": {},
   "outputs": [
    {
     "data": {
      "text/html": [
       "<div>\n",
       "<style scoped>\n",
       "    .dataframe tbody tr th:only-of-type {\n",
       "        vertical-align: middle;\n",
       "    }\n",
       "\n",
       "    .dataframe tbody tr th {\n",
       "        vertical-align: top;\n",
       "    }\n",
       "\n",
       "    .dataframe thead th {\n",
       "        text-align: right;\n",
       "    }\n",
       "</style>\n",
       "<table border=\"1\" class=\"dataframe\">\n",
       "  <thead>\n",
       "    <tr style=\"text-align: right;\">\n",
       "      <th></th>\n",
       "      <th>homeshop</th>\n",
       "      <th>storeshop</th>\n",
       "      <th>employ</th>\n",
       "      <th>income</th>\n",
       "      <th>location</th>\n",
       "      <th>size</th>\n",
       "      <th>age</th>\n",
       "    </tr>\n",
       "  </thead>\n",
       "  <tbody>\n",
       "    <tr>\n",
       "      <th>0</th>\n",
       "      <td>20</td>\n",
       "      <td>310</td>\n",
       "      <td>9</td>\n",
       "      <td>28871.518414</td>\n",
       "      <td>2</td>\n",
       "      <td>1</td>\n",
       "      <td>72</td>\n",
       "    </tr>\n",
       "    <tr>\n",
       "      <th>1</th>\n",
       "      <td>92</td>\n",
       "      <td>230</td>\n",
       "      <td>9</td>\n",
       "      <td>30550.000000</td>\n",
       "      <td>2</td>\n",
       "      <td>2</td>\n",
       "      <td>60</td>\n",
       "    </tr>\n",
       "    <tr>\n",
       "      <th>2</th>\n",
       "      <td>69</td>\n",
       "      <td>240</td>\n",
       "      <td>10</td>\n",
       "      <td>64971.000000</td>\n",
       "      <td>2</td>\n",
       "      <td>4</td>\n",
       "      <td>19</td>\n",
       "    </tr>\n",
       "    <tr>\n",
       "      <th>3</th>\n",
       "      <td>88</td>\n",
       "      <td>192</td>\n",
       "      <td>9</td>\n",
       "      <td>37298.000000</td>\n",
       "      <td>4</td>\n",
       "      <td>2</td>\n",
       "      <td>63</td>\n",
       "    </tr>\n",
       "    <tr>\n",
       "      <th>4</th>\n",
       "      <td>49</td>\n",
       "      <td>42</td>\n",
       "      <td>1</td>\n",
       "      <td>41135.000000</td>\n",
       "      <td>4</td>\n",
       "      <td>6</td>\n",
       "      <td>47</td>\n",
       "    </tr>\n",
       "  </tbody>\n",
       "</table>\n",
       "</div>"
      ],
      "text/plain": [
       "   homeshop  storeshop  employ        income  location  size  age\n",
       "0        20        310       9  28871.518414         2     1   72\n",
       "1        92        230       9  30550.000000         2     2   60\n",
       "2        69        240      10  64971.000000         2     4   19\n",
       "3        88        192       9  37298.000000         4     2   63\n",
       "4        49         42       1  41135.000000         4     6   47"
      ]
     },
     "execution_count": 37,
     "metadata": {},
     "output_type": "execute_result"
    }
   ],
   "source": [
    "df.head()"
   ]
  },
  {
   "cell_type": "code",
   "execution_count": 38,
   "id": "25062d20",
   "metadata": {},
   "outputs": [
    {
     "data": {
      "text/html": [
       "<div>\n",
       "<style scoped>\n",
       "    .dataframe tbody tr th:only-of-type {\n",
       "        vertical-align: middle;\n",
       "    }\n",
       "\n",
       "    .dataframe tbody tr th {\n",
       "        vertical-align: top;\n",
       "    }\n",
       "\n",
       "    .dataframe thead th {\n",
       "        text-align: right;\n",
       "    }\n",
       "</style>\n",
       "<table border=\"1\" class=\"dataframe\">\n",
       "  <thead>\n",
       "    <tr style=\"text-align: right;\">\n",
       "      <th></th>\n",
       "      <th>homeshop</th>\n",
       "      <th>storeshop</th>\n",
       "      <th>employ</th>\n",
       "      <th>income</th>\n",
       "      <th>location</th>\n",
       "      <th>size</th>\n",
       "      <th>age</th>\n",
       "    </tr>\n",
       "  </thead>\n",
       "  <tbody>\n",
       "    <tr>\n",
       "      <th>0</th>\n",
       "      <td>0.075000</td>\n",
       "      <td>0.498361</td>\n",
       "      <td>0.666667</td>\n",
       "      <td>0.321213</td>\n",
       "      <td>0.333333</td>\n",
       "      <td>0.000</td>\n",
       "      <td>0.811594</td>\n",
       "    </tr>\n",
       "    <tr>\n",
       "      <th>1</th>\n",
       "      <td>0.375000</td>\n",
       "      <td>0.367213</td>\n",
       "      <td>0.666667</td>\n",
       "      <td>0.339892</td>\n",
       "      <td>0.333333</td>\n",
       "      <td>0.125</td>\n",
       "      <td>0.637681</td>\n",
       "    </tr>\n",
       "    <tr>\n",
       "      <th>2</th>\n",
       "      <td>0.279167</td>\n",
       "      <td>0.383607</td>\n",
       "      <td>0.750000</td>\n",
       "      <td>0.722952</td>\n",
       "      <td>0.333333</td>\n",
       "      <td>0.375</td>\n",
       "      <td>0.043478</td>\n",
       "    </tr>\n",
       "    <tr>\n",
       "      <th>3</th>\n",
       "      <td>0.358333</td>\n",
       "      <td>0.304918</td>\n",
       "      <td>0.666667</td>\n",
       "      <td>0.414988</td>\n",
       "      <td>1.000000</td>\n",
       "      <td>0.125</td>\n",
       "      <td>0.681159</td>\n",
       "    </tr>\n",
       "    <tr>\n",
       "      <th>4</th>\n",
       "      <td>0.195833</td>\n",
       "      <td>0.059016</td>\n",
       "      <td>0.000000</td>\n",
       "      <td>0.457689</td>\n",
       "      <td>1.000000</td>\n",
       "      <td>0.625</td>\n",
       "      <td>0.449275</td>\n",
       "    </tr>\n",
       "  </tbody>\n",
       "</table>\n",
       "</div>"
      ],
      "text/plain": [
       "   homeshop  storeshop    employ    income  location   size       age\n",
       "0  0.075000   0.498361  0.666667  0.321213  0.333333  0.000  0.811594\n",
       "1  0.375000   0.367213  0.666667  0.339892  0.333333  0.125  0.637681\n",
       "2  0.279167   0.383607  0.750000  0.722952  0.333333  0.375  0.043478\n",
       "3  0.358333   0.304918  0.666667  0.414988  1.000000  0.125  0.681159\n",
       "4  0.195833   0.059016  0.000000  0.457689  1.000000  0.625  0.449275"
      ]
     },
     "execution_count": 38,
     "metadata": {},
     "output_type": "execute_result"
    }
   ],
   "source": [
    "# scaling !\n",
    "\n",
    "from sklearn.preprocessing import MinMaxScaler\n",
    "scale = MinMaxScaler()\n",
    "\n",
    "# feature = [i for i in df]\n",
    "feature = df.columns\n",
    "df[feature] = scale.fit_transform(df[feature])\n",
    "df.head()\n"
   ]
  },
  {
   "cell_type": "code",
   "execution_count": 39,
   "id": "c85183ff",
   "metadata": {},
   "outputs": [
    {
     "data": {
      "text/plain": [
       "(2093, 7)"
      ]
     },
     "execution_count": 39,
     "metadata": {},
     "output_type": "execute_result"
    }
   ],
   "source": [
    "df.shape"
   ]
  },
  {
   "cell_type": "code",
   "execution_count": 40,
   "id": "4c1e0321",
   "metadata": {},
   "outputs": [
    {
     "data": {
      "image/png": "[encoded data removed]",
      "text/plain": [
       "<Figure size 1080x432 with 1 Axes>"
      ]
     },
     "metadata": {},
     "output_type": "display_data"
    }
   ],
   "source": [
    "plt.figure(figsize=(15,6))\n",
    "sns.set_theme(style=\"whitegrid\", color_codes=True)\n",
    "sns.boxplot(data=df,\n",
    "            palette=\"Set1\")\n",
    "plt.show()            "
   ]
  },
  {
   "cell_type": "markdown",
   "id": "3c06226e",
   "metadata": {},
   "source": [
    "***"
   ]
  },
  {
   "cell_type": "code",
   "execution_count": 41,
   "id": "279f14a9",
   "metadata": {},
   "outputs": [
    {
     "data": {
      "image/png": "[encoded data removed]",
      "text/plain": [
       "<Figure size 432x288 with 1 Axes>"
      ]
     },
     "metadata": {},
     "output_type": "display_data"
    }
   ],
   "source": [
    "# storeshop\n",
    "\n",
    "sns.set_theme(style=\"whitegrid\", color_codes=True)\n",
    "sns.boxplot(data=df,\n",
    "            x=\"storeshop\",\n",
    "            color=\"orange\")\n",
    "plt.show()            "
   ]
  },
  {
   "cell_type": "code",
   "execution_count": 42,
   "id": "ad6989e3",
   "metadata": {},
   "outputs": [],
   "source": [
    "df = df[df['storeshop']<0.92] \n"
   ]
  },
  {
   "cell_type": "code",
   "execution_count": 43,
   "id": "31e3e2da",
   "metadata": {
    "scrolled": false
   },
   "outputs": [
    {
     "data": {
      "image/png": "[encoded data removed]",
      "text/plain": [
       "<Figure size 432x288 with 1 Axes>"
      ]
     },
     "metadata": {},
     "output_type": "display_data"
    }
   ],
   "source": [
    "# storeshop\n",
    "\n",
    "sns.set_theme(style=\"whitegrid\", color_codes=True)\n",
    "sns.boxplot(data=df,\n",
    "            x=\"storeshop\",\n",
    "            color=\"orange\")\n",
    "plt.show()            "
   ]
  },
  {
   "cell_type": "code",
   "execution_count": 44,
   "id": "c57b448e",
   "metadata": {},
   "outputs": [
    {
     "data": {
      "image/png": "[encoded data removed]",
      "text/plain": [
       "<Figure size 432x288 with 1 Axes>"
      ]
     },
     "metadata": {},
     "output_type": "display_data"
    }
   ],
   "source": [
    "# income\n",
    "\n",
    "sns.set_theme(style=\"whitegrid\", color_codes=True)\n",
    "sns.boxplot(data=df,\n",
    "            y=\"income\",\n",
    "            color=\"purple\")\n",
    "plt.show()            "
   ]
  },
  {
   "cell_type": "code",
   "execution_count": 45,
   "id": "9a3d85f9",
   "metadata": {},
   "outputs": [],
   "source": [
    "df = df[df['income']<0.55] \n"
   ]
  },
  {
   "cell_type": "code",
   "execution_count": 46,
   "id": "06c25863",
   "metadata": {
    "scrolled": false
   },
   "outputs": [
    {
     "data": {
      "image/png": "[encoded data removed]",
      "text/plain": [
       "<Figure size 432x288 with 1 Axes>"
      ]
     },
     "metadata": {},
     "output_type": "display_data"
    }
   ],
   "source": [
    "# income\n",
    "\n",
    "sns.set_theme(style=\"whitegrid\", color_codes=True)\n",
    "sns.boxplot(data=df,\n",
    "            y=\"income\",\n",
    "            color=\"purple\")\n",
    "plt.show()            "
   ]
  },
  {
   "cell_type": "code",
   "execution_count": 47,
   "id": "d133ee19",
   "metadata": {},
   "outputs": [
    {
     "data": {
      "image/png": "[encoded data removed]",
      "text/plain": [
       "<Figure size 432x288 with 1 Axes>"
      ]
     },
     "metadata": {},
     "output_type": "display_data"
    }
   ],
   "source": [
    "# size\n",
    "\n",
    "sns.set_theme(style=\"whitegrid\", color_codes=True)\n",
    "sns.boxplot(data=df,\n",
    "            x=\"size\",\n",
    "            color=\"cyan\")\n",
    "plt.show()            "
   ]
  },
  {
   "cell_type": "code",
   "execution_count": 48,
   "id": "6b0ddf55",
   "metadata": {},
   "outputs": [],
   "source": [
    "df = df[df['size']<0.7] \n"
   ]
  },
  {
   "cell_type": "code",
   "execution_count": 49,
   "id": "4b543b44",
   "metadata": {
    "scrolled": false
   },
   "outputs": [
    {
     "data": {
      "image/png": "[encoded data removed]",
      "text/plain": [
       "<Figure size 432x288 with 1 Axes>"
      ]
     },
     "metadata": {},
     "output_type": "display_data"
    }
   ],
   "source": [
    "# size\n",
    "\n",
    "sns.set_theme(style=\"whitegrid\", color_codes=True)\n",
    "sns.boxplot(data=df,\n",
    "            x=\"size\",\n",
    "            color=\"cyan\")\n",
    "plt.show()            "
   ]
  },
  {
   "cell_type": "markdown",
   "id": "92569b13",
   "metadata": {},
   "source": [
    "***"
   ]
  },
  {
   "cell_type": "code",
   "execution_count": 50,
   "id": "aa1fb2e3",
   "metadata": {},
   "outputs": [
    {
     "data": {
      "image/png": "[encoded data removed]",
      "text/plain": [
       "<Figure size 1080x432 with 1 Axes>"
      ]
     },
     "metadata": {},
     "output_type": "display_data"
    }
   ],
   "source": [
    "plt.figure(figsize=(15,6))\n",
    "sns.set_theme(style=\"whitegrid\", color_codes=True)\n",
    "sns.boxplot(data=df,\n",
    "            palette=\"Set1\")\n",
    "plt.show()            "
   ]
  },
  {
   "cell_type": "code",
   "execution_count": 51,
   "id": "ceb8cdd3",
   "metadata": {},
   "outputs": [
    {
     "data": {
      "text/plain": [
       "(1802, 7)"
      ]
     },
     "execution_count": 51,
     "metadata": {},
     "output_type": "execute_result"
    }
   ],
   "source": [
    "df.shape"
   ]
  },
  {
   "cell_type": "code",
   "execution_count": 52,
   "id": "5a1c36a1",
   "metadata": {},
   "outputs": [
    {
     "data": {
      "text/html": [
       "<div>\n",
       "<style scoped>\n",
       "    .dataframe tbody tr th:only-of-type {\n",
       "        vertical-align: middle;\n",
       "    }\n",
       "\n",
       "    .dataframe tbody tr th {\n",
       "        vertical-align: top;\n",
       "    }\n",
       "\n",
       "    .dataframe thead th {\n",
       "        text-align: right;\n",
       "    }\n",
       "</style>\n",
       "<table border=\"1\" class=\"dataframe\">\n",
       "  <thead>\n",
       "    <tr style=\"text-align: right;\">\n",
       "      <th></th>\n",
       "      <th>homeshop</th>\n",
       "      <th>storeshop</th>\n",
       "      <th>employ</th>\n",
       "      <th>income</th>\n",
       "      <th>location</th>\n",
       "      <th>size</th>\n",
       "      <th>age</th>\n",
       "    </tr>\n",
       "  </thead>\n",
       "  <tbody>\n",
       "    <tr>\n",
       "      <th>homeshop</th>\n",
       "      <td>1.000000</td>\n",
       "      <td>0.035334</td>\n",
       "      <td>0.024863</td>\n",
       "      <td>-0.028314</td>\n",
       "      <td>-0.031369</td>\n",
       "      <td>-0.085414</td>\n",
       "      <td>0.024872</td>\n",
       "    </tr>\n",
       "    <tr>\n",
       "      <th>storeshop</th>\n",
       "      <td>0.035334</td>\n",
       "      <td>1.000000</td>\n",
       "      <td>0.066341</td>\n",
       "      <td>-0.029724</td>\n",
       "      <td>-0.000752</td>\n",
       "      <td>-0.028723</td>\n",
       "      <td>0.089951</td>\n",
       "    </tr>\n",
       "    <tr>\n",
       "      <th>employ</th>\n",
       "      <td>0.024863</td>\n",
       "      <td>0.066341</td>\n",
       "      <td>1.000000</td>\n",
       "      <td>-0.235544</td>\n",
       "      <td>0.040185</td>\n",
       "      <td>-0.241091</td>\n",
       "      <td>0.522935</td>\n",
       "    </tr>\n",
       "    <tr>\n",
       "      <th>income</th>\n",
       "      <td>-0.028314</td>\n",
       "      <td>-0.029724</td>\n",
       "      <td>-0.235544</td>\n",
       "      <td>1.000000</td>\n",
       "      <td>0.028272</td>\n",
       "      <td>0.206271</td>\n",
       "      <td>-0.111635</td>\n",
       "    </tr>\n",
       "    <tr>\n",
       "      <th>location</th>\n",
       "      <td>-0.031369</td>\n",
       "      <td>-0.000752</td>\n",
       "      <td>0.040185</td>\n",
       "      <td>0.028272</td>\n",
       "      <td>1.000000</td>\n",
       "      <td>-0.063996</td>\n",
       "      <td>0.186306</td>\n",
       "    </tr>\n",
       "    <tr>\n",
       "      <th>size</th>\n",
       "      <td>-0.085414</td>\n",
       "      <td>-0.028723</td>\n",
       "      <td>-0.241091</td>\n",
       "      <td>0.206271</td>\n",
       "      <td>-0.063996</td>\n",
       "      <td>1.000000</td>\n",
       "      <td>-0.427604</td>\n",
       "    </tr>\n",
       "    <tr>\n",
       "      <th>age</th>\n",
       "      <td>0.024872</td>\n",
       "      <td>0.089951</td>\n",
       "      <td>0.522935</td>\n",
       "      <td>-0.111635</td>\n",
       "      <td>0.186306</td>\n",
       "      <td>-0.427604</td>\n",
       "      <td>1.000000</td>\n",
       "    </tr>\n",
       "  </tbody>\n",
       "</table>\n",
       "</div>"
      ],
      "text/plain": [
       "           homeshop  storeshop    employ    income  location      size  \\\n",
       "homeshop   1.000000   0.035334  0.024863 -0.028314 -0.031369 -0.085414   \n",
       "storeshop  0.035334   1.000000  0.066341 -0.029724 -0.000752 -0.028723   \n",
       "employ     0.024863   0.066341  1.000000 -0.235544  0.040185 -0.241091   \n",
       "income    -0.028314  -0.029724 -0.235544  1.000000  0.028272  0.206271   \n",
       "location  -0.031369  -0.000752  0.040185  0.028272  1.000000 -0.063996   \n",
       "size      -0.085414  -0.028723 -0.241091  0.206271 -0.063996  1.000000   \n",
       "age        0.024872   0.089951  0.522935 -0.111635  0.186306 -0.427604   \n",
       "\n",
       "                age  \n",
       "homeshop   0.024872  \n",
       "storeshop  0.089951  \n",
       "employ     0.522935  \n",
       "income    -0.111635  \n",
       "location   0.186306  \n",
       "size      -0.427604  \n",
       "age        1.000000  "
      ]
     },
     "execution_count": 52,
     "metadata": {},
     "output_type": "execute_result"
    }
   ],
   "source": [
    "df.corr()"
   ]
  },
  {
   "cell_type": "code",
   "execution_count": 53,
   "id": "05535678",
   "metadata": {},
   "outputs": [
    {
     "data": {
      "text/html": [
       "<div>\n",
       "<style scoped>\n",
       "    .dataframe tbody tr th:only-of-type {\n",
       "        vertical-align: middle;\n",
       "    }\n",
       "\n",
       "    .dataframe tbody tr th {\n",
       "        vertical-align: top;\n",
       "    }\n",
       "\n",
       "    .dataframe thead th {\n",
       "        text-align: right;\n",
       "    }\n",
       "</style>\n",
       "<table border=\"1\" class=\"dataframe\">\n",
       "  <thead>\n",
       "    <tr style=\"text-align: right;\">\n",
       "      <th></th>\n",
       "      <th>homeshop</th>\n",
       "      <th>storeshop</th>\n",
       "      <th>employ</th>\n",
       "      <th>income</th>\n",
       "      <th>location</th>\n",
       "      <th>size</th>\n",
       "      <th>age</th>\n",
       "    </tr>\n",
       "  </thead>\n",
       "  <tbody>\n",
       "    <tr>\n",
       "      <th>homeshop</th>\n",
       "      <td>1.000000</td>\n",
       "      <td>0.042739</td>\n",
       "      <td>0.020479</td>\n",
       "      <td>-0.029298</td>\n",
       "      <td>-0.026507</td>\n",
       "      <td>-0.101423</td>\n",
       "      <td>0.029608</td>\n",
       "    </tr>\n",
       "    <tr>\n",
       "      <th>storeshop</th>\n",
       "      <td>0.042739</td>\n",
       "      <td>1.000000</td>\n",
       "      <td>0.060644</td>\n",
       "      <td>-0.029751</td>\n",
       "      <td>-0.009795</td>\n",
       "      <td>-0.026722</td>\n",
       "      <td>0.088454</td>\n",
       "    </tr>\n",
       "    <tr>\n",
       "      <th>employ</th>\n",
       "      <td>0.020479</td>\n",
       "      <td>0.060644</td>\n",
       "      <td>1.000000</td>\n",
       "      <td>-0.202976</td>\n",
       "      <td>0.051019</td>\n",
       "      <td>-0.231175</td>\n",
       "      <td>0.529576</td>\n",
       "    </tr>\n",
       "    <tr>\n",
       "      <th>income</th>\n",
       "      <td>-0.029298</td>\n",
       "      <td>-0.029751</td>\n",
       "      <td>-0.202976</td>\n",
       "      <td>1.000000</td>\n",
       "      <td>0.007903</td>\n",
       "      <td>0.224505</td>\n",
       "      <td>-0.109254</td>\n",
       "    </tr>\n",
       "    <tr>\n",
       "      <th>location</th>\n",
       "      <td>-0.026507</td>\n",
       "      <td>-0.009795</td>\n",
       "      <td>0.051019</td>\n",
       "      <td>0.007903</td>\n",
       "      <td>1.000000</td>\n",
       "      <td>-0.067336</td>\n",
       "      <td>0.188844</td>\n",
       "    </tr>\n",
       "    <tr>\n",
       "      <th>size</th>\n",
       "      <td>-0.101423</td>\n",
       "      <td>-0.026722</td>\n",
       "      <td>-0.231175</td>\n",
       "      <td>0.224505</td>\n",
       "      <td>-0.067336</td>\n",
       "      <td>1.000000</td>\n",
       "      <td>-0.421772</td>\n",
       "    </tr>\n",
       "    <tr>\n",
       "      <th>age</th>\n",
       "      <td>0.029608</td>\n",
       "      <td>0.088454</td>\n",
       "      <td>0.529576</td>\n",
       "      <td>-0.109254</td>\n",
       "      <td>0.188844</td>\n",
       "      <td>-0.421772</td>\n",
       "      <td>1.000000</td>\n",
       "    </tr>\n",
       "  </tbody>\n",
       "</table>\n",
       "</div>"
      ],
      "text/plain": [
       "           homeshop  storeshop    employ    income  location      size  \\\n",
       "homeshop   1.000000   0.042739  0.020479 -0.029298 -0.026507 -0.101423   \n",
       "storeshop  0.042739   1.000000  0.060644 -0.029751 -0.009795 -0.026722   \n",
       "employ     0.020479   0.060644  1.000000 -0.202976  0.051019 -0.231175   \n",
       "income    -0.029298  -0.029751 -0.202976  1.000000  0.007903  0.224505   \n",
       "location  -0.026507  -0.009795  0.051019  0.007903  1.000000 -0.067336   \n",
       "size      -0.101423  -0.026722 -0.231175  0.224505 -0.067336  1.000000   \n",
       "age        0.029608   0.088454  0.529576 -0.109254  0.188844 -0.421772   \n",
       "\n",
       "                age  \n",
       "homeshop   0.029608  \n",
       "storeshop  0.088454  \n",
       "employ     0.529576  \n",
       "income    -0.109254  \n",
       "location   0.188844  \n",
       "size      -0.421772  \n",
       "age        1.000000  "
      ]
     },
     "execution_count": 53,
     "metadata": {},
     "output_type": "execute_result"
    }
   ],
   "source": [
    "df.corr('spearman')"
   ]
  },
  {
   "cell_type": "code",
   "execution_count": 54,
   "id": "ffa5712f",
   "metadata": {},
   "outputs": [],
   "source": [
    "pearson = df.corr('pearson')"
   ]
  },
  {
   "cell_type": "code",
   "execution_count": 55,
   "id": "7cef399c",
   "metadata": {},
   "outputs": [
    {
     "data": {
      "image/png": "[encoded data removed]",
      "text/plain": [
       "<Figure size 864x432 with 2 Axes>"
      ]
     },
     "metadata": {},
     "output_type": "display_data"
    }
   ],
   "source": [
    "# Correlation !\n",
    "\n",
    "df = pd.DataFrame(pearson)\n",
    "\n",
    "plt.figure(figsize=(12,6))\n",
    "corrMatrix = df.corr()\n",
    "sns.heatmap(corrMatrix, annot=True)\n",
    "plt.show()"
   ]
  },
  {
   "cell_type": "code",
   "execution_count": 56,
   "id": "85958bb0",
   "metadata": {},
   "outputs": [
    {
     "data": {
      "image/png": "[encoded data removed]",
      "text/plain": [
       "<Figure size 432x288 with 9 Axes>"
      ]
     },
     "metadata": {},
     "output_type": "display_data"
    }
   ],
   "source": [
    "# histogram\n",
    "\n",
    "df.hist()\n",
    "plt.show()"
   ]
  },
  {
   "cell_type": "code",
   "execution_count": 57,
   "id": "cb8902cd",
   "metadata": {},
   "outputs": [
    {
     "name": "stderr",
     "output_type": "stream",
     "text": [
      "C:\\Users\\fahad\\AppData\\Local\\Packages\\PythonSoftwareFoundation.Python.3.9_qbz5n2kfra8p0\\LocalCache\\local-packages\\Python39\\site-packages\\seaborn\\distributions.py:2619: FutureWarning: `distplot` is a deprecated function and will be removed in a future version. Please adapt your code to use either `displot` (a figure-level function with similar flexibility) or `histplot` (an axes-level function for histograms).\n",
      "  warnings.warn(msg, FutureWarning)\n"
     ]
    },
    {
     "data": {
      "image/png": "[encoded data removed]",
      "text/plain": [
       "<Figure size 720x360 with 1 Axes>"
      ]
     },
     "metadata": {},
     "output_type": "display_data"
    }
   ],
   "source": [
    "# displot (check: bell curve)\n",
    "\n",
    "\n",
    "plt.figure(figsize=(10,5))\n",
    "sns.set_theme(style=\"whitegrid\", color_codes=True)\n",
    "sns.distplot(df)\n",
    "plt.show()            "
   ]
  },
  {
   "cell_type": "code",
   "execution_count": 60,
   "id": "58c0e9d0",
   "metadata": {},
   "outputs": [
    {
     "data": {
      "text/plain": [
       "KMeans(n_clusters=3)"
      ]
     },
     "execution_count": 60,
     "metadata": {},
     "output_type": "execute_result"
    }
   ],
   "source": [
    "from sklearn.cluster import KMeans\n",
    "\n",
    "k_mean = KMeans(n_clusters=3)\n",
    "k_mean"
   ]
  },
  {
   "cell_type": "code",
   "execution_count": 61,
   "id": "a9efc5b6",
   "metadata": {},
   "outputs": [
    {
     "data": {
      "text/plain": [
       "array([0, 0, 1, 2, 0, 2, 1])"
      ]
     },
     "execution_count": 61,
     "metadata": {},
     "output_type": "execute_result"
    }
   ],
   "source": [
    "y_predicted = k_mean.fit_predict(df)\n",
    "y_predicted"
   ]
  },
  {
   "cell_type": "code",
   "execution_count": 63,
   "id": "85bb0a0b",
   "metadata": {},
   "outputs": [],
   "source": [
    "df[\"Cluster\"] = y_predicted"
   ]
  },
  {
   "cell_type": "code",
   "execution_count": 64,
   "id": "30bbb74b",
   "metadata": {},
   "outputs": [
    {
     "data": {
      "text/html": [
       "<div>\n",
       "<style scoped>\n",
       "    .dataframe tbody tr th:only-of-type {\n",
       "        vertical-align: middle;\n",
       "    }\n",
       "\n",
       "    .dataframe tbody tr th {\n",
       "        vertical-align: top;\n",
       "    }\n",
       "\n",
       "    .dataframe thead th {\n",
       "        text-align: right;\n",
       "    }\n",
       "</style>\n",
       "<table border=\"1\" class=\"dataframe\">\n",
       "  <thead>\n",
       "    <tr style=\"text-align: right;\">\n",
       "      <th></th>\n",
       "      <th>homeshop</th>\n",
       "      <th>storeshop</th>\n",
       "      <th>employ</th>\n",
       "      <th>income</th>\n",
       "      <th>location</th>\n",
       "      <th>size</th>\n",
       "      <th>age</th>\n",
       "      <th>Cluster</th>\n",
       "    </tr>\n",
       "  </thead>\n",
       "  <tbody>\n",
       "    <tr>\n",
       "      <th>homeshop</th>\n",
       "      <td>1.000000</td>\n",
       "      <td>0.035334</td>\n",
       "      <td>0.024863</td>\n",
       "      <td>-0.028314</td>\n",
       "      <td>-0.031369</td>\n",
       "      <td>-0.085414</td>\n",
       "      <td>0.024872</td>\n",
       "      <td>0</td>\n",
       "    </tr>\n",
       "    <tr>\n",
       "      <th>storeshop</th>\n",
       "      <td>0.035334</td>\n",
       "      <td>1.000000</td>\n",
       "      <td>0.066341</td>\n",
       "      <td>-0.029724</td>\n",
       "      <td>-0.000752</td>\n",
       "      <td>-0.028723</td>\n",
       "      <td>0.089951</td>\n",
       "      <td>0</td>\n",
       "    </tr>\n",
       "    <tr>\n",
       "      <th>employ</th>\n",
       "      <td>0.024863</td>\n",
       "      <td>0.066341</td>\n",
       "      <td>1.000000</td>\n",
       "      <td>-0.235544</td>\n",
       "      <td>0.040185</td>\n",
       "      <td>-0.241091</td>\n",
       "      <td>0.522935</td>\n",
       "      <td>1</td>\n",
       "    </tr>\n",
       "    <tr>\n",
       "      <th>income</th>\n",
       "      <td>-0.028314</td>\n",
       "      <td>-0.029724</td>\n",
       "      <td>-0.235544</td>\n",
       "      <td>1.000000</td>\n",
       "      <td>0.028272</td>\n",
       "      <td>0.206271</td>\n",
       "      <td>-0.111635</td>\n",
       "      <td>2</td>\n",
       "    </tr>\n",
       "    <tr>\n",
       "      <th>location</th>\n",
       "      <td>-0.031369</td>\n",
       "      <td>-0.000752</td>\n",
       "      <td>0.040185</td>\n",
       "      <td>0.028272</td>\n",
       "      <td>1.000000</td>\n",
       "      <td>-0.063996</td>\n",
       "      <td>0.186306</td>\n",
       "      <td>0</td>\n",
       "    </tr>\n",
       "  </tbody>\n",
       "</table>\n",
       "</div>"
      ],
      "text/plain": [
       "           homeshop  storeshop    employ    income  location      size  \\\n",
       "homeshop   1.000000   0.035334  0.024863 -0.028314 -0.031369 -0.085414   \n",
       "storeshop  0.035334   1.000000  0.066341 -0.029724 -0.000752 -0.028723   \n",
       "employ     0.024863   0.066341  1.000000 -0.235544  0.040185 -0.241091   \n",
       "income    -0.028314  -0.029724 -0.235544  1.000000  0.028272  0.206271   \n",
       "location  -0.031369  -0.000752  0.040185  0.028272  1.000000 -0.063996   \n",
       "\n",
       "                age  Cluster  \n",
       "homeshop   0.024872        0  \n",
       "storeshop  0.089951        0  \n",
       "employ     0.522935        1  \n",
       "income    -0.111635        2  \n",
       "location   0.186306        0  "
      ]
     },
     "execution_count": 64,
     "metadata": {},
     "output_type": "execute_result"
    }
   ],
   "source": [
    "df.head()"
   ]
  },
  {
   "cell_type": "code",
   "execution_count": 65,
   "id": "3431d485",
   "metadata": {},
   "outputs": [
    {
     "data": {
      "text/html": [
       "<div>\n",
       "<style scoped>\n",
       "    .dataframe tbody tr th:only-of-type {\n",
       "        vertical-align: middle;\n",
       "    }\n",
       "\n",
       "    .dataframe tbody tr th {\n",
       "        vertical-align: top;\n",
       "    }\n",
       "\n",
       "    .dataframe thead th {\n",
       "        text-align: right;\n",
       "    }\n",
       "</style>\n",
       "<table border=\"1\" class=\"dataframe\">\n",
       "  <thead>\n",
       "    <tr style=\"text-align: right;\">\n",
       "      <th></th>\n",
       "      <th>homeshop</th>\n",
       "      <th>storeshop</th>\n",
       "      <th>employ</th>\n",
       "      <th>income</th>\n",
       "      <th>location</th>\n",
       "      <th>size</th>\n",
       "      <th>age</th>\n",
       "      <th>Cluster</th>\n",
       "    </tr>\n",
       "  </thead>\n",
       "  <tbody>\n",
       "    <tr>\n",
       "      <th>employ</th>\n",
       "      <td>0.024863</td>\n",
       "      <td>0.066341</td>\n",
       "      <td>1.000000</td>\n",
       "      <td>-0.235544</td>\n",
       "      <td>0.040185</td>\n",
       "      <td>-0.241091</td>\n",
       "      <td>0.522935</td>\n",
       "      <td>1</td>\n",
       "    </tr>\n",
       "    <tr>\n",
       "      <th>income</th>\n",
       "      <td>-0.028314</td>\n",
       "      <td>-0.029724</td>\n",
       "      <td>-0.235544</td>\n",
       "      <td>1.000000</td>\n",
       "      <td>0.028272</td>\n",
       "      <td>0.206271</td>\n",
       "      <td>-0.111635</td>\n",
       "      <td>2</td>\n",
       "    </tr>\n",
       "    <tr>\n",
       "      <th>location</th>\n",
       "      <td>-0.031369</td>\n",
       "      <td>-0.000752</td>\n",
       "      <td>0.040185</td>\n",
       "      <td>0.028272</td>\n",
       "      <td>1.000000</td>\n",
       "      <td>-0.063996</td>\n",
       "      <td>0.186306</td>\n",
       "      <td>0</td>\n",
       "    </tr>\n",
       "    <tr>\n",
       "      <th>size</th>\n",
       "      <td>-0.085414</td>\n",
       "      <td>-0.028723</td>\n",
       "      <td>-0.241091</td>\n",
       "      <td>0.206271</td>\n",
       "      <td>-0.063996</td>\n",
       "      <td>1.000000</td>\n",
       "      <td>-0.427604</td>\n",
       "      <td>2</td>\n",
       "    </tr>\n",
       "    <tr>\n",
       "      <th>age</th>\n",
       "      <td>0.024872</td>\n",
       "      <td>0.089951</td>\n",
       "      <td>0.522935</td>\n",
       "      <td>-0.111635</td>\n",
       "      <td>0.186306</td>\n",
       "      <td>-0.427604</td>\n",
       "      <td>1.000000</td>\n",
       "      <td>1</td>\n",
       "    </tr>\n",
       "  </tbody>\n",
       "</table>\n",
       "</div>"
      ],
      "text/plain": [
       "          homeshop  storeshop    employ    income  location      size  \\\n",
       "employ    0.024863   0.066341  1.000000 -0.235544  0.040185 -0.241091   \n",
       "income   -0.028314  -0.029724 -0.235544  1.000000  0.028272  0.206271   \n",
       "location -0.031369  -0.000752  0.040185  0.028272  1.000000 -0.063996   \n",
       "size     -0.085414  -0.028723 -0.241091  0.206271 -0.063996  1.000000   \n",
       "age       0.024872   0.089951  0.522935 -0.111635  0.186306 -0.427604   \n",
       "\n",
       "               age  Cluster  \n",
       "employ    0.522935        1  \n",
       "income   -0.111635        2  \n",
       "location  0.186306        0  \n",
       "size     -0.427604        2  \n",
       "age       1.000000        1  "
      ]
     },
     "execution_count": 65,
     "metadata": {},
     "output_type": "execute_result"
    }
   ],
   "source": [
    "df.tail()"
   ]
  },
  {
   "cell_type": "markdown",
   "id": "6405e22f",
   "metadata": {},
   "source": [
    "---"
   ]
  }
 ],
 "metadata": {
  "kernelspec": {
   "display_name": "Python 3 (ipykernel)",
   "language": "python",
   "name": "python3"
  },
  "language_info": {
   "codemirror_mode": {
    "name": "ipython",
    "version": 3
   },
   "file_extension": ".py",
   "mimetype": "text/x-python",
   "name": "python",
   "nbconvert_exporter": "python",
   "pygments_lexer": "ipython3",
   "version": "3.9.10"
  }
 },
 "nbformat": 4,
 "nbformat_minor": 5
}
