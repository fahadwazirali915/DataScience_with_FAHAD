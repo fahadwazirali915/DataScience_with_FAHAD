{
 "cells": [
  {
   "cell_type": "code",
   "execution_count": 1,
   "id": "5d34a3da",
   "metadata": {},
   "outputs": [],
   "source": [
    "# import libraries !\n",
    "\n",
    "import pandas as pd\n",
    "import numpy as np\n",
    "import seaborn as sns\n",
    "import matplotlib.pyplot as plt\n"
   ]
  },
  {
   "cell_type": "code",
   "execution_count": 2,
   "id": "2fada5e6",
   "metadata": {},
   "outputs": [
    {
     "data": {
      "text/html": [
       "<div>\n",
       "<style scoped>\n",
       "    .dataframe tbody tr th:only-of-type {\n",
       "        vertical-align: middle;\n",
       "    }\n",
       "\n",
       "    .dataframe tbody tr th {\n",
       "        vertical-align: top;\n",
       "    }\n",
       "\n",
       "    .dataframe thead th {\n",
       "        text-align: right;\n",
       "    }\n",
       "</style>\n",
       "<table border=\"1\" class=\"dataframe\">\n",
       "  <thead>\n",
       "    <tr style=\"text-align: right;\">\n",
       "      <th></th>\n",
       "      <th>homeshop</th>\n",
       "      <th>storeshop</th>\n",
       "      <th>employ</th>\n",
       "      <th>income</th>\n",
       "      <th>location</th>\n",
       "      <th>size</th>\n",
       "      <th>age</th>\n",
       "    </tr>\n",
       "  </thead>\n",
       "  <tbody>\n",
       "    <tr>\n",
       "      <th>0</th>\n",
       "      <td>20</td>\n",
       "      <td>310</td>\n",
       "      <td>9</td>\n",
       "      <td>NaN</td>\n",
       "      <td>2</td>\n",
       "      <td>1</td>\n",
       "      <td>72</td>\n",
       "    </tr>\n",
       "    <tr>\n",
       "      <th>1</th>\n",
       "      <td>92</td>\n",
       "      <td>230</td>\n",
       "      <td>9</td>\n",
       "      <td>30550.0</td>\n",
       "      <td>2</td>\n",
       "      <td>2</td>\n",
       "      <td>60</td>\n",
       "    </tr>\n",
       "    <tr>\n",
       "      <th>2</th>\n",
       "      <td>69</td>\n",
       "      <td>240</td>\n",
       "      <td>10</td>\n",
       "      <td>64971.0</td>\n",
       "      <td>2</td>\n",
       "      <td>4</td>\n",
       "      <td>19</td>\n",
       "    </tr>\n",
       "    <tr>\n",
       "      <th>3</th>\n",
       "      <td>88</td>\n",
       "      <td>192</td>\n",
       "      <td>9</td>\n",
       "      <td>37298.0</td>\n",
       "      <td>4</td>\n",
       "      <td>2</td>\n",
       "      <td>63</td>\n",
       "    </tr>\n",
       "    <tr>\n",
       "      <th>4</th>\n",
       "      <td>49</td>\n",
       "      <td>42</td>\n",
       "      <td>1</td>\n",
       "      <td>41135.0</td>\n",
       "      <td>4</td>\n",
       "      <td>6</td>\n",
       "      <td>47</td>\n",
       "    </tr>\n",
       "  </tbody>\n",
       "</table>\n",
       "</div>"
      ],
      "text/plain": [
       "   homeshop  storeshop  employ   income  location  size  age\n",
       "0        20        310       9      NaN         2     1   72\n",
       "1        92        230       9  30550.0         2     2   60\n",
       "2        69        240      10  64971.0         2     4   19\n",
       "3        88        192       9  37298.0         4     2   63\n",
       "4        49         42       1  41135.0         4     6   47"
      ]
     },
     "execution_count": 2,
     "metadata": {},
     "output_type": "execute_result"
    }
   ],
   "source": [
    "# import dataset !\n",
    "\n",
    "df = pd.read_csv('dataset_FreshCo.csv')\n",
    "df.head()"
   ]
  },
  {
   "cell_type": "code",
   "execution_count": 3,
   "id": "1ae8e538",
   "metadata": {},
   "outputs": [
    {
     "data": {
      "text/plain": [
       "(2093, 7)"
      ]
     },
     "execution_count": 3,
     "metadata": {},
     "output_type": "execute_result"
    }
   ],
   "source": [
    "df.shape"
   ]
  },
  {
   "cell_type": "code",
   "execution_count": 4,
   "id": "2f7a796c",
   "metadata": {},
   "outputs": [
    {
     "data": {
      "text/plain": [
       "homeshop       0\n",
       "storeshop      0\n",
       "employ         0\n",
       "income       681\n",
       "location       0\n",
       "size           0\n",
       "age            0\n",
       "dtype: int64"
      ]
     },
     "execution_count": 4,
     "metadata": {},
     "output_type": "execute_result"
    }
   ],
   "source": [
    "df.isnull().sum()"
   ]
  },
  {
   "cell_type": "code",
   "execution_count": 5,
   "id": "b5846497",
   "metadata": {},
   "outputs": [
    {
     "name": "stdout",
     "output_type": "stream",
     "text": [
      "income : 32.54 %\n"
     ]
    }
   ],
   "source": [
    "# check empty (column %) !\n",
    "\n",
    "for feature in df:\n",
    "    if df[feature].isnull().sum()>1:\n",
    "        print(feature,\":\", np.round(df[feature].isnull().mean(),4)*100,'%')\n"
   ]
  },
  {
   "cell_type": "code",
   "execution_count": 6,
   "id": "7381e2c7",
   "metadata": {},
   "outputs": [],
   "source": [
    "df['income'] = df['income'].replace(np.nan, df.income.mean())"
   ]
  },
  {
   "cell_type": "code",
   "execution_count": 7,
   "id": "962cb08d",
   "metadata": {},
   "outputs": [
    {
     "data": {
      "text/plain": [
       "0"
      ]
     },
     "execution_count": 7,
     "metadata": {},
     "output_type": "execute_result"
    }
   ],
   "source": [
    "df.income.isnull().sum()"
   ]
  },
  {
   "cell_type": "code",
   "execution_count": 8,
   "id": "cfdeda75",
   "metadata": {},
   "outputs": [
    {
     "data": {
      "text/html": [
       "<div>\n",
       "<style scoped>\n",
       "    .dataframe tbody tr th:only-of-type {\n",
       "        vertical-align: middle;\n",
       "    }\n",
       "\n",
       "    .dataframe tbody tr th {\n",
       "        vertical-align: top;\n",
       "    }\n",
       "\n",
       "    .dataframe thead th {\n",
       "        text-align: right;\n",
       "    }\n",
       "</style>\n",
       "<table border=\"1\" class=\"dataframe\">\n",
       "  <thead>\n",
       "    <tr style=\"text-align: right;\">\n",
       "      <th></th>\n",
       "      <th>homeshop</th>\n",
       "      <th>storeshop</th>\n",
       "      <th>employ</th>\n",
       "      <th>income</th>\n",
       "      <th>location</th>\n",
       "      <th>size</th>\n",
       "      <th>age</th>\n",
       "    </tr>\n",
       "  </thead>\n",
       "  <tbody>\n",
       "    <tr>\n",
       "      <th>0</th>\n",
       "      <td>20</td>\n",
       "      <td>310</td>\n",
       "      <td>9</td>\n",
       "      <td>28871.518414</td>\n",
       "      <td>2</td>\n",
       "      <td>1</td>\n",
       "      <td>72</td>\n",
       "    </tr>\n",
       "    <tr>\n",
       "      <th>1</th>\n",
       "      <td>92</td>\n",
       "      <td>230</td>\n",
       "      <td>9</td>\n",
       "      <td>30550.000000</td>\n",
       "      <td>2</td>\n",
       "      <td>2</td>\n",
       "      <td>60</td>\n",
       "    </tr>\n",
       "    <tr>\n",
       "      <th>2</th>\n",
       "      <td>69</td>\n",
       "      <td>240</td>\n",
       "      <td>10</td>\n",
       "      <td>64971.000000</td>\n",
       "      <td>2</td>\n",
       "      <td>4</td>\n",
       "      <td>19</td>\n",
       "    </tr>\n",
       "    <tr>\n",
       "      <th>3</th>\n",
       "      <td>88</td>\n",
       "      <td>192</td>\n",
       "      <td>9</td>\n",
       "      <td>37298.000000</td>\n",
       "      <td>4</td>\n",
       "      <td>2</td>\n",
       "      <td>63</td>\n",
       "    </tr>\n",
       "    <tr>\n",
       "      <th>4</th>\n",
       "      <td>49</td>\n",
       "      <td>42</td>\n",
       "      <td>1</td>\n",
       "      <td>41135.000000</td>\n",
       "      <td>4</td>\n",
       "      <td>6</td>\n",
       "      <td>47</td>\n",
       "    </tr>\n",
       "  </tbody>\n",
       "</table>\n",
       "</div>"
      ],
      "text/plain": [
       "   homeshop  storeshop  employ        income  location  size  age\n",
       "0        20        310       9  28871.518414         2     1   72\n",
       "1        92        230       9  30550.000000         2     2   60\n",
       "2        69        240      10  64971.000000         2     4   19\n",
       "3        88        192       9  37298.000000         4     2   63\n",
       "4        49         42       1  41135.000000         4     6   47"
      ]
     },
     "execution_count": 8,
     "metadata": {},
     "output_type": "execute_result"
    }
   ],
   "source": [
    "df.head()"
   ]
  },
  {
   "cell_type": "code",
   "execution_count": 9,
   "id": "25062d20",
   "metadata": {},
   "outputs": [
    {
     "data": {
      "text/html": [
       "<div>\n",
       "<style scoped>\n",
       "    .dataframe tbody tr th:only-of-type {\n",
       "        vertical-align: middle;\n",
       "    }\n",
       "\n",
       "    .dataframe tbody tr th {\n",
       "        vertical-align: top;\n",
       "    }\n",
       "\n",
       "    .dataframe thead th {\n",
       "        text-align: right;\n",
       "    }\n",
       "</style>\n",
       "<table border=\"1\" class=\"dataframe\">\n",
       "  <thead>\n",
       "    <tr style=\"text-align: right;\">\n",
       "      <th></th>\n",
       "      <th>homeshop</th>\n",
       "      <th>storeshop</th>\n",
       "      <th>employ</th>\n",
       "      <th>income</th>\n",
       "      <th>location</th>\n",
       "      <th>size</th>\n",
       "      <th>age</th>\n",
       "    </tr>\n",
       "  </thead>\n",
       "  <tbody>\n",
       "    <tr>\n",
       "      <th>0</th>\n",
       "      <td>0.075000</td>\n",
       "      <td>0.498361</td>\n",
       "      <td>0.666667</td>\n",
       "      <td>0.321213</td>\n",
       "      <td>0.333333</td>\n",
       "      <td>0.000</td>\n",
       "      <td>0.811594</td>\n",
       "    </tr>\n",
       "    <tr>\n",
       "      <th>1</th>\n",
       "      <td>0.375000</td>\n",
       "      <td>0.367213</td>\n",
       "      <td>0.666667</td>\n",
       "      <td>0.339892</td>\n",
       "      <td>0.333333</td>\n",
       "      <td>0.125</td>\n",
       "      <td>0.637681</td>\n",
       "    </tr>\n",
       "    <tr>\n",
       "      <th>2</th>\n",
       "      <td>0.279167</td>\n",
       "      <td>0.383607</td>\n",
       "      <td>0.750000</td>\n",
       "      <td>0.722952</td>\n",
       "      <td>0.333333</td>\n",
       "      <td>0.375</td>\n",
       "      <td>0.043478</td>\n",
       "    </tr>\n",
       "    <tr>\n",
       "      <th>3</th>\n",
       "      <td>0.358333</td>\n",
       "      <td>0.304918</td>\n",
       "      <td>0.666667</td>\n",
       "      <td>0.414988</td>\n",
       "      <td>1.000000</td>\n",
       "      <td>0.125</td>\n",
       "      <td>0.681159</td>\n",
       "    </tr>\n",
       "    <tr>\n",
       "      <th>4</th>\n",
       "      <td>0.195833</td>\n",
       "      <td>0.059016</td>\n",
       "      <td>0.000000</td>\n",
       "      <td>0.457689</td>\n",
       "      <td>1.000000</td>\n",
       "      <td>0.625</td>\n",
       "      <td>0.449275</td>\n",
       "    </tr>\n",
       "  </tbody>\n",
       "</table>\n",
       "</div>"
      ],
      "text/plain": [
       "   homeshop  storeshop    employ    income  location   size       age\n",
       "0  0.075000   0.498361  0.666667  0.321213  0.333333  0.000  0.811594\n",
       "1  0.375000   0.367213  0.666667  0.339892  0.333333  0.125  0.637681\n",
       "2  0.279167   0.383607  0.750000  0.722952  0.333333  0.375  0.043478\n",
       "3  0.358333   0.304918  0.666667  0.414988  1.000000  0.125  0.681159\n",
       "4  0.195833   0.059016  0.000000  0.457689  1.000000  0.625  0.449275"
      ]
     },
     "execution_count": 9,
     "metadata": {},
     "output_type": "execute_result"
    }
   ],
   "source": [
    "# scaling !\n",
    "\n",
    "from sklearn.preprocessing import MinMaxScaler\n",
    "scale = MinMaxScaler()\n",
    "\n",
    "# feature = [i for i in df]\n",
    "feature = df.columns\n",
    "df[feature] = scale.fit_transform(df[feature])\n",
    "df.head()\n"
   ]
  },
  {
   "cell_type": "code",
   "execution_count": 10,
   "id": "c85183ff",
   "metadata": {},
   "outputs": [
    {
     "data": {
      "text/plain": [
       "(2093, 7)"
      ]
     },
     "execution_count": 10,
     "metadata": {},
     "output_type": "execute_result"
    }
   ],
   "source": [
    "df.shape"
   ]
  },
  {
   "cell_type": "code",
   "execution_count": 11,
   "id": "4c1e0321",
   "metadata": {},
   "outputs": [
    {
     "data": {
      "image/png": "[encoded data removed]",
      "text/plain": [
       "<Figure size 1080x432 with 1 Axes>"
      ]
     },
     "metadata": {
      "needs_background": "light"
     },
     "output_type": "display_data"
    }
   ],
   "source": [
    "plt.figure(figsize=(15,6))\n",
    "sns.set_theme(style=\"whitegrid\", color_codes=True)\n",
    "sns.boxplot(data=df,\n",
    "            palette=\"Set1\")\n",
    "plt.show()            "
   ]
  },
  {
   "cell_type": "markdown",
   "id": "3c06226e",
   "metadata": {},
   "source": [
    "***"
   ]
  },
  {
   "cell_type": "code",
   "execution_count": 12,
   "id": "279f14a9",
   "metadata": {},
   "outputs": [
    {
     "data": {
      "image/png": "[encoded data removed]",
      "text/plain": [
       "<Figure size 432x288 with 1 Axes>"
      ]
     },
     "metadata": {},
     "output_type": "display_data"
    }
   ],
   "source": [
    "# storeshop\n",
    "\n",
    "sns.set_theme(style=\"whitegrid\", color_codes=True)\n",
    "sns.boxplot(data=df,\n",
    "            x=\"storeshop\",\n",
    "            color=\"orange\")\n",
    "plt.show()            "
   ]
  },
  {
   "cell_type": "code",
   "execution_count": 13,
   "id": "ad6989e3",
   "metadata": {},
   "outputs": [],
   "source": [
    "df = df[df['storeshop']<0.92] \n"
   ]
  },
  {
   "cell_type": "code",
   "execution_count": 14,
   "id": "31e3e2da",
   "metadata": {
    "scrolled": false
   },
   "outputs": [
    {
     "data": {
      "image/png": "[encoded data removed]",
      "text/plain": [
       "<Figure size 432x288 with 1 Axes>"
      ]
     },
     "metadata": {},
     "output_type": "display_data"
    }
   ],
   "source": [
    "# storeshop\n",
    "\n",
    "sns.set_theme(style=\"whitegrid\", color_codes=True)\n",
    "sns.boxplot(data=df,\n",
    "            x=\"storeshop\",\n",
    "            color=\"orange\")\n",
    "plt.show()            "
   ]
  },
  {
   "cell_type": "code",
   "execution_count": 15,
   "id": "c57b448e",
   "metadata": {},
   "outputs": [
    {
     "data": {
      "image/png": "[encoded data removed]",
      "text/plain": [
       "<Figure size 432x288 with 1 Axes>"
      ]
     },
     "metadata": {},
     "output_type": "display_data"
    }
   ],
   "source": [
    "# income\n",
    "\n",
    "sns.set_theme(style=\"whitegrid\", color_codes=True)\n",
    "sns.boxplot(data=df,\n",
    "            y=\"income\",\n",
    "            color=\"purple\")\n",
    "plt.show()            "
   ]
  },
  {
   "cell_type": "code",
   "execution_count": 16,
   "id": "9a3d85f9",
   "metadata": {},
   "outputs": [],
   "source": [
    "df = df[df['income']<0.55] \n"
   ]
  },
  {
   "cell_type": "code",
   "execution_count": 17,
   "id": "06c25863",
   "metadata": {
    "scrolled": false
   },
   "outputs": [
    {
     "data": {
      "image/png": "[encoded data removed]",
      "text/plain": [
       "<Figure size 432x288 with 1 Axes>"
      ]
     },
     "metadata": {},
     "output_type": "display_data"
    }
   ],
   "source": [
    "# income\n",
    "\n",
    "sns.set_theme(style=\"whitegrid\", color_codes=True)\n",
    "sns.boxplot(data=df,\n",
    "            y=\"income\",\n",
    "            color=\"purple\")\n",
    "plt.show()            "
   ]
  },
  {
   "cell_type": "code",
   "execution_count": 18,
   "id": "d133ee19",
   "metadata": {},
   "outputs": [
    {
     "data": {
      "image/png": "[encoded data removed]",
      "text/plain": [
       "<Figure size 432x288 with 1 Axes>"
      ]
     },
     "metadata": {},
     "output_type": "display_data"
    }
   ],
   "source": [
    "# size\n",
    "\n",
    "sns.set_theme(style=\"whitegrid\", color_codes=True)\n",
    "sns.boxplot(data=df,\n",
    "            x=\"size\",\n",
    "            color=\"cyan\")\n",
    "plt.show()            "
   ]
  },
  {
   "cell_type": "code",
   "execution_count": 19,
   "id": "6b0ddf55",
   "metadata": {},
   "outputs": [],
   "source": [
    "df = df[df['size']<0.7] \n"
   ]
  },
  {
   "cell_type": "code",
   "execution_count": 20,
   "id": "4b543b44",
   "metadata": {
    "scrolled": false
   },
   "outputs": [
    {
     "data": {
      "image/png": "[encoded data removed]",
      "text/plain": [
       "<Figure size 432x288 with 1 Axes>"
      ]
     },
     "metadata": {},
     "output_type": "display_data"
    }
   ],
   "source": [
    "# size\n",
    "\n",
    "sns.set_theme(style=\"whitegrid\", color_codes=True)\n",
    "sns.boxplot(data=df,\n",
    "            x=\"size\",\n",
    "            color=\"cyan\")\n",
    "plt.show()            "
   ]
  },
  {
   "cell_type": "markdown",
   "id": "92569b13",
   "metadata": {},
   "source": [
    "***"
   ]
  },
  {
   "cell_type": "code",
   "execution_count": 21,
   "id": "aa1fb2e3",
   "metadata": {},
   "outputs": [
    {
     "data": {
      "image/png": "[encoded data removed]",
      "text/plain": [
       "<Figure size 1080x432 with 1 Axes>"
      ]
     },
     "metadata": {},
     "output_type": "display_data"
    }
   ],
   "source": [
    "plt.figure(figsize=(15,6))\n",
    "sns.set_theme(style=\"whitegrid\", color_codes=True)\n",
    "sns.boxplot(data=df,\n",
    "            palette=\"Set1\")\n",
    "plt.show()            "
   ]
  },
  {
   "cell_type": "code",
   "execution_count": 22,
   "id": "ceb8cdd3",
   "metadata": {},
   "outputs": [
    {
     "data": {
      "text/plain": [
       "(1802, 7)"
      ]
     },
     "execution_count": 22,
     "metadata": {},
     "output_type": "execute_result"
    }
   ],
   "source": [
    "df.shape"
   ]
  },
  {
   "cell_type": "code",
   "execution_count": 45,
   "id": "5a1c36a1",
   "metadata": {},
   "outputs": [
    {
     "data": {
      "text/html": [
       "<div>\n",
       "<style scoped>\n",
       "    .dataframe tbody tr th:only-of-type {\n",
       "        vertical-align: middle;\n",
       "    }\n",
       "\n",
       "    .dataframe tbody tr th {\n",
       "        vertical-align: top;\n",
       "    }\n",
       "\n",
       "    .dataframe thead th {\n",
       "        text-align: right;\n",
       "    }\n",
       "</style>\n",
       "<table border=\"1\" class=\"dataframe\">\n",
       "  <thead>\n",
       "    <tr style=\"text-align: right;\">\n",
       "      <th></th>\n",
       "      <th>homeshop</th>\n",
       "      <th>storeshop</th>\n",
       "      <th>employ</th>\n",
       "      <th>income</th>\n",
       "      <th>location</th>\n",
       "      <th>size</th>\n",
       "      <th>age</th>\n",
       "    </tr>\n",
       "  </thead>\n",
       "  <tbody>\n",
       "    <tr>\n",
       "      <th>homeshop</th>\n",
       "      <td>1.000000</td>\n",
       "      <td>-0.035717</td>\n",
       "      <td>0.057241</td>\n",
       "      <td>-0.245649</td>\n",
       "      <td>-0.333258</td>\n",
       "      <td>-0.208339</td>\n",
       "      <td>0.030407</td>\n",
       "    </tr>\n",
       "    <tr>\n",
       "      <th>storeshop</th>\n",
       "      <td>-0.035717</td>\n",
       "      <td>1.000000</td>\n",
       "      <td>0.174769</td>\n",
       "      <td>-0.348621</td>\n",
       "      <td>-0.272504</td>\n",
       "      <td>-0.222603</td>\n",
       "      <td>0.153427</td>\n",
       "    </tr>\n",
       "    <tr>\n",
       "      <th>employ</th>\n",
       "      <td>0.057241</td>\n",
       "      <td>0.174769</td>\n",
       "      <td>1.000000</td>\n",
       "      <td>-0.886895</td>\n",
       "      <td>0.225483</td>\n",
       "      <td>-0.907626</td>\n",
       "      <td>0.964383</td>\n",
       "    </tr>\n",
       "    <tr>\n",
       "      <th>income</th>\n",
       "      <td>-0.245649</td>\n",
       "      <td>-0.348621</td>\n",
       "      <td>-0.886895</td>\n",
       "      <td>1.000000</td>\n",
       "      <td>-0.228330</td>\n",
       "      <td>0.824333</td>\n",
       "      <td>-0.833319</td>\n",
       "    </tr>\n",
       "    <tr>\n",
       "      <th>location</th>\n",
       "      <td>-0.333258</td>\n",
       "      <td>-0.272504</td>\n",
       "      <td>0.225483</td>\n",
       "      <td>-0.228330</td>\n",
       "      <td>1.000000</td>\n",
       "      <td>-0.354753</td>\n",
       "      <td>0.370112</td>\n",
       "    </tr>\n",
       "    <tr>\n",
       "      <th>size</th>\n",
       "      <td>-0.208339</td>\n",
       "      <td>-0.222603</td>\n",
       "      <td>-0.907626</td>\n",
       "      <td>0.824333</td>\n",
       "      <td>-0.354753</td>\n",
       "      <td>1.000000</td>\n",
       "      <td>-0.965391</td>\n",
       "    </tr>\n",
       "    <tr>\n",
       "      <th>age</th>\n",
       "      <td>0.030407</td>\n",
       "      <td>0.153427</td>\n",
       "      <td>0.964383</td>\n",
       "      <td>-0.833319</td>\n",
       "      <td>0.370112</td>\n",
       "      <td>-0.965391</td>\n",
       "      <td>1.000000</td>\n",
       "    </tr>\n",
       "  </tbody>\n",
       "</table>\n",
       "</div>"
      ],
      "text/plain": [
       "           homeshop  storeshop    employ    income  location      size  \\\n",
       "homeshop   1.000000  -0.035717  0.057241 -0.245649 -0.333258 -0.208339   \n",
       "storeshop -0.035717   1.000000  0.174769 -0.348621 -0.272504 -0.222603   \n",
       "employ     0.057241   0.174769  1.000000 -0.886895  0.225483 -0.907626   \n",
       "income    -0.245649  -0.348621 -0.886895  1.000000 -0.228330  0.824333   \n",
       "location  -0.333258  -0.272504  0.225483 -0.228330  1.000000 -0.354753   \n",
       "size      -0.208339  -0.222603 -0.907626  0.824333 -0.354753  1.000000   \n",
       "age        0.030407   0.153427  0.964383 -0.833319  0.370112 -0.965391   \n",
       "\n",
       "                age  \n",
       "homeshop   0.030407  \n",
       "storeshop  0.153427  \n",
       "employ     0.964383  \n",
       "income    -0.833319  \n",
       "location   0.370112  \n",
       "size      -0.965391  \n",
       "age        1.000000  "
      ]
     },
     "execution_count": 45,
     "metadata": {},
     "output_type": "execute_result"
    }
   ],
   "source": [
    "df.corr()"
   ]
  },
  {
   "cell_type": "code",
   "execution_count": 46,
   "id": "05535678",
   "metadata": {},
   "outputs": [
    {
     "data": {
      "text/html": [
       "<div>\n",
       "<style scoped>\n",
       "    .dataframe tbody tr th:only-of-type {\n",
       "        vertical-align: middle;\n",
       "    }\n",
       "\n",
       "    .dataframe tbody tr th {\n",
       "        vertical-align: top;\n",
       "    }\n",
       "\n",
       "    .dataframe thead th {\n",
       "        text-align: right;\n",
       "    }\n",
       "</style>\n",
       "<table border=\"1\" class=\"dataframe\">\n",
       "  <thead>\n",
       "    <tr style=\"text-align: right;\">\n",
       "      <th></th>\n",
       "      <th>homeshop</th>\n",
       "      <th>storeshop</th>\n",
       "      <th>employ</th>\n",
       "      <th>income</th>\n",
       "      <th>location</th>\n",
       "      <th>size</th>\n",
       "      <th>age</th>\n",
       "    </tr>\n",
       "  </thead>\n",
       "  <tbody>\n",
       "    <tr>\n",
       "      <th>homeshop</th>\n",
       "      <td>1.000000</td>\n",
       "      <td>0.535714</td>\n",
       "      <td>0.464286</td>\n",
       "      <td>-0.642857</td>\n",
       "      <td>-0.178571</td>\n",
       "      <td>-0.428571</td>\n",
       "      <td>0.321429</td>\n",
       "    </tr>\n",
       "    <tr>\n",
       "      <th>storeshop</th>\n",
       "      <td>0.535714</td>\n",
       "      <td>1.000000</td>\n",
       "      <td>0.678571</td>\n",
       "      <td>-0.821429</td>\n",
       "      <td>-0.035714</td>\n",
       "      <td>-0.428571</td>\n",
       "      <td>0.535714</td>\n",
       "    </tr>\n",
       "    <tr>\n",
       "      <th>employ</th>\n",
       "      <td>0.464286</td>\n",
       "      <td>0.678571</td>\n",
       "      <td>1.000000</td>\n",
       "      <td>-0.928571</td>\n",
       "      <td>0.607143</td>\n",
       "      <td>-0.857143</td>\n",
       "      <td>0.928571</td>\n",
       "    </tr>\n",
       "    <tr>\n",
       "      <th>income</th>\n",
       "      <td>-0.642857</td>\n",
       "      <td>-0.821429</td>\n",
       "      <td>-0.928571</td>\n",
       "      <td>1.000000</td>\n",
       "      <td>-0.321429</td>\n",
       "      <td>0.785714</td>\n",
       "      <td>-0.821429</td>\n",
       "    </tr>\n",
       "    <tr>\n",
       "      <th>location</th>\n",
       "      <td>-0.178571</td>\n",
       "      <td>-0.035714</td>\n",
       "      <td>0.607143</td>\n",
       "      <td>-0.321429</td>\n",
       "      <td>1.000000</td>\n",
       "      <td>-0.750000</td>\n",
       "      <td>0.785714</td>\n",
       "    </tr>\n",
       "    <tr>\n",
       "      <th>size</th>\n",
       "      <td>-0.428571</td>\n",
       "      <td>-0.428571</td>\n",
       "      <td>-0.857143</td>\n",
       "      <td>0.785714</td>\n",
       "      <td>-0.750000</td>\n",
       "      <td>1.000000</td>\n",
       "      <td>-0.964286</td>\n",
       "    </tr>\n",
       "    <tr>\n",
       "      <th>age</th>\n",
       "      <td>0.321429</td>\n",
       "      <td>0.535714</td>\n",
       "      <td>0.928571</td>\n",
       "      <td>-0.821429</td>\n",
       "      <td>0.785714</td>\n",
       "      <td>-0.964286</td>\n",
       "      <td>1.000000</td>\n",
       "    </tr>\n",
       "  </tbody>\n",
       "</table>\n",
       "</div>"
      ],
      "text/plain": [
       "           homeshop  storeshop    employ    income  location      size  \\\n",
       "homeshop   1.000000   0.535714  0.464286 -0.642857 -0.178571 -0.428571   \n",
       "storeshop  0.535714   1.000000  0.678571 -0.821429 -0.035714 -0.428571   \n",
       "employ     0.464286   0.678571  1.000000 -0.928571  0.607143 -0.857143   \n",
       "income    -0.642857  -0.821429 -0.928571  1.000000 -0.321429  0.785714   \n",
       "location  -0.178571  -0.035714  0.607143 -0.321429  1.000000 -0.750000   \n",
       "size      -0.428571  -0.428571 -0.857143  0.785714 -0.750000  1.000000   \n",
       "age        0.321429   0.535714  0.928571 -0.821429  0.785714 -0.964286   \n",
       "\n",
       "                age  \n",
       "homeshop   0.321429  \n",
       "storeshop  0.535714  \n",
       "employ     0.928571  \n",
       "income    -0.821429  \n",
       "location   0.785714  \n",
       "size      -0.964286  \n",
       "age        1.000000  "
      ]
     },
     "execution_count": 46,
     "metadata": {},
     "output_type": "execute_result"
    }
   ],
   "source": [
    "df.corr('spearman')"
   ]
  },
  {
   "cell_type": "code",
   "execution_count": 42,
   "id": "ffa5712f",
   "metadata": {},
   "outputs": [],
   "source": [
    "pearson = df.corr('pearson')"
   ]
  },
  {
   "cell_type": "code",
   "execution_count": 44,
   "id": "7cef399c",
   "metadata": {},
   "outputs": [
    {
     "data": {
      "image/png": "[encoded data removed]",
      "text/plain": [
       "<Figure size 864x432 with 2 Axes>"
      ]
     },
     "metadata": {},
     "output_type": "display_data"
    }
   ],
   "source": [
    "# Correlation !\n",
    "\n",
    "df = pd.DataFrame(pearson)\n",
    "\n",
    "plt.figure(figsize=(12,6))\n",
    "corrMatrix = df.corr()\n",
    "sns.heatmap(corrMatrix, annot=True)\n",
    "plt.show()"
   ]
  },
  {
   "cell_type": "code",
   "execution_count": 25,
   "id": "85958bb0",
   "metadata": {},
   "outputs": [
    {
     "data": {
      "image/png": "[encoded data removed]",
      "text/plain": [
       "<Figure size 432x288 with 9 Axes>"
      ]
     },
     "metadata": {},
     "output_type": "display_data"
    }
   ],
   "source": [
    "# histogram\n",
    "\n",
    "df.hist()\n",
    "plt.show()"
   ]
  },
  {
   "cell_type": "code",
   "execution_count": 26,
   "id": "cb8902cd",
   "metadata": {},
   "outputs": [
    {
     "name": "stderr",
     "output_type": "stream",
     "text": [
      "c:\\python38\\lib\\site-packages\\seaborn\\distributions.py:2619: FutureWarning: `distplot` is a deprecated function and will be removed in a future version. Please adapt your code to use either `displot` (a figure-level function with similar flexibility) or `histplot` (an axes-level function for histograms).\n",
      "  warnings.warn(msg, FutureWarning)\n"
     ]
    },
    {
     "data": {
      "image/png": "[encoded data removed]",
      "text/plain": [
       "<Figure size 720x360 with 1 Axes>"
      ]
     },
     "metadata": {},
     "output_type": "display_data"
    }
   ],
   "source": [
    "# displot (check: bell curve)\n",
    "\n",
    "\n",
    "plt.figure(figsize=(10,5))\n",
    "sns.set_theme(style=\"whitegrid\", color_codes=True)\n",
    "sns.distplot(df)\n",
    "plt.show()            "
   ]
  },
  {
   "cell_type": "code",
   "execution_count": 49,
   "id": "58c0e9d0",
   "metadata": {},
   "outputs": [
    {
     "data": {
      "text/plain": [
       "KMeans(n_clusters=3)"
      ]
     },
     "execution_count": 49,
     "metadata": {},
     "output_type": "execute_result"
    }
   ],
   "source": [
    "from sklearn.cluster import KMeans\n",
    "\n",
    "k_mean = KMeans(n_clusters=3)\n",
    "k_mean"
   ]
  },
  {
   "cell_type": "code",
   "execution_count": null,
   "id": "a9efc5b6",
   "metadata": {},
   "outputs": [],
   "source": []
  }
 ],
 "metadata": {
  "kernelspec": {
   "display_name": "Python 3 (ipykernel)",
   "language": "python",
   "name": "python3"
  },
  "language_info": {
   "codemirror_mode": {
    "name": "ipython",
    "version": 3
   },
   "file_extension": ".py",
   "mimetype": "text/x-python",
   "name": "python",
   "nbconvert_exporter": "python",
   "pygments_lexer": "ipython3",
   "version": "3.8.2"
  }
 },
 "nbformat": 4,
 "nbformat_minor": 5
}
