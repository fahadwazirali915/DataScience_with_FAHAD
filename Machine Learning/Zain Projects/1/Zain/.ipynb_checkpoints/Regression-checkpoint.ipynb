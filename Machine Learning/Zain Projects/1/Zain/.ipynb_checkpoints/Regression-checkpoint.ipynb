{
 "cells": [
  {
   "cell_type": "markdown",
   "id": "7e2a74e4",
   "metadata": {},
   "source": [
    "<a class=\"anchor\" id=\"0.1\"></a>\n",
    "## Table of Content\n",
    "1.\t[Data Analysis](#1)\n",
    "   - 1.1 [Missing Values](#1.1)\n",
    "   - 1.2 [Numerical Features](#1.2)\n",
    "        - 1.2.1 [Discrete Variable](#1.2.1)\n",
    "        - 1.2.2 [Continous Variable](#1.2.2)\n",
    "   - 1.3 [Categorical feature ](#1.3)\n",
    "2.\t[Feature Engineering](#2)\n",
    "   - 2.1 [Encoding of categorical Features ](#2.1)\n",
    "   - 2.2 [Feature Scaling ](#2.2)\n",
    "   - 2.3 [Seprate the depedent and independent variable](#2.3)\n",
    "3.\t[Model Building](#3)\n",
    "   - 3.1 [Train Test Split ](#3.1)\n",
    "   - 3.2 [KNN(K_Nearest_Neighbour)](#3.2)\n",
    "        - 4.2.1 [Implementation of Model ](#3.2.1)\n",
    "        - 4.2.2 [Evaluataion of Model](#3.2.2)\n",
    "   - 3.3 [Polynomial Regression ](#3.3)\n",
    "        - 4.2.1 [Implementation of Model ](#3.3.1)\n",
    "        - 4.2.2 [Evaluataion of Model](#3.3.2) \n",
    "   - 3.4 [Decesion Tree](#3.4)\n",
    "        - 4.2.1 [Implementation of Model ](#3.4.1)\n",
    "        - 4.2.2 [Evaluataion of Model](#3.4.2)\n",
    "   - 3.5 [Random Forest](#3.5)\n",
    "        - 4.2.1 [Implementation of Model ](#3.5.1)\n",
    "        - 4.2.2 [Evaluataion of Model](#3.5.2)\n",
    "   - 3.6 [Support Vector Machine (Linear) ](#3.6)\n",
    "        - 4.3.1 [Implementation of Model ](#3.6.1)\n",
    "        - 4.3.2 [Evaluataion of Model](#3.6.2)\n",
    "   - 3.7 [Support Vector Machine (RBF) ](#3.7)\n",
    "        - 4.3.1 [Implementation of Model ](#3.7.1)\n",
    "        - 4.3.2 [Evaluataion of Model](#3.7.2)\n",
    "   - 3.8 [Artificial Neural Network](#3.8)\n",
    "        - 4.3.1 [Implementation of Model ](#3.8.1)\n",
    "        - 4.3.2 [Evaluataion of Model](#3.8.2)\n",
    "5.\t[Predict Results Score](#4)\n",
    "       \n",
    "   "
   ]
  },
  {
   "cell_type": "markdown",
   "id": "8df3a4d7",
   "metadata": {},
   "source": [
    " ## **1: Data Analysis Phase** <a class=\"anchor\" id=\"1\"></a>"
   ]
  },
  {
   "cell_type": "markdown",
   "id": "4d62e116",
   "metadata": {},
   "source": [
    "### Import Libraries"
   ]
  },
  {
   "cell_type": "code",
   "execution_count": 1,
   "id": "95ef2127",
   "metadata": {},
   "outputs": [],
   "source": [
    "import pandas as pd\n",
    "import matplotlib.pyplot as plt\n",
    "import seaborn as sns\n",
    "import numpy as np\n",
    "from sklearn.preprocessing import OneHotEncoder\n",
    "from sklearn.preprocessing import LabelEncoder\n",
    "from sklearn.preprocessing import MinMaxScaler\n",
    "from sklearn.model_selection import train_test_split"
   ]
  },
  {
   "cell_type": "code",
   "execution_count": 2,
   "id": "aa44e429",
   "metadata": {},
   "outputs": [
    {
     "data": {
      "text/html": [
       "<div>\n",
       "<style scoped>\n",
       "    .dataframe tbody tr th:only-of-type {\n",
       "        vertical-align: middle;\n",
       "    }\n",
       "\n",
       "    .dataframe tbody tr th {\n",
       "        vertical-align: top;\n",
       "    }\n",
       "\n",
       "    .dataframe thead th {\n",
       "        text-align: right;\n",
       "    }\n",
       "</style>\n",
       "<table border=\"1\" class=\"dataframe\">\n",
       "  <thead>\n",
       "    <tr style=\"text-align: right;\">\n",
       "      <th></th>\n",
       "      <th>Company Name</th>\n",
       "      <th>Coding</th>\n",
       "      <th>Year</th>\n",
       "      <th>ESG Score</th>\n",
       "      <th>Return on Equity</th>\n",
       "      <th>Return on Asset</th>\n",
       "      <th>Earning Per Share</th>\n",
       "      <th>Price/Sales Per Share Ratio</th>\n",
       "      <th>Earning before Interest &amp; Taxes</th>\n",
       "      <th>DIVIDEND YIELD</th>\n",
       "    </tr>\n",
       "  </thead>\n",
       "  <tbody>\n",
       "    <tr>\n",
       "      <th>0</th>\n",
       "      <td>HOME DEPOT</td>\n",
       "      <td>1</td>\n",
       "      <td>2008</td>\n",
       "      <td>65.85</td>\n",
       "      <td>12.74</td>\n",
       "      <td>6.24</td>\n",
       "      <td>1.340</td>\n",
       "      <td>0.54</td>\n",
       "      <td>4.214</td>\n",
       "      <td>3.54</td>\n",
       "    </tr>\n",
       "    <tr>\n",
       "      <th>1</th>\n",
       "      <td>HOME DEPOT</td>\n",
       "      <td>1</td>\n",
       "      <td>2009</td>\n",
       "      <td>53.06</td>\n",
       "      <td>14.32</td>\n",
       "      <td>7.56</td>\n",
       "      <td>1.570</td>\n",
       "      <td>0.74</td>\n",
       "      <td>4.658</td>\n",
       "      <td>4.11</td>\n",
       "    </tr>\n",
       "    <tr>\n",
       "      <th>2</th>\n",
       "      <td>HOME DEPOT</td>\n",
       "      <td>1</td>\n",
       "      <td>2010</td>\n",
       "      <td>59.78</td>\n",
       "      <td>17.44</td>\n",
       "      <td>9.10</td>\n",
       "      <td>2.010</td>\n",
       "      <td>0.85</td>\n",
       "      <td>5.803</td>\n",
       "      <td>3.18</td>\n",
       "    </tr>\n",
       "    <tr>\n",
       "      <th>3</th>\n",
       "      <td>HOME DEPOT</td>\n",
       "      <td>1</td>\n",
       "      <td>2011</td>\n",
       "      <td>60.45</td>\n",
       "      <td>21.11</td>\n",
       "      <td>10.61</td>\n",
       "      <td>2.470</td>\n",
       "      <td>0.94</td>\n",
       "      <td>6.674</td>\n",
       "      <td>2.63</td>\n",
       "    </tr>\n",
       "    <tr>\n",
       "      <th>4</th>\n",
       "      <td>HOME DEPOT</td>\n",
       "      <td>1</td>\n",
       "      <td>2012</td>\n",
       "      <td>68.09</td>\n",
       "      <td>25.42</td>\n",
       "      <td>12.13</td>\n",
       "      <td>3.001</td>\n",
       "      <td>1.25</td>\n",
       "      <td>7.853</td>\n",
       "      <td>2.67</td>\n",
       "    </tr>\n",
       "  </tbody>\n",
       "</table>\n",
       "</div>"
      ],
      "text/plain": [
       "  Company Name  Coding  Year  ESG Score  Return on Equity  Return on Asset  \\\n",
       "0   HOME DEPOT       1  2008      65.85             12.74             6.24   \n",
       "1   HOME DEPOT       1  2009      53.06             14.32             7.56   \n",
       "2   HOME DEPOT       1  2010      59.78             17.44             9.10   \n",
       "3   HOME DEPOT       1  2011      60.45             21.11            10.61   \n",
       "4   HOME DEPOT       1  2012      68.09             25.42            12.13   \n",
       "\n",
       "   Earning Per Share  Price/Sales Per Share Ratio  \\\n",
       "0              1.340                         0.54   \n",
       "1              1.570                         0.74   \n",
       "2              2.010                         0.85   \n",
       "3              2.470                         0.94   \n",
       "4              3.001                         1.25   \n",
       "\n",
       "   Earning before Interest & Taxes  DIVIDEND YIELD  \n",
       "0                            4.214            3.54  \n",
       "1                            4.658            4.11  \n",
       "2                            5.803            3.18  \n",
       "3                            6.674            2.63  \n",
       "4                            7.853            2.67  "
      ]
     },
     "execution_count": 2,
     "metadata": {},
     "output_type": "execute_result"
    }
   ],
   "source": [
    "data = pd.read_excel('Zain Hassan For Prediction.xlsx')\n",
    "data.head()"
   ]
  },
  {
   "cell_type": "code",
   "execution_count": 3,
   "id": "586f1ed2",
   "metadata": {},
   "outputs": [
    {
     "data": {
      "text/plain": [
       "(1300, 10)"
      ]
     },
     "execution_count": 3,
     "metadata": {},
     "output_type": "execute_result"
    }
   ],
   "source": [
    "data.shape"
   ]
  },
  {
   "cell_type": "markdown",
   "id": "94d84e18",
   "metadata": {},
   "source": [
    " ### **Missing Values** <a class=\"anchor\" id=\"1.2.1\"></a>"
   ]
  },
  {
   "cell_type": "code",
   "execution_count": 4,
   "id": "562f343a",
   "metadata": {},
   "outputs": [
    {
     "name": "stdout",
     "output_type": "stream",
     "text": [
      "There is no Null Values\n"
     ]
    }
   ],
   "source": [
    "for feature in data:\n",
    "    if data[feature].isnull().sum()>1:\n",
    "        print(feature,\":\", np.round(data[feature].isnull().mean(),4),'%')\n",
    "    \n",
    "else:\n",
    "     print(\"There is no Null Values\")"
   ]
  },
  {
   "cell_type": "code",
   "execution_count": 5,
   "id": "463a1e0b",
   "metadata": {},
   "outputs": [
    {
     "data": {
      "text/plain": [
       "Company Name                       0\n",
       "Coding                             0\n",
       "Year                               0\n",
       "ESG Score                          0\n",
       "Return on Equity                   0\n",
       "Return on Asset                    0\n",
       "Earning Per Share                  0\n",
       "Price/Sales Per Share Ratio        0\n",
       "Earning before Interest & Taxes    0\n",
       "DIVIDEND YIELD                     0\n",
       "dtype: int64"
      ]
     },
     "execution_count": 5,
     "metadata": {},
     "output_type": "execute_result"
    }
   ],
   "source": [
    "data.isnull().sum()"
   ]
  },
  {
   "cell_type": "markdown",
   "id": "fd7747f6",
   "metadata": {},
   "source": [
    " ### **Numerical Features** <a class=\"anchor\" id=\"1.2\"></a>"
   ]
  },
  {
   "cell_type": "code",
   "execution_count": 6,
   "id": "db496019",
   "metadata": {},
   "outputs": [
    {
     "name": "stdout",
     "output_type": "stream",
     "text": [
      "The length of Numerical_values is : 9\n"
     ]
    },
    {
     "data": {
      "text/html": [
       "<div>\n",
       "<style scoped>\n",
       "    .dataframe tbody tr th:only-of-type {\n",
       "        vertical-align: middle;\n",
       "    }\n",
       "\n",
       "    .dataframe tbody tr th {\n",
       "        vertical-align: top;\n",
       "    }\n",
       "\n",
       "    .dataframe thead th {\n",
       "        text-align: right;\n",
       "    }\n",
       "</style>\n",
       "<table border=\"1\" class=\"dataframe\">\n",
       "  <thead>\n",
       "    <tr style=\"text-align: right;\">\n",
       "      <th></th>\n",
       "      <th>Coding</th>\n",
       "      <th>Year</th>\n",
       "      <th>ESG Score</th>\n",
       "      <th>Return on Equity</th>\n",
       "      <th>Return on Asset</th>\n",
       "      <th>Earning Per Share</th>\n",
       "      <th>Price/Sales Per Share Ratio</th>\n",
       "      <th>Earning before Interest &amp; Taxes</th>\n",
       "      <th>DIVIDEND YIELD</th>\n",
       "    </tr>\n",
       "  </thead>\n",
       "  <tbody>\n",
       "    <tr>\n",
       "      <th>0</th>\n",
       "      <td>1</td>\n",
       "      <td>2008</td>\n",
       "      <td>65.85</td>\n",
       "      <td>12.74</td>\n",
       "      <td>6.24</td>\n",
       "      <td>1.340</td>\n",
       "      <td>0.54</td>\n",
       "      <td>4.214</td>\n",
       "      <td>3.54</td>\n",
       "    </tr>\n",
       "    <tr>\n",
       "      <th>1</th>\n",
       "      <td>1</td>\n",
       "      <td>2009</td>\n",
       "      <td>53.06</td>\n",
       "      <td>14.32</td>\n",
       "      <td>7.56</td>\n",
       "      <td>1.570</td>\n",
       "      <td>0.74</td>\n",
       "      <td>4.658</td>\n",
       "      <td>4.11</td>\n",
       "    </tr>\n",
       "    <tr>\n",
       "      <th>2</th>\n",
       "      <td>1</td>\n",
       "      <td>2010</td>\n",
       "      <td>59.78</td>\n",
       "      <td>17.44</td>\n",
       "      <td>9.10</td>\n",
       "      <td>2.010</td>\n",
       "      <td>0.85</td>\n",
       "      <td>5.803</td>\n",
       "      <td>3.18</td>\n",
       "    </tr>\n",
       "    <tr>\n",
       "      <th>3</th>\n",
       "      <td>1</td>\n",
       "      <td>2011</td>\n",
       "      <td>60.45</td>\n",
       "      <td>21.11</td>\n",
       "      <td>10.61</td>\n",
       "      <td>2.470</td>\n",
       "      <td>0.94</td>\n",
       "      <td>6.674</td>\n",
       "      <td>2.63</td>\n",
       "    </tr>\n",
       "    <tr>\n",
       "      <th>4</th>\n",
       "      <td>1</td>\n",
       "      <td>2012</td>\n",
       "      <td>68.09</td>\n",
       "      <td>25.42</td>\n",
       "      <td>12.13</td>\n",
       "      <td>3.001</td>\n",
       "      <td>1.25</td>\n",
       "      <td>7.853</td>\n",
       "      <td>2.67</td>\n",
       "    </tr>\n",
       "  </tbody>\n",
       "</table>\n",
       "</div>"
      ],
      "text/plain": [
       "   Coding  Year  ESG Score  Return on Equity  Return on Asset  \\\n",
       "0       1  2008      65.85             12.74             6.24   \n",
       "1       1  2009      53.06             14.32             7.56   \n",
       "2       1  2010      59.78             17.44             9.10   \n",
       "3       1  2011      60.45             21.11            10.61   \n",
       "4       1  2012      68.09             25.42            12.13   \n",
       "\n",
       "   Earning Per Share  Price/Sales Per Share Ratio  \\\n",
       "0              1.340                         0.54   \n",
       "1              1.570                         0.74   \n",
       "2              2.010                         0.85   \n",
       "3              2.470                         0.94   \n",
       "4              3.001                         1.25   \n",
       "\n",
       "   Earning before Interest & Taxes  DIVIDEND YIELD  \n",
       "0                            4.214            3.54  \n",
       "1                            4.658            4.11  \n",
       "2                            5.803            3.18  \n",
       "3                            6.674            2.63  \n",
       "4                            7.853            2.67  "
      ]
     },
     "execution_count": 6,
     "metadata": {},
     "output_type": "execute_result"
    }
   ],
   "source": [
    "numerical_features = [feature for feature in data.columns if data[feature].dtypes != 'O']\n",
    "print(\"The length of Numerical_values is :\",len(numerical_features))\n",
    "data[numerical_features].head()"
   ]
  },
  {
   "cell_type": "markdown",
   "id": "8b3ed265",
   "metadata": {},
   "source": [
    " #### **Discrete Variable** <a class=\"anchor\" id=\"1.2.1\"></a>"
   ]
  },
  {
   "cell_type": "code",
   "execution_count": 7,
   "id": "79770ea4",
   "metadata": {},
   "outputs": [
    {
     "name": "stdout",
     "output_type": "stream",
     "text": [
      "The Discrete feature is : 1\n"
     ]
    },
    {
     "data": {
      "text/plain": [
       "['Year']"
      ]
     },
     "execution_count": 7,
     "metadata": {},
     "output_type": "execute_result"
    }
   ],
   "source": [
    "discrete_Feature = [feature for feature in numerical_features if len(data[feature].unique())<25]\n",
    "\n",
    "print(\"The Discrete feature is :\",len(discrete_Feature))\n",
    "discrete_Feature"
   ]
  },
  {
   "cell_type": "markdown",
   "id": "7ed5f9a0",
   "metadata": {},
   "source": [
    " #### **Continous Variable** <a class=\"anchor\" id=\"1.2.2\"></a>"
   ]
  },
  {
   "cell_type": "code",
   "execution_count": 8,
   "id": "463e6c79",
   "metadata": {},
   "outputs": [
    {
     "name": "stdout",
     "output_type": "stream",
     "text": [
      "The Continous feature is : 8\n"
     ]
    },
    {
     "data": {
      "text/plain": [
       "['Coding',\n",
       " 'ESG Score',\n",
       " 'Return on Equity',\n",
       " 'Return on Asset',\n",
       " 'Earning Per Share',\n",
       " 'Price/Sales Per Share Ratio',\n",
       " 'Earning before Interest & Taxes',\n",
       " 'DIVIDEND YIELD']"
      ]
     },
     "execution_count": 8,
     "metadata": {},
     "output_type": "execute_result"
    }
   ],
   "source": [
    "continous_Feature = [feature for feature in numerical_features if feature not in discrete_Feature ]\n",
    "\n",
    "print(\"The Continous feature is :\",len(continous_Feature))\n",
    "continous_Feature"
   ]
  },
  {
   "cell_type": "code",
   "execution_count": 9,
   "id": "83cf1a75",
   "metadata": {},
   "outputs": [
    {
     "data": {
      "text/html": [
       "<div>\n",
       "<style scoped>\n",
       "    .dataframe tbody tr th:only-of-type {\n",
       "        vertical-align: middle;\n",
       "    }\n",
       "\n",
       "    .dataframe tbody tr th {\n",
       "        vertical-align: top;\n",
       "    }\n",
       "\n",
       "    .dataframe thead th {\n",
       "        text-align: right;\n",
       "    }\n",
       "</style>\n",
       "<table border=\"1\" class=\"dataframe\">\n",
       "  <thead>\n",
       "    <tr style=\"text-align: right;\">\n",
       "      <th></th>\n",
       "      <th>Coding</th>\n",
       "      <th>ESG Score</th>\n",
       "      <th>Return on Equity</th>\n",
       "      <th>Return on Asset</th>\n",
       "      <th>Earning Per Share</th>\n",
       "      <th>Price/Sales Per Share Ratio</th>\n",
       "      <th>Earning before Interest &amp; Taxes</th>\n",
       "      <th>DIVIDEND YIELD</th>\n",
       "    </tr>\n",
       "  </thead>\n",
       "  <tbody>\n",
       "    <tr>\n",
       "      <th>0</th>\n",
       "      <td>1</td>\n",
       "      <td>65.85</td>\n",
       "      <td>12.74</td>\n",
       "      <td>6.24</td>\n",
       "      <td>1.340</td>\n",
       "      <td>0.54</td>\n",
       "      <td>4.214</td>\n",
       "      <td>3.54</td>\n",
       "    </tr>\n",
       "    <tr>\n",
       "      <th>1</th>\n",
       "      <td>1</td>\n",
       "      <td>53.06</td>\n",
       "      <td>14.32</td>\n",
       "      <td>7.56</td>\n",
       "      <td>1.570</td>\n",
       "      <td>0.74</td>\n",
       "      <td>4.658</td>\n",
       "      <td>4.11</td>\n",
       "    </tr>\n",
       "    <tr>\n",
       "      <th>2</th>\n",
       "      <td>1</td>\n",
       "      <td>59.78</td>\n",
       "      <td>17.44</td>\n",
       "      <td>9.10</td>\n",
       "      <td>2.010</td>\n",
       "      <td>0.85</td>\n",
       "      <td>5.803</td>\n",
       "      <td>3.18</td>\n",
       "    </tr>\n",
       "    <tr>\n",
       "      <th>3</th>\n",
       "      <td>1</td>\n",
       "      <td>60.45</td>\n",
       "      <td>21.11</td>\n",
       "      <td>10.61</td>\n",
       "      <td>2.470</td>\n",
       "      <td>0.94</td>\n",
       "      <td>6.674</td>\n",
       "      <td>2.63</td>\n",
       "    </tr>\n",
       "    <tr>\n",
       "      <th>4</th>\n",
       "      <td>1</td>\n",
       "      <td>68.09</td>\n",
       "      <td>25.42</td>\n",
       "      <td>12.13</td>\n",
       "      <td>3.001</td>\n",
       "      <td>1.25</td>\n",
       "      <td>7.853</td>\n",
       "      <td>2.67</td>\n",
       "    </tr>\n",
       "  </tbody>\n",
       "</table>\n",
       "</div>"
      ],
      "text/plain": [
       "   Coding  ESG Score  Return on Equity  Return on Asset  Earning Per Share  \\\n",
       "0       1      65.85             12.74             6.24              1.340   \n",
       "1       1      53.06             14.32             7.56              1.570   \n",
       "2       1      59.78             17.44             9.10              2.010   \n",
       "3       1      60.45             21.11            10.61              2.470   \n",
       "4       1      68.09             25.42            12.13              3.001   \n",
       "\n",
       "   Price/Sales Per Share Ratio  Earning before Interest & Taxes  \\\n",
       "0                         0.54                            4.214   \n",
       "1                         0.74                            4.658   \n",
       "2                         0.85                            5.803   \n",
       "3                         0.94                            6.674   \n",
       "4                         1.25                            7.853   \n",
       "\n",
       "   DIVIDEND YIELD  \n",
       "0            3.54  \n",
       "1            4.11  \n",
       "2            3.18  \n",
       "3            2.63  \n",
       "4            2.67  "
      ]
     },
     "execution_count": 9,
     "metadata": {},
     "output_type": "execute_result"
    }
   ],
   "source": [
    "data[continous_Feature].head()"
   ]
  },
  {
   "cell_type": "markdown",
   "id": "e6a5abd2",
   "metadata": {},
   "source": [
    "  ### **Categorical feature** <a class=\"anchor\" id=\"1.3\"></a>"
   ]
  },
  {
   "cell_type": "code",
   "execution_count": 10,
   "id": "4b677bf7",
   "metadata": {},
   "outputs": [
    {
     "name": "stdout",
     "output_type": "stream",
     "text": [
      "1\n"
     ]
    },
    {
     "data": {
      "text/plain": [
       "['Company Name']"
      ]
     },
     "execution_count": 10,
     "metadata": {},
     "output_type": "execute_result"
    }
   ],
   "source": [
    "categorical_feature = [feature for feature in data.columns if data[feature].dtypes ==\"O\"]\n",
    "print(len(categorical_feature))\n",
    "categorical_feature"
   ]
  },
  {
   "cell_type": "code",
   "execution_count": 11,
   "id": "e86b73d5",
   "metadata": {},
   "outputs": [
    {
     "data": {
      "text/html": [
       "<div>\n",
       "<style scoped>\n",
       "    .dataframe tbody tr th:only-of-type {\n",
       "        vertical-align: middle;\n",
       "    }\n",
       "\n",
       "    .dataframe tbody tr th {\n",
       "        vertical-align: top;\n",
       "    }\n",
       "\n",
       "    .dataframe thead th {\n",
       "        text-align: right;\n",
       "    }\n",
       "</style>\n",
       "<table border=\"1\" class=\"dataframe\">\n",
       "  <thead>\n",
       "    <tr style=\"text-align: right;\">\n",
       "      <th></th>\n",
       "      <th>Company Name</th>\n",
       "    </tr>\n",
       "  </thead>\n",
       "  <tbody>\n",
       "    <tr>\n",
       "      <th>0</th>\n",
       "      <td>HOME DEPOT</td>\n",
       "    </tr>\n",
       "    <tr>\n",
       "      <th>1</th>\n",
       "      <td>HOME DEPOT</td>\n",
       "    </tr>\n",
       "    <tr>\n",
       "      <th>2</th>\n",
       "      <td>HOME DEPOT</td>\n",
       "    </tr>\n",
       "    <tr>\n",
       "      <th>3</th>\n",
       "      <td>HOME DEPOT</td>\n",
       "    </tr>\n",
       "    <tr>\n",
       "      <th>4</th>\n",
       "      <td>HOME DEPOT</td>\n",
       "    </tr>\n",
       "  </tbody>\n",
       "</table>\n",
       "</div>"
      ],
      "text/plain": [
       "  Company Name\n",
       "0   HOME DEPOT\n",
       "1   HOME DEPOT\n",
       "2   HOME DEPOT\n",
       "3   HOME DEPOT\n",
       "4   HOME DEPOT"
      ]
     },
     "execution_count": 11,
     "metadata": {},
     "output_type": "execute_result"
    }
   ],
   "source": [
    "data[categorical_feature].head()"
   ]
  },
  {
   "cell_type": "markdown",
   "id": "0e9e686a",
   "metadata": {},
   "source": [
    " ## **Feature Engineering** <a class=\"anchor\" id=\"2\"></a>"
   ]
  },
  {
   "cell_type": "markdown",
   "id": "eacfceb3",
   "metadata": {},
   "source": [
    " ### **Encoding of categorical Features** <a class=\"anchor\" id=\"2.1\"></a>"
   ]
  },
  {
   "cell_type": "code",
   "execution_count": 12,
   "id": "d4d8cb33",
   "metadata": {},
   "outputs": [],
   "source": [
    "label_encoder = LabelEncoder()\n",
    "one_hot_encoder = OneHotEncoder()"
   ]
  },
  {
   "cell_type": "code",
   "execution_count": 13,
   "id": "f51c940d",
   "metadata": {},
   "outputs": [
    {
     "name": "stdout",
     "output_type": "stream",
     "text": [
      "['HOME DEPOT' 'WALMART' 'EXXON MOBIL' 'WALT DISNEY' 'COCA COLA' 'CHEVRON'\n",
      " 'ABBOTT LABORATORIES' 'THERMO FISHER SCIENTIFIC' 'VERIZON COMMUNICATIONS'\n",
      " 'DANAHER' 'AT&T ' 'LINDE ' 'NEXTERA ENERGY ' \"LOWE'S COMPANIES \"\n",
      " 'UNION PACIFIC ' \"UNITED PARCEL SER.'B'\" 'MEDTRONIC' 'CVS HEALTH '\n",
      " 'RAYTHEON TECHNOLOGIES' 'BOEING' 'GENERAL ELECTRIC ' 'CONOCOPHILLIPS'\n",
      " 'TARGET' 'FORD MOTOR' '3M' 'GENERAL MOTORS' 'LOCKHEED MARTIN'\n",
      " 'PARKER-HANNIFIN' 'STRYKER' 'TJX ' 'DUKE ENERGY' 'EDWARDS LIFESCIENCES'\n",
      " 'ILLINOIS TOOL WORKS' 'SOUTHERN' 'BECTON DICKINSON' 'FEDEX'\n",
      " 'NORFOLK SOUTHERN' 'DOMINION ENERGY' 'EATON' 'AIR PRDS.& CHEMS' 'ECOLAB'\n",
      " 'NORTHROP GRUMMAN' 'BOSTON SCIENTIFIC' 'EDISON INTL.' 'EMERSON ELECTRIC'\n",
      " 'EOG RES.' 'GENERAL DYNAMICS ' 'DOLLAR GENERAL'\n",
      " 'ENTERPRISE PRDS.PTNS.LP.' 'SCHLUMBERGER' \"AMPHENOL 'A' \" 'NEWMONT'\n",
      " 'PIONEER NTRL.RES.' 'TE CONNECTIVITY' 'AGILENT TECHS.' 'BAXTER INTL. '\n",
      " 'GENERAL MILLS ' 'SEMPRA' 'SYSCO' 'D R HORTON' 'EVERSOURCE ENERGY '\n",
      " 'KROGER' 'L3HARRIS TECHNOLOGIES ' 'MCKESSON' 'WILLIAMS' 'BEST BUY'\n",
      " 'CONSOLIDATED EDISON ' 'INTL.FLAVORS & FRAG.' 'NUCOR' 'PUB.SER.ENTER.GP'\n",
      " 'SM ENERGY ' 'SPX' 'WEC ENERGY GROUP ' 'AMERICAN WATER WORKS' 'BALL'\n",
      " 'CORNING ' 'DEVON ENERGY' \"LENNAR 'A'\" 'OCCIDENTAL PTL' 'ONEOK '\n",
      " 'ALBEMARLE ' 'CHURCH & DWIGHT CO. ' 'DOVER' 'GARMIN' 'HERSHEY'\n",
      " 'HORMEL FOODS' 'MARTIN MRTA.MATS.' 'PPL' \"TYSON FOODS 'A'\"\n",
      " 'VULCAN MATERIALS' 'AMEREN' \"BROWN-FORMAN 'B'\" 'DTE ENERGY ' 'ENTERGY'\n",
      " 'FIRSTENERGY' 'HALLIBURTON' 'INTERNATIONAL PAPER'\n",
      " 'MCCORMICK & COMPANY NV.' 'OMNICOM GROUP' 'PERKINELMER']\n",
      "[51 96 40 97 18 16  1 89 94 24  8 59 67 61 92 93 65 22 79 13 46 19 87 43\n",
      "  0 48 60 74 85 90 30 34 53 83 11 41 68 27 31  3 32 69 14 33 35 38 45 26\n",
      " 37 80  7 66 76 88  2 10 47 81 86 23 39 56 57 64 99 12 20 55 70 78 82 84\n",
      " 98  6  9 21 25 58 71 73  4 17 28 44 50 52 62 77 91 95  5 15 29 36 42 49\n",
      " 54 63 72 75]\n"
     ]
    }
   ],
   "source": [
    "for feature in categorical_feature:\n",
    "    print(data[feature].unique())\n",
    "    data[feature]=label_encoder.fit_transform(data[feature])\n",
    "    print(data[feature].unique())"
   ]
  },
  {
   "cell_type": "markdown",
   "id": "44606ce1",
   "metadata": {},
   "source": [
    "  ### **Feature Scaling** <a class=\"anchor\" id=\"2.2\"></a>"
   ]
  },
  {
   "cell_type": "code",
   "execution_count": 14,
   "id": "f6571957",
   "metadata": {},
   "outputs": [
    {
     "data": {
      "text/html": [
       "<div>\n",
       "<style scoped>\n",
       "    .dataframe tbody tr th:only-of-type {\n",
       "        vertical-align: middle;\n",
       "    }\n",
       "\n",
       "    .dataframe tbody tr th {\n",
       "        vertical-align: top;\n",
       "    }\n",
       "\n",
       "    .dataframe thead th {\n",
       "        text-align: right;\n",
       "    }\n",
       "</style>\n",
       "<table border=\"1\" class=\"dataframe\">\n",
       "  <thead>\n",
       "    <tr style=\"text-align: right;\">\n",
       "      <th></th>\n",
       "      <th>Company Name</th>\n",
       "      <th>Coding</th>\n",
       "      <th>Year</th>\n",
       "      <th>ESG Score</th>\n",
       "      <th>Return on Equity</th>\n",
       "      <th>Return on Asset</th>\n",
       "      <th>Earning Per Share</th>\n",
       "      <th>Price/Sales Per Share Ratio</th>\n",
       "      <th>Earning before Interest &amp; Taxes</th>\n",
       "      <th>DIVIDEND YIELD</th>\n",
       "    </tr>\n",
       "  </thead>\n",
       "  <tbody>\n",
       "    <tr>\n",
       "      <th>0</th>\n",
       "      <td>51</td>\n",
       "      <td>1</td>\n",
       "      <td>2008</td>\n",
       "      <td>65.85</td>\n",
       "      <td>12.74</td>\n",
       "      <td>6.24</td>\n",
       "      <td>1.340</td>\n",
       "      <td>0.54</td>\n",
       "      <td>4.214</td>\n",
       "      <td>3.54</td>\n",
       "    </tr>\n",
       "    <tr>\n",
       "      <th>1</th>\n",
       "      <td>51</td>\n",
       "      <td>1</td>\n",
       "      <td>2009</td>\n",
       "      <td>53.06</td>\n",
       "      <td>14.32</td>\n",
       "      <td>7.56</td>\n",
       "      <td>1.570</td>\n",
       "      <td>0.74</td>\n",
       "      <td>4.658</td>\n",
       "      <td>4.11</td>\n",
       "    </tr>\n",
       "    <tr>\n",
       "      <th>2</th>\n",
       "      <td>51</td>\n",
       "      <td>1</td>\n",
       "      <td>2010</td>\n",
       "      <td>59.78</td>\n",
       "      <td>17.44</td>\n",
       "      <td>9.10</td>\n",
       "      <td>2.010</td>\n",
       "      <td>0.85</td>\n",
       "      <td>5.803</td>\n",
       "      <td>3.18</td>\n",
       "    </tr>\n",
       "    <tr>\n",
       "      <th>3</th>\n",
       "      <td>51</td>\n",
       "      <td>1</td>\n",
       "      <td>2011</td>\n",
       "      <td>60.45</td>\n",
       "      <td>21.11</td>\n",
       "      <td>10.61</td>\n",
       "      <td>2.470</td>\n",
       "      <td>0.94</td>\n",
       "      <td>6.674</td>\n",
       "      <td>2.63</td>\n",
       "    </tr>\n",
       "    <tr>\n",
       "      <th>4</th>\n",
       "      <td>51</td>\n",
       "      <td>1</td>\n",
       "      <td>2012</td>\n",
       "      <td>68.09</td>\n",
       "      <td>25.42</td>\n",
       "      <td>12.13</td>\n",
       "      <td>3.001</td>\n",
       "      <td>1.25</td>\n",
       "      <td>7.853</td>\n",
       "      <td>2.67</td>\n",
       "    </tr>\n",
       "  </tbody>\n",
       "</table>\n",
       "</div>"
      ],
      "text/plain": [
       "   Company Name  Coding  Year  ESG Score  Return on Equity  Return on Asset  \\\n",
       "0            51       1  2008      65.85             12.74             6.24   \n",
       "1            51       1  2009      53.06             14.32             7.56   \n",
       "2            51       1  2010      59.78             17.44             9.10   \n",
       "3            51       1  2011      60.45             21.11            10.61   \n",
       "4            51       1  2012      68.09             25.42            12.13   \n",
       "\n",
       "   Earning Per Share  Price/Sales Per Share Ratio  \\\n",
       "0              1.340                         0.54   \n",
       "1              1.570                         0.74   \n",
       "2              2.010                         0.85   \n",
       "3              2.470                         0.94   \n",
       "4              3.001                         1.25   \n",
       "\n",
       "   Earning before Interest & Taxes  DIVIDEND YIELD  \n",
       "0                            4.214            3.54  \n",
       "1                            4.658            4.11  \n",
       "2                            5.803            3.18  \n",
       "3                            6.674            2.63  \n",
       "4                            7.853            2.67  "
      ]
     },
     "execution_count": 14,
     "metadata": {},
     "output_type": "execute_result"
    }
   ],
   "source": [
    "data.head()"
   ]
  },
  {
   "cell_type": "code",
   "execution_count": 15,
   "id": "08907337",
   "metadata": {},
   "outputs": [],
   "source": [
    "feature_scale =[feature for feature in data.columns if feature not in ['Year','ESG Score ']]\n",
    "scaler = MinMaxScaler()\n",
    "data[feature_scale] = scaler.fit_transform(data[feature_scale])"
   ]
  },
  {
   "cell_type": "code",
   "execution_count": 16,
   "id": "ebf65621",
   "metadata": {},
   "outputs": [
    {
     "data": {
      "text/html": [
       "<div>\n",
       "<style scoped>\n",
       "    .dataframe tbody tr th:only-of-type {\n",
       "        vertical-align: middle;\n",
       "    }\n",
       "\n",
       "    .dataframe tbody tr th {\n",
       "        vertical-align: top;\n",
       "    }\n",
       "\n",
       "    .dataframe thead th {\n",
       "        text-align: right;\n",
       "    }\n",
       "</style>\n",
       "<table border=\"1\" class=\"dataframe\">\n",
       "  <thead>\n",
       "    <tr style=\"text-align: right;\">\n",
       "      <th></th>\n",
       "      <th>Company Name</th>\n",
       "      <th>Coding</th>\n",
       "      <th>ESG Score</th>\n",
       "      <th>Return on Equity</th>\n",
       "      <th>Return on Asset</th>\n",
       "      <th>Earning Per Share</th>\n",
       "      <th>Price/Sales Per Share Ratio</th>\n",
       "      <th>Earning before Interest &amp; Taxes</th>\n",
       "      <th>DIVIDEND YIELD</th>\n",
       "    </tr>\n",
       "  </thead>\n",
       "  <tbody>\n",
       "    <tr>\n",
       "      <th>0</th>\n",
       "      <td>0.515152</td>\n",
       "      <td>0.0</td>\n",
       "      <td>0.732648</td>\n",
       "      <td>0.008042</td>\n",
       "      <td>0.600927</td>\n",
       "      <td>0.613446</td>\n",
       "      <td>0.038168</td>\n",
       "      <td>0.248056</td>\n",
       "      <td>0.200113</td>\n",
       "    </tr>\n",
       "    <tr>\n",
       "      <th>1</th>\n",
       "      <td>0.515152</td>\n",
       "      <td>0.0</td>\n",
       "      <td>0.589695</td>\n",
       "      <td>0.008153</td>\n",
       "      <td>0.620041</td>\n",
       "      <td>0.617318</td>\n",
       "      <td>0.053435</td>\n",
       "      <td>0.251298</td>\n",
       "      <td>0.232335</td>\n",
       "    </tr>\n",
       "    <tr>\n",
       "      <th>2</th>\n",
       "      <td>0.515152</td>\n",
       "      <td>0.0</td>\n",
       "      <td>0.664804</td>\n",
       "      <td>0.008374</td>\n",
       "      <td>0.642340</td>\n",
       "      <td>0.624726</td>\n",
       "      <td>0.061832</td>\n",
       "      <td>0.259656</td>\n",
       "      <td>0.179763</td>\n",
       "    </tr>\n",
       "    <tr>\n",
       "      <th>3</th>\n",
       "      <td>0.515152</td>\n",
       "      <td>0.0</td>\n",
       "      <td>0.672292</td>\n",
       "      <td>0.008633</td>\n",
       "      <td>0.664205</td>\n",
       "      <td>0.632471</td>\n",
       "      <td>0.068702</td>\n",
       "      <td>0.266014</td>\n",
       "      <td>0.148672</td>\n",
       "    </tr>\n",
       "    <tr>\n",
       "      <th>4</th>\n",
       "      <td>0.515152</td>\n",
       "      <td>0.0</td>\n",
       "      <td>0.757684</td>\n",
       "      <td>0.008937</td>\n",
       "      <td>0.686215</td>\n",
       "      <td>0.641412</td>\n",
       "      <td>0.092366</td>\n",
       "      <td>0.274620</td>\n",
       "      <td>0.150933</td>\n",
       "    </tr>\n",
       "  </tbody>\n",
       "</table>\n",
       "</div>"
      ],
      "text/plain": [
       "   Company Name  Coding  ESG Score  Return on Equity  Return on Asset  \\\n",
       "0      0.515152     0.0   0.732648          0.008042         0.600927   \n",
       "1      0.515152     0.0   0.589695          0.008153         0.620041   \n",
       "2      0.515152     0.0   0.664804          0.008374         0.642340   \n",
       "3      0.515152     0.0   0.672292          0.008633         0.664205   \n",
       "4      0.515152     0.0   0.757684          0.008937         0.686215   \n",
       "\n",
       "   Earning Per Share  Price/Sales Per Share Ratio  \\\n",
       "0           0.613446                     0.038168   \n",
       "1           0.617318                     0.053435   \n",
       "2           0.624726                     0.061832   \n",
       "3           0.632471                     0.068702   \n",
       "4           0.641412                     0.092366   \n",
       "\n",
       "   Earning before Interest & Taxes  DIVIDEND YIELD  \n",
       "0                         0.248056        0.200113  \n",
       "1                         0.251298        0.232335  \n",
       "2                         0.259656        0.179763  \n",
       "3                         0.266014        0.148672  \n",
       "4                         0.274620        0.150933  "
      ]
     },
     "execution_count": 16,
     "metadata": {},
     "output_type": "execute_result"
    }
   ],
   "source": [
    "data[feature_scale].head()"
   ]
  },
  {
   "cell_type": "markdown",
   "id": "e7936c04",
   "metadata": {},
   "source": [
    " ### **Seprate the depedent and independent variable** <a class=\"anchor\" id=\"2.3\"></a>"
   ]
  },
  {
   "cell_type": "code",
   "execution_count": 17,
   "id": "c76b1e96",
   "metadata": {},
   "outputs": [],
   "source": [
    "# Seprate the dependent and independent feature\n",
    "\n",
    "# Dependent feature:\n",
    "y= data[[\"ESG Score\"]]\n",
    "\n",
    "# for getting independent feature ,we need to drop Id and salePrice from dataset\n",
    "\n",
    "#independent feature\n",
    "\n",
    "X= data.drop(['Year','ESG Score'],axis=1)"
   ]
  },
  {
   "cell_type": "markdown",
   "id": "4ec95104",
   "metadata": {},
   "source": [
    " ## **Model Building** <a class=\"anchor\" id=\"3\"></a>"
   ]
  },
  {
   "cell_type": "markdown",
   "id": "514c07a2",
   "metadata": {},
   "source": [
    "  ### **Train Test Split** <a class=\"anchor\" id=\"3.1\"></a>"
   ]
  },
  {
   "cell_type": "code",
   "execution_count": 18,
   "id": "e8952cc8",
   "metadata": {},
   "outputs": [],
   "source": [
    "#Spliting into training and testing dataset\n",
    "X_train, X_test, y_train,y_test =  train_test_split(X,y,test_size=0.25,random_state=0)"
   ]
  },
  {
   "cell_type": "markdown",
   "id": "79307735",
   "metadata": {},
   "source": [
    "  ### **KNN(K_Nearest_Neighbour)** <a class=\"anchor\" id=\"3.2\"></a>"
   ]
  },
  {
   "cell_type": "markdown",
   "id": "c76245b8",
   "metadata": {},
   "source": [
    "#### **Implementation of Model** <a class=\"anchor\" id=3.2.1\"></a>"
   ]
  },
  {
   "cell_type": "code",
   "execution_count": 19,
   "id": "7a0700b9",
   "metadata": {},
   "outputs": [],
   "source": [
    "from sklearn.neighbors import KNeighborsRegressor"
   ]
  },
  {
   "cell_type": "code",
   "execution_count": 20,
   "id": "61cc34c4",
   "metadata": {},
   "outputs": [],
   "source": [
    "knn = KNeighborsRegressor()"
   ]
  },
  {
   "cell_type": "code",
   "execution_count": 21,
   "id": "2b52378c",
   "metadata": {},
   "outputs": [
    {
     "data": {
      "text/plain": [
       "KNeighborsRegressor()"
      ]
     },
     "execution_count": 21,
     "metadata": {},
     "output_type": "execute_result"
    }
   ],
   "source": [
    "knn.fit(X_train,y_train)"
   ]
  },
  {
   "cell_type": "markdown",
   "id": "390e0801",
   "metadata": {},
   "source": [
    "#### **Evaluataion of Model** <a class=\"anchor\" id=\"3.2.2\"></a>"
   ]
  },
  {
   "cell_type": "markdown",
   "id": "3479a2c4",
   "metadata": {},
   "source": [
    "######  Root Mean Square Error"
   ]
  },
  {
   "cell_type": "code",
   "execution_count": 22,
   "id": "6a6f621e",
   "metadata": {},
   "outputs": [],
   "source": [
    "from sklearn.metrics import mean_squared_error\n",
    "from sklearn.metrics import mean_absolute_error"
   ]
  },
  {
   "cell_type": "code",
   "execution_count": 23,
   "id": "6e6ecd45",
   "metadata": {},
   "outputs": [],
   "source": [
    "predict_KNN = knn.predict(X_test)"
   ]
  },
  {
   "cell_type": "code",
   "execution_count": 24,
   "id": "b503f25c",
   "metadata": {},
   "outputs": [],
   "source": [
    "meanSQ_KNN= np.round(mean_squared_error(y_test,predict_KNN),6)\n",
    "root_MSE_KNN = np.round(np.sqrt(meanSQ_KNN),6)"
   ]
  },
  {
   "cell_type": "code",
   "execution_count": 25,
   "id": "8b460887",
   "metadata": {},
   "outputs": [
    {
     "name": "stdout",
     "output_type": "stream",
     "text": [
      "Root_Mean_Square_Error KNN :0.126491\n"
     ]
    }
   ],
   "source": [
    "print(\"Root_Mean_Square_Error KNN :{}\".format(root_MSE_KNN))"
   ]
  },
  {
   "cell_type": "markdown",
   "id": "22f50647",
   "metadata": {},
   "source": [
    "##### Absolute Mean Error"
   ]
  },
  {
   "cell_type": "code",
   "execution_count": 26,
   "id": "4b010145",
   "metadata": {},
   "outputs": [],
   "source": [
    "mean_ABE_KNN = np.round(mean_absolute_error(y_test,predict_KNN),6)"
   ]
  },
  {
   "cell_type": "code",
   "execution_count": 27,
   "id": "0d76d80a",
   "metadata": {},
   "outputs": [
    {
     "name": "stdout",
     "output_type": "stream",
     "text": [
      "Absolute Mean Error KNN :0.097655\n"
     ]
    }
   ],
   "source": [
    "print(\"Absolute Mean Error KNN :{}\".format(mean_ABE_KNN))"
   ]
  },
  {
   "cell_type": "markdown",
   "id": "c1c4615e",
   "metadata": {},
   "source": [
    "  ### **Polynomial Regression** <a class=\"anchor\" id=\"3.3\"></a>"
   ]
  },
  {
   "cell_type": "markdown",
   "id": "1bb19821",
   "metadata": {},
   "source": [
    "#### **Implementation of Model** <a class=\"anchor\" id=\"3.3.1\"></a>"
   ]
  },
  {
   "cell_type": "code",
   "execution_count": 28,
   "id": "1d1a44a7",
   "metadata": {},
   "outputs": [],
   "source": [
    "from sklearn.linear_model import LinearRegression\n",
    "lin_Reg = LinearRegression()"
   ]
  },
  {
   "cell_type": "code",
   "execution_count": 29,
   "id": "0801b9e5",
   "metadata": {},
   "outputs": [
    {
     "data": {
      "text/plain": [
       "LinearRegression()"
      ]
     },
     "execution_count": 29,
     "metadata": {},
     "output_type": "execute_result"
    }
   ],
   "source": [
    "lin_Reg.fit(X_train,y_train)"
   ]
  },
  {
   "cell_type": "code",
   "execution_count": 30,
   "id": "f66349e2",
   "metadata": {},
   "outputs": [],
   "source": [
    "predict_Lin_Reg = knn.predict(X_test)"
   ]
  },
  {
   "cell_type": "markdown",
   "id": "b70118a8",
   "metadata": {},
   "source": [
    "#### **Evaluataion of Model** <a class=\"anchor\" id=\"3.3.2\"></a>"
   ]
  },
  {
   "cell_type": "markdown",
   "id": "9a854055",
   "metadata": {},
   "source": [
    "##### Root Mean Square Error"
   ]
  },
  {
   "cell_type": "code",
   "execution_count": 31,
   "id": "67174ae1",
   "metadata": {},
   "outputs": [],
   "source": [
    "meanSQ_LinReg= np.round(mean_squared_error(y_test,predict_Lin_Reg),6)\n",
    "root_MSE_LinReg = np.round(np.sqrt(meanSQ_LinReg),6)"
   ]
  },
  {
   "cell_type": "code",
   "execution_count": 32,
   "id": "bc0ceb9a",
   "metadata": {},
   "outputs": [
    {
     "name": "stdout",
     "output_type": "stream",
     "text": [
      "Root_Mean_Square_Error of Linear Regression :0.126491\n"
     ]
    }
   ],
   "source": [
    "print(\"Root_Mean_Square_Error of Linear Regression :{}\".format(root_MSE_LinReg))"
   ]
  },
  {
   "cell_type": "markdown",
   "id": "cd33be4a",
   "metadata": {},
   "source": [
    "##### Absolute Mean Error"
   ]
  },
  {
   "cell_type": "code",
   "execution_count": 33,
   "id": "48332081",
   "metadata": {},
   "outputs": [],
   "source": [
    "mean_ABE_LinReg = np.round(mean_absolute_error(y_test,predict_Lin_Reg),6)"
   ]
  },
  {
   "cell_type": "code",
   "execution_count": 34,
   "id": "3539f84e",
   "metadata": {},
   "outputs": [
    {
     "name": "stdout",
     "output_type": "stream",
     "text": [
      "Absolute Mean Error of Linear Regression:0.097655\n"
     ]
    }
   ],
   "source": [
    "print(\"Absolute Mean Error of Linear Regression:{}\".format(mean_ABE_LinReg))"
   ]
  },
  {
   "cell_type": "markdown",
   "id": "f24065ff",
   "metadata": {},
   "source": [
    " ### **Decesion Tree** <a class=\"anchor\" id=\"3.4\"></a>"
   ]
  },
  {
   "cell_type": "markdown",
   "id": "8bbbad1e",
   "metadata": {},
   "source": [
    "#### **Implementation of Model** <a class=\"anchor\" id=\"3.4.1\"></a>"
   ]
  },
  {
   "cell_type": "code",
   "execution_count": 35,
   "id": "d4330a9e",
   "metadata": {},
   "outputs": [
    {
     "data": {
      "text/plain": [
       "DecisionTreeRegressor()"
      ]
     },
     "execution_count": 35,
     "metadata": {},
     "output_type": "execute_result"
    }
   ],
   "source": [
    "from sklearn.tree import DecisionTreeRegressor\n",
    "DTR = DecisionTreeRegressor()\n",
    "DTR.fit(X_train,y_train)"
   ]
  },
  {
   "cell_type": "code",
   "execution_count": 36,
   "id": "63f5582e",
   "metadata": {},
   "outputs": [],
   "source": [
    "predict_DTR = DTR.predict(X_test)"
   ]
  },
  {
   "cell_type": "markdown",
   "id": "5b44f3f9",
   "metadata": {},
   "source": [
    "#### **Evaluataion of Model** <a class=\"anchor\" id=\"3.4.2\"></a>"
   ]
  },
  {
   "cell_type": "markdown",
   "id": "18690596",
   "metadata": {},
   "source": [
    "##### Root Mean Square Error"
   ]
  },
  {
   "cell_type": "code",
   "execution_count": 37,
   "id": "3d366ccf",
   "metadata": {},
   "outputs": [],
   "source": [
    "meanSQ_DTR= np.round(mean_squared_error(y_test,predict_DTR),6)\n",
    "root_MSE_DTR = np.round(np.sqrt(meanSQ_DTR),6)"
   ]
  },
  {
   "cell_type": "code",
   "execution_count": 38,
   "id": "dbc8a9fe",
   "metadata": {},
   "outputs": [
    {
     "name": "stdout",
     "output_type": "stream",
     "text": [
      "Root_Mean_Square_Error of Decision Tree :0.193489\n"
     ]
    }
   ],
   "source": [
    "print(\"Root_Mean_Square_Error of Decision Tree :{}\".format(root_MSE_DTR))"
   ]
  },
  {
   "cell_type": "markdown",
   "id": "1b71f285",
   "metadata": {},
   "source": [
    "##### Absolute Mean Error"
   ]
  },
  {
   "cell_type": "code",
   "execution_count": 39,
   "id": "2f5cc5f7",
   "metadata": {},
   "outputs": [],
   "source": [
    "mean_ABE_DTR = np.round(mean_absolute_error(y_test,predict_DTR),6)"
   ]
  },
  {
   "cell_type": "code",
   "execution_count": 40,
   "id": "d4ce9a04",
   "metadata": {},
   "outputs": [
    {
     "name": "stdout",
     "output_type": "stream",
     "text": [
      "Absolute Mean Error of Decision Tree:0.145799\n"
     ]
    }
   ],
   "source": [
    "print(\"Absolute Mean Error of Decision Tree:{}\".format(mean_ABE_DTR))"
   ]
  },
  {
   "cell_type": "markdown",
   "id": "598fea35",
   "metadata": {},
   "source": [
    " ### **Random Forest** <a class=\"anchor\" id=\"3.5\"></a>"
   ]
  },
  {
   "cell_type": "markdown",
   "id": "0bf04994",
   "metadata": {},
   "source": [
    "#### **Implementation of Model** <a class=\"anchor\" id=\"3.5.1\"></a>"
   ]
  },
  {
   "cell_type": "code",
   "execution_count": 41,
   "id": "907f1876",
   "metadata": {},
   "outputs": [
    {
     "name": "stderr",
     "output_type": "stream",
     "text": [
      "C:\\Users\\fahad\\AppData\\Local\\Temp/ipykernel_12132/4123654528.py:9: DataConversionWarning: A column-vector y was passed when a 1d array was expected. Please change the shape of y to (n_samples,), for example using ravel().\n",
      "  RF.fit(X, y)\n"
     ]
    },
    {
     "data": {
      "text/plain": [
       "RandomForestRegressor(n_estimators=10, random_state=0)"
      ]
     },
     "execution_count": 41,
     "metadata": {},
     "output_type": "execute_result"
    }
   ],
   "source": [
    "# Fitting Random Forest Regression to the dataset\n",
    "# import the regressor\n",
    "from sklearn.ensemble import RandomForestRegressor\n",
    " \n",
    " # create regressor object\n",
    "RF = RandomForestRegressor(n_estimators =10, random_state = 0)\n",
    " \n",
    "# fit the regressor with x and y data\n",
    "RF.fit(X, y) "
   ]
  },
  {
   "cell_type": "code",
   "execution_count": 42,
   "id": "e520e2b1",
   "metadata": {},
   "outputs": [],
   "source": [
    "predict_RF = RF.predict(X_test)"
   ]
  },
  {
   "cell_type": "markdown",
   "id": "9a956ca7",
   "metadata": {},
   "source": [
    "#### **Evaluataion of Model** <a class=\"anchor\" id=\"3.5.2\"></a>"
   ]
  },
  {
   "cell_type": "markdown",
   "id": "fd5ebc68",
   "metadata": {},
   "source": [
    "##### Root Mean Square Error"
   ]
  },
  {
   "cell_type": "code",
   "execution_count": 43,
   "id": "b043f741",
   "metadata": {},
   "outputs": [],
   "source": [
    "meanSQ_RF= np.round(mean_squared_error(y_test,predict_RF),6)\n",
    "root_MSE_RF = np.round(np.sqrt(meanSQ_RF),6)"
   ]
  },
  {
   "cell_type": "code",
   "execution_count": 44,
   "id": "19b3225a",
   "metadata": {},
   "outputs": [
    {
     "name": "stdout",
     "output_type": "stream",
     "text": [
      "Root_Mean_Square_Error of Random Forest :0.05592\n"
     ]
    }
   ],
   "source": [
    "print(\"Root_Mean_Square_Error of Random Forest :{}\".format(root_MSE_RF))"
   ]
  },
  {
   "cell_type": "markdown",
   "id": "8f420ea1",
   "metadata": {},
   "source": [
    "##### Absolute Mean Error"
   ]
  },
  {
   "cell_type": "code",
   "execution_count": 45,
   "id": "af9fc07e",
   "metadata": {},
   "outputs": [],
   "source": [
    "mean_ABE_RF = np.round(mean_absolute_error(y_test,predict_RF),6)"
   ]
  },
  {
   "cell_type": "code",
   "execution_count": 46,
   "id": "110bd10d",
   "metadata": {},
   "outputs": [
    {
     "name": "stdout",
     "output_type": "stream",
     "text": [
      "Absolute Mean Error of Random Forest:0.039335\n"
     ]
    }
   ],
   "source": [
    "print(\"Absolute Mean Error of Random Forest:{}\".format(mean_ABE_RF))"
   ]
  },
  {
   "cell_type": "markdown",
   "id": "cecfd508",
   "metadata": {},
   "source": [
    " ### **Support Vector Machine (Linear)** <a class=\"anchor\" id=\"3.6\"></a>"
   ]
  },
  {
   "cell_type": "markdown",
   "id": "7c927fae",
   "metadata": {},
   "source": [
    "#### **Implementation of Model** <a class=\"anchor\" id=\"3.6.1\"></a>"
   ]
  },
  {
   "cell_type": "code",
   "execution_count": 47,
   "id": "868ca858",
   "metadata": {},
   "outputs": [
    {
     "name": "stderr",
     "output_type": "stream",
     "text": [
      "C:\\ProgramData\\Anaconda3\\lib\\site-packages\\sklearn\\utils\\validation.py:63: DataConversionWarning: A column-vector y was passed when a 1d array was expected. Please change the shape of y to (n_samples, ), for example using ravel().\n",
      "  return f(*args, **kwargs)\n"
     ]
    },
    {
     "data": {
      "text/plain": [
       "SVR(kernel='linear')"
      ]
     },
     "execution_count": 47,
     "metadata": {},
     "output_type": "execute_result"
    }
   ],
   "source": [
    "from sklearn.svm import SVR\n",
    "SVR_lin = SVR(kernel = 'linear')\n",
    "SVR_lin.fit(X, y)"
   ]
  },
  {
   "cell_type": "code",
   "execution_count": 48,
   "id": "61b42e49",
   "metadata": {},
   "outputs": [],
   "source": [
    "predict_SVR_lin = SVR_lin.predict(X_test)"
   ]
  },
  {
   "cell_type": "markdown",
   "id": "0ea511d3",
   "metadata": {},
   "source": [
    "#### **Evaluataion of Model** <a class=\"anchor\" id=\"3.6.2\"></a>"
   ]
  },
  {
   "cell_type": "markdown",
   "id": "870a08b6",
   "metadata": {},
   "source": [
    "##### Root Mean Square Error"
   ]
  },
  {
   "cell_type": "code",
   "execution_count": 49,
   "id": "661e745f",
   "metadata": {},
   "outputs": [],
   "source": [
    "meanSQ_SVR_lin= np.round(mean_squared_error(y_test,predict_SVR_lin),6)\n",
    "root_MSE_SVR_lin = np.round(np.sqrt(meanSQ_SVR_lin),6)"
   ]
  },
  {
   "cell_type": "code",
   "execution_count": 50,
   "id": "6459fc76",
   "metadata": {},
   "outputs": [
    {
     "name": "stdout",
     "output_type": "stream",
     "text": [
      "Root_Mean_Square_Error of Support Vector Machine (Linear)  :0.164241\n"
     ]
    }
   ],
   "source": [
    "print(\"Root_Mean_Square_Error of Support Vector Machine (Linear)  :{}\".format(root_MSE_SVR_lin))"
   ]
  },
  {
   "cell_type": "markdown",
   "id": "c607d2d7",
   "metadata": {},
   "source": [
    "##### Absolute Mean Error"
   ]
  },
  {
   "cell_type": "code",
   "execution_count": 51,
   "id": "31441024",
   "metadata": {},
   "outputs": [],
   "source": [
    "mean_ABE_SVR_lin = np.round(mean_absolute_error(y_test,predict_SVR_lin),6)"
   ]
  },
  {
   "cell_type": "code",
   "execution_count": 52,
   "id": "ec1ec1a6",
   "metadata": {},
   "outputs": [
    {
     "name": "stdout",
     "output_type": "stream",
     "text": [
      "Absolute Mean Error of Support Vector Machine (Linear) :0.133916\n"
     ]
    }
   ],
   "source": [
    "print(\"Absolute Mean Error of Support Vector Machine (Linear) :{}\".format(mean_ABE_SVR_lin))"
   ]
  },
  {
   "cell_type": "code",
   "execution_count": null,
   "id": "21356199",
   "metadata": {},
   "outputs": [],
   "source": []
  },
  {
   "cell_type": "markdown",
   "id": "de1b1086",
   "metadata": {},
   "source": [
    " ### **Support Vector Machine (RBF)** <a class=\"anchor\" id=\"3.7\"></a>"
   ]
  },
  {
   "cell_type": "markdown",
   "id": "cae41398",
   "metadata": {},
   "source": [
    "#### **Implementation of Model** <a class=\"anchor\" id=\"3.7.1\"></a>"
   ]
  },
  {
   "cell_type": "code",
   "execution_count": 53,
   "id": "bd88b1ac",
   "metadata": {},
   "outputs": [
    {
     "name": "stderr",
     "output_type": "stream",
     "text": [
      "C:\\ProgramData\\Anaconda3\\lib\\site-packages\\sklearn\\utils\\validation.py:63: DataConversionWarning: A column-vector y was passed when a 1d array was expected. Please change the shape of y to (n_samples, ), for example using ravel().\n",
      "  return f(*args, **kwargs)\n"
     ]
    },
    {
     "data": {
      "text/plain": [
       "SVR()"
      ]
     },
     "execution_count": 53,
     "metadata": {},
     "output_type": "execute_result"
    }
   ],
   "source": [
    "from sklearn.svm import SVR\n",
    "SVR_rbf = SVR(kernel = 'rbf')\n",
    "SVR_rbf.fit(X, y)"
   ]
  },
  {
   "cell_type": "code",
   "execution_count": 54,
   "id": "98d9958c",
   "metadata": {},
   "outputs": [],
   "source": [
    "predict_SVR_rbf = SVR_rbf.predict(X_test)"
   ]
  },
  {
   "cell_type": "markdown",
   "id": "36c815bb",
   "metadata": {},
   "source": [
    "#### **Evaluataion of Model** <a class=\"anchor\" id=\"3.7.2\"></a>"
   ]
  },
  {
   "cell_type": "markdown",
   "id": "91225d2c",
   "metadata": {},
   "source": [
    "##### Root Mean Square Error"
   ]
  },
  {
   "cell_type": "code",
   "execution_count": 55,
   "id": "0614b2cd",
   "metadata": {},
   "outputs": [],
   "source": [
    "meanSQ_SVR_rbf= np.round(mean_squared_error(y_test,predict_SVR_rbf),6)\n",
    "root_MSE_SVR_rbf = np.round(np.sqrt(meanSQ_SVR_rbf),6)"
   ]
  },
  {
   "cell_type": "code",
   "execution_count": 56,
   "id": "7cd83ade",
   "metadata": {},
   "outputs": [
    {
     "name": "stdout",
     "output_type": "stream",
     "text": [
      "Root_Mean_Square_Error of Support Vector Machine (RBF)  :0.145921\n"
     ]
    }
   ],
   "source": [
    "print(\"Root_Mean_Square_Error of Support Vector Machine (RBF)  :{}\".format(root_MSE_SVR_rbf))"
   ]
  },
  {
   "cell_type": "markdown",
   "id": "5bfa51d4",
   "metadata": {},
   "source": [
    "##### Absolute Mean Error"
   ]
  },
  {
   "cell_type": "code",
   "execution_count": 57,
   "id": "6290f2a8",
   "metadata": {},
   "outputs": [],
   "source": [
    "mean_ABE_SVR_rbf = np.round(mean_absolute_error(y_test,predict_SVR_rbf),6)"
   ]
  },
  {
   "cell_type": "code",
   "execution_count": 58,
   "id": "54651e10",
   "metadata": {},
   "outputs": [
    {
     "name": "stdout",
     "output_type": "stream",
     "text": [
      "Absolute Mean Error of Support Vector Machine (RBF) :0.117271\n"
     ]
    }
   ],
   "source": [
    "print(\"Absolute Mean Error of Support Vector Machine (RBF) :{}\".format(mean_ABE_SVR_rbf))"
   ]
  },
  {
   "cell_type": "code",
   "execution_count": null,
   "id": "b319acfb",
   "metadata": {},
   "outputs": [],
   "source": []
  },
  {
   "cell_type": "markdown",
   "id": "2348ba92",
   "metadata": {},
   "source": [
    " ### **Artifical Neural Network** <a class=\"anchor\" id=\"3.8\"></a>"
   ]
  },
  {
   "cell_type": "markdown",
   "id": "0254d0ab",
   "metadata": {},
   "source": [
    "#### **Implementation of Model** <a class=\"anchor\" id=\"3.8.1\"></a>"
   ]
  },
  {
   "cell_type": "code",
   "execution_count": 59,
   "id": "7df89296",
   "metadata": {},
   "outputs": [],
   "source": [
    "from sklearn.neural_network import MLPRegressor"
   ]
  },
  {
   "cell_type": "code",
   "execution_count": 60,
   "id": "d6e07955",
   "metadata": {},
   "outputs": [],
   "source": [
    "mlp = MLPRegressor(hidden_layer_sizes=(10,10,), activation=\"logistic\", max_iter=10)"
   ]
  },
  {
   "cell_type": "code",
   "execution_count": 61,
   "id": "c77ef56f",
   "metadata": {},
   "outputs": [
    {
     "name": "stderr",
     "output_type": "stream",
     "text": [
      "C:\\ProgramData\\Anaconda3\\lib\\site-packages\\sklearn\\utils\\validation.py:63: DataConversionWarning: A column-vector y was passed when a 1d array was expected. Please change the shape of y to (n_samples, ), for example using ravel().\n",
      "  return f(*args, **kwargs)\n",
      "C:\\ProgramData\\Anaconda3\\lib\\site-packages\\sklearn\\neural_network\\_multilayer_perceptron.py:614: ConvergenceWarning: Stochastic Optimizer: Maximum iterations (10) reached and the optimization hasn't converged yet.\n",
      "  warnings.warn(\n"
     ]
    },
    {
     "data": {
      "text/plain": [
       "MLPRegressor(activation='logistic', hidden_layer_sizes=(10, 10), max_iter=10)"
      ]
     },
     "execution_count": 61,
     "metadata": {},
     "output_type": "execute_result"
    }
   ],
   "source": [
    "mlp.fit(X_train,y_train)"
   ]
  },
  {
   "cell_type": "code",
   "execution_count": 62,
   "id": "e48bb7be",
   "metadata": {},
   "outputs": [],
   "source": [
    "predict_mlp = mlp.predict(X_test)"
   ]
  },
  {
   "cell_type": "markdown",
   "id": "ba789924",
   "metadata": {},
   "source": [
    "#### **Evaluataion of Model** <a class=\"anchor\" id=\"3.8.2\"></a>"
   ]
  },
  {
   "cell_type": "markdown",
   "id": "c6c5955d",
   "metadata": {},
   "source": [
    "##### Root Mean Square Error"
   ]
  },
  {
   "cell_type": "code",
   "execution_count": 63,
   "id": "951d3ad0",
   "metadata": {},
   "outputs": [],
   "source": [
    "meanSQ_mlp= np.round(mean_squared_error(y_test,predict_mlp),6)\n",
    "root_MSE_mlp = np.round(np.sqrt(meanSQ_mlp),6)"
   ]
  },
  {
   "cell_type": "code",
   "execution_count": 64,
   "id": "49acc56e",
   "metadata": {},
   "outputs": [
    {
     "name": "stdout",
     "output_type": "stream",
     "text": [
      "Root_Mean_Square_Error of Artifical Neural Network  :0.537939\n"
     ]
    }
   ],
   "source": [
    "print(\"Root_Mean_Square_Error of Artifical Neural Network  :{}\".format(root_MSE_mlp))"
   ]
  },
  {
   "cell_type": "markdown",
   "id": "f882b4dc",
   "metadata": {},
   "source": [
    "##### Absolute Mean Error"
   ]
  },
  {
   "cell_type": "code",
   "execution_count": 65,
   "id": "5f3caf47",
   "metadata": {},
   "outputs": [],
   "source": [
    "mean_ABE_mlp = np.round(mean_absolute_error(y_test,predict_mlp),6)"
   ]
  },
  {
   "cell_type": "code",
   "execution_count": 66,
   "id": "844b4453",
   "metadata": {},
   "outputs": [
    {
     "name": "stdout",
     "output_type": "stream",
     "text": [
      "Absolute Mean Error of Artificial Neural Network :0.509318\n"
     ]
    }
   ],
   "source": [
    "print(\"Absolute Mean Error of Artificial Neural Network :{}\".format(mean_ABE_mlp))"
   ]
  },
  {
   "cell_type": "markdown",
   "id": "cd0dda09",
   "metadata": {},
   "source": [
    "### **Predict Results Score** <a class=\"anchor\" id=\"4\"></a>"
   ]
  },
  {
   "cell_type": "markdown",
   "id": "2f329253",
   "metadata": {},
   "source": [
    "####  Compare the Results of Models"
   ]
  },
  {
   "cell_type": "code",
   "execution_count": 67,
   "id": "9b5dcd75",
   "metadata": {},
   "outputs": [],
   "source": [
    "data={'KNN(K_Nearest_Neighbour)'   :[meanSQ_KNN,mean_ABE_KNN,root_MSE_KNN],\n",
    "      'LinearRegression'           :[meanSQ_LinReg,mean_ABE_LinReg ,root_MSE_LinReg],\n",
    "        'Decesion Tree'            :[meanSQ_DTR,mean_ABE_DTR ,root_MSE_DTR],\n",
    "        'Random Forest'            :[meanSQ_RF,mean_ABE_RF ,root_MSE_RF],\n",
    "            \"SVM (Linear)\"         :[meanSQ_SVR_lin,mean_ABE_SVR_lin,root_MSE_SVR_lin],\n",
    "               \"SVM (RBF)\"         :[meanSQ_SVR_rbf,mean_ABE_SVR_rbf,root_MSE_SVR_rbf],\n",
    "     \"Artifical Neural Network\"    :[meanSQ_mlp,mean_ABE_mlp,root_MSE_mlp]\n",
    "  \n",
    "}"
   ]
  },
  {
   "cell_type": "code",
   "execution_count": 68,
   "id": "0660942f",
   "metadata": {},
   "outputs": [],
   "source": [
    "Evaluation =pd.DataFrame(data,index=['Mean_Square_Error','Mean_Absolute_Error','Root_Mean_Square_Error'])"
   ]
  },
  {
   "cell_type": "code",
   "execution_count": 69,
   "id": "16edfe88",
   "metadata": {},
   "outputs": [
    {
     "data": {
      "text/html": [
       "<div>\n",
       "<style scoped>\n",
       "    .dataframe tbody tr th:only-of-type {\n",
       "        vertical-align: middle;\n",
       "    }\n",
       "\n",
       "    .dataframe tbody tr th {\n",
       "        vertical-align: top;\n",
       "    }\n",
       "\n",
       "    .dataframe thead th {\n",
       "        text-align: right;\n",
       "    }\n",
       "</style>\n",
       "<table border=\"1\" class=\"dataframe\">\n",
       "  <thead>\n",
       "    <tr style=\"text-align: right;\">\n",
       "      <th></th>\n",
       "      <th>KNN(K_Nearest_Neighbour)</th>\n",
       "      <th>LinearRegression</th>\n",
       "      <th>Decesion Tree</th>\n",
       "      <th>Random Forest</th>\n",
       "      <th>SVM (Linear)</th>\n",
       "      <th>SVM (RBF)</th>\n",
       "      <th>Artifical Neural Network</th>\n",
       "    </tr>\n",
       "  </thead>\n",
       "  <tbody>\n",
       "    <tr>\n",
       "      <th>Mean_Square_Error</th>\n",
       "      <td>0.016000</td>\n",
       "      <td>0.016000</td>\n",
       "      <td>0.037438</td>\n",
       "      <td>0.003127</td>\n",
       "      <td>0.026975</td>\n",
       "      <td>0.021293</td>\n",
       "      <td>0.289378</td>\n",
       "    </tr>\n",
       "    <tr>\n",
       "      <th>Mean_Absolute_Error</th>\n",
       "      <td>0.097655</td>\n",
       "      <td>0.097655</td>\n",
       "      <td>0.145799</td>\n",
       "      <td>0.039335</td>\n",
       "      <td>0.133916</td>\n",
       "      <td>0.117271</td>\n",
       "      <td>0.509318</td>\n",
       "    </tr>\n",
       "    <tr>\n",
       "      <th>Root_Mean_Square_Error</th>\n",
       "      <td>0.126491</td>\n",
       "      <td>0.126491</td>\n",
       "      <td>0.193489</td>\n",
       "      <td>0.055920</td>\n",
       "      <td>0.164241</td>\n",
       "      <td>0.145921</td>\n",
       "      <td>0.537939</td>\n",
       "    </tr>\n",
       "  </tbody>\n",
       "</table>\n",
       "</div>"
      ],
      "text/plain": [
       "                        KNN(K_Nearest_Neighbour)  LinearRegression  \\\n",
       "Mean_Square_Error                       0.016000          0.016000   \n",
       "Mean_Absolute_Error                     0.097655          0.097655   \n",
       "Root_Mean_Square_Error                  0.126491          0.126491   \n",
       "\n",
       "                        Decesion Tree  Random Forest  SVM (Linear)  SVM (RBF)  \\\n",
       "Mean_Square_Error            0.037438       0.003127      0.026975   0.021293   \n",
       "Mean_Absolute_Error          0.145799       0.039335      0.133916   0.117271   \n",
       "Root_Mean_Square_Error       0.193489       0.055920      0.164241   0.145921   \n",
       "\n",
       "                        Artifical Neural Network  \n",
       "Mean_Square_Error                       0.289378  \n",
       "Mean_Absolute_Error                     0.509318  \n",
       "Root_Mean_Square_Error                  0.537939  "
      ]
     },
     "execution_count": 69,
     "metadata": {},
     "output_type": "execute_result"
    }
   ],
   "source": [
    "Evaluation"
   ]
  }
 ],
 "metadata": {
  "kernelspec": {
   "display_name": "Python 3 (ipykernel)",
   "language": "python",
   "name": "python3"
  },
  "language_info": {
   "codemirror_mode": {
    "name": "ipython",
    "version": 3
   },
   "file_extension": ".py",
   "mimetype": "text/x-python",
   "name": "python",
   "nbconvert_exporter": "python",
   "pygments_lexer": "ipython3",
   "version": "3.9.7"
  }
 },
 "nbformat": 4,
 "nbformat_minor": 5
}
