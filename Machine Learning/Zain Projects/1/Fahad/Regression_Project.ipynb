{
 "cells": [
  {
   "cell_type": "markdown",
   "id": "28462765",
   "metadata": {},
   "source": [
    "### <span style=\"color:orange\">Step: 00</span>: (Import Libraries)"
   ]
  },
  {
   "cell_type": "code",
   "execution_count": 1,
   "id": "371ca8e5",
   "metadata": {},
   "outputs": [],
   "source": [
    "import pandas as pd\n",
    "import numpy as np\n",
    "import matplotlib.pyplot as plt\n",
    "import seaborn as sns"
   ]
  },
  {
   "cell_type": "markdown",
   "id": "20bc40bd",
   "metadata": {},
   "source": [
    "### <span style=\"color:orange\">Step: 01</span>: (Import Dataset)"
   ]
  },
  {
   "cell_type": "code",
   "execution_count": 2,
   "id": "c3d91a4f",
   "metadata": {},
   "outputs": [
    {
     "data": {
      "text/html": [
       "<div>\n",
       "<style scoped>\n",
       "    .dataframe tbody tr th:only-of-type {\n",
       "        vertical-align: middle;\n",
       "    }\n",
       "\n",
       "    .dataframe tbody tr th {\n",
       "        vertical-align: top;\n",
       "    }\n",
       "\n",
       "    .dataframe thead th {\n",
       "        text-align: right;\n",
       "    }\n",
       "</style>\n",
       "<table border=\"1\" class=\"dataframe\">\n",
       "  <thead>\n",
       "    <tr style=\"text-align: right;\">\n",
       "      <th></th>\n",
       "      <th>Company_Name</th>\n",
       "      <th>Coding</th>\n",
       "      <th>Year</th>\n",
       "      <th>ESG Score</th>\n",
       "      <th>Return on Equity</th>\n",
       "      <th>Return on Asset</th>\n",
       "      <th>Earning Per Share</th>\n",
       "      <th>Price/Sales Per Share Ratio</th>\n",
       "      <th>Earning before Interest &amp; Taxes</th>\n",
       "      <th>DIVIDEND_YIELD</th>\n",
       "    </tr>\n",
       "  </thead>\n",
       "  <tbody>\n",
       "    <tr>\n",
       "      <th>0</th>\n",
       "      <td>HOME DEPOT</td>\n",
       "      <td>1</td>\n",
       "      <td>2008</td>\n",
       "      <td>65.85</td>\n",
       "      <td>12.74</td>\n",
       "      <td>6.24</td>\n",
       "      <td>1.34</td>\n",
       "      <td>0.54</td>\n",
       "      <td>4.214</td>\n",
       "      <td>3.54</td>\n",
       "    </tr>\n",
       "  </tbody>\n",
       "</table>\n",
       "</div>"
      ],
      "text/plain": [
       "  Company_Name  Coding  Year  ESG Score  Return on Equity  Return on Asset  \\\n",
       "0   HOME DEPOT       1  2008      65.85             12.74             6.24   \n",
       "\n",
       "   Earning Per Share  Price/Sales Per Share Ratio  \\\n",
       "0               1.34                         0.54   \n",
       "\n",
       "   Earning before Interest & Taxes  DIVIDEND_YIELD  \n",
       "0                            4.214            3.54  "
      ]
     },
     "execution_count": 2,
     "metadata": {},
     "output_type": "execute_result"
    }
   ],
   "source": [
    "df = pd.read_csv('company.csv')\n",
    "df.head(1)"
   ]
  },
  {
   "cell_type": "markdown",
   "id": "b76a055a",
   "metadata": {},
   "source": [
    "### <span style=\"color:orange\">Step: 02</span>: Data Cleaning"
   ]
  },
  {
   "cell_type": "code",
   "execution_count": 3,
   "id": "833799ba",
   "metadata": {},
   "outputs": [
    {
     "data": {
      "text/plain": [
       "Company_Name                       0\n",
       "Coding                             0\n",
       "Year                               0\n",
       "ESG Score                          0\n",
       "Return on Equity                   0\n",
       "Return on Asset                    0\n",
       "Earning Per Share                  0\n",
       "Price/Sales Per Share Ratio        0\n",
       "Earning before Interest & Taxes    0\n",
       "DIVIDEND_YIELD                     0\n",
       "dtype: int64"
      ]
     },
     "execution_count": 3,
     "metadata": {},
     "output_type": "execute_result"
    }
   ],
   "source": [
    "df.isnull().sum()"
   ]
  },
  {
   "cell_type": "code",
   "execution_count": 4,
   "id": "d3b69176",
   "metadata": {},
   "outputs": [],
   "source": [
    "# import encodeing library !\n",
    "from sklearn.preprocessing import LabelEncoder\n",
    "\n",
    "le = LabelEncoder()\n",
    "df['Company_Name'] = le.fit_transform(df['Company_Name'])"
   ]
  },
  {
   "cell_type": "code",
   "execution_count": 5,
   "id": "01f3a90b",
   "metadata": {},
   "outputs": [
    {
     "data": {
      "text/html": [
       "<div>\n",
       "<style scoped>\n",
       "    .dataframe tbody tr th:only-of-type {\n",
       "        vertical-align: middle;\n",
       "    }\n",
       "\n",
       "    .dataframe tbody tr th {\n",
       "        vertical-align: top;\n",
       "    }\n",
       "\n",
       "    .dataframe thead th {\n",
       "        text-align: right;\n",
       "    }\n",
       "</style>\n",
       "<table border=\"1\" class=\"dataframe\">\n",
       "  <thead>\n",
       "    <tr style=\"text-align: right;\">\n",
       "      <th></th>\n",
       "      <th>Company_Name</th>\n",
       "    </tr>\n",
       "  </thead>\n",
       "  <tbody>\n",
       "    <tr>\n",
       "      <th>0</th>\n",
       "      <td>51</td>\n",
       "    </tr>\n",
       "    <tr>\n",
       "      <th>1</th>\n",
       "      <td>51</td>\n",
       "    </tr>\n",
       "  </tbody>\n",
       "</table>\n",
       "</div>"
      ],
      "text/plain": [
       "   Company_Name\n",
       "0            51\n",
       "1            51"
      ]
     },
     "execution_count": 5,
     "metadata": {},
     "output_type": "execute_result"
    }
   ],
   "source": [
    "df[['Company_Name']].head(2)"
   ]
  },
  {
   "cell_type": "code",
   "execution_count": 6,
   "id": "cfd0c00c",
   "metadata": {},
   "outputs": [],
   "source": [
    "# transformation !\n",
    "from sklearn.preprocessing import MinMaxScaler\n",
    "\n",
    "feature = [i for i in df.columns if i not in ['ESG Score', 'Year']]\n",
    "# feature = X.columns\n",
    "scaling = MinMaxScaler()\n",
    "df[feature] = scaling.fit_transform(df[feature])"
   ]
  },
  {
   "cell_type": "code",
   "execution_count": 7,
   "id": "f249831c",
   "metadata": {},
   "outputs": [],
   "source": [
    "X = df\n",
    "y = df[['ESG Score']]"
   ]
  },
  {
   "cell_type": "code",
   "execution_count": 8,
   "id": "6ac32f7c",
   "metadata": {},
   "outputs": [
    {
     "data": {
      "text/html": [
       "<div>\n",
       "<style scoped>\n",
       "    .dataframe tbody tr th:only-of-type {\n",
       "        vertical-align: middle;\n",
       "    }\n",
       "\n",
       "    .dataframe tbody tr th {\n",
       "        vertical-align: top;\n",
       "    }\n",
       "\n",
       "    .dataframe thead th {\n",
       "        text-align: right;\n",
       "    }\n",
       "</style>\n",
       "<table border=\"1\" class=\"dataframe\">\n",
       "  <thead>\n",
       "    <tr style=\"text-align: right;\">\n",
       "      <th></th>\n",
       "      <th>Company_Name</th>\n",
       "      <th>Coding</th>\n",
       "      <th>Year</th>\n",
       "      <th>ESG Score</th>\n",
       "      <th>Return on Equity</th>\n",
       "      <th>Return on Asset</th>\n",
       "      <th>Earning Per Share</th>\n",
       "      <th>Price/Sales Per Share Ratio</th>\n",
       "      <th>Earning before Interest &amp; Taxes</th>\n",
       "      <th>DIVIDEND_YIELD</th>\n",
       "    </tr>\n",
       "  </thead>\n",
       "  <tbody>\n",
       "    <tr>\n",
       "      <th>0</th>\n",
       "      <td>0.515152</td>\n",
       "      <td>0.0</td>\n",
       "      <td>2008</td>\n",
       "      <td>65.85</td>\n",
       "      <td>0.008042</td>\n",
       "      <td>0.600927</td>\n",
       "      <td>0.613446</td>\n",
       "      <td>0.038168</td>\n",
       "      <td>0.248056</td>\n",
       "      <td>0.200113</td>\n",
       "    </tr>\n",
       "    <tr>\n",
       "      <th>1</th>\n",
       "      <td>0.515152</td>\n",
       "      <td>0.0</td>\n",
       "      <td>2009</td>\n",
       "      <td>53.06</td>\n",
       "      <td>0.008153</td>\n",
       "      <td>0.620041</td>\n",
       "      <td>0.617318</td>\n",
       "      <td>0.053435</td>\n",
       "      <td>0.251298</td>\n",
       "      <td>0.232335</td>\n",
       "    </tr>\n",
       "  </tbody>\n",
       "</table>\n",
       "</div>"
      ],
      "text/plain": [
       "   Company_Name  Coding  Year  ESG Score  Return on Equity  Return on Asset  \\\n",
       "0      0.515152     0.0  2008      65.85          0.008042         0.600927   \n",
       "1      0.515152     0.0  2009      53.06          0.008153         0.620041   \n",
       "\n",
       "   Earning Per Share  Price/Sales Per Share Ratio  \\\n",
       "0           0.613446                     0.038168   \n",
       "1           0.617318                     0.053435   \n",
       "\n",
       "   Earning before Interest & Taxes  DIVIDEND_YIELD  \n",
       "0                         0.248056        0.200113  \n",
       "1                         0.251298        0.232335  "
      ]
     },
     "execution_count": 8,
     "metadata": {},
     "output_type": "execute_result"
    }
   ],
   "source": [
    "X.head(2)"
   ]
  },
  {
   "cell_type": "code",
   "execution_count": 9,
   "id": "2c58054a",
   "metadata": {},
   "outputs": [
    {
     "data": {
      "text/html": [
       "<div>\n",
       "<style scoped>\n",
       "    .dataframe tbody tr th:only-of-type {\n",
       "        vertical-align: middle;\n",
       "    }\n",
       "\n",
       "    .dataframe tbody tr th {\n",
       "        vertical-align: top;\n",
       "    }\n",
       "\n",
       "    .dataframe thead th {\n",
       "        text-align: right;\n",
       "    }\n",
       "</style>\n",
       "<table border=\"1\" class=\"dataframe\">\n",
       "  <thead>\n",
       "    <tr style=\"text-align: right;\">\n",
       "      <th></th>\n",
       "      <th>ESG Score</th>\n",
       "    </tr>\n",
       "  </thead>\n",
       "  <tbody>\n",
       "    <tr>\n",
       "      <th>0</th>\n",
       "      <td>65.85</td>\n",
       "    </tr>\n",
       "    <tr>\n",
       "      <th>1</th>\n",
       "      <td>53.06</td>\n",
       "    </tr>\n",
       "  </tbody>\n",
       "</table>\n",
       "</div>"
      ],
      "text/plain": [
       "   ESG Score\n",
       "0      65.85\n",
       "1      53.06"
      ]
     },
     "execution_count": 9,
     "metadata": {},
     "output_type": "execute_result"
    }
   ],
   "source": [
    "y.head(2)"
   ]
  },
  {
   "cell_type": "markdown",
   "id": "d0558e73",
   "metadata": {},
   "source": [
    "### <span style=\"color:orange\">Step: 03</span>: Splitting Dataset into (Training and Testing) Data "
   ]
  },
  {
   "cell_type": "code",
   "execution_count": 10,
   "id": "7a726367",
   "metadata": {},
   "outputs": [],
   "source": [
    "from sklearn.model_selection import train_test_split\n",
    "\n",
    "X_train, X_test, y_train, y_test = train_test_split(X, y, test_size=0.2, random_state=0)"
   ]
  },
  {
   "cell_type": "markdown",
   "id": "7e6df151",
   "metadata": {},
   "source": [
    "### <span style=\"color:orange\">Step: 04</span>: Apply Techniques !"
   ]
  },
  {
   "cell_type": "markdown",
   "id": "2ef6c6ab",
   "metadata": {},
   "source": [
    "### <span style=\"color:blue\">(KNN).K-Nearest_Neighbor</span>"
   ]
  },
  {
   "cell_type": "code",
   "execution_count": 11,
   "id": "1776bb5a",
   "metadata": {},
   "outputs": [
    {
     "data": {
      "text/plain": [
       "KNeighborsRegressor()"
      ]
     },
     "execution_count": 11,
     "metadata": {},
     "output_type": "execute_result"
    }
   ],
   "source": [
    "from sklearn.neighbors import KNeighborsRegressor\n",
    "\n",
    "knn = KNeighborsRegressor()\n",
    "knn.fit(X_train, y_train)\n"
   ]
  },
  {
   "cell_type": "markdown",
   "id": "1368c328",
   "metadata": {},
   "source": [
    "---"
   ]
  },
  {
   "cell_type": "code",
   "execution_count": 12,
   "id": "930342e6",
   "metadata": {},
   "outputs": [
    {
     "data": {
      "text/plain": [
       "array([[63.494],\n",
       "       [53.42 ],\n",
       "       [68.67 ],\n",
       "       [69.744],\n",
       "       [55.316],\n",
       "       [65.426],\n",
       "       [43.282],\n",
       "       [86.724],\n",
       "       [69.434],\n",
       "       [38.164],\n",
       "       [55.332],\n",
       "       [72.104],\n",
       "       [48.458],\n",
       "       [59.962],\n",
       "       [46.636],\n",
       "       [41.618],\n",
       "       [77.052],\n",
       "       [68.05 ],\n",
       "       [59.284],\n",
       "       [83.532],\n",
       "       [58.128],\n",
       "       [67.664],\n",
       "       [58.186],\n",
       "       [77.1  ],\n",
       "       [69.322],\n",
       "       [58.014],\n",
       "       [69.534],\n",
       "       [50.942],\n",
       "       [84.426],\n",
       "       [47.788],\n",
       "       [54.124],\n",
       "       [57.602],\n",
       "       [68.864],\n",
       "       [48.918],\n",
       "       [63.122],\n",
       "       [62.478],\n",
       "       [64.232],\n",
       "       [65.652],\n",
       "       [56.776],\n",
       "       [58.408],\n",
       "       [57.93 ],\n",
       "       [42.24 ],\n",
       "       [60.496],\n",
       "       [36.366],\n",
       "       [69.162],\n",
       "       [64.082],\n",
       "       [62.864],\n",
       "       [42.754],\n",
       "       [75.02 ],\n",
       "       [44.564],\n",
       "       [44.738],\n",
       "       [28.   ],\n",
       "       [51.304],\n",
       "       [78.954],\n",
       "       [71.866],\n",
       "       [46.928],\n",
       "       [46.894],\n",
       "       [75.812],\n",
       "       [67.576],\n",
       "       [39.676],\n",
       "       [32.148],\n",
       "       [55.292],\n",
       "       [60.972],\n",
       "       [56.096],\n",
       "       [39.738],\n",
       "       [71.646],\n",
       "       [44.27 ],\n",
       "       [30.484],\n",
       "       [50.942],\n",
       "       [17.768],\n",
       "       [85.506],\n",
       "       [46.422],\n",
       "       [77.504],\n",
       "       [61.928],\n",
       "       [40.36 ],\n",
       "       [67.498],\n",
       "       [39.314],\n",
       "       [58.332],\n",
       "       [58.676],\n",
       "       [68.344],\n",
       "       [57.206],\n",
       "       [73.664],\n",
       "       [71.58 ],\n",
       "       [74.264],\n",
       "       [69.434],\n",
       "       [61.114],\n",
       "       [33.892],\n",
       "       [44.812],\n",
       "       [48.794],\n",
       "       [71.1  ],\n",
       "       [29.49 ],\n",
       "       [49.736],\n",
       "       [66.974],\n",
       "       [58.602],\n",
       "       [48.972],\n",
       "       [55.986],\n",
       "       [68.222],\n",
       "       [27.134],\n",
       "       [65.564],\n",
       "       [71.528],\n",
       "       [57.4  ],\n",
       "       [69.162],\n",
       "       [62.896],\n",
       "       [52.82 ],\n",
       "       [67.362],\n",
       "       [15.718],\n",
       "       [70.81 ],\n",
       "       [52.126],\n",
       "       [80.948],\n",
       "       [48.732],\n",
       "       [38.678],\n",
       "       [67.108],\n",
       "       [57.088],\n",
       "       [47.646],\n",
       "       [46.588],\n",
       "       [50.418],\n",
       "       [43.02 ],\n",
       "       [54.004],\n",
       "       [76.428],\n",
       "       [45.094],\n",
       "       [68.046],\n",
       "       [38.684],\n",
       "       [66.022],\n",
       "       [26.772],\n",
       "       [67.764],\n",
       "       [53.502],\n",
       "       [76.308],\n",
       "       [31.086],\n",
       "       [37.888],\n",
       "       [68.478],\n",
       "       [55.874],\n",
       "       [73.95 ],\n",
       "       [41.932],\n",
       "       [66.02 ],\n",
       "       [67.892],\n",
       "       [48.438],\n",
       "       [37.688],\n",
       "       [74.876],\n",
       "       [47.408],\n",
       "       [54.548],\n",
       "       [28.684],\n",
       "       [42.08 ],\n",
       "       [66.454],\n",
       "       [50.272],\n",
       "       [32.058],\n",
       "       [44.612],\n",
       "       [46.924],\n",
       "       [70.336],\n",
       "       [59.71 ],\n",
       "       [53.642],\n",
       "       [30.18 ],\n",
       "       [67.434],\n",
       "       [33.086],\n",
       "       [28.29 ],\n",
       "       [39.218],\n",
       "       [32.786],\n",
       "       [70.644],\n",
       "       [67.826],\n",
       "       [52.838],\n",
       "       [49.614],\n",
       "       [80.03 ],\n",
       "       [34.232],\n",
       "       [84.472],\n",
       "       [50.958],\n",
       "       [44.236],\n",
       "       [21.728],\n",
       "       [30.342],\n",
       "       [46.238],\n",
       "       [49.096],\n",
       "       [57.176],\n",
       "       [57.428],\n",
       "       [45.024],\n",
       "       [80.78 ],\n",
       "       [27.406],\n",
       "       [42.288],\n",
       "       [44.812],\n",
       "       [63.382],\n",
       "       [50.048],\n",
       "       [31.81 ],\n",
       "       [21.16 ],\n",
       "       [69.78 ],\n",
       "       [46.498],\n",
       "       [67.578],\n",
       "       [41.118],\n",
       "       [52.002],\n",
       "       [40.736],\n",
       "       [22.53 ],\n",
       "       [51.916],\n",
       "       [44.37 ],\n",
       "       [66.306],\n",
       "       [13.804],\n",
       "       [40.318],\n",
       "       [45.402],\n",
       "       [61.47 ],\n",
       "       [45.676],\n",
       "       [44.526],\n",
       "       [42.754],\n",
       "       [73.95 ],\n",
       "       [51.746],\n",
       "       [43.316],\n",
       "       [64.722],\n",
       "       [38.63 ],\n",
       "       [62.134],\n",
       "       [67.012],\n",
       "       [47.576],\n",
       "       [56.754],\n",
       "       [42.234],\n",
       "       [35.926],\n",
       "       [49.052],\n",
       "       [57.17 ],\n",
       "       [61.34 ],\n",
       "       [45.076],\n",
       "       [53.158],\n",
       "       [58.94 ],\n",
       "       [61.088],\n",
       "       [60.496],\n",
       "       [39.892],\n",
       "       [44.236],\n",
       "       [38.62 ],\n",
       "       [79.826],\n",
       "       [45.7  ],\n",
       "       [65.298],\n",
       "       [63.32 ],\n",
       "       [80.948],\n",
       "       [72.322],\n",
       "       [26.398],\n",
       "       [61.28 ],\n",
       "       [39.902],\n",
       "       [40.322],\n",
       "       [51.   ],\n",
       "       [37.888],\n",
       "       [31.24 ],\n",
       "       [53.762],\n",
       "       [44.384],\n",
       "       [44.27 ],\n",
       "       [69.064],\n",
       "       [55.924],\n",
       "       [25.   ],\n",
       "       [53.338],\n",
       "       [30.584],\n",
       "       [31.556],\n",
       "       [58.344],\n",
       "       [22.746],\n",
       "       [75.578],\n",
       "       [58.01 ],\n",
       "       [65.318],\n",
       "       [47.842],\n",
       "       [71.174],\n",
       "       [53.186],\n",
       "       [41.384],\n",
       "       [41.482],\n",
       "       [76.536],\n",
       "       [71.528],\n",
       "       [66.976],\n",
       "       [21.8  ],\n",
       "       [70.404],\n",
       "       [36.016],\n",
       "       [32.446],\n",
       "       [41.734],\n",
       "       [38.6  ]])"
      ]
     },
     "execution_count": 12,
     "metadata": {},
     "output_type": "execute_result"
    }
   ],
   "source": [
    "predicted_values = knn.predict(X_test)\n",
    "predicted_values\n"
   ]
  },
  {
   "cell_type": "code",
   "execution_count": 13,
   "id": "af32b9a5",
   "metadata": {},
   "outputs": [
    {
     "data": {
      "text/plain": [
       "0.23853846153846114"
      ]
     },
     "execution_count": 13,
     "metadata": {},
     "output_type": "execute_result"
    }
   ],
   "source": [
    "# find mae\n",
    "from sklearn.metrics import mean_absolute_error\n",
    "\n",
    "knn_mae = mean_absolute_error(y_test, predicted_values)\n",
    "knn_mae\n"
   ]
  },
  {
   "cell_type": "code",
   "execution_count": 14,
   "id": "c51f4dd3",
   "metadata": {},
   "outputs": [
    {
     "data": {
      "text/plain": [
       "0.3348823444366463"
      ]
     },
     "execution_count": 14,
     "metadata": {},
     "output_type": "execute_result"
    }
   ],
   "source": [
    "# find rmse\n",
    "from sklearn.metrics import mean_squared_error\n",
    "from math import sqrt\n",
    "\n",
    "knn_rmse = sqrt(mean_squared_error(y_test, predicted_values))\n",
    "knn_rmse\n"
   ]
  },
  {
   "cell_type": "markdown",
   "id": "8d91a84e",
   "metadata": {},
   "source": [
    "---"
   ]
  },
  {
   "cell_type": "markdown",
   "id": "d350a7b5",
   "metadata": {},
   "source": [
    "---"
   ]
  },
  {
   "cell_type": "markdown",
   "id": "1017a206",
   "metadata": {},
   "source": [
    "### <span style=\"color:blue\">Polynomial Regression</span>"
   ]
  },
  {
   "cell_type": "code",
   "execution_count": 15,
   "id": "bb002af4",
   "metadata": {},
   "outputs": [
    {
     "data": {
      "text/plain": [
       "LinearRegression()"
      ]
     },
     "execution_count": 15,
     "metadata": {},
     "output_type": "execute_result"
    }
   ],
   "source": [
    "from sklearn.linear_model import LinearRegression\n",
    "\n",
    "reg_line = LinearRegression()\n",
    "reg_line.fit(X_train, y_train)\n"
   ]
  },
  {
   "cell_type": "markdown",
   "id": "3be4ae33",
   "metadata": {},
   "source": [
    "---"
   ]
  },
  {
   "cell_type": "code",
   "execution_count": 16,
   "id": "e3ae3296",
   "metadata": {},
   "outputs": [
    {
     "data": {
      "text/plain": [
       "array([[63.08],\n",
       "       [53.47],\n",
       "       [68.53],\n",
       "       [70.11],\n",
       "       [55.22],\n",
       "       [65.16],\n",
       "       [43.23],\n",
       "       [87.89],\n",
       "       [69.49],\n",
       "       [38.06],\n",
       "       [55.27],\n",
       "       [72.37],\n",
       "       [48.47],\n",
       "       [59.8 ],\n",
       "       [46.72],\n",
       "       [41.65],\n",
       "       [76.41],\n",
       "       [67.95],\n",
       "       [59.2 ],\n",
       "       [83.19],\n",
       "       [58.48],\n",
       "       [67.62],\n",
       "       [58.04],\n",
       "       [77.09],\n",
       "       [69.09],\n",
       "       [58.02],\n",
       "       [69.31],\n",
       "       [50.67],\n",
       "       [83.58],\n",
       "       [47.87],\n",
       "       [53.94],\n",
       "       [57.09],\n",
       "       [68.43],\n",
       "       [48.84],\n",
       "       [63.01],\n",
       "       [62.13],\n",
       "       [64.06],\n",
       "       [65.36],\n",
       "       [56.71],\n",
       "       [58.52],\n",
       "       [57.84],\n",
       "       [42.07],\n",
       "       [60.6 ],\n",
       "       [35.89],\n",
       "       [69.01],\n",
       "       [63.94],\n",
       "       [63.36],\n",
       "       [42.91],\n",
       "       [74.43],\n",
       "       [44.67],\n",
       "       [44.89],\n",
       "       [28.07],\n",
       "       [51.43],\n",
       "       [79.36],\n",
       "       [71.8 ],\n",
       "       [46.64],\n",
       "       [46.63],\n",
       "       [75.52],\n",
       "       [67.44],\n",
       "       [39.85],\n",
       "       [31.92],\n",
       "       [55.73],\n",
       "       [60.44],\n",
       "       [56.19],\n",
       "       [39.57],\n",
       "       [71.8 ],\n",
       "       [43.93],\n",
       "       [30.18],\n",
       "       [50.6 ],\n",
       "       [18.07],\n",
       "       [85.83],\n",
       "       [46.32],\n",
       "       [77.44],\n",
       "       [62.01],\n",
       "       [40.19],\n",
       "       [67.36],\n",
       "       [39.54],\n",
       "       [58.04],\n",
       "       [58.98],\n",
       "       [68.09],\n",
       "       [57.09],\n",
       "       [73.26],\n",
       "       [71.59],\n",
       "       [74.05],\n",
       "       [69.23],\n",
       "       [61.57],\n",
       "       [33.49],\n",
       "       [44.69],\n",
       "       [48.62],\n",
       "       [70.95],\n",
       "       [30.08],\n",
       "       [49.61],\n",
       "       [66.93],\n",
       "       [58.87],\n",
       "       [48.91],\n",
       "       [56.26],\n",
       "       [68.34],\n",
       "       [26.45],\n",
       "       [65.58],\n",
       "       [72.3 ],\n",
       "       [57.13],\n",
       "       [69.43],\n",
       "       [62.89],\n",
       "       [53.06],\n",
       "       [67.11],\n",
       "       [16.38],\n",
       "       [71.13],\n",
       "       [52.01],\n",
       "       [80.85],\n",
       "       [48.4 ],\n",
       "       [38.99],\n",
       "       [66.87],\n",
       "       [56.65],\n",
       "       [47.75],\n",
       "       [46.5 ],\n",
       "       [50.56],\n",
       "       [42.44],\n",
       "       [53.99],\n",
       "       [77.04],\n",
       "       [45.31],\n",
       "       [67.7 ],\n",
       "       [39.1 ],\n",
       "       [65.54],\n",
       "       [26.72],\n",
       "       [67.62],\n",
       "       [53.87],\n",
       "       [76.42],\n",
       "       [30.9 ],\n",
       "       [37.81],\n",
       "       [68.53],\n",
       "       [56.38],\n",
       "       [74.27],\n",
       "       [41.74],\n",
       "       [66.34],\n",
       "       [67.66],\n",
       "       [48.63],\n",
       "       [37.67],\n",
       "       [74.63],\n",
       "       [47.45],\n",
       "       [54.62],\n",
       "       [28.34],\n",
       "       [41.98],\n",
       "       [66.39],\n",
       "       [50.34],\n",
       "       [32.32],\n",
       "       [44.3 ],\n",
       "       [46.56],\n",
       "       [70.06],\n",
       "       [59.99],\n",
       "       [53.53],\n",
       "       [29.82],\n",
       "       [67.36],\n",
       "       [33.47],\n",
       "       [28.41],\n",
       "       [39.34],\n",
       "       [33.04],\n",
       "       [70.61],\n",
       "       [67.86],\n",
       "       [52.74],\n",
       "       [49.57],\n",
       "       [80.13],\n",
       "       [33.5 ],\n",
       "       [84.38],\n",
       "       [50.85],\n",
       "       [44.19],\n",
       "       [19.86],\n",
       "       [29.9 ],\n",
       "       [46.18],\n",
       "       [49.21],\n",
       "       [57.14],\n",
       "       [57.55],\n",
       "       [45.  ],\n",
       "       [80.7 ],\n",
       "       [26.74],\n",
       "       [41.97],\n",
       "       [44.83],\n",
       "       [62.88],\n",
       "       [50.11],\n",
       "       [32.15],\n",
       "       [20.86],\n",
       "       [69.58],\n",
       "       [46.23],\n",
       "       [67.56],\n",
       "       [41.39],\n",
       "       [51.95],\n",
       "       [40.7 ],\n",
       "       [22.63],\n",
       "       [52.  ],\n",
       "       [44.7 ],\n",
       "       [66.54],\n",
       "       [11.62],\n",
       "       [40.12],\n",
       "       [45.47],\n",
       "       [61.35],\n",
       "       [46.02],\n",
       "       [44.26],\n",
       "       [42.83],\n",
       "       [74.1 ],\n",
       "       [51.56],\n",
       "       [43.28],\n",
       "       [64.68],\n",
       "       [38.5 ],\n",
       "       [62.32],\n",
       "       [66.78],\n",
       "       [47.53],\n",
       "       [56.43],\n",
       "       [42.48],\n",
       "       [35.87],\n",
       "       [48.98],\n",
       "       [56.95],\n",
       "       [61.59],\n",
       "       [45.21],\n",
       "       [53.01],\n",
       "       [59.38],\n",
       "       [61.44],\n",
       "       [60.68],\n",
       "       [40.12],\n",
       "       [44.35],\n",
       "       [38.79],\n",
       "       [79.39],\n",
       "       [45.97],\n",
       "       [64.93],\n",
       "       [63.26],\n",
       "       [80.74],\n",
       "       [72.37],\n",
       "       [25.84],\n",
       "       [60.88],\n",
       "       [40.21],\n",
       "       [40.  ],\n",
       "       [51.5 ],\n",
       "       [37.76],\n",
       "       [31.48],\n",
       "       [53.79],\n",
       "       [44.28],\n",
       "       [44.1 ],\n",
       "       [69.08],\n",
       "       [56.27],\n",
       "       [24.63],\n",
       "       [53.52],\n",
       "       [30.22],\n",
       "       [31.65],\n",
       "       [57.93],\n",
       "       [22.19],\n",
       "       [75.97],\n",
       "       [58.06],\n",
       "       [65.46],\n",
       "       [47.89],\n",
       "       [71.44],\n",
       "       [52.94],\n",
       "       [41.46],\n",
       "       [41.04],\n",
       "       [76.24],\n",
       "       [71.73],\n",
       "       [66.71],\n",
       "       [21.84],\n",
       "       [70.88],\n",
       "       [35.93],\n",
       "       [32.48],\n",
       "       [41.33],\n",
       "       [38.91]])"
      ]
     },
     "execution_count": 16,
     "metadata": {},
     "output_type": "execute_result"
    }
   ],
   "source": [
    "predicted_values = reg_line.predict(X_test)\n",
    "predicted_values\n"
   ]
  },
  {
   "cell_type": "code",
   "execution_count": 17,
   "id": "8100a248",
   "metadata": {},
   "outputs": [
    {
     "data": {
      "text/plain": [
       "2.4800674334703496e-15"
      ]
     },
     "execution_count": 17,
     "metadata": {},
     "output_type": "execute_result"
    }
   ],
   "source": [
    "# find mae\n",
    "from sklearn.metrics import mean_absolute_error\n",
    "\n",
    "reg_mae = mean_absolute_error(y_test, predicted_values)\n",
    "reg_mae\n"
   ]
  },
  {
   "cell_type": "code",
   "execution_count": 18,
   "id": "7a1b197b",
   "metadata": {},
   "outputs": [
    {
     "data": {
      "text/plain": [
       "4.17610993224481e-15"
      ]
     },
     "execution_count": 18,
     "metadata": {},
     "output_type": "execute_result"
    }
   ],
   "source": [
    "# find rmse\n",
    "from sklearn.metrics import mean_squared_error\n",
    "from math import sqrt\n",
    "\n",
    "reg_rmse = sqrt(mean_squared_error(y_test, predicted_values))\n",
    "reg_rmse\n"
   ]
  },
  {
   "cell_type": "markdown",
   "id": "356abe14",
   "metadata": {},
   "source": [
    "---"
   ]
  },
  {
   "cell_type": "markdown",
   "id": "05355060",
   "metadata": {},
   "source": [
    "---"
   ]
  },
  {
   "cell_type": "markdown",
   "id": "afa49988",
   "metadata": {},
   "source": [
    "### <span style=\"color:blue\">Decision Tree</span>"
   ]
  },
  {
   "cell_type": "code",
   "execution_count": 19,
   "id": "3cd1d49b",
   "metadata": {},
   "outputs": [
    {
     "data": {
      "text/plain": [
       "DecisionTreeRegressor()"
      ]
     },
     "execution_count": 19,
     "metadata": {},
     "output_type": "execute_result"
    }
   ],
   "source": [
    "from sklearn.tree import DecisionTreeRegressor \n",
    "\n",
    "dtree = DecisionTreeRegressor()\n",
    "dtree.fit(X_train, y_train)\n"
   ]
  },
  {
   "cell_type": "markdown",
   "id": "66400d17",
   "metadata": {},
   "source": [
    "---"
   ]
  },
  {
   "cell_type": "code",
   "execution_count": 20,
   "id": "b3e952e3",
   "metadata": {},
   "outputs": [
    {
     "data": {
      "text/plain": [
       "array([63.08, 53.58, 68.4 , 70.09, 55.14, 65.25, 43.31, 88.12, 69.51,\n",
       "       38.04, 55.33, 72.53, 48.59, 59.7 , 46.74, 41.67, 76.33, 68.06,\n",
       "       59.02, 83.03, 58.45, 67.63, 58.02, 77.08, 69.03, 58.02, 69.27,\n",
       "       50.73, 83.6 , 47.83, 53.92, 57.05, 68.4 , 48.87, 63.12, 62.09,\n",
       "       64.13, 65.36, 56.71, 58.47, 57.84, 42.1 , 60.64, 35.63, 69.03,\n",
       "       63.91, 63.4 , 43.04, 74.43, 44.68, 44.8 , 27.42, 51.47, 79.27,\n",
       "       71.75, 46.74, 46.69, 75.52, 67.53, 39.72, 31.85, 55.63, 60.52,\n",
       "       56.16, 39.61, 71.78, 43.96, 30.29, 50.5 , 17.29, 85.48, 46.45,\n",
       "       77.44, 62.09, 40.27, 67.53, 39.61, 58.02, 58.97, 68.09, 57.05,\n",
       "       73.18, 71.58, 73.96, 69.27, 61.64, 33.12, 44.66, 48.59, 71.05,\n",
       "       30.29, 49.56, 66.74, 58.85, 48.8 , 56.  , 68.4 , 26.49, 65.54,\n",
       "       72.2 , 57.02, 69.39, 62.87, 53.05, 67.12, 16.17, 71.13, 51.99,\n",
       "       80.72, 48.48, 38.74, 66.89, 56.67, 47.73, 46.26, 50.5 , 42.28,\n",
       "       53.82, 77.  , 45.32, 67.68, 39.01, 65.54, 25.89, 67.63, 53.92,\n",
       "       76.32, 30.7 , 37.7 , 68.54, 56.38, 74.29, 41.75, 66.47, 67.63,\n",
       "       48.59, 37.94, 74.73, 47.36, 54.53, 27.35, 41.98, 66.47, 50.36,\n",
       "       32.37, 44.22, 46.35, 70.08, 60.03, 53.58, 29.66, 67.42, 33.12,\n",
       "       28.76, 39.39, 33.09, 70.69, 67.68, 52.74, 49.56, 80.19, 33.24,\n",
       "       84.19, 50.88, 44.16, 19.88, 29.66, 46.01, 49.21, 57.05, 57.48,\n",
       "       45.05, 80.72, 25.67, 41.98, 44.8 , 62.76, 50.11, 32.18, 21.12,\n",
       "       69.73, 46.45, 67.42, 41.32, 51.96, 40.56, 23.05, 51.99, 44.67,\n",
       "       66.87, 12.25, 40.18, 45.34, 61.3 , 46.01, 44.22, 42.85, 74.29,\n",
       "       51.5 , 43.24, 64.71, 38.52, 62.22, 66.87, 47.56, 56.41, 42.52,\n",
       "       35.63, 48.96, 57.05, 61.49, 45.05, 53.05, 59.4 , 61.64, 60.68,\n",
       "       40.2 , 44.55, 38.74, 79.38, 46.11, 65.08, 63.33, 80.72, 72.53,\n",
       "       26.49, 60.91, 40.2 , 40.18, 51.47, 37.7 , 31.47, 53.92, 44.22,\n",
       "       44.06, 69.11, 56.  , 25.11, 53.58, 30.29, 31.47, 57.95, 22.28,\n",
       "       75.93, 58.02, 65.54, 47.8 , 71.36, 52.93, 41.49, 40.94, 76.68,\n",
       "       71.76, 66.57, 22.25, 70.79, 35.63, 32.52, 41.32, 39.05])"
      ]
     },
     "execution_count": 20,
     "metadata": {},
     "output_type": "execute_result"
    }
   ],
   "source": [
    "predicted_values = dtree.predict(X_test)\n",
    "predicted_values\n"
   ]
  },
  {
   "cell_type": "code",
   "execution_count": 21,
   "id": "5892fbed",
   "metadata": {},
   "outputs": [
    {
     "data": {
      "text/plain": [
       "0.10480769230769234"
      ]
     },
     "execution_count": 21,
     "metadata": {},
     "output_type": "execute_result"
    }
   ],
   "source": [
    "# find mae\n",
    "from sklearn.metrics import mean_absolute_error\n",
    "\n",
    "dtree_mae = mean_absolute_error(y_test, predicted_values)\n",
    "dtree_mae\n"
   ]
  },
  {
   "cell_type": "code",
   "execution_count": 22,
   "id": "6dd8e28a",
   "metadata": {},
   "outputs": [
    {
     "data": {
      "text/plain": [
       "0.18093453979908783"
      ]
     },
     "execution_count": 22,
     "metadata": {},
     "output_type": "execute_result"
    }
   ],
   "source": [
    "# find rmse\n",
    "from sklearn.metrics import mean_squared_error\n",
    "from math import sqrt\n",
    "\n",
    "dtree_rmse = sqrt(mean_squared_error(y_test, predicted_values))\n",
    "dtree_rmse\n"
   ]
  },
  {
   "cell_type": "markdown",
   "id": "12a9dac3",
   "metadata": {},
   "source": [
    "---"
   ]
  },
  {
   "cell_type": "markdown",
   "id": "03b12a33",
   "metadata": {},
   "source": [
    "---"
   ]
  },
  {
   "cell_type": "markdown",
   "id": "db4b93a7",
   "metadata": {},
   "source": [
    "### <span style=\"color:blue\">Random Forest</span>"
   ]
  },
  {
   "cell_type": "code",
   "execution_count": 23,
   "id": "4adb7420",
   "metadata": {},
   "outputs": [
    {
     "name": "stderr",
     "output_type": "stream",
     "text": [
      "C:\\Users\\fahad\\AppData\\Local\\Temp/ipykernel_7872/4138979454.py:4: DataConversionWarning: A column-vector y was passed when a 1d array was expected. Please change the shape of y to (n_samples,), for example using ravel().\n",
      "  rforest.fit(X_train, y_train)\n"
     ]
    },
    {
     "data": {
      "text/plain": [
       "RandomForestRegressor()"
      ]
     },
     "execution_count": 23,
     "metadata": {},
     "output_type": "execute_result"
    }
   ],
   "source": [
    "from sklearn.ensemble import RandomForestRegressor\n",
    "\n",
    "rforest = RandomForestRegressor()\n",
    "rforest.fit(X_train, y_train)\n"
   ]
  },
  {
   "cell_type": "markdown",
   "id": "38ad8b5f",
   "metadata": {},
   "source": [
    "---"
   ]
  },
  {
   "cell_type": "code",
   "execution_count": 24,
   "id": "870d98f2",
   "metadata": {},
   "outputs": [
    {
     "data": {
      "text/plain": [
       "array([63.089 , 53.6333, 68.522 , 70.0962, 55.1393, 65.1754, 43.2066,\n",
       "       87.6804, 69.4702, 38.0492, 55.3364, 72.5624, 48.5298, 59.7541,\n",
       "       46.7063, 41.6716, 76.3497, 68.0887, 59.2941, 83.3031, 58.4583,\n",
       "       67.625 , 57.9865, 77.0772, 69.1126, 58.0064, 69.275 , 50.7358,\n",
       "       83.7648, 47.815 , 53.8864, 57.0471, 68.4376, 48.8799, 63.0492,\n",
       "       62.1709, 64.0608, 65.3436, 56.689 , 58.509 , 57.843 , 42.069 ,\n",
       "       60.604 , 35.6715, 69.0325, 63.9171, 63.3429, 42.9205, 74.4706,\n",
       "       44.6726, 44.9017, 28.0525, 51.4391, 79.3827, 71.7874, 46.6961,\n",
       "       46.6985, 75.5302, 67.396 , 39.6151, 31.9597, 55.7766, 60.4783,\n",
       "       56.0623, 39.5787, 71.7848, 43.9586, 30.3942, 50.5064, 15.2855,\n",
       "       85.4938, 46.3874, 77.4621, 62.0877, 40.206 , 67.3455, 39.5527,\n",
       "       57.9951, 58.9584, 68.0962, 57.0377, 73.2151, 71.596 , 73.8983,\n",
       "       69.2111, 61.5838, 33.2382, 44.6695, 48.584 , 70.9464, 30.1381,\n",
       "       49.5422, 66.8689, 58.8388, 48.8771, 56.2643, 68.3586, 26.416 ,\n",
       "       65.552 , 72.1435, 57.0511, 69.4246, 62.8913, 53.0816, 67.1286,\n",
       "       13.9477, 71.0776, 51.9291, 80.8803, 48.4286, 38.9781, 66.8924,\n",
       "       56.6754, 47.7382, 46.4483, 50.4881, 42.4012, 53.9326, 77.0255,\n",
       "       45.3241, 67.6774, 39.0932, 65.5239, 26.3358, 67.6352, 53.8773,\n",
       "       76.3611, 30.7713, 37.8248, 68.5418, 56.4129, 74.3633, 41.7213,\n",
       "       66.3713, 67.6365, 48.5991, 37.6173, 74.6363, 47.4151, 54.5945,\n",
       "       28.1871, 41.9707, 66.4126, 50.3423, 32.2819, 44.2178, 46.4659,\n",
       "       70.1103, 59.9399, 53.6532, 29.5289, 67.3545, 33.2314, 28.8158,\n",
       "       39.3782, 33.0922, 70.5885, 67.7991, 52.7159, 49.5666, 80.159 ,\n",
       "       33.2674, 84.2861, 50.8883, 44.1739, 20.3946, 29.6676, 46.1011,\n",
       "       49.2388, 57.0522, 57.4548, 44.9869, 80.744 , 26.3492, 41.9789,\n",
       "       44.866 , 62.8749, 50.1143, 32.2038, 20.9044, 69.5703, 46.2664,\n",
       "       67.548 , 41.3728, 51.9254, 40.7174, 22.3413, 51.9473, 44.6728,\n",
       "       66.5092, 12.3075, 40.2477, 45.464 , 61.3086, 45.9843, 44.1876,\n",
       "       42.8603, 74.0141, 51.5648, 43.273 , 64.7091, 38.5508, 62.3017,\n",
       "       66.8414, 47.5673, 56.4372, 42.5388, 35.6021, 48.9839, 56.9838,\n",
       "       61.5771, 45.1885, 53.0779, 59.3958, 61.53  , 60.6395, 40.2021,\n",
       "       44.3846, 38.8329, 79.2839, 46.0159, 64.8983, 63.2403, 80.8134,\n",
       "       72.5256, 25.7488, 60.8947, 40.2003, 40.2241, 51.5018, 37.7246,\n",
       "       31.3309, 53.7963, 44.1938, 44.0922, 69.101 , 56.2203, 24.8508,\n",
       "       53.651 , 30.4777, 31.5115, 57.9381, 22.1158, 75.9011, 58.035 ,\n",
       "       65.4819, 47.8152, 71.4054, 52.9163, 41.4822, 40.963 , 76.3153,\n",
       "       71.7542, 66.7136, 21.9482, 70.833 , 35.6498, 32.5461, 41.3504,\n",
       "       38.8704])"
      ]
     },
     "execution_count": 24,
     "metadata": {},
     "output_type": "execute_result"
    }
   ],
   "source": [
    "predicted_values = rforest.predict(X_test)\n",
    "predicted_values\n"
   ]
  },
  {
   "cell_type": "code",
   "execution_count": 25,
   "id": "4b8af0dc",
   "metadata": {},
   "outputs": [
    {
     "data": {
      "text/plain": [
       "0.08279538461538714"
      ]
     },
     "execution_count": 25,
     "metadata": {},
     "output_type": "execute_result"
    }
   ],
   "source": [
    "# find mae\n",
    "from sklearn.metrics import mean_absolute_error\n",
    "\n",
    "rforest_mae = mean_absolute_error(y_test, predicted_values)\n",
    "rforest_mae\n"
   ]
  },
  {
   "cell_type": "code",
   "execution_count": 26,
   "id": "da2dabed",
   "metadata": {},
   "outputs": [
    {
     "data": {
      "text/plain": [
       "0.25317089986501545"
      ]
     },
     "execution_count": 26,
     "metadata": {},
     "output_type": "execute_result"
    }
   ],
   "source": [
    "# find rmse\n",
    "from sklearn.metrics import mean_squared_error\n",
    "from math import sqrt\n",
    "\n",
    "rforest_rmse = sqrt(mean_squared_error(y_test, predicted_values))\n",
    "rforest_rmse\n"
   ]
  },
  {
   "cell_type": "markdown",
   "id": "42ed209f",
   "metadata": {},
   "source": [
    "---"
   ]
  },
  {
   "cell_type": "markdown",
   "id": "9a019e03",
   "metadata": {},
   "source": [
    "---"
   ]
  },
  {
   "cell_type": "markdown",
   "id": "5d111fc6",
   "metadata": {},
   "source": [
    "### <span style=\"color:blue\">SVM Linear</span>"
   ]
  },
  {
   "cell_type": "code",
   "execution_count": 27,
   "id": "f865ff27",
   "metadata": {},
   "outputs": [
    {
     "name": "stderr",
     "output_type": "stream",
     "text": [
      "C:\\ProgramData\\Anaconda3\\lib\\site-packages\\sklearn\\utils\\validation.py:63: DataConversionWarning: A column-vector y was passed when a 1d array was expected. Please change the shape of y to (n_samples, ), for example using ravel().\n",
      "  return f(*args, **kwargs)\n"
     ]
    },
    {
     "data": {
      "text/plain": [
       "SVR(kernel='linear')"
      ]
     },
     "execution_count": 27,
     "metadata": {},
     "output_type": "execute_result"
    }
   ],
   "source": [
    "from sklearn import svm\n",
    "\n",
    "support_linear = svm.SVR(kernel= 'linear')\n",
    "support_linear.fit(X_train, y_train)\n"
   ]
  },
  {
   "cell_type": "markdown",
   "id": "e29ede29",
   "metadata": {},
   "source": [
    "---"
   ]
  },
  {
   "cell_type": "code",
   "execution_count": 28,
   "id": "92e968ee",
   "metadata": {},
   "outputs": [
    {
     "data": {
      "text/plain": [
       "array([63.04042522, 53.44189891, 68.47385157, 70.05006296, 55.19529139,\n",
       "       65.12031697, 43.23576422, 87.78988325, 69.437696  , 38.07055595,\n",
       "       55.24206181, 72.31133378, 48.46351669, 59.76867007, 46.71855282,\n",
       "       41.6568281 , 76.3426736 , 67.90227924, 59.16565894, 83.1014113 ,\n",
       "       58.45669063, 67.57258056, 58.0046205 , 77.02212766, 69.0299747 ,\n",
       "       57.99937941, 69.25799488, 50.65608392, 83.49451416, 47.86353806,\n",
       "       53.92093954, 57.06604777, 68.38211547, 48.82751953, 62.96437823,\n",
       "       62.09561664, 64.01735274, 65.31012111, 56.68549673, 58.48567574,\n",
       "       57.80760074, 42.07486531, 60.5689382 , 35.92172034, 68.96302778,\n",
       "       63.88755435, 63.31709416, 42.91242634, 74.35620429, 44.66540457,\n",
       "       44.89389933, 28.10494872, 51.41230021, 79.28808747, 71.74491101,\n",
       "       46.62792797, 46.6344557 , 75.44860415, 67.38307177, 39.85497903,\n",
       "       31.9535339 , 55.70901101, 60.41073411, 56.16099734, 39.58243612,\n",
       "       71.74699206, 43.93181008, 30.21583442, 50.5858241 , 18.12563198,\n",
       "       85.74192332, 46.3129048 , 77.3688594 , 61.97467234, 40.20262597,\n",
       "       67.30897909, 39.56443713, 58.00267764, 58.95212716, 68.03433697,\n",
       "       57.05804533, 73.19944199, 71.53366575, 73.98118435, 69.17873966,\n",
       "       61.52496141, 33.51612181, 44.69841499, 48.60749988, 70.88627544,\n",
       "       30.1075283 , 49.60329624, 66.87926731, 58.84551608, 48.89635572,\n",
       "       56.23715561, 68.28946488, 26.49411959, 65.52795408, 72.23360237,\n",
       "       57.09612798, 69.38114644, 62.85138667, 53.03682773, 67.05410187,\n",
       "       16.44955199, 71.06525065, 51.99682612, 80.77044268, 48.40068749,\n",
       "       39.00738857, 66.8193953 , 56.63121927, 47.74525076, 46.50767913,\n",
       "       50.54981707, 42.44008117, 53.97226822, 76.96412921, 45.3172137 ,\n",
       "       67.65479819, 39.10854438, 65.50060371, 26.75786751, 67.55994501,\n",
       "       53.84205615, 76.35513247, 30.93202054, 37.83011156, 68.48516541,\n",
       "       56.35958835, 74.19596606, 41.74326478, 66.28367126, 67.60981852,\n",
       "       48.62909316, 37.68931292, 74.56978049, 47.43706528, 54.60163957,\n",
       "       28.37822511, 41.99027117, 66.34673894, 50.32722965, 32.34883926,\n",
       "       44.29756508, 46.55899911, 70.00984724, 59.96073417, 53.50820686,\n",
       "       29.8576549 , 67.30519416, 33.50112099, 28.44345989, 39.36085788,\n",
       "       33.0636574 , 70.55581606, 67.80787151, 52.7201811 , 49.56803591,\n",
       "       80.05142207, 33.53595536, 84.28623043, 50.8298744 , 44.18989511,\n",
       "       19.92389251, 29.93342335, 46.18351221, 49.2090958 , 57.10527282,\n",
       "       57.5297505 , 44.99394237, 80.62148102, 26.78339148, 41.98625563,\n",
       "       44.83809094, 62.8307557 , 50.09390243, 32.17886727, 20.91473719,\n",
       "       69.51464803, 46.2347096 , 67.50756509, 41.39651401, 51.93985819,\n",
       "       40.70349897, 22.6791174 , 51.9875879 , 44.70508273, 66.48662273,\n",
       "       11.69337711, 40.12655803, 45.46861108, 61.32032639, 46.01493101,\n",
       "       44.26965987, 42.83327553, 74.02475653, 51.55283539, 43.28035921,\n",
       "       64.64150648, 38.51526223, 62.28119036, 66.73469801, 47.51601829,\n",
       "       56.40190707, 42.48884565, 35.88677457, 48.96461726, 56.92974444,\n",
       "       61.54916126, 45.2181513 , 53.00020502, 59.35438655, 61.40481545,\n",
       "       60.63646479, 40.12849949, 44.34994428, 38.80122905, 79.31841945,\n",
       "       45.96264649, 64.8934051 , 63.22558063, 80.66109935, 72.30120076,\n",
       "       25.8858559 , 60.84996252, 40.21928836, 40.0176911 , 51.48955146,\n",
       "       37.78129029, 31.50529127, 53.76871637, 44.28083046, 44.10126582,\n",
       "       69.01636597, 56.24604998, 24.68577482, 53.50815786, 30.25485663,\n",
       "       31.68185551, 57.90409479, 22.24426445, 75.90772028, 58.03138926,\n",
       "       65.4132392 , 47.88183499, 71.38636774, 52.92267822, 41.47888496,\n",
       "       41.04562159, 76.17446413, 71.66437961, 66.66532342, 21.8895747 ,\n",
       "       70.82585334, 35.94487858, 32.50586293, 41.33921307, 38.915883  ])"
      ]
     },
     "execution_count": 28,
     "metadata": {},
     "output_type": "execute_result"
    }
   ],
   "source": [
    "predicted_values = support_linear.predict(X_test)\n",
    "predicted_values\n"
   ]
  },
  {
   "cell_type": "code",
   "execution_count": 29,
   "id": "29862b7c",
   "metadata": {},
   "outputs": [
    {
     "data": {
      "text/plain": [
       "0.03276526382972508"
      ]
     },
     "execution_count": 29,
     "metadata": {},
     "output_type": "execute_result"
    }
   ],
   "source": [
    "# find mae\n",
    "from sklearn.metrics import mean_absolute_error\n",
    "\n",
    "support_linear_mae = mean_absolute_error(y_test, predicted_values)\n",
    "support_linear_mae\n"
   ]
  },
  {
   "cell_type": "code",
   "execution_count": 30,
   "id": "cd630862",
   "metadata": {},
   "outputs": [
    {
     "data": {
      "text/plain": [
       "0.04003558426934226"
      ]
     },
     "execution_count": 30,
     "metadata": {},
     "output_type": "execute_result"
    }
   ],
   "source": [
    "# find rmse\n",
    "from sklearn.metrics import mean_squared_error\n",
    "from math import sqrt\n",
    "\n",
    "support_linear_rmse = sqrt(mean_squared_error(y_test, predicted_values))\n",
    "support_linear_rmse\n"
   ]
  },
  {
   "cell_type": "markdown",
   "id": "2b45c7c4",
   "metadata": {},
   "source": [
    "***"
   ]
  },
  {
   "cell_type": "markdown",
   "id": "8acae558",
   "metadata": {},
   "source": [
    "***"
   ]
  },
  {
   "cell_type": "markdown",
   "id": "43658d01",
   "metadata": {},
   "source": [
    "### <span style=\"color:blue\">SVM RFB</span>"
   ]
  },
  {
   "cell_type": "code",
   "execution_count": 31,
   "id": "213417b7",
   "metadata": {},
   "outputs": [
    {
     "name": "stderr",
     "output_type": "stream",
     "text": [
      "C:\\ProgramData\\Anaconda3\\lib\\site-packages\\sklearn\\utils\\validation.py:63: DataConversionWarning: A column-vector y was passed when a 1d array was expected. Please change the shape of y to (n_samples, ), for example using ravel().\n",
      "  return f(*args, **kwargs)\n"
     ]
    },
    {
     "data": {
      "text/plain": [
       "SVR()"
      ]
     },
     "execution_count": 31,
     "metadata": {},
     "output_type": "execute_result"
    }
   ],
   "source": [
    "from sklearn import svm\n",
    "\n",
    "support_RBF = svm.SVR(kernel= 'rbf')\n",
    "support_RBF.fit(X_train, y_train)\n"
   ]
  },
  {
   "cell_type": "markdown",
   "id": "3aafc0d0",
   "metadata": {},
   "source": [
    "---"
   ]
  },
  {
   "cell_type": "code",
   "execution_count": 32,
   "id": "b8ff84e9",
   "metadata": {},
   "outputs": [
    {
     "data": {
      "text/plain": [
       "array([54.31959045, 54.24177038, 54.36038648, 54.37199246, 54.25744822,\n",
       "       54.33782577, 54.1657829 , 54.50924555, 54.37056431, 54.12324519,\n",
       "       54.25729407, 54.39214176, 54.20608831, 54.29492294, 54.19430553,\n",
       "       54.15252461, 54.42321258, 54.35816061, 54.28862792, 54.47368008,\n",
       "       54.28699409, 54.35617756, 54.27859439, 54.42900792, 54.36359239,\n",
       "       54.28345192, 54.36862596, 54.22302555, 54.47890019, 54.20147134,\n",
       "       54.24928118, 54.27407925, 54.36240437, 54.20725858, 54.31682531,\n",
       "       54.31394723, 54.32713549, 54.33489006, 54.27058371, 54.2822878 ,\n",
       "       54.27704362, 54.15575715, 54.30218994, 54.11268246, 54.3679852 ,\n",
       "       54.32231408, 54.32120017, 54.16220729, 54.40465641, 54.17408252,\n",
       "       54.17965944, 54.04754006, 54.22830409, 54.44700788, 54.38889447,\n",
       "       54.18923208, 54.19527872, 54.41415398, 54.35090037, 54.13756215,\n",
       "       54.0793555 , 54.26417196, 54.3015108 , 54.26492854, 54.13706943,\n",
       "       54.3894468 , 54.17061162, 54.06542898, 54.22248481, 53.96956603,\n",
       "       54.49674414, 54.18845103, 54.43058736, 54.31248006, 54.14239269,\n",
       "       54.35250269, 54.14130968, 54.27692489, 54.28917389, 54.35644212,\n",
       "       54.27128026, 54.39899736, 54.38615775, 54.40283932, 54.36856446,\n",
       "       54.30463953, 54.09032215, 54.17979683, 54.20556975, 54.37844736,\n",
       "       54.0618882 , 54.2170872 , 54.34807978, 54.28944065, 54.20836828,\n",
       "       54.2676842 , 54.3600493 , 54.03676024, 54.33659093, 54.38883767,\n",
       "       54.27103874, 54.37121089, 54.31812841, 54.23916618, 54.34780291,\n",
       "       53.96047434, 54.37927568, 54.23443049, 54.45735602, 54.20890586,\n",
       "       54.13373743, 54.34819361, 54.27292146, 54.20110546, 54.19483893,\n",
       "       54.22384199, 54.15691516, 54.25022037, 54.42583557, 54.18456698,\n",
       "       54.35791164, 54.13236313, 54.34130173, 54.03661485, 54.35060933,\n",
       "       54.24541006, 54.4244131 , 54.07097473, 54.1257788 , 54.36429109,\n",
       "       54.26915468, 54.40231244, 54.15208699, 54.34076947, 54.35481658,\n",
       "       54.21010845, 54.1235836 , 54.41120098, 54.19602538, 54.25451474,\n",
       "       54.05073295, 54.15729094, 54.34615544, 54.21992279, 54.08133221,\n",
       "       54.17235671, 54.19195902, 54.37550181, 54.29749819, 54.24390285,\n",
       "       54.0632302 , 54.35083112, 54.0918383 , 54.04960316, 54.13810115,\n",
       "       54.08518499, 54.37917113, 54.35579865, 54.2389364 , 54.21733962,\n",
       "       54.45125773, 54.09374618, 54.4817119 , 54.22161762, 54.17206095,\n",
       "       53.98777966, 54.06272007, 54.19070664, 54.21569297, 54.26999194,\n",
       "       54.2798446 , 54.17718599, 54.45563762, 54.03954542, 54.16001082,\n",
       "       54.18087921, 54.3141453 , 54.21647617, 54.08002899, 53.99268233,\n",
       "       54.36568358, 54.19220185, 54.35348304, 54.1510878 , 54.23507945,\n",
       "       54.14353926, 54.00627695, 54.2343628 , 54.17932421, 54.34453541,\n",
       "       53.92057778, 54.14020887, 54.18357687, 54.30906193, 54.18613496,\n",
       "       54.17705988, 54.16159331, 54.40099675, 54.23264603, 54.16450098,\n",
       "       54.33355638, 54.12996501, 54.31374075, 54.34916323, 54.19609154,\n",
       "       54.26732195, 54.16169608, 54.10752467, 54.20834815, 54.27467247,\n",
       "       54.30646015, 54.18492367, 54.24435742, 54.29280645, 54.30696536,\n",
       "       54.29777957, 54.14076316, 54.17328957, 54.12997543, 54.44781237,\n",
       "       54.18518631, 54.3366041 , 54.32320065, 54.45650512, 54.38824804,\n",
       "       54.03262136, 54.30489489, 54.14144455, 54.14261335, 54.23162276,\n",
       "       54.12539513, 54.07320822, 54.2470138 , 54.17330733, 54.17192181,\n",
       "       54.3623884 , 54.26720135, 54.02610982, 54.24772538, 54.06574546,\n",
       "       54.07673772, 54.28109457, 54.00402085, 54.42149597, 54.28040939,\n",
       "       54.33733337, 54.20163242, 54.38611513, 54.24159594, 54.15607389,\n",
       "       54.147844  , 54.42245335, 54.38444015, 54.34861835, 53.99965435,\n",
       "       54.38181117, 54.1068606 , 54.08145168, 54.1517453 , 54.12978549])"
      ]
     },
     "execution_count": 32,
     "metadata": {},
     "output_type": "execute_result"
    }
   ],
   "source": [
    "predicted_values = support_RBF.predict(X_test)\n",
    "predicted_values\n"
   ]
  },
  {
   "cell_type": "code",
   "execution_count": 33,
   "id": "abe3bf35",
   "metadata": {},
   "outputs": [
    {
     "data": {
      "text/plain": [
       "12.763734776993918"
      ]
     },
     "execution_count": 33,
     "metadata": {},
     "output_type": "execute_result"
    }
   ],
   "source": [
    "# find mae\n",
    "from sklearn.metrics import mean_absolute_error\n",
    "\n",
    "support_RBF_mae = mean_absolute_error(y_test, predicted_values)\n",
    "support_RBF_mae\n"
   ]
  },
  {
   "cell_type": "code",
   "execution_count": 36,
   "id": "322c051e",
   "metadata": {},
   "outputs": [
    {
     "data": {
      "text/plain": [
       "15.307956959469331"
      ]
     },
     "execution_count": 36,
     "metadata": {},
     "output_type": "execute_result"
    }
   ],
   "source": [
    "# find rmse\n",
    "from sklearn.metrics import mean_squared_error\n",
    "from math import sqrt\n",
    "\n",
    "support_RBF_rmse = sqrt(mean_squared_error(y_test, predicted_values))\n",
    "support_RBF_rmse\n"
   ]
  },
  {
   "cell_type": "markdown",
   "id": "936e3dc3",
   "metadata": {},
   "source": [
    "***"
   ]
  },
  {
   "cell_type": "markdown",
   "id": "eca9f795",
   "metadata": {},
   "source": [
    "***"
   ]
  },
  {
   "cell_type": "code",
   "execution_count": 39,
   "id": "ba5f4435",
   "metadata": {},
   "outputs": [
    {
     "ename": "NameError",
     "evalue": "name 'support_RBF_mae' is not defined",
     "output_type": "error",
     "traceback": [
      "\u001b[1;31m---------------------------------------------------------------------------\u001b[0m",
      "\u001b[1;31mNameError\u001b[0m                                 Traceback (most recent call last)",
      "\u001b[1;32m~\\AppData\\Local\\Temp/ipykernel_7872/110878885.py\u001b[0m in \u001b[0;36m<module>\u001b[1;34m\u001b[0m\n\u001b[0;32m      4\u001b[0m         \u001b[1;34m'Random Forest'\u001b[0m            \u001b[1;33m:\u001b[0m\u001b[1;33m[\u001b[0m\u001b[0mrforest_mae\u001b[0m\u001b[1;33m,\u001b[0m \u001b[0mrforest_rmse\u001b[0m\u001b[1;33m]\u001b[0m\u001b[1;33m,\u001b[0m\u001b[1;33m\u001b[0m\u001b[1;33m\u001b[0m\u001b[0m\n\u001b[0;32m      5\u001b[0m             \u001b[1;34m\"SVM (Linear)\"\u001b[0m         \u001b[1;33m:\u001b[0m\u001b[1;33m[\u001b[0m\u001b[0msupport_linear_mae\u001b[0m\u001b[1;33m,\u001b[0m \u001b[0msupport_linear_rmse\u001b[0m\u001b[1;33m]\u001b[0m\u001b[1;33m,\u001b[0m\u001b[1;33m\u001b[0m\u001b[1;33m\u001b[0m\u001b[0m\n\u001b[1;32m----> 6\u001b[1;33m                \u001b[1;34m\"SVM (RBF)\"\u001b[0m         \u001b[1;33m:\u001b[0m\u001b[1;33m[\u001b[0m\u001b[0msupport_RBF_mae\u001b[0m\u001b[1;33m,\u001b[0m \u001b[0msupport_RBF_rmse\u001b[0m\u001b[1;33m]\u001b[0m\u001b[1;33m\u001b[0m\u001b[1;33m\u001b[0m\u001b[0m\n\u001b[0m\u001b[0;32m      7\u001b[0m }\n",
      "\u001b[1;31mNameError\u001b[0m: name 'support_RBF_mae' is not defined"
     ]
    }
   ],
   "source": [
    "data={'KNN(K_Nearest_Neighbour)'   :[knn_mae, knn_rmse],\n",
    "      'LinearRegression'           :[reg_mae, reg_rmse],\n",
    "        'Decesion Tree'            :[dtree_mae, dtree_rmse],\n",
    "        'Random Forest'            :[rforest_mae, rforest_rmse],\n",
    "            \"SVM (Linear)\"         :[support_linear_mae, support_linear_rmse],\n",
    "               \"SVM (RBF)\"         :[support_RBF_mae, support_RBF_rmse]\n",
    "}"
   ]
  },
  {
   "cell_type": "code",
   "execution_count": null,
   "id": "215c7d56",
   "metadata": {},
   "outputs": [],
   "source": []
  },
  {
   "cell_type": "code",
   "execution_count": null,
   "id": "5c3da5a3",
   "metadata": {},
   "outputs": [],
   "source": []
  },
  {
   "cell_type": "code",
   "execution_count": null,
   "id": "d0e23ae8",
   "metadata": {},
   "outputs": [],
   "source": []
  }
 ],
 "metadata": {
  "kernelspec": {
   "display_name": "Python 3 (ipykernel)",
   "language": "python",
   "name": "python3"
  },
  "language_info": {
   "codemirror_mode": {
    "name": "ipython",
    "version": 3
   },
   "file_extension": ".py",
   "mimetype": "text/x-python",
   "name": "python",
   "nbconvert_exporter": "python",
   "pygments_lexer": "ipython3",
   "version": "3.9.7"
  }
 },
 "nbformat": 4,
 "nbformat_minor": 5
}
