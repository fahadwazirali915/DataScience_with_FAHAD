{
 "cells": [
  {
   "cell_type": "markdown",
   "metadata": {},
   "source": [
    "## <span style=\"color:green\"> Project </span>"
   ]
  },
  {
   "cell_type": "markdown",
   "metadata": {},
   "source": [
    "### <span style=\"color:cyan\">Step: 00</span>: (Import Libraries) !"
   ]
  },
  {
   "cell_type": "code",
   "execution_count": 19,
   "metadata": {},
   "outputs": [],
   "source": [
    "# import Dataset !\n",
    "import pandas as pd\n",
    "import numpy as np\n",
    "import matplotlib.pyplot as plt\n",
    "import seaborn as sns\n"
   ]
  },
  {
   "cell_type": "markdown",
   "metadata": {},
   "source": [
    "### <span style=\"color:cyan\">Step: 01</span>: (Import Dataset)"
   ]
  },
  {
   "cell_type": "code",
   "execution_count": 20,
   "metadata": {},
   "outputs": [
    {
     "data": {
      "text/html": [
       "<div>\n",
       "<style scoped>\n",
       "    .dataframe tbody tr th:only-of-type {\n",
       "        vertical-align: middle;\n",
       "    }\n",
       "\n",
       "    .dataframe tbody tr th {\n",
       "        vertical-align: top;\n",
       "    }\n",
       "\n",
       "    .dataframe thead th {\n",
       "        text-align: right;\n",
       "    }\n",
       "</style>\n",
       "<table border=\"1\" class=\"dataframe\">\n",
       "  <thead>\n",
       "    <tr style=\"text-align: right;\">\n",
       "      <th></th>\n",
       "      <th>Company_Name</th>\n",
       "      <th>Coding</th>\n",
       "      <th>Year</th>\n",
       "      <th>ESG Score</th>\n",
       "      <th>Return on Equity</th>\n",
       "      <th>Return on Asset</th>\n",
       "      <th>Earning Per Share</th>\n",
       "      <th>Price/Sales Per Share Ratio</th>\n",
       "      <th>Earning before Interest &amp; Taxes</th>\n",
       "      <th>DIVIDEND YIELD</th>\n",
       "    </tr>\n",
       "  </thead>\n",
       "  <tbody>\n",
       "    <tr>\n",
       "      <th>0</th>\n",
       "      <td>HOME DEPOT</td>\n",
       "      <td>1</td>\n",
       "      <td>2008</td>\n",
       "      <td>65.85</td>\n",
       "      <td>12.74</td>\n",
       "      <td>6.24</td>\n",
       "      <td>1.34</td>\n",
       "      <td>0.54</td>\n",
       "      <td>4.214</td>\n",
       "      <td>3.54</td>\n",
       "    </tr>\n",
       "    <tr>\n",
       "      <th>1</th>\n",
       "      <td>HOME DEPOT</td>\n",
       "      <td>1</td>\n",
       "      <td>2009</td>\n",
       "      <td>53.06</td>\n",
       "      <td>14.32</td>\n",
       "      <td>7.56</td>\n",
       "      <td>1.57</td>\n",
       "      <td>0.74</td>\n",
       "      <td>4.658</td>\n",
       "      <td>4.11</td>\n",
       "    </tr>\n",
       "  </tbody>\n",
       "</table>\n",
       "</div>"
      ],
      "text/plain": [
       "  Company_Name  Coding  Year  ESG Score  Return on Equity  Return on Asset  \\\n",
       "0   HOME DEPOT       1  2008      65.85             12.74             6.24   \n",
       "1   HOME DEPOT       1  2009      53.06             14.32             7.56   \n",
       "\n",
       "   Earning Per Share  Price/Sales Per Share Ratio  \\\n",
       "0               1.34                         0.54   \n",
       "1               1.57                         0.74   \n",
       "\n",
       "   Earning before Interest & Taxes  DIVIDEND YIELD  \n",
       "0                            4.214            3.54  \n",
       "1                            4.658            4.11  "
      ]
     },
     "execution_count": 20,
     "metadata": {},
     "output_type": "execute_result"
    }
   ],
   "source": [
    "df = pd.read_csv('company.csv')\n",
    "df.head(2)"
   ]
  },
  {
   "cell_type": "markdown",
   "metadata": {},
   "source": [
    "### <span style=\"color:cyan\">Step: 02</span>: Data Cleaned or Organize"
   ]
  },
  {
   "cell_type": "code",
   "execution_count": 21,
   "metadata": {},
   "outputs": [
    {
     "data": {
      "text/plain": [
       "Company_Name                       0\n",
       "Coding                             0\n",
       "Year                               0\n",
       "ESG Score                          0\n",
       "Return on Equity                   0\n",
       "Return on Asset                    0\n",
       "Earning Per Share                  0\n",
       "Price/Sales Per Share Ratio        0\n",
       "Earning before Interest & Taxes    0\n",
       "DIVIDEND YIELD                     0\n",
       "dtype: int64"
      ]
     },
     "execution_count": 21,
     "metadata": {},
     "output_type": "execute_result"
    }
   ],
   "source": [
    "df.isnull().sum()"
   ]
  },
  {
   "cell_type": "code",
   "execution_count": 22,
   "metadata": {},
   "outputs": [
    {
     "data": {
      "text/plain": [
       "(1300, 10)"
      ]
     },
     "execution_count": 22,
     "metadata": {},
     "output_type": "execute_result"
    }
   ],
   "source": [
    "df.shape"
   ]
  },
  {
   "cell_type": "code",
   "execution_count": 26,
   "metadata": {},
   "outputs": [
    {
     "data": {
      "text/plain": [
       "array([51, 96, 40, 97, 18, 16,  1, 89, 94, 24,  8, 59, 67, 61, 92, 93, 65,\n",
       "       22, 79, 13, 46, 19, 87, 43,  0, 48, 60, 74, 85, 90, 30, 34, 53, 83,\n",
       "       11, 41, 68, 27, 31,  3, 32, 69, 14, 33, 35, 38, 45, 26, 37, 80,  7,\n",
       "       66, 76, 88,  2, 10, 47, 81, 86, 23, 39, 56, 57, 64, 99, 12, 20, 55,\n",
       "       70, 78, 82, 84, 98,  6,  9, 21, 25, 58, 71, 73,  4, 17, 28, 44, 50,\n",
       "       52, 62, 77, 91, 95,  5, 15, 29, 36, 42, 49, 54, 63, 72, 75])"
      ]
     },
     "execution_count": 26,
     "metadata": {},
     "output_type": "execute_result"
    }
   ],
   "source": [
    "df['Company_Name'].unique()"
   ]
  },
  {
   "cell_type": "code",
   "execution_count": 24,
   "metadata": {},
   "outputs": [
    {
     "data": {
      "text/html": [
       "<div>\n",
       "<style scoped>\n",
       "    .dataframe tbody tr th:only-of-type {\n",
       "        vertical-align: middle;\n",
       "    }\n",
       "\n",
       "    .dataframe tbody tr th {\n",
       "        vertical-align: top;\n",
       "    }\n",
       "\n",
       "    .dataframe thead th {\n",
       "        text-align: right;\n",
       "    }\n",
       "</style>\n",
       "<table border=\"1\" class=\"dataframe\">\n",
       "  <thead>\n",
       "    <tr style=\"text-align: right;\">\n",
       "      <th></th>\n",
       "      <th>Company_Name</th>\n",
       "      <th>Coding</th>\n",
       "      <th>Year</th>\n",
       "      <th>ESG Score</th>\n",
       "      <th>Return on Equity</th>\n",
       "      <th>Return on Asset</th>\n",
       "      <th>Earning Per Share</th>\n",
       "      <th>Price/Sales Per Share Ratio</th>\n",
       "      <th>Earning before Interest &amp; Taxes</th>\n",
       "      <th>DIVIDEND YIELD</th>\n",
       "    </tr>\n",
       "  </thead>\n",
       "  <tbody>\n",
       "    <tr>\n",
       "      <th>0</th>\n",
       "      <td>HOME DEPOT</td>\n",
       "      <td>1</td>\n",
       "      <td>2008</td>\n",
       "      <td>65.85</td>\n",
       "      <td>12.74</td>\n",
       "      <td>6.24</td>\n",
       "      <td>1.340</td>\n",
       "      <td>0.54</td>\n",
       "      <td>4.214</td>\n",
       "      <td>3.54</td>\n",
       "    </tr>\n",
       "    <tr>\n",
       "      <th>1</th>\n",
       "      <td>HOME DEPOT</td>\n",
       "      <td>1</td>\n",
       "      <td>2009</td>\n",
       "      <td>53.06</td>\n",
       "      <td>14.32</td>\n",
       "      <td>7.56</td>\n",
       "      <td>1.570</td>\n",
       "      <td>0.74</td>\n",
       "      <td>4.658</td>\n",
       "      <td>4.11</td>\n",
       "    </tr>\n",
       "    <tr>\n",
       "      <th>2</th>\n",
       "      <td>HOME DEPOT</td>\n",
       "      <td>1</td>\n",
       "      <td>2010</td>\n",
       "      <td>59.78</td>\n",
       "      <td>17.44</td>\n",
       "      <td>9.10</td>\n",
       "      <td>2.010</td>\n",
       "      <td>0.85</td>\n",
       "      <td>5.803</td>\n",
       "      <td>3.18</td>\n",
       "    </tr>\n",
       "    <tr>\n",
       "      <th>3</th>\n",
       "      <td>HOME DEPOT</td>\n",
       "      <td>1</td>\n",
       "      <td>2011</td>\n",
       "      <td>60.45</td>\n",
       "      <td>21.11</td>\n",
       "      <td>10.61</td>\n",
       "      <td>2.470</td>\n",
       "      <td>0.94</td>\n",
       "      <td>6.674</td>\n",
       "      <td>2.63</td>\n",
       "    </tr>\n",
       "    <tr>\n",
       "      <th>4</th>\n",
       "      <td>HOME DEPOT</td>\n",
       "      <td>1</td>\n",
       "      <td>2012</td>\n",
       "      <td>68.09</td>\n",
       "      <td>25.42</td>\n",
       "      <td>12.13</td>\n",
       "      <td>3.001</td>\n",
       "      <td>1.25</td>\n",
       "      <td>7.853</td>\n",
       "      <td>2.67</td>\n",
       "    </tr>\n",
       "  </tbody>\n",
       "</table>\n",
       "</div>"
      ],
      "text/plain": [
       "  Company_Name  Coding  Year  ESG Score  Return on Equity  Return on Asset  \\\n",
       "0   HOME DEPOT       1  2008      65.85             12.74             6.24   \n",
       "1   HOME DEPOT       1  2009      53.06             14.32             7.56   \n",
       "2   HOME DEPOT       1  2010      59.78             17.44             9.10   \n",
       "3   HOME DEPOT       1  2011      60.45             21.11            10.61   \n",
       "4   HOME DEPOT       1  2012      68.09             25.42            12.13   \n",
       "\n",
       "   Earning Per Share  Price/Sales Per Share Ratio  \\\n",
       "0              1.340                         0.54   \n",
       "1              1.570                         0.74   \n",
       "2              2.010                         0.85   \n",
       "3              2.470                         0.94   \n",
       "4              3.001                         1.25   \n",
       "\n",
       "   Earning before Interest & Taxes  DIVIDEND YIELD  \n",
       "0                            4.214            3.54  \n",
       "1                            4.658            4.11  \n",
       "2                            5.803            3.18  \n",
       "3                            6.674            2.63  \n",
       "4                            7.853            2.67  "
      ]
     },
     "execution_count": 24,
     "metadata": {},
     "output_type": "execute_result"
    }
   ],
   "source": [
    "df.head()"
   ]
  },
  {
   "cell_type": "code",
   "execution_count": 25,
   "metadata": {},
   "outputs": [
    {
     "data": {
      "text/html": [
       "<div>\n",
       "<style scoped>\n",
       "    .dataframe tbody tr th:only-of-type {\n",
       "        vertical-align: middle;\n",
       "    }\n",
       "\n",
       "    .dataframe tbody tr th {\n",
       "        vertical-align: top;\n",
       "    }\n",
       "\n",
       "    .dataframe thead th {\n",
       "        text-align: right;\n",
       "    }\n",
       "</style>\n",
       "<table border=\"1\" class=\"dataframe\">\n",
       "  <thead>\n",
       "    <tr style=\"text-align: right;\">\n",
       "      <th></th>\n",
       "      <th>Company_Name</th>\n",
       "      <th>Coding</th>\n",
       "      <th>Year</th>\n",
       "      <th>ESG Score</th>\n",
       "      <th>Return on Equity</th>\n",
       "      <th>Return on Asset</th>\n",
       "      <th>Earning Per Share</th>\n",
       "      <th>Price/Sales Per Share Ratio</th>\n",
       "      <th>Earning before Interest &amp; Taxes</th>\n",
       "      <th>DIVIDEND YIELD</th>\n",
       "    </tr>\n",
       "  </thead>\n",
       "  <tbody>\n",
       "    <tr>\n",
       "      <th>0</th>\n",
       "      <td>51</td>\n",
       "      <td>1</td>\n",
       "      <td>2008</td>\n",
       "      <td>65.85</td>\n",
       "      <td>12.74</td>\n",
       "      <td>6.24</td>\n",
       "      <td>1.340</td>\n",
       "      <td>0.54</td>\n",
       "      <td>4.214</td>\n",
       "      <td>3.54</td>\n",
       "    </tr>\n",
       "    <tr>\n",
       "      <th>1</th>\n",
       "      <td>51</td>\n",
       "      <td>1</td>\n",
       "      <td>2009</td>\n",
       "      <td>53.06</td>\n",
       "      <td>14.32</td>\n",
       "      <td>7.56</td>\n",
       "      <td>1.570</td>\n",
       "      <td>0.74</td>\n",
       "      <td>4.658</td>\n",
       "      <td>4.11</td>\n",
       "    </tr>\n",
       "    <tr>\n",
       "      <th>2</th>\n",
       "      <td>51</td>\n",
       "      <td>1</td>\n",
       "      <td>2010</td>\n",
       "      <td>59.78</td>\n",
       "      <td>17.44</td>\n",
       "      <td>9.10</td>\n",
       "      <td>2.010</td>\n",
       "      <td>0.85</td>\n",
       "      <td>5.803</td>\n",
       "      <td>3.18</td>\n",
       "    </tr>\n",
       "    <tr>\n",
       "      <th>3</th>\n",
       "      <td>51</td>\n",
       "      <td>1</td>\n",
       "      <td>2011</td>\n",
       "      <td>60.45</td>\n",
       "      <td>21.11</td>\n",
       "      <td>10.61</td>\n",
       "      <td>2.470</td>\n",
       "      <td>0.94</td>\n",
       "      <td>6.674</td>\n",
       "      <td>2.63</td>\n",
       "    </tr>\n",
       "    <tr>\n",
       "      <th>4</th>\n",
       "      <td>51</td>\n",
       "      <td>1</td>\n",
       "      <td>2012</td>\n",
       "      <td>68.09</td>\n",
       "      <td>25.42</td>\n",
       "      <td>12.13</td>\n",
       "      <td>3.001</td>\n",
       "      <td>1.25</td>\n",
       "      <td>7.853</td>\n",
       "      <td>2.67</td>\n",
       "    </tr>\n",
       "  </tbody>\n",
       "</table>\n",
       "</div>"
      ],
      "text/plain": [
       "   Company_Name  Coding  Year  ESG Score  Return on Equity  Return on Asset  \\\n",
       "0            51       1  2008      65.85             12.74             6.24   \n",
       "1            51       1  2009      53.06             14.32             7.56   \n",
       "2            51       1  2010      59.78             17.44             9.10   \n",
       "3            51       1  2011      60.45             21.11            10.61   \n",
       "4            51       1  2012      68.09             25.42            12.13   \n",
       "\n",
       "   Earning Per Share  Price/Sales Per Share Ratio  \\\n",
       "0              1.340                         0.54   \n",
       "1              1.570                         0.74   \n",
       "2              2.010                         0.85   \n",
       "3              2.470                         0.94   \n",
       "4              3.001                         1.25   \n",
       "\n",
       "   Earning before Interest & Taxes  DIVIDEND YIELD  \n",
       "0                            4.214            3.54  \n",
       "1                            4.658            4.11  \n",
       "2                            5.803            3.18  \n",
       "3                            6.674            2.63  \n",
       "4                            7.853            2.67  "
      ]
     },
     "execution_count": 25,
     "metadata": {},
     "output_type": "execute_result"
    }
   ],
   "source": [
    "# Encoding catagorical Variables !\n",
    "# Label Encoder !\n",
    "\n",
    "from sklearn.preprocessing import LabelEncoder\n",
    "le = LabelEncoder()\n",
    "df.Company_Name = le.fit_transform(df.Company_Name)\n",
    "df.head()"
   ]
  },
  {
   "cell_type": "code",
   "execution_count": null,
   "metadata": {},
   "outputs": [],
   "source": []
  },
  {
   "cell_type": "code",
   "execution_count": null,
   "metadata": {},
   "outputs": [],
   "source": []
  },
  {
   "cell_type": "code",
   "execution_count": null,
   "metadata": {},
   "outputs": [],
   "source": []
  },
  {
   "cell_type": "markdown",
   "metadata": {},
   "source": [
    "### <span style=\"color:cyan\">Step: 03</span>: Splitting Dataset into (Training and Testing) Data "
   ]
  },
  {
   "cell_type": "code",
   "execution_count": 9,
   "metadata": {},
   "outputs": [],
   "source": [
    "# from sklearn.model_selection import train_test_split\n",
    "\n",
    "# X_train, X_test, y_train, y_test = train_test_split(X, y, test_size=0.2, random_state=0)"
   ]
  },
  {
   "cell_type": "markdown",
   "metadata": {},
   "source": [
    "### <span style=\"color:cyan\">Step: 04</span>: Fit K-Nearest_Neighbor Model"
   ]
  },
  {
   "cell_type": "code",
   "execution_count": 10,
   "metadata": {},
   "outputs": [],
   "source": [
    "# from sklearn.neighbors import KNeighborsClassifier\n",
    "\n",
    "# model = KNeighborsClassifier(n_neighbors=5).fit(X_train, y_train)\n",
    "# model\n"
   ]
  },
  {
   "cell_type": "markdown",
   "metadata": {},
   "source": [
    "### <span style=\"color:cyan\">Step: 05</span>: Evaluate or Test Model Accuracy"
   ]
  },
  {
   "cell_type": "code",
   "execution_count": 11,
   "metadata": {},
   "outputs": [],
   "source": [
    "# predicted_values = model.predict(X_test)\n",
    "# predicted_values\n",
    "\n",
    "# from sklearn.metrics import accuracy_score\n",
    "\n",
    "# score = accuracy_score(y_test, predicted_values)*100\n",
    "# print(\"K-NN. (r2.score):\", score)\n"
   ]
  },
  {
   "cell_type": "markdown",
   "metadata": {},
   "source": [
    "### <span style=\"color:cyan\">Step: 06</span>: Prediction of Un-known values"
   ]
  },
  {
   "cell_type": "markdown",
   "metadata": {},
   "source": [
    "***"
   ]
  },
  {
   "cell_type": "markdown",
   "metadata": {},
   "source": [
    "***"
   ]
  },
  {
   "cell_type": "markdown",
   "metadata": {},
   "source": [
    "***"
   ]
  }
 ],
 "metadata": {
  "interpreter": {
   "hash": "493df3c9cb0b6039bdd55a65bbe4e72f5455454af67b96ceaa441cb0a32c7b2a"
  },
  "kernelspec": {
   "display_name": "Python 3 (ipykernel)",
   "language": "python",
   "name": "python3"
  },
  "language_info": {
   "codemirror_mode": {
    "name": "ipython",
    "version": 3
   },
   "file_extension": ".py",
   "mimetype": "text/x-python",
   "name": "python",
   "nbconvert_exporter": "python",
   "pygments_lexer": "ipython3",
   "version": "3.9.7"
  }
 },
 "nbformat": 4,
 "nbformat_minor": 2
}
