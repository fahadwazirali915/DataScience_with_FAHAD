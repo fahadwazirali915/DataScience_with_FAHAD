{
 "cells": [
  {
   "cell_type": "code",
   "execution_count": 1,
   "id": "c1bde5a1",
   "metadata": {},
   "outputs": [],
   "source": [
    "import cv2 as cv\n",
    "import sys\n",
    "\n",
    "import cvzone\n",
    "from cvzone.FaceMeshModule import FaceMeshDetector"
   ]
  },
  {
   "cell_type": "code",
   "execution_count": 2,
   "id": "35f6d275",
   "metadata": {},
   "outputs": [
    {
     "data": {
      "text/plain": [
       "<VideoCapture 0000025643681370>"
      ]
     },
     "execution_count": 2,
     "metadata": {},
     "output_type": "execute_result"
    }
   ],
   "source": [
    "cap = cv.VideoCapture(0)\n",
    "cap"
   ]
  },
  {
   "cell_type": "code",
   "execution_count": 3,
   "id": "887801cf",
   "metadata": {},
   "outputs": [],
   "source": [
    "# while True:\n",
    "#     success, img = cap.read()\n",
    "#     cv.imshow(\"image\", img)\n",
    "#     cv.waitKey(1)"
   ]
  },
  {
   "cell_type": "markdown",
   "id": "92f56d9e",
   "metadata": {},
   "source": [
    "***"
   ]
  },
  {
   "cell_type": "code",
   "execution_count": 4,
   "id": "d93e5e44",
   "metadata": {},
   "outputs": [],
   "source": [
    "# find face !\n",
    "\n",
    "detector = FaceMeshDetector(maxFaces=1)"
   ]
  },
  {
   "cell_type": "code",
   "execution_count": null,
   "id": "e6df33bf",
   "metadata": {},
   "outputs": [],
   "source": [
    "while True:\n",
    "    success, img = cap.read()\n",
    "    img, faces = detector.findFaceMesh(img, draw=True) # (draw = True) will drawfacemesh !\n",
    "    cv.imshow(\"image\", img)\n",
    "    cv.waitKey(1)"
   ]
  },
  {
   "cell_type": "code",
   "execution_count": null,
   "id": "cf7401df",
   "metadata": {},
   "outputs": [],
   "source": []
  }
 ],
 "metadata": {
  "kernelspec": {
   "display_name": "Python 3 (ipykernel)",
   "language": "python",
   "name": "python3"
  },
  "language_info": {
   "codemirror_mode": {
    "name": "ipython",
    "version": 3
   },
   "file_extension": ".py",
   "mimetype": "text/x-python",
   "name": "python",
   "nbconvert_exporter": "python",
   "pygments_lexer": "ipython3",
   "version": "3.9.7"
  }
 },
 "nbformat": 4,
 "nbformat_minor": 5
}
