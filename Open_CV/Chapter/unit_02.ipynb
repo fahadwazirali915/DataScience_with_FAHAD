{
 "cells": [
  {
   "cell_type": "markdown",
   "id": "9c0e5513",
   "metadata": {},
   "source": [
    "## Read, Display & Resizing Images !"
   ]
  },
  {
   "cell_type": "code",
   "execution_count": 7,
   "id": "aa875637",
   "metadata": {},
   "outputs": [],
   "source": [
    "import cv2 as cv"
   ]
  },
  {
   "cell_type": "code",
   "execution_count": 8,
   "id": "78f6c97a",
   "metadata": {},
   "outputs": [],
   "source": [
    "img1 = cv.imread('assets/1.png')   # for reading image !\n",
    "\n",
    "img2 = cv.resize(img1, (800, 600))   # for resizing image !\n",
    "\n",
    "# for display image !\n",
    "cv.imshow(\"image_1\", img1)\n",
    "cv.imshow(\"image_2\", img2)\n",
    "\n",
    "cv.waitKey(0)   # for hold image !\n",
    "\n",
    "cv.destroyAllWindows() # for remove all windows\n"
   ]
  },
  {
   "cell_type": "markdown",
   "id": "a0f558d0",
   "metadata": {},
   "source": [
    "***"
   ]
  }
 ],
 "metadata": {
  "kernelspec": {
   "display_name": "Python 3 (ipykernel)",
   "language": "python",
   "name": "python3"
  },
  "language_info": {
   "codemirror_mode": {
    "name": "ipython",
    "version": 3
   },
   "file_extension": ".py",
   "mimetype": "text/x-python",
   "name": "python",
   "nbconvert_exporter": "python",
   "pygments_lexer": "ipython3",
   "version": "3.9.7"
  }
 },
 "nbformat": 4,
 "nbformat_minor": 5
}
