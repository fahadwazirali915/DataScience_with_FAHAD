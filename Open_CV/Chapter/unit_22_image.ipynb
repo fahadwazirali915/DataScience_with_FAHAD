{
 "cells": [
  {
   "cell_type": "markdown",
   "id": "510b46c8",
   "metadata": {},
   "source": [
    "<h1 style=\"color:red;\">Unit: 22</h1>"
   ]
  },
  {
   "cell_type": "markdown",
   "id": "9c0e5513",
   "metadata": {},
   "source": [
    "### - Face detects inside image ! "
   ]
  },
  {
   "cell_type": "code",
   "execution_count": 1,
   "id": "ba18f58f",
   "metadata": {},
   "outputs": [],
   "source": [
    "# import libraries !\n",
    "import cv2 as cv\n",
    "import numpy as np"
   ]
  },
  {
   "cell_type": "code",
   "execution_count": 2,
   "metadata": {},
   "outputs": [],
   "source": [
    "# Cascade\n",
    "face_cascade = cv.CascadeClassifier('assets/haarcascade_frontalface_default.xml')\n",
    "eye_cascade = cv.CascadeClassifier('assets/haarcascade_eye_tree_eyeglasses.xml')\n"
   ]
  },
  {
   "cell_type": "code",
   "execution_count": 3,
   "metadata": {},
   "outputs": [],
   "source": [
    "# capture image\n",
    "img = cv.imread('assets/faces.png')\n",
    "\n",
    "# img = cv.resize(img, (800, 600))\n",
    "gray_img = cv.cvtColor(img, cv.COLOR_BGR2GRAY)"
   ]
  },
  {
   "cell_type": "code",
   "execution_count": 4,
   "metadata": {},
   "outputs": [],
   "source": [
    "faces = face_cascade.detectMultiScale(gray_img, 1.1, 4)\n",
    "eyes = eye_cascade.detectMultiScale(gray_img, 1.1, 4)\n",
    "\n",
    "# draw rectangle\n",
    "for(x, y, w, h) in faces:\n",
    "    cv.rectangle(img, (x,y), (x+w, y+h), (0,0,255), 2)\n",
    "\n",
    "# # draw circle\n",
    "# for (x2,y2,w2,h2) in eyes:\n",
    "#     eye_center = (x + x2 + w2//2, y + y2 + h2//2)\n",
    "#     radius = int(round((w2 + h2)*0.25))\n",
    "#     cv.circle(img, eye_center, radius, (255, 0, 0 ), 4)\n",
    "\n",
    "\n",
    "cv.imshow('image', img)\n",
    "# cv.imwrite('assets/faces_detects.jpg', img)\n",
    "cv.waitKey(0)\n",
    "cv.destroyAllWindows()"
   ]
  },
  {
   "cell_type": "markdown",
   "metadata": {},
   "source": [
    "***"
   ]
  },
  {
   "cell_type": "markdown",
   "metadata": {},
   "source": []
  }
 ],
 "metadata": {
  "interpreter": {
   "hash": "493df3c9cb0b6039bdd55a65bbe4e72f5455454af67b96ceaa441cb0a32c7b2a"
  },
  "kernelspec": {
   "display_name": "Python 3.9.10 64-bit (windows store)",
   "language": "python",
   "name": "python3"
  },
  "language_info": {
   "codemirror_mode": {
    "name": "ipython",
    "version": 3
   },
   "file_extension": ".py",
   "mimetype": "text/x-python",
   "name": "python",
   "nbconvert_exporter": "python",
   "pygments_lexer": "ipython3",
   "version": "3.9.10"
  },
  "orig_nbformat": 4
 },
 "nbformat": 4,
 "nbformat_minor": 2
}
