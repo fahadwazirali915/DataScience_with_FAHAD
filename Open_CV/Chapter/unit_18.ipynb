{
 "cells": [
  {
   "cell_type": "markdown",
   "id": "510b46c8",
   "metadata": {},
   "source": [
    "<h1 style=\"color:red;\">Unit: 18</h1>"
   ]
  },
  {
   "cell_type": "markdown",
   "id": "9c0e5513",
   "metadata": {},
   "source": [
    "### - Coordinates of an image or video !\n",
    "### - BGR color-codes from an image !"
   ]
  },
  {
   "cell_type": "code",
   "execution_count": 20,
   "id": "ba18f58f",
   "metadata": {},
   "outputs": [],
   "source": [
    "# import libraries !\n",
    "import cv2 as cv\n",
    "import numpy as np"
   ]
  },
  {
   "cell_type": "code",
   "execution_count": 21,
   "metadata": {},
   "outputs": [],
   "source": [
    "# define function \n",
    "\n",
    "def find_coords(event, x, y, flags, params):\n",
    "    \n",
    "    # left mouse click = (for coords finding)\n",
    "    if(event == cv.EVENT_LBUTTONDOWN):\n",
    "        print(x, '', y)\n",
    "        \n",
    "        # how to define or print on the same image or window\n",
    "        font = cv.FONT_HERSHEY_PLAIN\n",
    "        cv.putText(img, str(x)+ ',' +str(y), (x,y), font, 1, (255,0,0), thickness=2)\n",
    "        \n",
    "        # shows the text on img or img itself\n",
    "        cv.imshow('image', img)\n",
    "        \n",
    "        \n",
    "    # right mouse click = (for color finding)\n",
    "    if(event == cv.EVENT_RBUTTONDOWN):\n",
    "        print(x, '', y)\n",
    "        \n",
    "        # how to define or print on the same image or window\n",
    "        fontt = cv.FONT_HERSHEY_PLAIN\n",
    "        b = img[y,x,0]\n",
    "        g = img[y,x,1]\n",
    "        r = img[y,x,2]\n",
    "        cv.putText(img, str(b)+ ',' +str(g)+ ',' +str(r), (x,y), fontt, 1, (0,0,255), 2)\n",
    "        \n",
    "        # shows the text on img or img itself\n",
    "        cv.imshow('image', img)\n",
    "        "
   ]
  },
  {
   "cell_type": "code",
   "execution_count": 22,
   "metadata": {},
   "outputs": [
    {
     "name": "stdout",
     "output_type": "stream",
     "text": [
      "251  125\n",
      "182  200\n",
      "328  234\n",
      "259  309\n"
     ]
    }
   ],
   "source": [
    "# final function to read & write/display\n",
    "\n",
    "if(__name__ == \"__main__\"):\n",
    "    # reading an image\n",
    "    img = cv.imread(\"assets/sofa.jpg\")\n",
    "    \n",
    "    # display image\n",
    "    cv.imshow('image', img)\n",
    "    \n",
    "    # setting call-back function\n",
    "    cv.setMouseCallback('image', find_coords)\n",
    "    cv.waitKey(0)\n",
    "    cv.destroyAllWindows()\n",
    "    "
   ]
  },
  {
   "cell_type": "markdown",
   "metadata": {},
   "source": [
    "***"
   ]
  }
 ],
 "metadata": {
  "interpreter": {
   "hash": "493df3c9cb0b6039bdd55a65bbe4e72f5455454af67b96ceaa441cb0a32c7b2a"
  },
  "kernelspec": {
   "display_name": "Python 3.9.10 64-bit (windows store)",
   "language": "python",
   "name": "python3"
  },
  "language_info": {
   "codemirror_mode": {
    "name": "ipython",
    "version": 3
   },
   "file_extension": ".py",
   "mimetype": "text/x-python",
   "name": "python",
   "nbconvert_exporter": "python",
   "pygments_lexer": "ipython3",
   "version": "3.9.10"
  },
  "orig_nbformat": 4
 },
 "nbformat": 4,
 "nbformat_minor": 2
}
