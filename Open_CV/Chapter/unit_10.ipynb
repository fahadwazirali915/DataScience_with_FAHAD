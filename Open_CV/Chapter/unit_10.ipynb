{
 "cells": [
  {
   "cell_type": "markdown",
   "id": "510b46c8",
   "metadata": {},
   "source": [
    "<h1 style=\"color:red;\">Unit: 10</h1>"
   ]
  },
  {
   "cell_type": "markdown",
   "id": "9c0e5513",
   "metadata": {},
   "source": [
    "## Save the video !"
   ]
  },
  {
   "cell_type": "code",
   "execution_count": 13,
   "id": "ba18f58f",
   "metadata": {},
   "outputs": [],
   "source": [
    "# import libraries !\n",
    "\n",
    "import cv2 as cv\n",
    "import numpy as np\n",
    "from cv2 import cvtColor"
   ]
  },
  {
   "cell_type": "code",
   "execution_count": 14,
   "id": "db82292c",
   "metadata": {},
   "outputs": [
    {
     "data": {
      "text/plain": [
       "<VideoCapture 000001622F25BF30>"
      ]
     },
     "execution_count": 14,
     "metadata": {},
     "output_type": "execute_result"
    }
   ],
   "source": [
    "# Read the frames from Camera !\n",
    "\n",
    "cam = cv.VideoCapture(0)\n",
    "cam"
   ]
  },
  {
   "cell_type": "code",
   "execution_count": 15,
   "id": "b31c3896",
   "metadata": {},
   "outputs": [],
   "source": [
    "# save video !\n",
    "\n",
    "frame_width = int(cam.get(3))\n",
    "frame_height = int(cam.get(4))\n",
    "\n",
    "out = cv.VideoWriter(\"assets/color_recorded_video.mp4\", cv.VideoWriter_fourcc('M', 'J', 'P', 'G'), 30, (frame_width, frame_height))\n"
   ]
  },
  {
   "cell_type": "markdown",
   "id": "8411e996",
   "metadata": {},
   "source": [
    "### with **color**"
   ]
  },
  {
   "cell_type": "code",
   "execution_count": 16,
   "id": "19908396",
   "metadata": {},
   "outputs": [],
   "source": [
    "# Display (Frame by Frame)\n",
    "\n",
    "while(cam.isOpened()):\n",
    "    ret, frame = cam.read()\n",
    "    \n",
    "    if(ret == True):\n",
    "        out.write(frame)\n",
    "        cv.imshow(\"Camera\", frame)   # to display frame !\n",
    "        if(cv.waitKey(1) & 0xFF == ord('q')): # for quit windows\n",
    "            break\n",
    "    \n",
    "    else:\n",
    "        break\n",
    "        \n",
    "# release or open video !  \n",
    "cam.release()\n",
    "out.release()\n",
    "\n",
    "# for close all windows !\n",
    "cv.destroyAllWindows()"
   ]
  },
  {
   "cell_type": "markdown",
   "id": "e5a18c4f",
   "metadata": {},
   "source": [
    "***"
   ]
  },
  {
   "cell_type": "markdown",
   "id": "27239c0b",
   "metadata": {},
   "source": [
    "***"
   ]
  }
 ],
 "metadata": {
  "kernelspec": {
   "display_name": "Python 3 (ipykernel)",
   "language": "python",
   "name": "python3"
  },
  "language_info": {
   "codemirror_mode": {
    "name": "ipython",
    "version": 3
   },
   "file_extension": ".py",
   "mimetype": "text/x-python",
   "name": "python",
   "nbconvert_exporter": "python",
   "pygments_lexer": "ipython3",
   "version": "3.8.2"
  }
 },
 "nbformat": 4,
 "nbformat_minor": 5
}
