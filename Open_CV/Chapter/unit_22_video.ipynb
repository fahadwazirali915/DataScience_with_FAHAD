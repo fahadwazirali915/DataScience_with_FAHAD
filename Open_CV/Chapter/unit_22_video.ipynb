{
 "cells": [
  {
   "cell_type": "markdown",
   "id": "510b46c8",
   "metadata": {},
   "source": [
    "<h1 style=\"color:red;\">Unit: 22</h1>"
   ]
  },
  {
   "cell_type": "markdown",
   "id": "9c0e5513",
   "metadata": {},
   "source": [
    "### - Face detects inside Video ! "
   ]
  },
  {
   "cell_type": "code",
   "execution_count": 49,
   "id": "ba18f58f",
   "metadata": {},
   "outputs": [],
   "source": [
    "# import libraries !\n",
    "import cv2 as cv\n",
    "import numpy as np"
   ]
  },
  {
   "cell_type": "code",
   "execution_count": 50,
   "metadata": {},
   "outputs": [],
   "source": [
    "# Cascade\n",
    "face_cascade = cv.CascadeClassifier('assets/haarcascade_frontalface_default.xml')\n",
    "face_cascade = cv.CascadeClassifier('assets/haarcascade_eye_tree_eyeglasses.xml')\n"
   ]
  },
  {
   "cell_type": "code",
   "execution_count": 51,
   "metadata": {},
   "outputs": [],
   "source": [
    "# # capture image\n",
    "# img = cv.imread('assets/human.jpg')\n",
    "\n",
    "# # img = cv.resize(img, (800, 600))\n",
    "# gray_img = cv.cvtColor(img, cv.COLOR_BGR2GRAY)\n",
    "\n",
    "# faces = face_cascade.detectMultiScale(gray_img, 1.1, 4)\n",
    "\n",
    "# # draw rectangle\n",
    "# for(x, y, w, h) in faces:\n",
    "#     cv.rectangle(img, (x,y), (x+w, y+h), (0,0,255), 2)\n",
    "\n",
    "\n",
    "# cv.imshow('image', img)\n",
    "# # cv.imwrite('assets/faces_detects.jpg', img)\n",
    "# cv.waitKey(0)\n",
    "# cv.destroyAllWindows()"
   ]
  },
  {
   "cell_type": "code",
   "execution_count": 52,
   "metadata": {},
   "outputs": [],
   "source": [
    "vid = cv.VideoCapture('assets/meet.mp4')\n",
    "\n",
    "# # SD (640x480)\n",
    "# def sd_resolution():\n",
    "#     vid.set(3, 640)\n",
    "#     vid.set(4, 480)\n"
   ]
  },
  {
   "cell_type": "code",
   "execution_count": 53,
   "metadata": {},
   "outputs": [],
   "source": [
    "# reading video !\n",
    "\n",
    "while True:\n",
    "    ret, frame = vid.read()\n",
    "    gray_frame = cv.cvtColor(frame, cv.COLOR_BGR2GRAY)\n",
    "    if (ret == True):\n",
    "        cv.imshow(\"Meeting\", frame)\n",
    "                \n",
    "        faces = face_cascade.detectMultiScale(gray_frame, 1.1, 4)\n",
    "        # draw rectangle\n",
    "        for(x, y, w, h) in faces:\n",
    "            cv.rectangle(frame, (x,y), (x+w, y+h), (0,0,255), 2)\n",
    "\n",
    "        if (cv.waitKey(1) & 0xFF == ord('q')):   # for close video with 'q' key !\n",
    "            break\n",
    "    else:\n",
    "        break\n",
    "  \n",
    "vid.release()\n",
    "cv.destroyAllWindows()\n",
    "                     "
   ]
  },
  {
   "cell_type": "markdown",
   "metadata": {},
   "source": [
    "***"
   ]
  }
 ],
 "metadata": {
  "interpreter": {
   "hash": "493df3c9cb0b6039bdd55a65bbe4e72f5455454af67b96ceaa441cb0a32c7b2a"
  },
  "kernelspec": {
   "display_name": "Python 3.9.10 64-bit (windows store)",
   "language": "python",
   "name": "python3"
  },
  "language_info": {
   "codemirror_mode": {
    "name": "ipython",
    "version": 3
   },
   "file_extension": ".py",
   "mimetype": "text/x-python",
   "name": "python",
   "nbconvert_exporter": "python",
   "pygments_lexer": "ipython3",
   "version": "3.9.10"
  },
  "orig_nbformat": 4
 },
 "nbformat": 4,
 "nbformat_minor": 2
}
