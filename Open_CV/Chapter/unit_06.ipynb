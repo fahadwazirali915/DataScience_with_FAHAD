{
 "cells": [
  {
   "cell_type": "markdown",
   "id": "510b46c8",
   "metadata": {},
   "source": [
    "<h1 style=\"color:red;\">Unit: 06</h1>"
   ]
  },
  {
   "cell_type": "markdown",
   "id": "9c0e5513",
   "metadata": {},
   "source": [
    "## Reading a video !"
   ]
  },
  {
   "cell_type": "code",
   "execution_count": 23,
   "id": "aa875637",
   "metadata": {},
   "outputs": [],
   "source": [
    "import cv2 as cv\n",
    "from cv2 import cvtColor"
   ]
  },
  {
   "cell_type": "code",
   "execution_count": 24,
   "id": "78f6c97a",
   "metadata": {},
   "outputs": [],
   "source": [
    "vid = cv.VideoCapture('assets/ertugrul.MP4')\n"
   ]
  },
  {
   "cell_type": "code",
   "execution_count": 25,
   "id": "882521a5",
   "metadata": {},
   "outputs": [],
   "source": [
    "# indicator !\n",
    "\n",
    "if (vid.isOpened() == False):\n",
    "    print(\"somrthing went wrong !\")\n"
   ]
  },
  {
   "cell_type": "code",
   "execution_count": 26,
   "id": "f8a98593",
   "metadata": {},
   "outputs": [],
   "source": [
    "# reading & video !\n",
    "\n",
    "while(vid.isOpened()):\n",
    "    ret, frame = vid.read()\n",
    "    if (ret == True):\n",
    "        cv.imshow(\"Ertugrul Gaazi\", frame)\n",
    "        if (cv.waitKey(1) & 0xFF == ord('q')):\n",
    "            break\n",
    "    else:\n",
    "        break\n",
    "  \n",
    "vid.release()\n",
    "cv.destroyAllWindows()\n",
    "            "
   ]
  },
  {
   "cell_type": "markdown",
   "id": "18be2bec",
   "metadata": {},
   "source": [
    "***"
   ]
  }
 ],
 "metadata": {
  "kernelspec": {
   "display_name": "Python 3 (ipykernel)",
   "language": "python",
   "name": "python3"
  },
  "language_info": {
   "codemirror_mode": {
    "name": "ipython",
    "version": 3
   },
   "file_extension": ".py",
   "mimetype": "text/x-python",
   "name": "python",
   "nbconvert_exporter": "python",
   "pygments_lexer": "ipython3",
   "version": "3.9.7"
  }
 },
 "nbformat": 4,
 "nbformat_minor": 5
}
