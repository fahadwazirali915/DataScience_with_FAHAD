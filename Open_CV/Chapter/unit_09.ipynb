{
 "cells": [
  {
   "cell_type": "markdown",
   "id": "510b46c8",
   "metadata": {},
   "source": [
    "<h1 style=\"color:red;\">Unit: 09</h1>"
   ]
  },
  {
   "cell_type": "markdown",
   "id": "9c0e5513",
   "metadata": {},
   "source": [
    "## Capture Webcam inside (python) !"
   ]
  },
  {
   "cell_type": "code",
   "execution_count": 11,
   "id": "ba18f58f",
   "metadata": {},
   "outputs": [],
   "source": [
    "# import libraries !\n",
    "\n",
    "import cv2 as cv\n",
    "import numpy as np\n",
    "from cv2 import cvtColor"
   ]
  },
  {
   "cell_type": "code",
   "execution_count": 21,
   "id": "db82292c",
   "metadata": {},
   "outputs": [
    {
     "data": {
      "text/plain": [
       "<VideoCapture 000001A50BE8B530>"
      ]
     },
     "execution_count": 21,
     "metadata": {},
     "output_type": "execute_result"
    }
   ],
   "source": [
    "# Read the frames from Camera !\n",
    "\n",
    "cam = cv.VideoCapture(0)\n",
    "cam"
   ]
  },
  {
   "cell_type": "markdown",
   "id": "8411e996",
   "metadata": {},
   "source": [
    "### with **color**"
   ]
  },
  {
   "cell_type": "code",
   "execution_count": 13,
   "id": "19908396",
   "metadata": {},
   "outputs": [],
   "source": [
    "# # Display (Frame by Frame)\n",
    "\n",
    "# while(cam.isOpened()):\n",
    "#     ret, frame = cam.read()\n",
    "    \n",
    "#     if(ret == True):\n",
    "#         cv.imshow(\"Camera\", frame)   # to display frame !\n",
    "#         if(cv.waitKey(1) & 0xFF == ord('q')): # for quit windows\n",
    "#             break\n",
    "    \n",
    "#     else:\n",
    "#         break\n",
    "        \n",
    "# # release or open video !  \n",
    "# cam.release()\n",
    "\n",
    "# # for close all windows !\n",
    "# cv.destroyAllWindows()"
   ]
  },
  {
   "cell_type": "markdown",
   "id": "e5a18c4f",
   "metadata": {},
   "source": [
    "***"
   ]
  },
  {
   "cell_type": "markdown",
   "id": "15939f25",
   "metadata": {},
   "source": [
    "### with **Gray_shade**"
   ]
  },
  {
   "cell_type": "code",
   "execution_count": 14,
   "id": "3905ae98",
   "metadata": {},
   "outputs": [],
   "source": [
    "# # Display (Frame by Frame)\n",
    "\n",
    "# while(cam.isOpened()):\n",
    "#     ret, frame = cam.read()\n",
    "#     gray_shade = cv.cvtColor(frame, cv.COLOR_BGR2GRAY)\n",
    "    \n",
    "#     if(ret == True):\n",
    "#         cv.imshow(\"Camera\", gray_shade)   # to display frame !\n",
    "#         if(cv.waitKey(1) & 0xFF == ord('q')): # for quit windows\n",
    "#             break\n",
    "    \n",
    "#     else:\n",
    "#         break\n",
    "        \n",
    "# # release or open video !  \n",
    "# cam.release()\n",
    "\n",
    "# # for close all windows !\n",
    "# cv.destroyAllWindows()"
   ]
  },
  {
   "cell_type": "markdown",
   "id": "d6ad3802",
   "metadata": {},
   "source": [
    "***"
   ]
  },
  {
   "cell_type": "markdown",
   "id": "2122b4c4",
   "metadata": {},
   "source": [
    "### with **Black & White**"
   ]
  },
  {
   "cell_type": "code",
   "execution_count": 15,
   "id": "e7735f7a",
   "metadata": {},
   "outputs": [],
   "source": [
    "# # Display (Frame by Frame)\n",
    "\n",
    "# while(cam.isOpened()):\n",
    "#     ret, frame = cam.read()\n",
    "#     gray_shade = cv.cvtColor(frame, cv.COLOR_BGR2GRAY)\n",
    "#     (thresh, black_white_frame) = cv.threshold(gray_shade, 127, 155, cv.THRESH_BINARY)\n",
    "    \n",
    "#     if(ret == True):\n",
    "#         cv.imshow(\"Camera\", black_white_frame)   # to display frame !\n",
    "#         if(cv.waitKey(1) & 0xFF == ord('q')): # for quit windows\n",
    "#             break\n",
    "    \n",
    "#     else:\n",
    "#         break\n",
    "        \n",
    "# # release or open video !  \n",
    "# cam.release()\n",
    "\n",
    "# # for close all windows !\n",
    "# cv.destroyAllWindows()"
   ]
  },
  {
   "cell_type": "markdown",
   "id": "f20c2672",
   "metadata": {},
   "source": [
    "---"
   ]
  },
  {
   "cell_type": "markdown",
   "id": "0753a04b",
   "metadata": {},
   "source": [
    "### with **all video opened together**"
   ]
  },
  {
   "cell_type": "code",
   "execution_count": 16,
   "id": "cd97557a",
   "metadata": {},
   "outputs": [],
   "source": [
    "# Display (Frame by Frame)\n",
    "\n",
    "while(cam.isOpened()):\n",
    "    ret, frame = cam.read()\n",
    "    gray_shade = cv.cvtColor(frame, cv.COLOR_BGR2GRAY)\n",
    "    (thresh, black_white_frame) = cv.threshold(gray_shade, 127, 155, cv.THRESH_BINARY)\n",
    "    \n",
    "    if(ret == True):\n",
    "        cv.imshow(\"color\", frame)   # to display frame with color !\n",
    "        cv.imshow(\"gray_shade\", gray_shade)   # to display frame with gray-color!\n",
    "        cv.imshow(\"binary_shade\", black_white_frame)   # to display frame with binary !\n",
    "        \n",
    "        if(cv.waitKey(1) & 0xFF == ord('q')): # for quit windows\n",
    "            break\n",
    "    \n",
    "    else:\n",
    "        break\n",
    "        \n",
    "# release or open video !  \n",
    "cam.release()\n",
    "\n",
    "# for close all windows !\n",
    "cv.destroyAllWindows()"
   ]
  },
  {
   "cell_type": "markdown",
   "id": "cf3a6380",
   "metadata": {},
   "source": [
    "***"
   ]
  },
  {
   "cell_type": "markdown",
   "id": "f7139124",
   "metadata": {},
   "source": [
    "***"
   ]
  }
 ],
 "metadata": {
  "kernelspec": {
   "display_name": "Python 3 (ipykernel)",
   "language": "python",
   "name": "python3"
  },
  "language_info": {
   "codemirror_mode": {
    "name": "ipython",
    "version": 3
   },
   "file_extension": ".py",
   "mimetype": "text/x-python",
   "name": "python",
   "nbconvert_exporter": "python",
   "pygments_lexer": "ipython3",
   "version": "3.9.7"
  }
 },
 "nbformat": 4,
 "nbformat_minor": 5
}
