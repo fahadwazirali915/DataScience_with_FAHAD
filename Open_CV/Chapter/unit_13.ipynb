{
 "cells": [
  {
   "cell_type": "markdown",
   "id": "510b46c8",
   "metadata": {},
   "source": [
    "<h1 style=\"color:red;\">Unit: 13</h1>"
   ]
  },
  {
   "cell_type": "markdown",
   "id": "9c0e5513",
   "metadata": {},
   "source": [
    "### How to draw lines & shapes\n",
    "- Canvas. (Window)\n",
    "   - zeroes. (black)\n",
    "   - ones. (white)\n",
    "   - add colors\n",
    "   - add lines\n",
    "   - add rectangle\n",
    "   - add circle\n",
    "   - add text"
   ]
  },
  {
   "cell_type": "code",
   "execution_count": 1,
   "id": "ba18f58f",
   "metadata": {},
   "outputs": [],
   "source": [
    "# import libraries !\n",
    "\n",
    "import cv2 as cv\n",
    "import numpy as np"
   ]
  },
  {
   "cell_type": "code",
   "execution_count": 2,
   "id": "db82292c",
   "metadata": {},
   "outputs": [],
   "source": [
    "# Draw a canvas !\n",
    "# img = np.zeros((300, 300)) # black image\n",
    "# img1 = np.ones((300, 300)) # white image\n",
    "\n",
    "# print('size of CANVAS is: ', img.shape)\n",
    "# print('Matrix: ',img1)\n",
    "\n",
    "# adding colors to the CANVAS !\n",
    "color_img = np.zeros((500,500, 3), np.uint8) # color channel\n",
    "color_img[:] = 0,255,0 # complete color image\n",
    "color_img[150:200, 100:400] = 255,0,255 # part of image colored\n",
    "\n",
    "# add lines\n",
    "# cv.line(color_img, (0,0), (color_img.shape[0], color_img.shape[1]), (0,0,255), 2)\n",
    "# cv.line(color_img, (0,0), (250,250), (255,0,0), 2)\n",
    "\n",
    "# add rectangle \n",
    "# cv.rectangle(color_img, (100,200), (200,300), (0,0,255), 2)\n",
    "# cv.rectangle(color_img, (200,300), (300,400), (255,150,100), cv.FILLED)\n",
    "\n",
    "# add circle\n",
    "# cv.circle(color_img, (250,250), 50, (100,150,200), cv.FILLED)\n",
    "# cv.circle(color_img, (400,400), 50, (200,0,0), 2)\n",
    "\n",
    "# add text\n",
    "# cv.putText(color_img, \"042\", (200,300), cv.FONT_HERSHEY_COMPLEX_SMALL, 1, (255,100,0), 2)\n",
    "\n",
    "\n",
    "# cv.imshow('photo', img)\n",
    "# cv.imshow('photo1', img1)\n",
    "cv.imshow('color image', color_img)\n",
    "cv.waitKey(0)\n",
    "cv.destroyAllWindows()"
   ]
  },
  {
   "cell_type": "markdown",
   "metadata": {},
   "source": [
    "---"
   ]
  }
 ],
 "metadata": {
  "interpreter": {
   "hash": "493df3c9cb0b6039bdd55a65bbe4e72f5455454af67b96ceaa441cb0a32c7b2a"
  },
  "kernelspec": {
   "display_name": "Python 3.9.10 64-bit (windows store)",
   "language": "python",
   "name": "python3"
  },
  "language_info": {
   "codemirror_mode": {
    "name": "ipython",
    "version": 3
   },
   "file_extension": ".py",
   "mimetype": "text/x-python",
   "name": "python",
   "nbconvert_exporter": "python",
   "pygments_lexer": "ipython3",
   "version": "3.9.10"
  },
  "orig_nbformat": 4
 },
 "nbformat": 4,
 "nbformat_minor": 2
}
