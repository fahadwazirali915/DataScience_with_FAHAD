{
 "cells": [
  {
   "cell_type": "markdown",
   "id": "510b46c8",
   "metadata": {},
   "source": [
    "<h1 style=\"color:red;\">Unit: 17</h1>"
   ]
  },
  {
   "cell_type": "markdown",
   "id": "9c0e5513",
   "metadata": {},
   "source": [
    "### How change the perspective of an image !"
   ]
  },
  {
   "cell_type": "code",
   "execution_count": 11,
   "id": "ba18f58f",
   "metadata": {},
   "outputs": [],
   "source": [
    "# import libraries !\n",
    "import cv2 as cv\n",
    "import numpy as np"
   ]
  },
  {
   "cell_type": "code",
   "execution_count": 12,
   "metadata": {},
   "outputs": [
    {
     "name": "stdout",
     "output_type": "stream",
     "text": [
      "Shape: (578, 491, 3)\n"
     ]
    }
   ],
   "source": [
    "img = cv.imread(\"assets/warp.png\")\n",
    "print('Shape:', img.shape)"
   ]
  },
  {
   "cell_type": "code",
   "execution_count": 13,
   "metadata": {},
   "outputs": [],
   "source": [
    "# defining original points !\n",
    "point1 = np.float32([[144,126], [53,302], [322,109], [436,308]])\n",
    "height, width = 578, 491 \n",
    "\n",
    "# Streching points !\n",
    "point2 = np.float32([[0,0], [width,0], [0, height], [width, height]])\n"
   ]
  },
  {
   "cell_type": "code",
   "execution_count": 14,
   "metadata": {},
   "outputs": [],
   "source": [
    "matrix = cv.getPerspectiveTransform(point1, point2)\n",
    "out_img =cv.warpPerspective(img, matrix, (width, height))\n",
    "\n",
    "# save img !\n",
    "cv.imwrite('assets/warp_Perspective.png', out_img)\n",
    "\n",
    "cv.imshow('Original', img)\n",
    "cv.imshow('Resized', out_img)\n",
    "cv.waitKey(0)\n",
    "cv.destroyAllWindows()\n",
    " "
   ]
  },
  {
   "cell_type": "markdown",
   "metadata": {},
   "source": [
    "***"
   ]
  },
  {
   "cell_type": "code",
   "execution_count": 18,
   "metadata": {},
   "outputs": [],
   "source": [
    "# img = cv.imread(\"assets/sofa.jpg\")\n",
    "# print(img.shape)\n",
    "\n",
    "\n",
    "\n",
    "# # defining original points !\n",
    "# point1 = np.float32([[378,237], [362,280], [426,242], [409,284]])\n",
    "# height, width = 433, 612\n",
    "\n",
    "# # Streching points !\n",
    "# point2 = np.float32([[0,0], [width,0], [0, height], [width, height]])\n",
    "\n",
    "\n",
    "\n",
    "\n",
    "\n",
    "# matrix = cv.getPerspectiveTransform(point1, point2)\n",
    "# out_img =cv.warpPerspective(img, matrix, (width, height))\n",
    "\n",
    "# # save img !\n",
    "# cv.imwrite('assets/warp_Perspective.png', out_img)\n",
    "\n",
    "# cv.imshow('Original', img)\n",
    "# cv.imshow('Resized', out_img)\n",
    "# cv.waitKey(0)\n",
    "# cv.destroyAllWindows()\n",
    " \n"
   ]
  }
 ],
 "metadata": {
  "interpreter": {
   "hash": "493df3c9cb0b6039bdd55a65bbe4e72f5455454af67b96ceaa441cb0a32c7b2a"
  },
  "kernelspec": {
   "display_name": "Python 3.9.10 64-bit (windows store)",
   "language": "python",
   "name": "python3"
  },
  "language_info": {
   "codemirror_mode": {
    "name": "ipython",
    "version": 3
   },
   "file_extension": ".py",
   "mimetype": "text/x-python",
   "name": "python",
   "nbconvert_exporter": "python",
   "pygments_lexer": "ipython3",
   "version": "3.9.10"
  },
  "orig_nbformat": 4
 },
 "nbformat": 4,
 "nbformat_minor": 2
}
