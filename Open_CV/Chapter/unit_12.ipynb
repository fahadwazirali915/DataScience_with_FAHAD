{
 "cells": [
  {
   "cell_type": "markdown",
   "id": "510b46c8",
   "metadata": {},
   "source": [
    "<h1 style=\"color:red;\">Unit: 12</h1>"
   ]
  },
  {
   "cell_type": "markdown",
   "id": "9c0e5513",
   "metadata": {},
   "source": [
    "### Basic functions or manipulation in open_CV\n",
    "- Original image\n",
    "- Resize image\n",
    "- Gray image\n",
    "- Black & White image\n",
    "- Blurr image. (contain only odd value.(23,23))\n",
    "- Edge image\n",
    "- Dilated image. (of egde image).(thickness of lines) (contain only odd value.(23,23))\n",
    "- Erosion image. (of dilated image).(thinner outlines) (contain only odd value.(23,23))\n",
    "- Cropped image"
   ]
  },
  {
   "cell_type": "code",
   "execution_count": 4,
   "id": "ba18f58f",
   "metadata": {},
   "outputs": [],
   "source": [
    "# import libraries !\n",
    "\n",
    "import cv2 as cv\n",
    "from cv2 import cvtColor\n",
    "import numpy as np"
   ]
  },
  {
   "cell_type": "code",
   "execution_count": 5,
   "id": "db82292c",
   "metadata": {},
   "outputs": [
    {
     "name": "stdout",
     "output_type": "stream",
     "text": [
      "Size of our image:  (433, 612, 3)\n"
     ]
    }
   ],
   "source": [
    "# Read the image !\n",
    "\n",
    "img = cv.imread('assets/sofa.jpg')\n",
    "print('Size of our image: ',img.shape)"
   ]
  },
  {
   "cell_type": "markdown",
   "id": "8411e996",
   "metadata": {},
   "source": [
    "**display images**"
   ]
  },
  {
   "cell_type": "code",
   "execution_count": 6,
   "id": "19908396",
   "metadata": {},
   "outputs": [],
   "source": [
    "# resize\n",
    "res_img = cv.resize(img, (450,350))\n",
    "\n",
    "\n",
    "# gray \n",
    "gray_img = cv.cvtColor(img, cv.COLOR_BGR2GRAY) \n",
    "\n",
    "\n",
    "# black & white\n",
    "(thresh, black_white_img) = cv.threshold(gray_img, 127, 155, cv.THRESH_BINARY)\n",
    "\n",
    "\n",
    "# blur\n",
    "blurr_img = cv.GaussianBlur(img, (13,13), 0) \n",
    "\n",
    "\n",
    "# edge detection\n",
    "edge_img = cv.Canny(img, 53,53) \n",
    "\n",
    "\n",
    "# thickness of lines of edge image\n",
    "mat_kernal = np.ones((3,3), np.uint8)\n",
    "dilate_img = cv.dilate(edge_img, mat_kernal, iterations=1)\n",
    "\n",
    "\n",
    "# make thinner outline of dilated image\n",
    "mat_kernal = np.ones((3,3), np.uint8)\n",
    "ero_img = cv.erode(dilate_img, mat_kernal, iterations=1)\n",
    "\n",
    "# cropped image\n",
    "cropped_image = img[230:410, 430:580] \n",
    "# cropped_image = img[300:420, 160:360] \n",
    "\n",
    "\n"
   ]
  },
  {
   "cell_type": "code",
   "execution_count": 7,
   "id": "4a089623",
   "metadata": {},
   "outputs": [],
   "source": [
    "cv.imshow('original', img)    \n",
    "# cv.imshow('resize', res_img)\n",
    "# cv.imshow('gray', gray_img)\n",
    "# cv.imshow('binary', black_white_img)\n",
    "# cv.imshow('blur', blurr_img)\n",
    "# cv.imshow('edge', edge_img)\n",
    "# cv.imshow('dilated', dilate_img)\n",
    "# cv.imshow('erosion', ero_img)\n",
    "# cv.imshow('cropped', cropped_image)\n",
    "\n",
    "cv.waitKey(0)\n",
    "cv.destroyAllWindows()\n"
   ]
  },
  {
   "cell_type": "markdown",
   "id": "58f3f0c6",
   "metadata": {},
   "source": [
    "***"
   ]
  },
  {
   "cell_type": "markdown",
   "id": "41f63c2d",
   "metadata": {},
   "source": [
    "## equalized image.(Image Histogram) "
   ]
  },
  {
   "cell_type": "code",
   "execution_count": 13,
   "id": "1e2cc1b1",
   "metadata": {},
   "outputs": [],
   "source": [
    "# from __future__ import print_function\n",
    "# import cv2 as cv\n",
    "# import argparse"
   ]
  },
  {
   "cell_type": "code",
   "execution_count": 14,
   "id": "1410a1a9",
   "metadata": {},
   "outputs": [],
   "source": [
    "# parser = argparse.ArgumentParser(description='Code for Histogram Equalization tutorial.')\n",
    "# parser.add_argument('--input', help='Path to input image.', default='assets/pc.jpg')\n",
    "# args = parser.parse_args()\n",
    "# src = cv.imread(cv.samples.findFile(args.input))\n",
    "# if src is None:\n",
    "#     print('Could not open or find the image:', args.input)\n",
    "#     exit(0)\n",
    "# src = cv.cvtColor(src, cv.COLOR_BGR2GRAY)\n",
    "# dst = cv.equalizeHist(src)\n",
    "# cv.imshow('Source image', src)\n",
    "# cv.imshow('Equalized Image', dst)\n",
    "# cv.waitKey()\n"
   ]
  },
  {
   "cell_type": "markdown",
   "id": "d43b51bf",
   "metadata": {},
   "source": [
    "---"
   ]
  }
 ],
 "metadata": {
  "kernelspec": {
   "display_name": "Python 3 (ipykernel)",
   "language": "python",
   "name": "python3"
  },
  "language_info": {
   "codemirror_mode": {
    "name": "ipython",
    "version": 3
   },
   "file_extension": ".py",
   "mimetype": "text/x-python",
   "name": "python",
   "nbconvert_exporter": "python",
   "pygments_lexer": "ipython3",
   "version": "3.9.10"
  }
 },
 "nbformat": 4,
 "nbformat_minor": 5
}
