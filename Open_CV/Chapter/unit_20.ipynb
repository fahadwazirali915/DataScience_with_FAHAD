{
 "cells": [
  {
   "cell_type": "markdown",
   "id": "510b46c8",
   "metadata": {},
   "source": [
    "<h1 style=\"color:red;\">Unit: 20</h1>"
   ]
  },
  {
   "cell_type": "markdown",
   "id": "9c0e5513",
   "metadata": {},
   "source": [
    "### - Split your videos into frames OR image sequence !!!"
   ]
  },
  {
   "cell_type": "code",
   "execution_count": null,
   "id": "ba18f58f",
   "metadata": {},
   "outputs": [],
   "source": [
    "# import libraries !\n",
    "import cv2 as cv\n",
    "import numpy as np"
   ]
  },
  {
   "cell_type": "code",
   "execution_count": null,
   "metadata": {},
   "outputs": [],
   "source": [
    "# capture video\n",
    "cap =cv.VideoCapture('assets/Molana saqib raza mustafai poetry status.mkv')"
   ]
  },
  {
   "cell_type": "code",
   "execution_count": null,
   "metadata": {},
   "outputs": [],
   "source": [
    "frameNr = 0\n",
    "\n",
    "while(True):\n",
    "    success, frame = cap.read()\n",
    "    if(success):\n",
    "        cv.imwrite(f\"assets/Frames_saqib_raza_mustafai/frame_{frameNr}.jpg\", frame)\n",
    "    else:\n",
    "        break\n",
    "    frameNr = frameNr+1\n",
    " \n",
    "cap.release()    "
   ]
  },
  {
   "cell_type": "markdown",
   "metadata": {},
   "source": [
    "***"
   ]
  }
 ],
 "metadata": {
  "language_info": {
   "name": "python"
  },
  "orig_nbformat": 4
 },
 "nbformat": 4,
 "nbformat_minor": 2
}
