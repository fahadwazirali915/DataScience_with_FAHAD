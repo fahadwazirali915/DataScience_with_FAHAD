{
 "cells": [
  {
   "cell_type": "markdown",
   "id": "510b46c8",
   "metadata": {},
   "source": [
    "<h1 style=\"color:red;\">Unit: 05</h1>"
   ]
  },
  {
   "cell_type": "markdown",
   "id": "9c0e5513",
   "metadata": {},
   "source": [
    "## Read, Display, Resize & covertion of Images in (Gray & [black & white]) !\n",
    "## - Saving images"
   ]
  },
  {
   "cell_type": "code",
   "execution_count": 1,
   "id": "2c01aa15",
   "metadata": {},
   "outputs": [],
   "source": [
    "import cv2 as cv\n",
    "import sys\n",
    "import numpy as np"
   ]
  },
  {
   "cell_type": "code",
   "execution_count": 2,
   "id": "88f0b5a1",
   "metadata": {},
   "outputs": [],
   "source": [
    "# color image !\n",
    "color_img = cv.imread('assets/1.png')\n"
   ]
  },
  {
   "cell_type": "code",
   "execution_count": 3,
   "id": "242e1390",
   "metadata": {},
   "outputs": [],
   "source": [
    "# Resize image !\n",
    "color_img = cv.resize(color_img, (500, 400))"
   ]
  },
  {
   "cell_type": "code",
   "execution_count": 4,
   "id": "d4fbe951",
   "metadata": {},
   "outputs": [],
   "source": [
    "from cv2 import cvtColor\n",
    "\n",
    "# gray image !\n",
    "gray_img = cvtColor(color_img, cv.COLOR_BGR2GRAY)\n",
    "\n",
    "# Black & White.(Binary) image !\n",
    "(thresh, binary_img) = cv.threshold(gray_img, 127, 155, cv.THRESH_BINARY)"
   ]
  },
  {
   "cell_type": "code",
   "execution_count": 7,
   "id": "435d0e4a",
   "metadata": {},
   "outputs": [
    {
     "data": {
      "text/plain": [
       "True"
      ]
     },
     "execution_count": 7,
     "metadata": {},
     "output_type": "execute_result"
    }
   ],
   "source": [
    "# saving images !\n",
    "cv.imwrite('assets/gray.png', gray_img)\n",
    "cv.imwrite('assets/b&w.jpg', binary_img)"
   ]
  },
  {
   "cell_type": "code",
   "execution_count": 5,
   "id": "d1d02ae7",
   "metadata": {},
   "outputs": [],
   "source": [
    "# cv.imshow('color', color_img)\n",
    "# cv.imshow('gray', gray_img)\n",
    "# cv.imshow('black & white', binary_img)\n",
    "\n",
    "# cv.waitKey(0)\n",
    "# cv.destroyAllWindows()"
   ]
  },
  {
   "cell_type": "markdown",
   "id": "ce52956c",
   "metadata": {},
   "source": [
    "***"
   ]
  }
 ],
 "metadata": {
  "kernelspec": {
   "display_name": "Python 3 (ipykernel)",
   "language": "python",
   "name": "python3"
  },
  "language_info": {
   "codemirror_mode": {
    "name": "ipython",
    "version": 3
   },
   "file_extension": ".py",
   "mimetype": "text/x-python",
   "name": "python",
   "nbconvert_exporter": "python",
   "pygments_lexer": "ipython3",
   "version": "3.9.7"
  }
 },
 "nbformat": 4,
 "nbformat_minor": 5
}
