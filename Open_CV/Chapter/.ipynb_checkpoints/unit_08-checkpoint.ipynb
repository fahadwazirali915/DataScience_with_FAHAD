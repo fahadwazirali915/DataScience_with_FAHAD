{
 "cells": [
  {
   "cell_type": "markdown",
   "id": "510b46c8",
   "metadata": {},
   "source": [
    "<h1 style=\"color:red;\">Unit: 08</h1>"
   ]
  },
  {
   "cell_type": "markdown",
   "id": "9c0e5513",
   "metadata": {},
   "source": [
    "## Save video"
   ]
  },
  {
   "cell_type": "code",
   "execution_count": 1,
   "id": "aa875637",
   "metadata": {},
   "outputs": [],
   "source": [
    "import cv2 as cv\n",
    "from cv2 import cvtColor"
   ]
  },
  {
   "cell_type": "code",
   "execution_count": 2,
   "id": "78f6c97a",
   "metadata": {},
   "outputs": [],
   "source": [
    "vid = cv.VideoCapture('assets/ertugrul.MP4')\n"
   ]
  },
  {
   "cell_type": "code",
   "execution_count": null,
   "id": "97714494",
   "metadata": {},
   "outputs": [],
   "source": [
    "# write or save video !\n",
    "\n"
   ]
  },
  {
   "cell_type": "markdown",
   "id": "b090a055",
   "metadata": {},
   "source": [
    "<h1 style=\"color:green;\">playing Grayshade video</h1>"
   ]
  },
  {
   "cell_type": "code",
   "execution_count": 10,
   "id": "dd1a482d",
   "metadata": {},
   "outputs": [],
   "source": [
    "# reading video !\n",
    "\n",
    "while True:\n",
    "    ret, frame = vid.read()\n",
    "    gray_frame = cv.cvtColor(frame, cv.COLOR_BGR2GRAY)\n",
    "    if (ret == True):\n",
    "        cv.imshow(\"Ertugrul Gaazi\", gray_frame)\n",
    "        if (cv.waitKey(1) & 0xFF == ord('q')):   # for close video with 'q' key !\n",
    "            break\n",
    "    else:\n",
    "        break\n",
    "  \n",
    "vid.release()\n",
    "cv.destroyAllWindows()\n",
    "            "
   ]
  },
  {
   "cell_type": "markdown",
   "id": "cf6cbeb0",
   "metadata": {},
   "source": [
    "***"
   ]
  }
 ],
 "metadata": {
  "kernelspec": {
   "display_name": "Python 3 (ipykernel)",
   "language": "python",
   "name": "python3"
  },
  "language_info": {
   "codemirror_mode": {
    "name": "ipython",
    "version": 3
   },
   "file_extension": ".py",
   "mimetype": "text/x-python",
   "name": "python",
   "nbconvert_exporter": "python",
   "pygments_lexer": "ipython3",
   "version": "3.9.7"
  }
 },
 "nbformat": 4,
 "nbformat_minor": 5
}
