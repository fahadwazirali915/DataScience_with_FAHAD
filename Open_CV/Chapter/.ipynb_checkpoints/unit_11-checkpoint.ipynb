{
 "cells": [
  {
   "cell_type": "markdown",
   "id": "510b46c8",
   "metadata": {},
   "source": [
    "<h1 style=\"color:red;\">Unit: 11</h1>"
   ]
  },
  {
   "cell_type": "markdown",
   "id": "9c0e5513",
   "metadata": {},
   "source": [
    "# Points:\n",
    "### - Brightness"
   ]
  },
  {
   "cell_type": "code",
   "execution_count": 1,
   "id": "ba18f58f",
   "metadata": {},
   "outputs": [],
   "source": [
    "# import libraries !\n",
    "\n",
    "import cv2 as cv\n",
    "import numpy as np\n",
    "from cv2 import cvtColor"
   ]
  },
  {
   "cell_type": "code",
   "execution_count": 2,
   "id": "db82292c",
   "metadata": {},
   "outputs": [
    {
     "data": {
      "text/plain": [
       "<VideoCapture 04661EA0>"
      ]
     },
     "execution_count": 2,
     "metadata": {},
     "output_type": "execute_result"
    }
   ],
   "source": [
    "# Read the frames from Camera !\n",
    "\n",
    "cam = cv.VideoCapture(0)\n",
    "cam"
   ]
  },
  {
   "cell_type": "markdown",
   "id": "8411e996",
   "metadata": {},
   "source": [
    "**color camera**"
   ]
  },
  {
   "cell_type": "code",
   "execution_count": 3,
   "id": "19908396",
   "metadata": {},
   "outputs": [],
   "source": [
    "cam.set(10, 100) # [10] is the key to set brightness \n",
    "cam.set(3, 720)  # [3] is the key to set width\n",
    "cam.set(4, 480)  # [4] is the key to set height \n",
    "\n",
    "\n",
    "\n",
    "# Display (Frame by Frame)\n",
    "\n",
    "while(cam.isOpened()):\n",
    "    ret, frame = cam.read()   \n",
    "    if(ret == True):\n",
    "        cv.imshow(\"Camera\", frame)   # to display frame !\n",
    "        if(cv.waitKey(1) & 0xFF == ord('q')): # for quit windows\n",
    "            break\n",
    "            \n",
    "    else:\n",
    "        break\n",
    "        \n",
    "        \n",
    "cam.release()   # release or open video !  \n",
    "cv.destroyAllWindows()   # for close all windows !"
   ]
  },
  {
   "cell_type": "markdown",
   "id": "e5a18c4f",
   "metadata": {},
   "source": [
    "***"
   ]
  },
  {
   "cell_type": "markdown",
   "id": "27239c0b",
   "metadata": {},
   "source": [
    "***"
   ]
  }
 ],
 "metadata": {
  "kernelspec": {
   "display_name": "Python 3 (ipykernel)",
   "language": "python",
   "name": "python3"
  },
  "language_info": {
   "codemirror_mode": {
    "name": "ipython",
    "version": 3
   },
   "file_extension": ".py",
   "mimetype": "text/x-python",
   "name": "python",
   "nbconvert_exporter": "python",
   "pygments_lexer": "ipython3",
   "version": "3.8.2"
  }
 },
 "nbformat": 4,
 "nbformat_minor": 5
}
