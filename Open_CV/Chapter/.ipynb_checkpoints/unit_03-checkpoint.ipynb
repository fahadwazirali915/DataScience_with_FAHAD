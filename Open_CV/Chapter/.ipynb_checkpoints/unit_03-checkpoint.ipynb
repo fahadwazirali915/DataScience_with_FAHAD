{
 "cells": [
  {
   "cell_type": "markdown",
   "id": "510b46c8",
   "metadata": {},
   "source": [
    "<h1 style=\"color:red;\">Unit: 03</h1>"
   ]
  },
  {
   "cell_type": "markdown",
   "id": "9c0e5513",
   "metadata": {},
   "source": [
    "## Read, Display & covertion of Images !"
   ]
  },
  {
   "cell_type": "code",
   "execution_count": 18,
   "id": "aa875637",
   "metadata": {},
   "outputs": [],
   "source": [
    "import cv2 as cv\n",
    "# from cv2 import cvtColor"
   ]
  },
  {
   "cell_type": "code",
   "execution_count": 19,
   "id": "78f6c97a",
   "metadata": {},
   "outputs": [],
   "source": [
    "# for reading image !\n",
    "img = cv.imread('assets/1.png') \n"
   ]
  },
  {
   "cell_type": "code",
   "execution_count": 20,
   "id": "ff35a212",
   "metadata": {},
   "outputs": [],
   "source": [
    "from cv2 import cvtColor\n",
    "\n",
    "# Convert image !\n",
    "gray_img = cvtColor(img, cv.COLOR_BGR2GRAY)\n",
    "\n",
    "# color_img = cvtColor(img, cv.COLOR_GRAY2BGR)"
   ]
  },
  {
   "cell_type": "code",
   "execution_count": 25,
   "id": "bc273b64",
   "metadata": {},
   "outputs": [],
   "source": [
    "# for display image !\n",
    "cv.imshow(\"color_image\", img)\n",
    "cv.imshow(\"gray_image\", gray_img)\n",
    "\n",
    "cv.waitKey(0)   # for hold image !\n",
    "\n",
    "cv.destroyAllWindows() # for remove all windows\n"
   ]
  },
  {
   "cell_type": "markdown",
   "id": "a0f558d0",
   "metadata": {},
   "source": [
    "***"
   ]
  }
 ],
 "metadata": {
  "kernelspec": {
   "display_name": "Python 3 (ipykernel)",
   "language": "python",
   "name": "python3"
  },
  "language_info": {
   "codemirror_mode": {
    "name": "ipython",
    "version": 3
   },
   "file_extension": ".py",
   "mimetype": "text/x-python",
   "name": "python",
   "nbconvert_exporter": "python",
   "pygments_lexer": "ipython3",
   "version": "3.9.7"
  }
 },
 "nbformat": 4,
 "nbformat_minor": 5
}
