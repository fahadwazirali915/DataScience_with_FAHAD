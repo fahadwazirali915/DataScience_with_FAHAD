{
 "cells": [
  {
   "cell_type": "markdown",
   "id": "510b46c8",
   "metadata": {},
   "source": [
    "<h1 style=\"color:red;\">Unit: 07</h1>"
   ]
  },
  {
   "cell_type": "markdown",
   "id": "9c0e5513",
   "metadata": {},
   "source": [
    "## Reading a video in (Gray mode) or (Black & White)!"
   ]
  },
  {
   "cell_type": "code",
   "execution_count": 7,
   "id": "aa875637",
   "metadata": {},
   "outputs": [],
   "source": [
    "import cv2 as cv\n",
    "from cv2 import cvtColor"
   ]
  },
  {
   "cell_type": "code",
   "execution_count": 8,
   "id": "78f6c97a",
   "metadata": {},
   "outputs": [],
   "source": [
    "vid = cv.VideoCapture('assets/ertugrul.MP4')\n"
   ]
  },
  {
   "cell_type": "code",
   "execution_count": 9,
   "id": "22404d2d",
   "metadata": {},
   "outputs": [],
   "source": [
    "# indicator !\n",
    "\n",
    "if (vid.isOpened() == False):\n",
    "    print(\"somrthing went wrong !\")\n"
   ]
  },
  {
   "cell_type": "markdown",
   "id": "5c3aab36",
   "metadata": {},
   "source": [
    "<h1 style=\"color:green;\">playing Grayshade video</h1>"
   ]
  },
  {
   "cell_type": "code",
   "execution_count": 10,
   "id": "b8e9f07a",
   "metadata": {},
   "outputs": [],
   "source": [
    "# # reading & video !\n",
    "\n",
    "# while True:\n",
    "#     ret, frame = vid.read()\n",
    "#     gray_frame = cv.cvtColor(frame, cv.COLOR_BGR2GRAY)\n",
    "#     if (ret == True):\n",
    "#         cv.imshow(\"Ertugrul Gaazi\", gray_frame)\n",
    "#         if (cv.waitKey(1) & 0xFF == ord('q')):   # for close video with 'q' key !\n",
    "#             break\n",
    "#     else:\n",
    "#         break\n",
    "  \n",
    "# vid.release()\n",
    "# cv.destroyAllWindows()\n",
    "            "
   ]
  },
  {
   "cell_type": "markdown",
   "id": "863142a4",
   "metadata": {},
   "source": [
    "***"
   ]
  },
  {
   "cell_type": "markdown",
   "id": "cd932407",
   "metadata": {},
   "source": [
    "<h1 style=\"color:red;\">playing black & white video</h1>"
   ]
  },
  {
   "cell_type": "code",
   "execution_count": 11,
   "id": "40b708dc",
   "metadata": {},
   "outputs": [],
   "source": [
    "# reading & video !\n",
    "\n",
    "while True:\n",
    "    (ret, frame) = vid.read()\n",
    "    gray_frame = cv.cvtColor(frame, cv.COLOR_BGR2GRAY)\n",
    "    (thresh, black_white_frame) = cv.threshold(gray_frame, 127, 155, cv.THRESH_BINARY)\n",
    "    if (ret == True):\n",
    "        cv.imshow(\"Ertugrul Gaazi\", black_white_frame)\n",
    "        if (cv.waitKey(1) & 0xFF == ord('q')):   # for close video with 'q' key !\n",
    "            break\n",
    "    else:\n",
    "        break\n",
    "  \n",
    "vid.release()\n",
    "cv.destroyAllWindows()\n",
    "            "
   ]
  },
  {
   "cell_type": "markdown",
   "id": "cc7e1fde",
   "metadata": {},
   "source": [
    "***"
   ]
  }
 ],
 "metadata": {
  "kernelspec": {
   "display_name": "Python 3 (ipykernel)",
   "language": "python",
   "name": "python3"
  },
  "language_info": {
   "codemirror_mode": {
    "name": "ipython",
    "version": 3
   },
   "file_extension": ".py",
   "mimetype": "text/x-python",
   "name": "python",
   "nbconvert_exporter": "python",
   "pygments_lexer": "ipython3",
   "version": "3.9.7"
  }
 },
 "nbformat": 4,
 "nbformat_minor": 5
}
