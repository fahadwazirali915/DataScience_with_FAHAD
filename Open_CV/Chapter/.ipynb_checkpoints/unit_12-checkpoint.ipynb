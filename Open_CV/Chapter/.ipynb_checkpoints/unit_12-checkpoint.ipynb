{
 "cells": [
  {
   "cell_type": "markdown",
   "id": "510b46c8",
   "metadata": {},
   "source": [
    "<h1 style=\"color:red;\">Unit: 12</h1>"
   ]
  },
  {
   "cell_type": "markdown",
   "id": "9c0e5513",
   "metadata": {},
   "source": [
    "### Basic functions or manipulation in open_CV\n",
    "#### - Original image\n",
    "#### - Resize image\n",
    "#### - Gray image\n",
    "#### - Black & White image\n",
    "#### - Blurr image. (contain only odd value)"
   ]
  },
  {
   "cell_type": "code",
   "execution_count": 8,
   "id": "ba18f58f",
   "metadata": {},
   "outputs": [],
   "source": [
    "# import libraries !\n",
    "\n",
    "import cv2 as cv\n",
    "from cv2 import cvtColor"
   ]
  },
  {
   "cell_type": "code",
   "execution_count": 9,
   "id": "db82292c",
   "metadata": {},
   "outputs": [],
   "source": [
    "# Read the image !\n",
    "\n",
    "img = cv.imread('assets/data.jpg')"
   ]
  },
  {
   "cell_type": "markdown",
   "id": "8411e996",
   "metadata": {},
   "source": [
    "**display image**"
   ]
  },
  {
   "cell_type": "code",
   "execution_count": 10,
   "id": "19908396",
   "metadata": {},
   "outputs": [],
   "source": [
    "res_img = cv.resize(img, (450,350)) # resize\n",
    "gray_img = cv.cvtColor(img, cv.COLOR_BGR2GRAY) # gray\n",
    "(thresh, black_white_img) = cv.threshold(gray_img, 127, 155, cv.THRESH_BINARY) # black & white\n",
    "blurr_img = cv.GaussianBlur(img, (13,13), 0) # blur\n",
    "\n",
    "\n",
    "cv.imshow('original', img)    \n",
    "# cv.imshow('resize', res_img)\n",
    "# cv.imshow('gray', gray_img)\n",
    "# cv.imshow('binary', black_white_img)\n",
    "cv.imshow('blur', blurr_img)\n",
    "\n",
    "cv.waitKey(0)\n",
    "cv.destroyAllWindows()\n"
   ]
  },
  {
   "cell_type": "code",
   "execution_count": null,
   "id": "4a089623",
   "metadata": {},
   "outputs": [],
   "source": []
  },
  {
   "cell_type": "code",
   "execution_count": null,
   "id": "58f3f0c6",
   "metadata": {},
   "outputs": [],
   "source": []
  }
 ],
 "metadata": {
  "kernelspec": {
   "display_name": "Python 3 (ipykernel)",
   "language": "python",
   "name": "python3"
  },
  "language_info": {
   "codemirror_mode": {
    "name": "ipython",
    "version": 3
   },
   "file_extension": ".py",
   "mimetype": "text/x-python",
   "name": "python",
   "nbconvert_exporter": "python",
   "pygments_lexer": "ipython3",
   "version": "3.8.2"
  }
 },
 "nbformat": 4,
 "nbformat_minor": 5
}
