{
 "cells": [
  {
   "cell_type": "markdown",
   "id": "510b46c8",
   "metadata": {},
   "source": [
    "<h1 style=\"color:red;\">Unit: 16</h1>"
   ]
  },
  {
   "cell_type": "markdown",
   "id": "9c0e5513",
   "metadata": {},
   "source": [
    "### Joining 2 images !"
   ]
  },
  {
   "cell_type": "code",
   "execution_count": 23,
   "id": "ba18f58f",
   "metadata": {},
   "outputs": [],
   "source": [
    "# import libraries !\n",
    "import cv2 as cv\n",
    "import numpy as np"
   ]
  },
  {
   "cell_type": "code",
   "execution_count": 25,
   "metadata": {},
   "outputs": [],
   "source": [
    "img = cv.imread(\"assets/f.png\")"
   ]
  },
  {
   "cell_type": "code",
   "execution_count": 26,
   "id": "b31c3896",
   "metadata": {},
   "outputs": [],
   "source": [
    "# Stacking same images\n",
    "\n",
    "# 1). Horizontal stack\n",
    "hor_img = np.hstack((img, img)) \n",
    "\n",
    "\n",
    "# 2). Vertical stack \n",
    "vert_img = np.vstack((img, img))\n",
    "\n",
    "# cv.imshow(\"Horizotal image\", hor_img)\n",
    "cv.imshow(\"Verticle image\", vert_img)\n",
    "cv.waitKey(0)\n",
    "cv.destroyAllWindows()"
   ]
  },
  {
   "cell_type": "markdown",
   "metadata": {},
   "source": [
    "#### Problems\n",
    "- you can stack multiple images with same shape (width, height, color-channel)\n",
    "- (600, 500, 3)\n",
    "- you have to define function to stack multiple images of different (sizes & tunes)"
   ]
  },
  {
   "cell_type": "markdown",
   "metadata": {},
   "source": [
    "***"
   ]
  }
 ],
 "metadata": {
  "interpreter": {
   "hash": "493df3c9cb0b6039bdd55a65bbe4e72f5455454af67b96ceaa441cb0a32c7b2a"
  },
  "kernelspec": {
   "display_name": "Python 3.9.10 64-bit (windows store)",
   "language": "python",
   "name": "python3"
  },
  "language_info": {
   "name": "python",
   "version": "3.9.10"
  },
  "orig_nbformat": 4
 },
 "nbformat": 4,
 "nbformat_minor": 2
}
