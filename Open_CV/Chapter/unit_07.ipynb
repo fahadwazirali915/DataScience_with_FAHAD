{
 "cells": [
  {
   "cell_type": "markdown",
   "id": "510b46c8",
   "metadata": {},
   "source": [
    "<h1 style=\"color:red;\">Unit: 07</h1>"
   ]
  },
  {
   "cell_type": "markdown",
   "id": "9c0e5513",
   "metadata": {},
   "source": [
    "## Reading a video in (Gray mode) or (Black & White)!"
   ]
  },
  {
   "cell_type": "code",
   "execution_count": 1,
   "id": "aa875637",
   "metadata": {},
   "outputs": [],
   "source": [
    "import cv2 as cv\n",
    "from cv2 import cvtColor"
   ]
  },
  {
   "cell_type": "code",
   "execution_count": 2,
   "id": "78f6c97a",
   "metadata": {},
   "outputs": [],
   "source": [
    "vid = cv.VideoCapture('assets/ertugrul.MP4')\n"
   ]
  },
  {
   "cell_type": "code",
   "execution_count": 3,
   "id": "2e05da7f",
   "metadata": {},
   "outputs": [],
   "source": [
    "# indicator !\n",
    "\n",
    "if (vid.isOpened() == False):\n",
    "    print(\"somrthing went wrong !\")\n"
   ]
  },
  {
   "cell_type": "markdown",
   "id": "b090a055",
   "metadata": {},
   "source": [
    "<h1 style=\"color:green;\">playing Grayshade video</h1>"
   ]
  },
  {
   "cell_type": "code",
   "execution_count": 4,
   "id": "dd1a482d",
   "metadata": {},
   "outputs": [],
   "source": [
    "# # reading video !\n",
    "\n",
    "# while True:\n",
    "#     ret, frame = vid.read()\n",
    "#     gray_frame = cv.cvtColor(frame, cv.COLOR_BGR2GRAY)\n",
    "#     if (ret == True):\n",
    "#         cv.imshow(\"Ertugrul Gaazi\", gray_frame)\n",
    "#         if (cv.waitKey(1) & 0xFF == ord('q')):   # for close video with 'q' key !\n",
    "#             break\n",
    "#     else:\n",
    "#         break\n",
    "  \n",
    "# vid.release()\n",
    "# cv.destroyAllWindows()\n",
    "            "
   ]
  },
  {
   "cell_type": "markdown",
   "id": "cf6cbeb0",
   "metadata": {},
   "source": [
    "***"
   ]
  },
  {
   "cell_type": "markdown",
   "id": "027af27c",
   "metadata": {},
   "source": [
    "<h1 style=\"color:red;\">playing black & white video</h1>"
   ]
  },
  {
   "cell_type": "code",
   "execution_count": 5,
   "id": "27187581",
   "metadata": {},
   "outputs": [],
   "source": [
    "# reading video !\n",
    "\n",
    "while True:\n",
    "    (ret, frame) = vid.read()\n",
    "    gray_frame = cv.cvtColor(frame, cv.COLOR_BGR2GRAY)\n",
    "    (thresh, black_white_frame) = cv.threshold(gray_frame, 127, 155, cv.THRESH_BINARY)\n",
    "    if (ret == True):\n",
    "        cv.imshow(\"Ertugrul Gaazi\", black_white_frame)\n",
    "        if (cv.waitKey(1) & 0xFF == ord('q')):   # for close video with 'q' key !\n",
    "            break\n",
    "    else:\n",
    "        break\n",
    "  \n",
    "vid.release()\n",
    "cv.destroyAllWindows()\n",
    "            "
   ]
  },
  {
   "cell_type": "markdown",
   "id": "e2bb5f8b",
   "metadata": {},
   "source": [
    "***"
   ]
  }
 ],
 "metadata": {
  "kernelspec": {
   "display_name": "Python 3 (ipykernel)",
   "language": "python",
   "name": "python3"
  },
  "language_info": {
   "codemirror_mode": {
    "name": "ipython",
    "version": 3
   },
   "file_extension": ".py",
   "mimetype": "text/x-python",
   "name": "python",
   "nbconvert_exporter": "python",
   "pygments_lexer": "ipython3",
   "version": "3.9.10"
  }
 },
 "nbformat": 4,
 "nbformat_minor": 5
}
